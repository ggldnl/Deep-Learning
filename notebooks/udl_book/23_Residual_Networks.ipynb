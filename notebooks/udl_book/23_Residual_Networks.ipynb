{
  "nbformat": 4,
  "nbformat_minor": 0,
  "metadata": {
    "colab": {
      "provenance": []
    },
    "kernelspec": {
      "name": "python3",
      "display_name": "Python 3"
    },
    "language_info": {
      "name": "python"
    }
  },
  "cells": [
    {
      "cell_type": "markdown",
      "source": [
        "# **Notebook 11.2: Residual Networks**\n",
        "\n",
        "This notebook adapts the networks for MNIST1D to use residual connections.\n",
        "\n",
        "Work through the cells below, running each cell in turn. In various places you will see the words \"TO DO\". Follow the instructions at these places and make predictions about what is going to happen or write code to complete the functions.\n",
        "\n",
        "Contact me at udlbookmail@gmail.com if you find any mistakes or have any suggestions.\n",
        "\n"
      ],
      "metadata": {
        "id": "t9vk9Elugvmi"
      }
    },
    {
      "cell_type": "code",
      "source": [
        "# Run this if you're in a Colab to make a local copy of the MNIST 1D repository\n",
        "!git clone https://github.com/greydanus/mnist1d"
      ],
      "metadata": {
        "id": "D5yLObtZCi9J",
        "outputId": "e08ad042-43ad-4d7e-a6e6-1796a4a30d48",
        "colab": {
          "base_uri": "https://localhost:8080/"
        }
      },
      "execution_count": 1,
      "outputs": [
        {
          "output_type": "stream",
          "name": "stdout",
          "text": [
            "Cloning into 'mnist1d'...\n",
            "remote: Enumerating objects: 155, done.\u001b[K\n",
            "remote: Counting objects: 100% (155/155), done.\u001b[K\n",
            "remote: Compressing objects: 100% (129/129), done.\u001b[K\n",
            "remote: Total 155 (delta 52), reused 123 (delta 26), pack-reused 0\u001b[K\n",
            "Receiving objects: 100% (155/155), 6.48 MiB | 20.60 MiB/s, done.\n",
            "Resolving deltas: 100% (52/52), done.\n"
          ]
        }
      ]
    },
    {
      "cell_type": "code",
      "source": [
        "import numpy as np\n",
        "import os\n",
        "import torch, torch.nn as nn\n",
        "from torch.utils.data import TensorDataset, DataLoader\n",
        "from torch.optim.lr_scheduler import StepLR\n",
        "import matplotlib.pyplot as plt\n",
        "import mnist1d\n",
        "import random"
      ],
      "metadata": {
        "id": "YrXWAH7sUWvU"
      },
      "execution_count": 2,
      "outputs": []
    },
    {
      "cell_type": "code",
      "source": [
        "args = mnist1d.data.get_dataset_args()\n",
        "data = mnist1d.data.get_dataset(args, path='./mnist1d_data.pkl', download=False, regenerate=False)\n",
        "\n",
        "# The training and test input and outputs are in\n",
        "# data['x'], data['y'], data['x_test'], and data['y_test']\n",
        "print(\"Examples in training set: {}\".format(len(data['y'])))\n",
        "print(\"Examples in test set: {}\".format(len(data['y_test'])))\n",
        "print(\"Length of each example: {}\".format(data['x'].shape[-1]))"
      ],
      "metadata": {
        "id": "twI72ZCrCt5z",
        "outputId": "9b7c2f94-25d5-4708-c6b6-a2f90d23c575",
        "colab": {
          "base_uri": "https://localhost:8080/"
        }
      },
      "execution_count": 3,
      "outputs": [
        {
          "output_type": "stream",
          "name": "stdout",
          "text": [
            "Did or could not load data from ./mnist1d_data.pkl. Rebuilding dataset...\n",
            "Examples in training set: 4000\n",
            "Examples in test set: 1000\n",
            "Length of each example: 40\n"
          ]
        }
      ]
    },
    {
      "cell_type": "code",
      "source": [
        "# Load in the data\n",
        "train_data_x = data['x'].transpose()\n",
        "train_data_y = data['y']\n",
        "val_data_x = data['x_test'].transpose()\n",
        "val_data_y = data['y_test']\n",
        "# Print out sizes\n",
        "print(\"Train data: %d examples (columns), each of which has %d dimensions (rows)\"%((train_data_x.shape[1],train_data_x.shape[0])))\n",
        "print(\"Validation data: %d examples (columns), each of which has %d dimensions (rows)\"%((val_data_x.shape[1],val_data_x.shape[0])))"
      ],
      "metadata": {
        "id": "8bKADvLHbiV5",
        "outputId": "c26d6e78-31a6-444e-bfab-9a11ad56c6a2",
        "colab": {
          "base_uri": "https://localhost:8080/"
        }
      },
      "execution_count": 4,
      "outputs": [
        {
          "output_type": "stream",
          "name": "stdout",
          "text": [
            "Train data: 4000 examples (columns), each of which has 40 dimensions (rows)\n",
            "Validation data: 1000 examples (columns), each of which has 40 dimensions (rows)\n"
          ]
        }
      ]
    },
    {
      "cell_type": "markdown",
      "source": [
        "Define the network"
      ],
      "metadata": {
        "id": "_sFvRDGrl4qe"
      }
    },
    {
      "cell_type": "code",
      "source": [
        "from torch.nn.modules.activation import ReLU\n",
        "# There are 40 input dimensions and 10 output dimensions for this data\n",
        "# The inputs correspond to the 40 offsets in the MNIST1D template.\n",
        "D_i = 40\n",
        "# The outputs correspond to the 10 digits\n",
        "D_o = 10\n",
        "\n",
        "\n",
        "# We will adapt this model to have residual connections around the linear layers\n",
        "# This is the same model we used in practical 8.1, but we can't use the sequential\n",
        "# class for residual networks (which aren't strictly sequential).  Hence, I've rewritten\n",
        "# it as a model that inherits from a base class\n",
        "\n",
        "class ResidualNetwork(torch.nn.Module):\n",
        "  def __init__(self, input_size, output_size, hidden_size=100):\n",
        "    super(ResidualNetwork, self).__init__()\n",
        "    self.linear1 = nn.Linear(input_size, hidden_size)\n",
        "    self.linear2 = nn.Linear(hidden_size, hidden_size)\n",
        "    self.linear3 = nn.Linear(hidden_size, hidden_size)\n",
        "    self.linear4 = nn.Linear(hidden_size, output_size)\n",
        "    print(\"Initialized MLPBase model with {} parameters\".format(self.count_params()))\n",
        "\n",
        "  def count_params(self):\n",
        "    return sum([p.view(-1).shape[0] for p in self.parameters()])\n",
        "\n",
        "# # TODO -- Add residual connections to this model\n",
        "# # The order of operations should similar to figure 11.5b\n",
        "# # linear1 first, ReLU+linear2 in first residual block, ReLU+linear3 in second residual block), linear4 at end\n",
        "# # Replace this function\n",
        "  \"\"\"\n",
        "  def forward(self, x):\n",
        "    h1 = self.linear1(x).relu()\n",
        "    h2 = self.linear2(h1).relu()\n",
        "    h3 = self.linear3(h2).relu()\n",
        "    return self.linear4(h3)\n",
        "  \"\"\"\n",
        "\n",
        "  def forward(self, x):\n",
        "\n",
        "    h1 = self.linear1(x)\n",
        "\n",
        "    # first residual block\n",
        "    a1 = h1.relu()\n",
        "    h2 = self.linear2(a1)\n",
        "    h2 += h1\n",
        "\n",
        "    a2 = h2.relu()\n",
        "    h3 = self.linear3(a2)\n",
        "    h3 += h2\n",
        "\n",
        "    a3 = h3.relu()\n",
        "    h4 = self.linear4(a3)\n",
        "\n",
        "    return h4"
      ],
      "metadata": {
        "id": "FslroPJJffrh"
      },
      "execution_count": 10,
      "outputs": []
    },
    {
      "cell_type": "code",
      "source": [
        "# He initialization of weights\n",
        "def weights_init(layer_in):\n",
        "  if isinstance(layer_in, nn.Linear):\n",
        "    nn.init.kaiming_uniform_(layer_in.weight)\n",
        "    layer_in.bias.data.fill_(0.0)"
      ],
      "metadata": {
        "id": "YgLaex1pfhqz"
      },
      "execution_count": 11,
      "outputs": []
    },
    {
      "cell_type": "code",
      "source": [
        "#Define the model\n",
        "model = ResidualNetwork(40, 10)\n",
        "\n",
        "# choose cross entropy loss function (equation 5.24 in the loss notes)\n",
        "loss_function = nn.CrossEntropyLoss()\n",
        "# construct SGD optimizer and initialize learning rate and momentum\n",
        "optimizer = torch.optim.SGD(model.parameters(), lr = 0.05, momentum=0.9)\n",
        "# object that decreases learning rate by half every 20 epochs\n",
        "scheduler = StepLR(optimizer, step_size=20, gamma=0.5)\n",
        "# convert data to torch tensors\n",
        "x_train = torch.tensor(train_data_x.transpose().astype('float32'))\n",
        "y_train = torch.tensor(train_data_y.astype('long'))\n",
        "x_val= torch.tensor(val_data_x.transpose().astype('float32'))\n",
        "y_val = torch.tensor(val_data_y.astype('long'))\n",
        "\n",
        "# load the data into a class that creates the batches\n",
        "data_loader = DataLoader(TensorDataset(x_train,y_train), batch_size=100, shuffle=True, worker_init_fn=np.random.seed(1))\n",
        "\n",
        "# Initialize model weights\n",
        "model.apply(weights_init)\n",
        "\n",
        "# loop over the dataset n_epoch times\n",
        "n_epoch = 100\n",
        "# store the loss and the % correct at each epoch\n",
        "losses_train = np.zeros((n_epoch))\n",
        "errors_train = np.zeros((n_epoch))\n",
        "losses_val = np.zeros((n_epoch))\n",
        "errors_val = np.zeros((n_epoch))\n",
        "\n",
        "for epoch in range(n_epoch):\n",
        "  # loop over batches\n",
        "  for i, data in enumerate(data_loader):\n",
        "    # retrieve inputs and labels for this batch\n",
        "    x_batch, y_batch = data\n",
        "    # zero the parameter gradients\n",
        "    optimizer.zero_grad()\n",
        "    # forward pass -- calculate model output\n",
        "    pred = model(x_batch)\n",
        "    # compute the loss\n",
        "    loss = loss_function(pred, y_batch)\n",
        "    # backward pass\n",
        "    loss.backward()\n",
        "    # SGD update\n",
        "    optimizer.step()\n",
        "\n",
        "  # Run whole dataset to get statistics -- normally wouldn't do this\n",
        "  pred_train = model(x_train)\n",
        "  pred_val = model(x_val)\n",
        "  _, predicted_train_class = torch.max(pred_train.data, 1)\n",
        "  _, predicted_val_class = torch.max(pred_val.data, 1)\n",
        "  errors_train[epoch] = 100 - 100 * (predicted_train_class == y_train).float().sum() / len(y_train)\n",
        "  errors_val[epoch]= 100 - 100 * (predicted_val_class == y_val).float().sum() / len(y_val)\n",
        "  losses_train[epoch] = loss_function(pred_train, y_train).item()\n",
        "  losses_val[epoch]= loss_function(pred_val, y_val).item()\n",
        "  print(f'Epoch {epoch:5d}, train loss {losses_train[epoch]:.6f}, train error {errors_train[epoch]:3.2f},  val loss {losses_val[epoch]:.6f}, percent error {errors_val[epoch]:3.2f}')\n",
        "\n",
        "  # tell scheduler to consider updating learning rate\n",
        "  scheduler.step()"
      ],
      "metadata": {
        "id": "NYw8I_3mmX5c",
        "outputId": "3808e0b1-6dcd-4e17-d17f-b6b26039fd72",
        "colab": {
          "base_uri": "https://localhost:8080/"
        }
      },
      "execution_count": 17,
      "outputs": [
        {
          "output_type": "stream",
          "name": "stdout",
          "text": [
            "Initialized MLPBase model with 25310 parameters\n",
            "Epoch     0, train loss 1.552281, train error 60.05,  val loss 1.657627, percent error 65.60\n",
            "Epoch     1, train loss 1.276219, train error 47.10,  val loss 1.471727, percent error 60.00\n",
            "Epoch     2, train loss 1.043358, train error 38.85,  val loss 1.295150, percent error 49.60\n",
            "Epoch     3, train loss 0.917088, train error 33.40,  val loss 1.245708, percent error 47.10\n",
            "Epoch     4, train loss 0.826473, train error 30.12,  val loss 1.175811, percent error 43.90\n",
            "Epoch     5, train loss 0.702922, train error 25.62,  val loss 1.151378, percent error 42.10\n",
            "Epoch     6, train loss 0.591731, train error 20.88,  val loss 1.133948, percent error 42.10\n",
            "Epoch     7, train loss 0.528347, train error 18.90,  val loss 1.151449, percent error 40.70\n",
            "Epoch     8, train loss 0.448195, train error 15.03,  val loss 1.150935, percent error 38.60\n",
            "Epoch     9, train loss 0.383422, train error 13.57,  val loss 1.129486, percent error 37.10\n",
            "Epoch    10, train loss 0.393496, train error 13.85,  val loss 1.289459, percent error 41.20\n",
            "Epoch    11, train loss 0.304769, train error 10.78,  val loss 1.192359, percent error 37.10\n",
            "Epoch    12, train loss 0.260742, train error 8.97,  val loss 1.201894, percent error 36.60\n",
            "Epoch    13, train loss 0.230956, train error 7.55,  val loss 1.272697, percent error 37.30\n",
            "Epoch    14, train loss 0.196797, train error 6.60,  val loss 1.320391, percent error 36.40\n",
            "Epoch    15, train loss 0.167401, train error 5.93,  val loss 1.312509, percent error 35.30\n",
            "Epoch    16, train loss 0.173260, train error 6.03,  val loss 1.530171, percent error 37.50\n",
            "Epoch    17, train loss 0.175613, train error 6.03,  val loss 1.524404, percent error 36.70\n",
            "Epoch    18, train loss 0.122544, train error 4.15,  val loss 1.478074, percent error 37.90\n",
            "Epoch    19, train loss 0.138682, train error 4.35,  val loss 1.595153, percent error 36.50\n",
            "Epoch    20, train loss 0.031695, train error 0.25,  val loss 1.447367, percent error 34.90\n",
            "Epoch    21, train loss 0.018072, train error 0.00,  val loss 1.455657, percent error 35.10\n",
            "Epoch    22, train loss 0.013367, train error 0.00,  val loss 1.482238, percent error 35.00\n",
            "Epoch    23, train loss 0.011282, train error 0.00,  val loss 1.499381, percent error 34.50\n",
            "Epoch    24, train loss 0.009730, train error 0.00,  val loss 1.520962, percent error 34.50\n",
            "Epoch    25, train loss 0.008750, train error 0.00,  val loss 1.543521, percent error 34.90\n",
            "Epoch    26, train loss 0.008046, train error 0.00,  val loss 1.564851, percent error 34.60\n",
            "Epoch    27, train loss 0.007363, train error 0.00,  val loss 1.571118, percent error 34.70\n",
            "Epoch    28, train loss 0.006808, train error 0.00,  val loss 1.588867, percent error 35.00\n",
            "Epoch    29, train loss 0.006410, train error 0.00,  val loss 1.602256, percent error 34.90\n",
            "Epoch    30, train loss 0.005938, train error 0.00,  val loss 1.618145, percent error 35.10\n",
            "Epoch    31, train loss 0.005592, train error 0.00,  val loss 1.628083, percent error 35.10\n",
            "Epoch    32, train loss 0.005276, train error 0.00,  val loss 1.640569, percent error 35.00\n",
            "Epoch    33, train loss 0.005000, train error 0.00,  val loss 1.654179, percent error 35.20\n",
            "Epoch    34, train loss 0.004775, train error 0.00,  val loss 1.662086, percent error 34.90\n",
            "Epoch    35, train loss 0.004566, train error 0.00,  val loss 1.675577, percent error 35.00\n",
            "Epoch    36, train loss 0.004340, train error 0.00,  val loss 1.678086, percent error 34.90\n",
            "Epoch    37, train loss 0.004137, train error 0.00,  val loss 1.689955, percent error 35.20\n",
            "Epoch    38, train loss 0.003969, train error 0.00,  val loss 1.698087, percent error 35.00\n",
            "Epoch    39, train loss 0.003807, train error 0.00,  val loss 1.705491, percent error 35.00\n",
            "Epoch    40, train loss 0.003723, train error 0.00,  val loss 1.711047, percent error 35.10\n",
            "Epoch    41, train loss 0.003652, train error 0.00,  val loss 1.714858, percent error 35.20\n",
            "Epoch    42, train loss 0.003583, train error 0.00,  val loss 1.720335, percent error 35.10\n",
            "Epoch    43, train loss 0.003518, train error 0.00,  val loss 1.722730, percent error 35.00\n",
            "Epoch    44, train loss 0.003456, train error 0.00,  val loss 1.727242, percent error 35.10\n",
            "Epoch    45, train loss 0.003394, train error 0.00,  val loss 1.731850, percent error 35.20\n",
            "Epoch    46, train loss 0.003335, train error 0.00,  val loss 1.734910, percent error 35.10\n",
            "Epoch    47, train loss 0.003280, train error 0.00,  val loss 1.738311, percent error 35.20\n",
            "Epoch    48, train loss 0.003224, train error 0.00,  val loss 1.741656, percent error 35.10\n",
            "Epoch    49, train loss 0.003171, train error 0.00,  val loss 1.744603, percent error 35.10\n",
            "Epoch    50, train loss 0.003118, train error 0.00,  val loss 1.748091, percent error 35.10\n",
            "Epoch    51, train loss 0.003069, train error 0.00,  val loss 1.753363, percent error 35.00\n",
            "Epoch    52, train loss 0.003021, train error 0.00,  val loss 1.755425, percent error 35.10\n",
            "Epoch    53, train loss 0.002974, train error 0.00,  val loss 1.759008, percent error 34.90\n",
            "Epoch    54, train loss 0.002929, train error 0.00,  val loss 1.763304, percent error 34.90\n",
            "Epoch    55, train loss 0.002884, train error 0.00,  val loss 1.765999, percent error 35.10\n",
            "Epoch    56, train loss 0.002841, train error 0.00,  val loss 1.769007, percent error 35.10\n",
            "Epoch    57, train loss 0.002799, train error 0.00,  val loss 1.772012, percent error 34.90\n",
            "Epoch    58, train loss 0.002759, train error 0.00,  val loss 1.774106, percent error 34.90\n",
            "Epoch    59, train loss 0.002719, train error 0.00,  val loss 1.778462, percent error 34.90\n",
            "Epoch    60, train loss 0.002699, train error 0.00,  val loss 1.779929, percent error 34.90\n",
            "Epoch    61, train loss 0.002679, train error 0.00,  val loss 1.781227, percent error 34.90\n",
            "Epoch    62, train loss 0.002661, train error 0.00,  val loss 1.783251, percent error 34.80\n",
            "Epoch    63, train loss 0.002642, train error 0.00,  val loss 1.784958, percent error 34.90\n",
            "Epoch    64, train loss 0.002624, train error 0.00,  val loss 1.786279, percent error 34.90\n",
            "Epoch    65, train loss 0.002607, train error 0.00,  val loss 1.787740, percent error 34.70\n",
            "Epoch    66, train loss 0.002589, train error 0.00,  val loss 1.789424, percent error 34.90\n",
            "Epoch    67, train loss 0.002571, train error 0.00,  val loss 1.791206, percent error 34.80\n",
            "Epoch    68, train loss 0.002554, train error 0.00,  val loss 1.791929, percent error 35.10\n",
            "Epoch    69, train loss 0.002537, train error 0.00,  val loss 1.793548, percent error 34.80\n",
            "Epoch    70, train loss 0.002520, train error 0.00,  val loss 1.794857, percent error 35.10\n",
            "Epoch    71, train loss 0.002504, train error 0.00,  val loss 1.795905, percent error 34.90\n",
            "Epoch    72, train loss 0.002488, train error 0.00,  val loss 1.797990, percent error 35.00\n",
            "Epoch    73, train loss 0.002471, train error 0.00,  val loss 1.799035, percent error 35.00\n",
            "Epoch    74, train loss 0.002455, train error 0.00,  val loss 1.801000, percent error 35.10\n",
            "Epoch    75, train loss 0.002439, train error 0.00,  val loss 1.802071, percent error 35.00\n",
            "Epoch    76, train loss 0.002424, train error 0.00,  val loss 1.803446, percent error 35.20\n",
            "Epoch    77, train loss 0.002409, train error 0.00,  val loss 1.805345, percent error 35.00\n",
            "Epoch    78, train loss 0.002394, train error 0.00,  val loss 1.806565, percent error 34.90\n",
            "Epoch    79, train loss 0.002379, train error 0.00,  val loss 1.807645, percent error 35.00\n",
            "Epoch    80, train loss 0.002371, train error 0.00,  val loss 1.808451, percent error 35.10\n",
            "Epoch    81, train loss 0.002364, train error 0.00,  val loss 1.808864, percent error 35.00\n",
            "Epoch    82, train loss 0.002356, train error 0.00,  val loss 1.809704, percent error 35.00\n",
            "Epoch    83, train loss 0.002349, train error 0.00,  val loss 1.810411, percent error 35.00\n",
            "Epoch    84, train loss 0.002342, train error 0.00,  val loss 1.811180, percent error 35.00\n",
            "Epoch    85, train loss 0.002335, train error 0.00,  val loss 1.811686, percent error 34.90\n",
            "Epoch    86, train loss 0.002327, train error 0.00,  val loss 1.812346, percent error 35.00\n",
            "Epoch    87, train loss 0.002320, train error 0.00,  val loss 1.812858, percent error 35.00\n",
            "Epoch    88, train loss 0.002313, train error 0.00,  val loss 1.813963, percent error 35.00\n",
            "Epoch    89, train loss 0.002306, train error 0.00,  val loss 1.814879, percent error 35.00\n",
            "Epoch    90, train loss 0.002299, train error 0.00,  val loss 1.815186, percent error 35.00\n",
            "Epoch    91, train loss 0.002292, train error 0.00,  val loss 1.815489, percent error 35.00\n",
            "Epoch    92, train loss 0.002285, train error 0.00,  val loss 1.816340, percent error 35.00\n",
            "Epoch    93, train loss 0.002279, train error 0.00,  val loss 1.817287, percent error 35.00\n",
            "Epoch    94, train loss 0.002272, train error 0.00,  val loss 1.817771, percent error 35.00\n",
            "Epoch    95, train loss 0.002265, train error 0.00,  val loss 1.818505, percent error 35.00\n",
            "Epoch    96, train loss 0.002258, train error 0.00,  val loss 1.818752, percent error 35.00\n",
            "Epoch    97, train loss 0.002252, train error 0.00,  val loss 1.819833, percent error 35.00\n",
            "Epoch    98, train loss 0.002245, train error 0.00,  val loss 1.820449, percent error 35.00\n",
            "Epoch    99, train loss 0.002238, train error 0.00,  val loss 1.820935, percent error 34.90\n"
          ]
        }
      ]
    },
    {
      "cell_type": "code",
      "source": [
        "# Plot the results\n",
        "fig, ax = plt.subplots()\n",
        "ax.plot(errors_train,'r-',label='train')\n",
        "ax.plot(errors_val,'b-',label='test')\n",
        "ax.set_ylim(0,100); ax.set_xlim(0,n_epoch)\n",
        "ax.set_xlabel('Epoch'); ax.set_ylabel('Error')\n",
        "ax.set_title('TrainError %3.2f, Val Error %3.2f'%(errors_train[-1],errors_val[-1]))\n",
        "ax.legend()\n",
        "plt.show()"
      ],
      "metadata": {
        "id": "CcP_VyEmE2sv",
        "outputId": "6eb23afb-a057-4ba3-9420-f42d40034a78",
        "colab": {
          "base_uri": "https://localhost:8080/",
          "height": 472
        }
      },
      "execution_count": 18,
      "outputs": [
        {
          "output_type": "display_data",
          "data": {
            "text/plain": [
              "<Figure size 640x480 with 1 Axes>"
            ],
            "image/png": "[encoded data removed]"
          },
          "metadata": {}
        }
      ]
    },
    {
      "cell_type": "markdown",
      "source": [
        "The primary motivation of residual networks is to allow training of much deeper networks.   \n",
        "\n",
        "TODO: Try running this network with and without the residual connections.  Does adding the residual connections change the performance?"
      ],
      "metadata": {
        "id": "wMmqhmxuAx0M"
      }
    }
  ]
}