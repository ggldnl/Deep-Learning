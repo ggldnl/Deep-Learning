{
  "cells": [
    {
      "cell_type": "markdown",
      "metadata": {
        "id": "RnWswu3wjSMH"
      },
      "source": [
        "#Deep Learning\n",
        "Lesson 6:\n",
        "\n",
        "In this lesson, we will cover:\n",
        "\n",
        "Graph Neural Networks\n",
        "\n",
        "Teachers:\n",
        "\n",
        "Fabrizio Silvestri (fsilvestri@diag.uniroma1.it)\n",
        "\n",
        "Antonio Purificato (antonio.purificato@uniroma1.it)\n",
        "\n",
        "Farooq Wani (wani@diag.uniroma1.it)\n",
        "\n",
        "Maria Sofia Bucarelli (bucarelli@diag.uniroma1.it)\n",
        "\n"
      ]
    },
    {
      "cell_type": "code",
      "source": [
        "!pip install pytorch-lightning"
      ],
      "metadata": {
        "id": "djVgNjkBA1ow",
        "colab": {
          "base_uri": "https://localhost:8080/"
        },
        "outputId": "14eaf26a-a41b-439e-fcf7-1bf63bf185ad"
      },
      "execution_count": null,
      "outputs": [
        {
          "output_type": "stream",
          "name": "stdout",
          "text": [
            "Successfully installed lightning-utilities-0.9.0 pytorch-lightning-2.1.2 torchmetrics-1.2.0\n"
          ]
        }
      ]
    },
    {
      "cell_type": "code",
      "execution_count": null,
      "metadata": {
        "id": "5BfyaG1gPqb8",
        "colab": {
          "base_uri": "https://localhost:8080/"
        },
        "outputId": "9944ed03-ce87-4a5e-f181-abd5c94c57ca"
      },
      "outputs": [
        {
          "output_type": "stream",
          "name": "stdout",
          "text": [
            "Looking in links: https://pytorch-geometric.com/whl/torch-2.1.0+cu118.html\n",
            "Collecting torch-scatter\n",
            "  Downloading https://data.pyg.org/whl/torch-2.1.0%2Bcu118/torch_scatter-2.1.2%2Bpt21cu118-cp310-cp310-linux_x86_64.whl (10.2 MB)\n",
            "\u001b[2K     \u001b[90m━━━━━━━━━━━━━━━━━━━━━━━━━━━━━━━━━━━━━━━━\u001b[0m \u001b[32m10.2/10.2 MB\u001b[0m \u001b[31m52.0 MB/s\u001b[0m eta \u001b[36m0:00:00\u001b[0m\n",
            "\u001b[?25hInstalling collected packages: torch-scatter\n",
            "Successfully installed torch-scatter-2.1.2+pt21cu118\n",
            "Looking in links: https://pytorch-geometric.com/whl/torch-2.1.0+cu118.html\n",
            "Collecting torch-sparse\n",
            "  Downloading https://data.pyg.org/whl/torch-2.1.0%2Bcu118/torch_sparse-0.6.18%2Bpt21cu118-cp310-cp310-linux_x86_64.whl (4.9 MB)\n",
            "\u001b[2K     \u001b[90m━━━━━━━━━━━━━━━━━━━━━━━━━━━━━━━━━━━━━━━━\u001b[0m \u001b[32m4.9/4.9 MB\u001b[0m \u001b[31m39.3 MB/s\u001b[0m eta \u001b[36m0:00:00\u001b[0m\n",
            "\u001b[?25hRequirement already satisfied: scipy in /usr/local/lib/python3.10/dist-packages (from torch-sparse) (1.11.3)\n",
            "Requirement already satisfied: numpy<1.28.0,>=1.21.6 in /usr/local/lib/python3.10/dist-packages (from scipy->torch-sparse) (1.23.5)\n",
            "Installing collected packages: torch-sparse\n",
            "Successfully installed torch-sparse-0.6.18+pt21cu118\n",
            "Looking in links: https://pytorch-geometric.com/whl/torch-2.1.0+cu118.html\n",
            "Collecting torch-cluster\n",
            "  Downloading https://data.pyg.org/whl/torch-2.1.0%2Bcu118/torch_cluster-1.6.3%2Bpt21cu118-cp310-cp310-linux_x86_64.whl (3.3 MB)\n",
            "\u001b[2K     \u001b[90m━━━━━━━━━━━━━━━━━━━━━━━━━━━━━━━━━━━━━━━━\u001b[0m \u001b[32m3.3/3.3 MB\u001b[0m \u001b[31m31.0 MB/s\u001b[0m eta \u001b[36m0:00:00\u001b[0m\n",
            "\u001b[?25hRequirement already satisfied: scipy in /usr/local/lib/python3.10/dist-packages (from torch-cluster) (1.11.3)\n",
            "Requirement already satisfied: numpy<1.28.0,>=1.21.6 in /usr/local/lib/python3.10/dist-packages (from scipy->torch-cluster) (1.23.5)\n",
            "Installing collected packages: torch-cluster\n",
            "Successfully installed torch-cluster-1.6.3+pt21cu118\n",
            "Looking in links: https://pytorch-geometric.com/whl/torch-2.1.0+cu118.html\n",
            "Collecting torch-spline-conv\n",
            "  Downloading https://data.pyg.org/whl/torch-2.1.0%2Bcu118/torch_spline_conv-1.2.2%2Bpt21cu118-cp310-cp310-linux_x86_64.whl (887 kB)\n",
            "\u001b[2K     \u001b[90m━━━━━━━━━━━━━━━━━━━━━━━━━━━━━━━━━━━━━━━━\u001b[0m \u001b[32m887.8/887.8 kB\u001b[0m \u001b[31m11.4 MB/s\u001b[0m eta \u001b[36m0:00:00\u001b[0m\n",
            "\u001b[?25hInstalling collected packages: torch-spline-conv\n",
            "Successfully installed torch-spline-conv-1.2.2+pt21cu118\n",
            "Collecting torch-geometric\n",
            "  Downloading torch_geometric-2.4.0-py3-none-any.whl (1.0 MB)\n",
            "\u001b[2K     \u001b[90m━━━━━━━━━━━━━━━━━━━━━━━━━━━━━━━━━━━━━━━━\u001b[0m \u001b[32m1.0/1.0 MB\u001b[0m \u001b[31m6.7 MB/s\u001b[0m eta \u001b[36m0:00:00\u001b[0m\n",
            "\u001b[?25hRequirement already satisfied: tqdm in /usr/local/lib/python3.10/dist-packages (from torch-geometric) (4.66.1)\n",
            "Requirement already satisfied: numpy in /usr/local/lib/python3.10/dist-packages (from torch-geometric) (1.23.5)\n",
            "Requirement already satisfied: scipy in /usr/local/lib/python3.10/dist-packages (from torch-geometric) (1.11.3)\n",
            "Requirement already satisfied: jinja2 in /usr/local/lib/python3.10/dist-packages (from torch-geometric) (3.1.2)\n",
            "Requirement already satisfied: requests in /usr/local/lib/python3.10/dist-packages (from torch-geometric) (2.31.0)\n",
            "Requirement already satisfied: pyparsing in /usr/local/lib/python3.10/dist-packages (from torch-geometric) (3.1.1)\n",
            "Requirement already satisfied: scikit-learn in /usr/local/lib/python3.10/dist-packages (from torch-geometric) (1.2.2)\n",
            "Requirement already satisfied: psutil>=5.8.0 in /usr/local/lib/python3.10/dist-packages (from torch-geometric) (5.9.5)\n",
            "Requirement already satisfied: MarkupSafe>=2.0 in /usr/local/lib/python3.10/dist-packages (from jinja2->torch-geometric) (2.1.3)\n",
            "Requirement already satisfied: charset-normalizer<4,>=2 in /usr/local/lib/python3.10/dist-packages (from requests->torch-geometric) (3.3.2)\n",
            "Requirement already satisfied: idna<4,>=2.5 in /usr/local/lib/python3.10/dist-packages (from requests->torch-geometric) (3.4)\n",
            "Requirement already satisfied: urllib3<3,>=1.21.1 in /usr/local/lib/python3.10/dist-packages (from requests->torch-geometric) (2.0.7)\n",
            "Requirement already satisfied: certifi>=2017.4.17 in /usr/local/lib/python3.10/dist-packages (from requests->torch-geometric) (2023.7.22)\n",
            "Requirement already satisfied: joblib>=1.1.1 in /usr/local/lib/python3.10/dist-packages (from scikit-learn->torch-geometric) (1.3.2)\n",
            "Requirement already satisfied: threadpoolctl>=2.0.0 in /usr/local/lib/python3.10/dist-packages (from scikit-learn->torch-geometric) (3.2.0)\n",
            "Installing collected packages: torch-geometric\n",
            "Successfully installed torch-geometric-2.4.0\n"
          ]
        }
      ],
      "source": [
        "# Install  Pytorch Geometric.\n",
        "import torch\n",
        "use_gpu = True\n",
        "device = torch.device(\"cuda:0\" if use_gpu and torch.cuda.is_available() else \"cpu\")\n",
        "\n",
        "def format_pytorch_version(version):\n",
        "  return version.split('+')[0]\n",
        "\n",
        "TORCH_version = torch.__version__\n",
        "TORCH = format_pytorch_version(TORCH_version)\n",
        "\n",
        "def format_cuda_version(version):\n",
        "  return 'cu' + version.replace('.', '')\n",
        "\n",
        "CUDA_version = torch.version.cuda\n",
        "CUDA = format_cuda_version(CUDA_version)\n",
        "\n",
        "!pip install torch-scatter     -f https://pytorch-geometric.com/whl/torch-{TORCH}+{CUDA}.html\n",
        "!pip install torch-sparse      -f https://pytorch-geometric.com/whl/torch-{TORCH}+{CUDA}.html\n",
        "!pip install torch-cluster     -f https://pytorch-geometric.com/whl/torch-{TORCH}+{CUDA}.html\n",
        "!pip install torch-spline-conv -f https://pytorch-geometric.com/whl/torch-{TORCH}+{CUDA}.html\n",
        "!pip install torch-geometric"
      ]
    },
    {
      "cell_type": "code",
      "source": [
        "import pytorch_lightning as pl\n",
        "from pytorch_lightning import LightningModule, Trainer\n",
        "from pytorch_lightning.callbacks.progress import TQDMProgressBar\n",
        "from pytorch_lightning.loggers import CSVLogger\n",
        "import seaborn as sn"
      ],
      "metadata": {
        "id": "yoE_GnNSAzZZ"
      },
      "execution_count": null,
      "outputs": []
    },
    {
      "cell_type": "code",
      "source": [
        "import torch.nn as nn"
      ],
      "metadata": {
        "id": "J7-jTbEVOli5"
      },
      "execution_count": null,
      "outputs": []
    },
    {
      "cell_type": "code",
      "execution_count": null,
      "metadata": {
        "id": "WCswO2Pz0rzR"
      },
      "outputs": [],
      "source": [
        "!pip install livelossplot --quiet\n",
        "import matplotlib.pyplot as plt\n",
        "from matplotlib.colors import ListedColormap\n",
        "\n",
        "from livelossplot import PlotLosses\n",
        "from livelossplot.outputs import matplotlib_subplots"
      ]
    },
    {
      "cell_type": "code",
      "execution_count": null,
      "metadata": {
        "id": "aAigpyXF0utf"
      },
      "outputs": [],
      "source": [
        "# Necessary imports\n",
        "%matplotlib inline\n",
        "import matplotlib.pyplot as plt\n",
        "from sklearn.manifold import TSNE\n",
        "\n",
        "import pandas as pd\n",
        "import networkx as nx #for visualization\n",
        "import numpy as np"
      ]
    },
    {
      "cell_type": "markdown",
      "metadata": {
        "id": "vV04spAd05Cl"
      },
      "source": [
        "# Graph representation\n",
        "\n",
        "A **simple graph**  $\\mathcal{G}$ is a pair  $  \\{\\mathcal{V},\\mathcal{E}\\}$ where $\\mathcal{V}$ is a set of elements called vertices and $\\mathcal{E} \\subset \\mathcal{V}x \\mathcal{V} $ consists of pairs of vertices. The elements of  $\\mathcal{E}$  are called edges (sometimes links or lines).\n",
        "\n",
        "We write  $\\mathcal{G} = \\{\\mathcal{V},\\mathcal{E}\\}$.\n",
        "\n",
        "In undirected simple graph.\n",
        "$$ \\mathcal{E} \\subseteq \\{ \\{x,y \\} | x,y \\in \\mathcal{V}, \\; x \\neq y \\} $$\n",
        "is a set of unordered pairs of vertices.\n",
        "\n",
        "We say that two vertices $v_i, v_j $ are adjacent if $ \\{ v_i, v_j \\} \\in \\mathcal{E} $.\n",
        "\n",
        "\n",
        "\n",
        "\n",
        "\n",
        "Examples of graphs we use in applications are social networks, in this case nodes represent a person, and edges represent their connections (friends, followers, etc...) or molecules.\n",
        "\n",
        "\n",
        "\n",
        "The **adjacency matrix** $A$ of a graph is a square matrix used to represent a finite graph. The elements of the matrix indicate whether pairs of vertices are adjacent or not in the graph, in fact :\n",
        "Suppose $ \\mathcal{V}= \\{ v_1, \\dots, v_n \\} $\n",
        "\n",
        "$$A_{ij}=  \n",
        "\\begin{cases}\n",
        "1 & \\textrm{ if } v_i, v_j \\textrm{ if } \\{ v_i, v_j \\} \\in \\mathcal{E} \\\\\n",
        "0 & \\textrm{ otherwise}.\n",
        "\\end{cases}$$\n",
        "\n",
        "For undrected graph the adjacency matrix is symmetric."
      ]
    },
    {
      "cell_type": "code",
      "execution_count": null,
      "metadata": {
        "colab": {
          "base_uri": "https://localhost:8080/",
          "height": 406
        },
        "id": "yRXAo-Coag7I",
        "outputId": "12c8eb9a-ad64-4940-d196-8a58c69f6d71"
      },
      "outputs": [
        {
          "output_type": "display_data",
          "data": {
            "text/plain": [
              "<Figure size 640x480 with 1 Axes>"
            ],
            "image/png": "[encoded data removed]"
          },
          "metadata": {}
        }
      ],
      "source": [
        "#@title\n",
        "\n",
        "G = nx.Graph([ (1, 2), (1, 3),(1, 5),(2, 3) ,(3,6),  (3, 4), (4, 6), (5, 6)])\n",
        "G.add_edge(4, 5)\n",
        "\n",
        "# explicitly set positions\n",
        "pos = {1: (0, 0), 2: (-1, 0.3), 3: (2, 0.2), 4: (4, 0.4), 5: (5, 0), 6:(3.5, 0.15)}\n",
        "\n",
        "options = {\n",
        "    \"font_size\": 18,\n",
        "    \"node_size\": 700,\n",
        "    \"node_color\": \"white\",\n",
        "    \"edgecolors\": \"black\",\n",
        "    \"linewidths\": 1,\n",
        "    \"width\": 1,\n",
        "}\n",
        "nx.draw_networkx(G, pos, **options)\n",
        "\n",
        "# Set margins for the axes so that nodes aren't clipped\n",
        "\n",
        "plt.axis(\"off\")\n",
        "plt.show()"
      ]
    },
    {
      "cell_type": "markdown",
      "metadata": {
        "id": "lAjZijDvy3YJ"
      },
      "source": [
        "\n",
        "\n",
        "\n",
        "\n",
        "\n",
        "\n",
        "\n",
        "A directed graph or digraph is a graph in which edges have orientations.\n",
        "$$ \\mathcal{E} \\subseteq \\{(x,y) | (x,y) \\in V^{2} \\; {\\textrm{and}} \\; x\\neq y \\} $$ the set of edges consist of ordered pairs of vertices.\n",
        "In this case\n",
        "$$A_{ij}=  \n",
        "\\begin{cases}\n",
        "1 & \\textrm{ if } v_i, v_j \\textrm{ if } (v_i, v_j ) \\in \\mathcal{E} \\\\\n",
        "0 & \\textrm{ otherwise}.\n",
        "\\end{cases}$$\n",
        "\n",
        "\n",
        "Graph vertices can be associated to a signal or feature vector $\\mathbf{x} \\in \\mathbb{R}^{N\\times F}$.\n"
      ]
    },
    {
      "cell_type": "code",
      "execution_count": null,
      "metadata": {
        "colab": {
          "base_uri": "https://localhost:8080/",
          "height": 406
        },
        "id": "3wxZv0HezDE-",
        "outputId": "f2cca50e-8d0f-41ec-8c2e-9c798bab81b5",
        "cellView": "form"
      },
      "outputs": [
        {
          "output_type": "display_data",
          "data": {
            "text/plain": [
              "<Figure size 640x480 with 1 Axes>"
            ],
            "image/png": "[encoded data removed]"
          },
          "metadata": {}
        }
      ],
      "source": [
        "#@title\n",
        "\n",
        "G = nx.DiGraph([ (1, 2), (1, 3),(5, 1),(2, 3) ,(3,6),  (3, 4), (4, 6), (5, 6)])\n",
        "G.add_edge(4, 5)\n",
        "\n",
        "# explicitly set positions\n",
        "pos = {1: (0, 0), 2: (-1, 0.3), 3: (2, 0.2), 4: (4, 0.4), 5: (5, 0), 6:(3.5, 0.15)}\n",
        "\n",
        "options = {\n",
        "    \"font_size\": 18,\n",
        "    \"node_size\": 700,\n",
        "    \"node_color\": \"white\",\n",
        "    \"edgecolors\": \"black\",\n",
        "    \"linewidths\": 1,\n",
        "    \"width\": 1,\n",
        "}\n",
        "nx.draw_networkx(G, pos, **options)\n",
        "\n",
        "# Set margins for the axes so that nodes aren't clipped\n",
        "\n",
        "plt.axis(\"off\")\n",
        "plt.show()"
      ]
    },
    {
      "cell_type": "markdown",
      "source": [
        "### Questions:\n",
        "\n",
        "https://forms.gle/EbhiS1jATCshnNRb7"
      ],
      "metadata": {
        "id": "kbZ36PhDDhAY"
      }
    },
    {
      "cell_type": "markdown",
      "metadata": {
        "id": "9Sb18JyL8iCi"
      },
      "source": [
        "\n",
        "## Libraries\n",
        "1) <img src=\"https://raw.githubusercontent.com/pyg-team/pyg_sphinx_theme/master/pyg_sphinx_theme/static/img/pyg_logo_text.svg?sanitize=true\" alt=\"drawing\" width=\"100\"/> [PyG (PyTorch Geometric)](https://pytorch-geometric.readthedocs.io/en/latest/)  is a library built upon PyTorch to easily write and train Graph Neural Networks (GNNs) for a wide range of applications related to structured data.\n",
        "\n",
        "2)  <img src=\"https://camo.githubusercontent.com/c8e685c644c3fb27c874af87a405d53c382d0de61d8edde0fd0d9aac2a4345d8/687474703a2f2f646174612e64676c2e61692f61737365742f6c6f676f2e6a7067\" alt=\"drawing\" width=\"100\"/> [DGL](https://www.dgl.ai) is a Python package for deep learning on graphs. DGL is framework agnostic, meaning if a deep graph model is a component of an end-to-end application, the rest of the logics can be implemented in any major frameworks, such as PyTorch, Apache MXNet or TensorFlow.\n",
        "\n",
        "\n",
        "\n",
        "\n",
        "3)  <img src=\"https://camo.githubusercontent.com/1369e2565dde0271e9611eecfa036eb789be191fd7cd4d56a3f2c38c44e49c3d/68747470733a2f2f64616e69656c65677261747461726f6c612e6769746875622e696f2f7370656b7472616c2f696d672f6c6f676f5f6461726b2e737667\" alt=\"drawing\" width=\"100\"/>  [Spektral ](https://graphneural.network) is a Python library for graph deep learning, based on the Keras API and TensorFlow 2.\n",
        "\n",
        "\n",
        "\n",
        "4)<img src=\"https://avatars.githubusercontent.com/u/8596759?s=280&v=4\" alt=\"drawing\" width=\"45\"/>   [Graph Nets](https://deepmind.com/research/open-source/graph-nets-library)\n",
        " is a DeepMind's library for building graph networks in Tensorflow and Sonnet.\n",
        "\n",
        "\n",
        "5) <img src=\"https://raw.githubusercontent.com/deepmind/jraph/master/images/logo.png\" width=\"30\"/>  [Jraph](https://github.com/deepmind/jraph)\n",
        " is a lightweight library for working with graph neural networks in jax. It provides a data structure for graphs, a set of utilities for working with graphs, and a 'zoo' of forkable graph neural network models.\n",
        "\n",
        "Programming language for all these libraries: Python\n",
        "\n",
        "|  Library Name |Deep Learning Framework  |    \n",
        "|---|---|\n",
        "| Pytorch Geometric  |   PyTorch |      \n",
        "| Deep Graph Library  | PyTorch, TF, MxNet  |  \n",
        "|Spektral   |   Tensorflow2/Keras |    \n",
        "|Graph Nets   |  Tensorflow, Sonnet |\n",
        "|Jraph  |  JAX   \n",
        "\n",
        "\n"
      ]
    },
    {
      "cell_type": "markdown",
      "metadata": {
        "id": "zIbE53637lmi"
      },
      "source": [
        "## The PyTorch geometric graph object\n",
        "\n",
        "\n",
        "\n",
        "\n",
        "A single graph in  PyTorch Geometric is described by an instance of torch_geometric.data.Data which holds the following attributes by default:\n",
        "\n",
        "**data.x**: Node feature matrix with shape `[num_nodes, num_node_features]`\n",
        "\n",
        "**data.edge_index**: Graph edges with shape `[2, num_edges]` and type torch.long\n",
        "\n",
        "**data.edge_attr**: Edge feature matrix with shape `[num_edges, num_edge_features]`\n",
        "\n",
        "**data.y**: Ground truth target. May have arbitrary shape. In case of node-level targets its shape is `[num_nodes, num_classes]` for graph-level targets, it is `[1, num_classes]`\n",
        "\n",
        "**data.pos**: Node position matrix with shape `[num_nodes, num_dimensions]`\n",
        "\n",
        "None of these attributes are required.\n",
        "\n",
        "\n",
        "Let's experiment with the Data class by building our own small graph structure:"
      ]
    },
    {
      "cell_type": "markdown",
      "source": [
        "![Screenshot 2023-11-16 at 08.50.57.png](data:image/png;base64,iVBORw0KGgoAAAANSUhEUgAAAf4AAAL+CAYAAABMh3a4AAAMb2lDQ1BJQ0MgUHJvZmlsZQAASImVVwdYU8kWnluSkJDQAghICb0JIjWAlBBaAOlFEJWQBBJKjAlBxV4WFVy7iGJFV0UU2wqIKIhdWRR7XyyoKOuiLjZU3oQEdN1Xvne+b+79c+bMf8qdyb0HAM0PXIkkD9UCIF9cII0PC2KMTU1jkJ4BBGCADPSBOpcnk7BiY6MAlMH73+XdDWgN5aqTguuf8/9VdPgCGQ8AJB3iTL6Mlw9xMwD4Bp5EWgAAUaG3nFIgUeA5EOtKYYAQr1bgbCXepcCZStw4YJMYz4b4MgBqVC5Xmg2Axj2oZxTysiGPxmeIXcR8kRgAzREQ+/OEXD7EithH5OdPUuByiO2gvQRiGA9gZn7Hmf03/swhfi43ewgr8xoQtWCRTJLHnfZ/luZ/S36efNCHDRxUoTQ8XpE/rOGt3EmRCkyFuFucGR2jqDXEH0R8Zd0BQClCeXiS0h415snYsH7wiQPUhc8NjoTYGOJQcV50lEqfmSUK5UAMdws6VVTASYTYAOJFAllIgspmi3RSvMoXWpslZbNU+nNc6YBfha8H8twklor/jVDAUfFjGkXCxBSIKRBbFYqSoyHWgNhZlpsQqbIZXSRkRw/aSOXxivitII4XiMOClPxYYZY0NF5lX5IvG8wX2yIUcaJV+GCBMDFcWR/sFI87ED/MBbssELOSBnkEsrFRg7nwBcEhytyx5wJxUoKK54OkICheuRanSPJiVfa4hSAvTKG3gNhdVpigWosnF8DNqeTHsyQFsYnKOPGiHG5ErDIefDmIAmwQDBhADkcmmARygKitu64b/lLOhAIukIJsIABOKs3gipSBGTG8JoAi8AdEAiAbWhc0MCsAhVD/ZUirvDqBrIHZwoEVueApxPkgEuTB3/KBVeIhb8ngCdSI/uGdCwcPxpsHh2L+3+sHtd80LKiJUmnkgx4ZmoOWxBBiMDGcGEq0x41wf9wXj4LXQDhccSbuPZjHN3vCU0I74RHhOqGDcHuiaJ70hyjHgA7IH6qqReb3tcBtIKcHHoT7QXbIjOvjRsAJd4d+WHgA9OwBtWxV3IqqMH7g/lsG3z0NlR3ZhYySh5EDyXY/rtRw0PAYYlHU+vv6KGPNHKo3e2jmR//s76rPh/fIHy2xRdgh7Cx2AjuPNWJ1gIE1YfVYK3ZMgYd215OB3TXoLX4gnlzII/qHP67Kp6KSMpdqly6Xz8q5AsHUAsXBY0+STJOKsoUFDBZ8OwgYHDHPeQTD1cXVDQDFu0b59/U2buAdgui3ftPN/x0Av6b+/v6j33QRTQAc8ILH/8g3nR0TAG11AM4d4cmlhUodrrgQ4L+EJjxphsAUWAI7mI8r8AS+IBCEgAgQAxJBKpgAqyyE+1wKpoAZYC4oBqVgOVgD1oPNYBvYBfaCg6AONIIT4Ay4CC6D6+Au3D2d4CXoAe9AH4IgJISG0BFDxAyxRhwRV4SJ+CMhSBQSj6QiGUg2IkbkyAxkPlKKrETWI1uRKuQAcgQ5gZxH2pHbyEOkC3mDfEIxlIrqoiaoDToSZaIsNBJNRMej2ehktAhdgC5Fy9FKdA9ai55AL6LX0Q70JdqLAUwd08fMMSeMibGxGCwNy8Kk2CysBCvDKrEarAE+56tYB9aNfcSJOB1n4E5wB4fjSTgPn4zPwpfg6/FdeC1+Cr+KP8R78K8EGsGY4EjwIXAIYwnZhCmEYkIZYQfhMOE0PEudhHdEIlGfaEv0gmcxlZhDnE5cQtxI3EdsJrYTHxN7SSSSIcmR5EeKIXFJBaRi0jrSHlIT6Qqpk/RBTV3NTM1VLVQtTU2sNk+tTG232nG1K2rP1PrIWmRrsg85hswnTyMvI28nN5AvkTvJfRRtii3Fj5JIyaHMpZRTaiinKfcob9XV1S3UvdXj1EXqc9TL1fern1N/qP6RqkN1oLKp6VQ5dSl1J7WZepv6lkaj2dACaWm0AtpSWhXtJO0B7YMGXcNZg6PB15itUaFRq3FF45UmWdNak6U5QbNIs0zzkOYlzW4tspaNFluLqzVLq0LriNZNrV5tuvYo7RjtfO0l2ru1z2s/1yHp2OiE6PB1Fuhs0zmp85iO0S3pbDqPPp++nX6a3qlL1LXV5ejm6Jbq7tVt0+3R09Fz10vWm6pXoXdMr0Mf07fR5+jn6S/TP6h/Q//TMJNhrGGCYYuH1Qy7Muy9wXCDQAOBQYnBPoPrBp8MGYYhhrmGKwzrDO8b4UYORnFGU4w2GZ026h6uO9x3OG94yfCDw+8Yo8YOxvHG0423Gbca95qYmoSZSEzWmZw06TbVNw00zTFdbXrctMuMbuZvJjJbbdZk9oKhx2Ax8hjljFOMHnNj83BzuflW8zbzPgtbiySLeRb7LO5bUiyZllmWqy1bLHuszKzGWM2wqra6Y022ZloLrddan7V+b2Nrk2Kz0KbO5rmtgS3Htsi22vaeHc0uwG6yXaXdNXuiPdM+136j/WUH1MHDQehQ4XDJEXX0dBQ5bnRsH0EY4T1CPKJyxE0nqhPLqdCp2umhs75zlPM85zrnVyOtRqaNXDHy7MivLh4ueS7bXe6O0hkVMWreqIZRb1wdXHmuFa7X3GhuoW6z3erdXrs7ugvcN7nf8qB7jPFY6NHi8cXTy1PqWePZ5WXlleG1wesmU5cZy1zCPOdN8A7ynu3d6P3Rx9OnwOegz5++Tr65vrt9n4+2HS0YvX30Yz8LP67fVr8Of4Z/hv8W/44A8wBuQGXAo0DLQH7gjsBnLHtWDmsP61WQS5A06HDQe7YPeya7ORgLDgsuCW4L0QlJClkf8iDUIjQ7tDq0J8wjbHpYczghPDJ8RfhNjgmHx6ni9ER4RcyMOBVJjUyIXB/5KMohShrVMAYdEzFm1Zh70dbR4ui6GBDDiVkVcz/WNnZy7NE4YlxsXEXc0/hR8TPizybQEyYm7E54lxiUuCzxbpJdkjypJVkzOT25Kvl9SnDKypSOsSPHzhx7MdUoVZRan0ZKS07bkdY7LmTcmnGd6R7pxek3xtuOnzr+/ASjCXkTjk3UnMideCiDkJGSsTvjMzeGW8ntzeRkbsjs4bF5a3kv+YH81fwugZ9gpeBZll/Wyqzn2X7Zq7K7hAHCMmG3iC1aL3qdE56zOed9bkzuztz+vJS8fflq+Rn5R8Q64lzxqUmmk6ZOapc4SoolHZN9Jq+Z3CONlO6QIbLxsvoCXfhR3yq3k/8kf1joX1hR+GFK8pRDU7Wniqe2TnOYtnjas6LQol+m49N501tmmM+YO+PhTNbMrbOQWZmzWmZbzl4wu3NO2Jxdcylzc+f+Ns9l3sp5f81Pmd+wwGTBnAWPfwr7qbpYo1hafHOh78LNi/BFokVti90Wr1v8tYRfcqHUpbSs9PMS3pILP4/6ufzn/qVZS9uWeS7btJy4XLz8xoqAFbtWaq8sWvl41ZhVtasZq0tW/7Vm4przZe5lm9dS1srXdpRHldevs1q3fN3n9cL11yuCKvZtMN6weMP7jfyNVzYFbqrZbLK5dPOnLaItt7aGba2ttKks20bcVrjt6fbk7Wd/Yf5StcNoR+mOLzvFOzt2xe86VeVVVbXbePeyarRaXt21J33P5b3Be+trnGq27tPfV7of7Jfvf3Eg48CNg5EHWw4xD9X8av3rhsP0wyW1SO202p46YV1HfWp9+5GIIy0Nvg2Hjzof3dlo3lhxTO/YsuOU4wuO9zcVNfU2S5q7T2SfeNwyseXuybEnr52KO9V2OvL0uTOhZ06eZZ1tOud3rvG8z/kjF5gX6i56Xqxt9Wg9/JvHb4fbPNtqL3ldqr/sfbmhfXT78SsBV05cDb565hrn2sXr0dfbbyTduHUz/WbHLf6t57fzbr++U3in7+6ce4R7Jfe17pc9MH5Q+bv97/s6PDuOPQx+2Poo4dHdx7zHL5/InnzuXPCU9rTsmdmzqueuzxu7Qrsuvxj3ovOl5GVfd/Ef2n9seGX36tc/A/9s7Rnb0/la+rr/zZK3hm93/uX+V0tvbO+Dd/nv+t6XfDD8sOsj8+PZTymfnvVN+Uz6XP7F/kvD18iv9/rz+/slXCl34FMAgwPNygLgzU4AaKkA0GHfRhmn7AUHBFH2rwMI/Ces7BcHxBOAGvj9HtcNv25uArB/O2y/IL8m7FVjaQAkegPUzW1oqESW5eaq5KLCPoXwoL//LezZSKsA+LK8v7+vsr//yzYYLOwdm8XKHlQhRNgzbAn5kpmfCf6NKPvT73L88Q4UEbiDH+//AsbSkJVscXCzAAAAimVYSWZNTQAqAAAACAAEARoABQAAAAEAAAA+ARsABQAAAAEAAABGASgAAwAAAAEAAgAAh2kABAAAAAEAAABOAAAAAAAAAJAAAAABAAAAkAAAAAEAA5KGAAcAAAASAAAAeKACAAQAAAABAAAB/qADAAQAAAABAAAC/gAAAABBU0NJSQAAAFNjcmVlbnNob3RR2nitAAAACXBIWXMAABYlAAAWJQFJUiTwAAAB1mlUWHRYTUw6Y29tLmFkb2JlLnhtcAAAAAAAPHg6eG1wbWV0YSB4bWxuczp4PSJhZG9iZTpuczptZXRhLyIgeDp4bXB0az0iWE1QIENvcmUgNi4wLjAiPgogICA8cmRmOlJERiB4bWxuczpyZGY9Imh0dHA6Ly93d3cudzMub3JnLzE5OTkvMDIvMjItcmRmLXN5bnRheC1ucyMiPgogICAgICA8cmRmOkRlc2NyaXB0aW9uIHJkZjphYm91dD0iIgogICAgICAgICAgICB4bWxuczpleGlmPSJodHRwOi8vbnMuYWRvYmUuY29tL2V4aWYvMS4wLyI+CiAgICAgICAgIDxleGlmOlBpeGVsWURpbWVuc2lvbj43NjY8L2V4aWY6UGl4ZWxZRGltZW5zaW9uPgogICAgICAgICA8ZXhpZjpQaXhlbFhEaW1lbnNpb24+NTEwPC9leGlmOlBpeGVsWERpbWVuc2lvbj4KICAgICAgICAgPGV4aWY6VXNlckNvbW1lbnQ+U2NyZWVuc2hvdDwvZXhpZjpVc2VyQ29tbWVudD4KICAgICAgPC9yZGY6RGVzY3JpcHRpb24+CiAgIDwvcmRmOlJERj4KPC94OnhtcG1ldGE+Cs5ne7wAAAAcaURPVAAAAAIAAAAAAAABfwAAACgAAAF/AAABfwAAoIhLC4goAABAAElEQVR4Aeydh39UV5LvywQlkFBCIBAgkUXOGQxjjCM455zGeTa8nU3vH3g7m9fZ47GNc7axccCRnHMSQoisBEI5B3jne+zLCgwYSR3u7a7rT1utVve95/zOpetU1a9+dckpc4geioAioAgoAoqAIhAWCFyihj8s1lknqQgoAoqAIqAIWATU8OuNoAgoAoqAIqAIhBECavjDaLF1qoqAIqAIKAKKgBp+vQcUAUVAEVAEFIEwQkANfxgttk5VEVAEFAFFQBFQw6/3gCKgCCgCioAiEEYIqOEPo8XWqSoCioAioAgoAmr49R5QBBQBRUARUATCCAE1/GG02DpVRUARUAQUAUVADb/eA4qAIqAIKAKKQBghoIY/jBZbp6oIKAKKgCKgCKjh13tAEVAEFAFFQBEIIwTU8IfRYutUFQFFQBFQBBQBNfx6DygCioAioAgoAmGEgBr+MFpsnaoioAgoAoqAIqCGX+8BRUARUAQUAUUgjBBQwx9Gi61TVQQUAUVAEVAE1PDrPaAIKAKKgCKgCIQRAmr4w2ixdaqKgCKgCCgCioAafr0HFAFFQBFQBBSBMEJADX8YLbZOVRFQBBQBRUARUMOv94AioAgoAoqAIhBGCKjhD6PF1qkqAoqAIqAIKAJq+PUeUAQUAUVAEVAEwggBNfxhtNg6VUVAEVAEFAFFQA2/3gOKgCKgCCgCikAYIaCGP4wWW6eqCCgCioAioAio4dd7QBFQBBQBRUARCCME1PCH0WLrVBUBRUARUAQUATX8eg8oAoqAIqAIKAJhhIAa/jBabJ2qIqAIKAKKgCKghl/vAUVAEVAEFAFFIIwQUMMfRoutU1UEFAFFQBFQBNTw6z2gCCgCioAioAiEEQJq+MNosXWqioAioAgoAoqAGn69BxQBRUARUAQUgTBCQA1/GC22TlURUAQUAUVAEVDDr/eAIqAIKAKKgCIQRgio4Q+jxdapKgKKgCKgCCgCavj1HlAEFAFFQBFQBMIIATX8YbTYOlVFQBFQBBQBRUANv94DioAioAgoAopAGCGghj+MFlunqggoAoqAIqAIqOHXe0ARUAQUAUVAEQgjBNTwh9Fi61QVAUVAEVAEFAE1/HoPKAKKgCKgCCgCYYSAGv4wWmydqiKgCCgCioAioIZf7wFFIMwRaGpqkvr6eqmqqpKSkhLp2LGjpKSkSNeuXe3zSy65JMwR0ukrAqGFgBr+0FpPnY0i0GoEqqur5dixY5KTkyMbN26UyMhIueyyy2TQoEH2eadOnVp9Tv2AIqAIuBcBNfzuXRsdmSLgVwROnjwpzc3NkpeXJ5s3b5ZNmzbJhg0bpEuXLnLVVVfJxIkTJSMjQ+Lj4/06Dj25IqAIBBYBNfyBxVuvpgi4BoHGxkapqamxXv5bb70la9euldLSUomNjZXhw4fLjBkzZP78+TJ48GDRcL9rlk0Hogi0GwE1/O2GUE+gCHgTgcrKSsnPz5dly5bJK6+8Inv27JGkpCSJiYmRU6dOybhx4+Shhx6ynn9UVJRoyN+b66yjVgTORkAN/9mI6O+KQJggUFBQYEP8y5cvl6+//toS/KZPn269e7z/7t27y4MPPigzZ860ZD9SAHooAoqA9xFQw+/9NdQZKAJtQgAy31dffWVD/DxPTk6W66+/3m4A3n77bYHtf9NNN1nDn5mZaTcCbbqQfkgRUARchYAaflcthw5GEQgcAlu3bpXXXntNduzYIRERETJs2DC57rrrbFnfCy+8YNMAEyZMkGnTpsns2bMlPT09cIPTKykCioDfEFDD7zdo9cSKgDsRIH/PY82aNfLf//3fkpubK3j0U6ZMkSuuuELKysrkxRdftDn/Hj16CMb/hhtusO9x54x0VIqAItAaBNTwtwYtfa8iEAIIUMZHGH/FihXyL//yL9azp26fXD7GH2b/e++9J9u3bxeY/yNGjJB77rlHRo8eHQKz1ykoAoqAGn69BxSBMEPAKeODzf+nP/3JGvpbbrnFhvMJ9+PxL1682Jb5HT161JbzPfbYY9bzDzOodLqKQEgioIY/JJdVJ6UInB+B2tpaK827dOlSeeaZZ6Surs569OTx+/fvbzcCP/zwgyX94fXz2t/8zd/YaMD5z6p/UQQUAa8goIbfKyul41QEfIQA9fuo9WH4//znP9vyvUcffVQuvfRSSU1NtR7/qlWrZOXKlTYd0KdPH/n7v/97odSvQ4cOKubjo3XQ0ygCwUJADX+wkNfrKgJBQoBGPBD6MPwo9iHY81d/9VfW8CckJFiPf8uWLVbY58svv7Q1/P/4j/8os2bNks6dO9vGPUEaul5WEVAEfICAGn4fgKinUAS8hAANeSjhI8f/6aefCsb+j3/8ozX80dHRUl5eLllZWXZj8P7770u3bt3k7/7u7ywHABEfSv/0UAQUAe8ioIbfu2unI1cE2oQAYX6a8aDY9+2339rwvuPR05K3oqJCDh48aA3/woULraF/8sknreFH5IcIgR6KgCLgXQTU8Ht37XTkikCbEDh06JD19levXm0JfP369bM5fIR6aMZDm96ioiJr+BHyoYMfmv2zDfmPfH9cXFybrqsfUgQUAXcgoIbfHeugo1AEAobAvn37ZMmSJbJ+/XrZu3evDBw4UJ566imZPHmyHUN9fb31+pcaDsB//ud/WiW/O++80xr+QYMG2UY+ARusXkgRUAR8joAafp9DqidUBNyNAF34PvvsM9ugp7i4WIYOHSoPP/yw7cbHyBH3wfg7df68BylfWP+I+KDmp4cioAh4FwE1/N5dOx25ItAmBHbu3CnvvvuuVeZDxQ9lvrvvvltGjhxpz4ecL+F9R9kPToCj7EdUIC0trU3X1Q8pAoqAOxBQw++OddBRKAIBQ8BpzgNzPzY2VsaMGSM333zzGVr8GH84AP/2b/8mcAImTpxom/Xg9WuznoAtlV5IEfALAmr4/QKrnlQRcC8CmzZtkpdeesnm93v37i3jx4+Xa6+91krzthz1unXrrLIfNf9DhgyxHIB58+bJgAEDWr5NnysCioDHEFDD77EF0+EqAu1FgFK+559/XiD5IceLN3/llVdakl/Lc/M+WP28D+Y/77vqqqsEgp8eioAi4F0E1PB7d+105IpAmxDAoD/33HNWvQ/vHYNOO17Y/S2PjRs3njb8ffv2tU16rr76ajX8LUHS54qABxFQw+/BRdMhKwLtQcAx/Dk5OZKRkSFjx46VOXPm2Ofk9jmo53e4AAcOHDjt8avhbw/y+llFwB0IqOF3xzroKBSBgCFA/T4eP2V9MPQzMzNt/r5Xr14Cy58DBT/+/vHHH0tBQYEl9E2aNEmuueYa9fgDtlJ6IUXAPwio4fcPrnpWRSDoCFCPT8vdmpoaq8ZHO94GU5+/bfs2+eD9D2S/8eQTExOt8Sdvj2Y/hh9vny58lPGtXbvWduuja9/IkSNsLf+AAQMlMjLSSvd27dpV0PeneQ+f0UMRUATcj4AafvevkY5QEWg1AoTsq6qqpLCwUI4ePSr79++XfGPIi4uPWx1+avmLT5RYHX4MNwac5jstQ/1sFE6cOGEFfWJioq2m/1DD7u9riH4p3VOkj8n7wwsgUkAjHzYDeigCioD7EVDD7/410hEqAhdEAGPNo6GhQSorK+2DRjvHjx+XI0eOmMdhOXL4kBw/VihV5SVSVVku1ZUV0tzUaDz1jtKpYwfp2OES6+kbZ1/EpPnJ9Dcb77+5+ZQ0NZ+0j4iIKImLT7SPWPOzZ2pvW9qXltbHqvklJSUaXYA4u4mgkQ9RAD0UAUXAfQio4XffmuiIFIFWIUB4HqU9DD2EvezsbJOfz5JDBw9JkWnBW1NVKR2kUaKNHe7WpZPERXeSrubRrUuEJMZFS2xMhERFdpLOnToa428ubax+88lTUt/YLNW1Rre/ql5KKmqloqZRqupOSkVts5RVN0nDyQ7S2WwGEhOTpK9p3jNg4ADLFyAVQDMfogCkDfRQBBQBdyGght9d66GjUQQuGgFHU7+8vNyG9A8ePCC7d2dJbk62Mfq5UnbimJxsqpPoiEuke3wXSUkwj8QukhQfI0nG4GP0reHvEilRERj+DqcNtTX8DU3G8DdIuTX8NVJSXms3AMdKa6TwRJUcL6uR0ooaaZbOEtstUXqkpknGwEGG/DfEigGxGUgybXxJI0AWVA7ARS+tvlER8CsCavj9Cq+eXBHwHwK0zz1mPHqkd1csXy67du2SgsICaaqrkviYS6RnYpRk9IyTvj3ipHdKrCTERlsDH2mMfIQJ8UcYD5+fnYzBPx3q/2W4P4f60ew/KY1NzdJgvH/nUWs2BDV1jXKstFoO5JfKocJKOXK8WkqqTHOfpo4Sl5Asgw1ZcLSRAqbVLyJBXbp00dC//24FPbMi0CoE1PC3Ci59syIQXATI5UO6Ky0tlfz8fKuqt2PHNtmwdo0U5R+WiI7NktwtSvr3TpCBfRJlsHn069nNePtdpYuJ9fsi9M4YiAiUVdYao18u+/PKJOfICfOzVA4Xlkl1QweJjk2QjAGDZerU6TJ8+HAb+k/u3t1uACAR6qEIKALBQ0ANf/Cw1ysrAq1CAINLPh+Dj97+5s2b7aMg77DppVsjvRIjZUJmTxnS1xDvkmJtOL+ryd/HRHW2nj4kPl8dlkxoIgF4/tW1jVJZ0yBFJvyfm1ciew6XyvbcEimvE4lPSJJBg4fIjOkzZJRp6YtSIGWDeigCikDwEFDDHzzs9cqKwEUjgKGFsV9UVGRD+ytXrpRdxtPPO5wrnU7WSobx8EcOTJGpI/vIwLREQ9yLFEL6gTwqquvl6PEK2X3guKzZcVSyD5VIseEBdI3vLiNGj5cxY8fbhkCoBcbHx2v5XyAXR6+lCLRAQA1/CzD0qSLgRgRsaN2w9qnF/+mnn2T9+nVCHX5jTan07xEjmf3iZfSgntb4JxviXmx0hGXodzAleoE8GptOSm19o5RW1lnyX/ahYlm/O18OFFRKeX1H6dk7XWbNmiUoAI4YMcKWAAZyfHotRUAR+BkBNfx6JygCLkbA8fQLjWzulq1b5Zuvv5bsrB1SX10qvRI6yxTj4Y8d3FMy05Ml2bD2yeEH1tz/GryfSwGb5EhRhWzcnSeb9+TLlr2F0iAxMmDIcBk7boJVABw8eLAK//waPn1FEfA7Amr4/Q6xXkARaBsCGH1y+nj6P/7wg5HPXSPbtm2Tjs2VMnFoiowZ1F2GZXSXtO5xEvtLaD/YRp+ZmmHLSfO/mroGW/6Xc/iEDf3vPlgqR040SFLPvnLZZZfJlClTLPEvJSWlbQDppxQBRaBNCKjhbxNs+iFFwP8IoLFfXFwsW7ZskUWLFknWzq2mVK9c+veMlnlTBlpPv1dyrBHgca9ULpuXopJq2bGvyIT982TF1kNS1RgpgzJHyoSJk21XQDx/Vfrz//2kV1AEHATU8DtI6E9FwGUI0CRn3bp1snr1alOnv8wQ90/I5GE9ZPzQHjJ6YA9JS4mT6MjOVnLXZUM/Yzh1pu6/vKrOkP1OyLItB2Xn/hLJK2mU3umD5YYbbrCdAR2lvzM+qL8oAoqAXxBQw+8XWPWkikDbEXC66iHI8/nnn8vmjeukKO+g9E7oJPNnDTYle73E7Z7+uWaP2t/WnEJZu+OI/LTxoDR37iYzZs2WadNn2rB/X9P0B3U/X2gNnOv6+poioAj8jIAafr0TFAGXIUBXPcr21qxZI++8847kH8yWQb27yrjB3WXW2HQZkJbgCU//bFjx/BH92bq3SBYt3yM5+dXSMcpUJIybKHfeeZeMHTvWlvgh76uHIqAI+A8BNfz+w1bPrAi0CgHy4TwKjEDPZpPXX7VyhXy75Gvp0FAiV08bJNMMgz/TkPko2WvLcdKo7SG/S/MdjHC9eSDDy+/85G+U5EEoRLIX/f5uXaMk3jy6dfWNLgDzO5BfJt9v2C/rduXLzgMnpEfaIGv4p02fLr1795a4uLi2TE8/owgoAheJgBr+iwRK36YI+BsBDC5h/h3bt8sHH7wvmzaslbLiAhnQM0punTtcxg01fe/bIcyDoUdkp7i8RgqKq6zWfol5fsJ03qMBT5mpv6+orpO6+iZr+FMSuxp9gB4yyvAJRg7oYRv8+AKDMpPvP1RQJmt35sknS/dIRWO0TJ4yVabPmCmzZ8+W9PR0X1xGz6EIKALnQUAN/3mA0ZcVgUAjgAb/iROm9M2E+Be+/roczt0lGaldZKKR4cXjH9QnqV11+o7BzT1aKtmHi+WoqbMvMd31zjD8phMf0QA8876p8XLp2H4y0zymj+orfY3mvy8Oogo1Ruhn694Cef+7XZJ9tEqi47rLmPGT5LbbbpdRo0ZpyN8XQOs5FIHzIKCG/zzA6MuKQKARIK+/Y8cOWblihSxevFg61BfLglmE+NOsDG9it5h2ifMcPVZh6umPyMasfGN0CyXP/G477rXovke4n5QAof5+fjL81Pg3N5+yXv/KbYdlfVahbMs9IT37DpEHHnjAdvRLSkqyJX6BXgO9niIQDgio4Q+HVdY5egKBffv2yTfffCNrVq+U3Tu2Sq9up+S+a8bI5OG9fxboMS1023McNOH1pZsO2Hr6nbnH5ITR0e9Me14epkVvk2nBW248/sqaeqkxjXdSu8f6xeN35lBqUgy5pqMfxv/jH3fLJTEpcsuttxlZ30tlyJAhgvHXQxFQBHyPgBp+32OqZ1QEWo0AoXWEel579VXZtnmdabxTJSPS4+Xm3w2TEQNSpLPprNde7f0800BngxHRyTpYLPnHKy2ZLyEuWhJ/eWDw2RBQb38gv9QS+/wR6nfAIdrANdfuOiqvfr5VCqs6GlGfKba8b86cOUIzHz0UAUXA9wio4fc9pnpGRaBVCDQ2NgoqfWuMUM/zLzwvh/ftlBEZCUasJ1XmjM+QjF7xrTrf+d5cYjzsnCMnpMDU01cakl8Ho+v/v4Y/SopKq2XZ5oOyflee3QAgDuRPw086gQ3PNpN2WPjVNsk6Ui1dEnrK2PGT5fbbb5eRI0dqXf/5FlNfVwTagYAa/naApx9VBHyBQEVFhaDSt3z5cnndkPpqS4/IgpmDDKGujwztZ5rvtLF87+yx4WFX1TZY1n6j6fZHOx8b6u/UwYb7KbP7Zk2OrNp+xErs+tvwMz6Mf+7RElmydp9s2FMkuQU1MmDoaHniiSeMot8UJfmdvYj6uyLgAwTU8PsARD2FItAeBAoLC2Wr6by3YsVy+WrxF9Llkgq5/9oxMs0w6bsbox8T1bk9p7/oz8L0/2JFttHTPyw7jbZ+lJ89fmdgKPptM4p+bDiWrM2VhNSB8vjjT9gWvuT5o6OjnbfqT0VAEfABAmr4fQCinkIRaA8Cubm5smTJElm7ZpXsMY14+iSIPLhgrEwc1ksiO3cKmBZ/sAw/UYgiY/wh+b22eKs0dk6yZX2XXqokv/bcV/pZReB8CKjhPx8y+roiECAEdu7cKe+++65s2bhGasqKZFifrnL3VSOtcE4gdeuDZfipJqg1df2rjcf/7Ifrpbg2Sn532VyZadj9kydPlrS0tACthF5GEQgPBNTwh8c66yxdjMCmTRvl5ZdfkqxtGyUx5qSMHZgo82cOkSEmvx/II1iGH4Jfs9EOoOLgxU82yeGSUzJ81DiZMm2GXH755dK/f/9AwqDXUgRCHgE1/CG/xDpBtyKAwUOmd+3aNfJf//Vfsn/PFlvCN8ko9c02bP50I6ATyCNYht+ZI6JCC7/cJnsL6iSpZz8ZN3Gq3HjjjZKZmem8RX8qAoqADxBQw+8DEPUUikBbEGg2zHpK+VYYpb4//elPkn9gpynfQx63z+nWu205b1s/E2zDv/vAcSvks+NghTR26CojxkyS++6/T0aPHtPWKennFAFF4BwIqOE/Byj6kiIQCAQaGhqksrJSli5dKv/+7/8uZYX75MY5mTJzTD+flvFd7FyCbfj3/VLWt2nvcTlc3ChDho+TJ558SiZOnGh7FFzsPPR9ioAicGEE1PBfGB/9qyLgNwSqqqqEUj4M/0svvSSN5Ufl3mtGW8OflhIncaYTXyCPYBv+w0XlsmrbEdu1b72p6U8fPFr++Me/l+mmXS8kx0ASHQOJu15LEQg0Amr4A424Xk8R+AWBsrIyOXjwoDX8CxculI71x+TRGybYbnhJ3aIlxtTRB/IItuEvKK6UTXsKrPH/bn2u9Oo/Uv7v//1nq93fsWNHNfyBvBn0WiGNgBr+kF5enZybESgpKZGcnBxr+N9++22JPlkiT9062Xr8ePuR7WzK09q5B9vwF5VUy47cIlm59ZAsXrlXevQbJv/0T/8ss2fPNgqDna18b2vnpO9XBBSBXyOghv/XmOgrikBAECguLpY9e/bIsmXL5L333pOuUiZ/dcdUY/j7Shej1tfZdMwL5BFsw3+8rFog+K0whv+zpXskOW2oMfz/ZA1/ZGSk4PXroQgoAu1HQA1/+zHUMygCbULg+PHjkpWVZT3+Dz74QGI7VMjfYPjH9hV08unIF8gj2Ia/2LQJzjr4s+H/9KcsSTKG/x/+4R+s4Y+KipJOnToFEg69liIQsgio4Q/ZpdWJuR0Bx/Dj8b///vvG8Jf/bPgNq98aftM8J5CHGv5Aoq3XUgSCh4Aa/uBhr1cOcwQI9WdnZ1uP/3So//YpNsffJTqMQ/1bTKh/2R7p3ifzdKg/IiJCQ/1h/u9Fp+87BNTw+w5LPZMi0CoEIPfRoGepKed76623JKrphDxxyySZNbafLeWLighsaDvYHn9RCV36DLnPNOv5alWO9EwfLv/8z/8sNOshzN+hQ2AjIK1aTH2zIuAhBNTwe2ixdKihhUB5ebkcPnzYGv7XXntNLqktlIevG2/L+VISuliCXyBnHGzDn3e8wur1r95+VH7afEjSBowyhv+fZObMWdboax1/IO8GvVYoI6CGP5RXV+fmagSqq6uFPD8e/wsvvCB1pYflzitG2lB/v9RuEt81KqDjD7bhP1RQJss2H5R1uwtkW26J9B86Vv72//wfmTZtmtbwB/RO0IuFOgJq+EN9hXV+rkUAnf6amhpbzvev//qvciIv23blmzG6r4wYkCJ4/YE8gm349x4+IV+u2itbck7IsUqRoaMmyKOPPiYTJkwIJAx6LUUg5BFQwx/yS6wTdCsCdOajUc/KlSvlX02TnsP7dpgGPb1k2sg0mTIiTZDtDeQRbMO/M/eYvP/dTtl1uEo6xiTKqHGT5a677pKRI0cFEga9liIQ8gio4Q/5JdYJuhUB2vLyWL9unTzz7DOyb/dmGZAaIxOGpMjlkwZI/94JAR16sA3/5uwC+cuiLbKvqEF6pw+WiZOnyvz5C2TIkCEBxUEvpgiEOgJq+EN9hXV+rkdgy5Yt8vprr8qOreslpkOtjMyIlxtnZ8qwjO4+HXvzyVPS0NgkVTUNUlJRK7X1TWec/1BhmSw3pXRbjAHed6REIk1VwbihqTJ2cKqMGdxTeiZ1PeP9qAsmm3RE12hK7S6RDqaRTluOk2Zcjc0nZf2uPHn+4w2SV95Bxk+cKtOmz7DiPenp6W05rX5GEVAEzoOAGv7zAKMvKwKBQiBr92756OOPZdP61XIs/5AM6RUlD84fK2OH9PQpqa22vlFOVNRJ7pETsn53nuQbFn3Lo6yyTg4WlAvNck6U10onY8x7JcdKqnn0TO4qsTERLd8u/VLjTelhugxMS2yX4FB9Y7NU1tTb5jwvGsNf1tRFrrrqGpk5a5aMHz9eUlNTz7iu/qIIKALtQ0ANf/vw008rAu1GwOnQt3rVStlojH9q12Z5+PpxMnl4msRYzX7f1K9XGk8/nw54WfmmCU62QKZredQ3/BwNqKlrknoTGcCB5/rO4+zeARAQ75g3SsZnpppNQdubCpVX1Qsteanff2fJDrkkpqfcfffdpivfLOnfv78kJAQ25dESE32uCIQiAmr4Q3FVdU6eQsBR8FtupHs/+ugD0563WO66cpRMN+z+3t1jrZiPLyZUXl0vR4yBXb39iHzwvSHR5R4/47QnDd+gqalZSAnwIHBPCL+j6RnQyYjnnF1HP96kAR6+frxMG9VHutFNsI2CQ3nHKmSdCfOv3nHUGP+j0qPvUHniySdN/f5MiYuLExr06KEIKAK+Q0ANv++w1DMpAm1CgJI+6vlXrFghr7zyZykt2C+XTexn2f1jz5Fbb9NFzIeqahuE1rfb9xXK9+v2y/680raeyn5uaHqyXH9ppowa1EOQGI5oZTfBU+YskBuzDxXLF8uzZXNOsRyrOCVDR46XRx97VCZOnGRlelWxr13LpB9WBH6FgBr+X0GiLygCgUWgqcmE1uvrZf36dfLyyy/Lvqyt0jc5UsYbdv/V0wbJoD6JPhlQkyHQ1ZlwPqF15HGrzUagPQfhfSIS3WJN5zwTEejQoXXkPiIMzc2nZNOefHn18y2SU1gvvfoOsGz+66+/QTIzM22U4exIQ3vGrJ9VBBQBETX8ehcoAi5AAM93586d8u6778jmDWulqrRQhvSOkdsvHyGjjdcf2bmjIdv5JtfvgunaIUA2LDFkQ1IPr32xRUobo2XOnLkyw4T4p06dKmlpaW4Zqo5DEQgpBNTwh9Ry6mS8jMChQ4dk+fLlsmrlclm7eqUkRNbL3VeOlCkj+0j3IGj3+xvLYybtsGPfL015VudITGIfufe++y2pr1+/ftKtWzd/D0HPrwiEJQJq+MNy2XXSbkSAbn05OTlWye+jjz6SurI8mTuhn1Hx6y2jTR69h6mjJ+zduoC6+2YKcbDRkAhzTFkhXINNe4/JwaJayRgySh588EGZMmWKxMbGKqnPfUunIwoRBNTwh8hC6jS8jwB5/srKStmwYYO8+cYbkr17q8RHnZKxg5LkhjmZMjwjpV1COW5BCJ4BmgEbTVnhe0ai93Bxk/TqZ3L7k6bKggULbG6/c+fO2obXLQum4wg5BNTwh9yS6oS8ioAj4Zu9Z48sWrRI1q5ZJQf27ZFeCR3ktrkjZNLw3tI9PsbW1Xt5jsXlNbLHMPnX7MiTr1bnSnPnRJl7ucntz5hpG/L06tXLq9PTcSsCnkBADb8nlkkHGS4IYPyduv6VK5bLZ59+IjUm5H/p2L4y1eT6J2b2ll6GSe/Fg7nB5M8+dMIICO2VjdlFkldcL+mDhsudd91tQ/zJyckSExPjxenpmBUBzyCght8zS6UDDRcECPmXlZXZkP9bb70p+/ZslyTToXdkRoJcPnmAZKZ3t0p5EYbp75WDmn3KB4+VVpvyvQL5bOkeOXKiUbqnms2MCfHfdPMtMmLECFu3r+V7XllVHadXEVDD79WV03GHLAK0621sbLREv++//17WrV0tWTu3SreIBpk3ZYBMGpYmQ/olSVI3b3jGjlDP4cJyWbH1sKzdedTm92PiU+VKo8k/3YT4R40aJT17+rY3QcjeIDoxRaCdCKjhbyeA+nFFwF8IoOa32zTwWbNmjSxZskRKjx2WIWmxMmZgsmH697Fte2ORynWx5094v7quUYrLaoxiYJF8ty5Xso9WSv2pSBkybJTcdNPNNq+vIX5/3UV6XkXg1wio4f81JvqKIuAKBAj5l5eXW+OP4d+6eYMUHD0g3U133DnjM2RCZi/j+SdLsiH8ufFwcvqHjKe/atsR03b3qGw2LX87RCeafP4MmTRlqkyePFmo2UePv2NH76Qu3Ii3jkkRuFgE1PBfLFL6PkUgCAhgPPPz842c73pZu3atrFq1SqqNqt+g3l1lREaijB/ay3r+CXHRlu3fgTr/IBf6nzR1+g2mTp9ugMdNTn/XgeOydNNBycmrlNqTEZIxYKhcc8011tNXoZ4g3FR6ybBHQA1/2N8CCoDbEaitrRXEfQj7//jjj7J962bJP5wrMZ0ajLBPTxk7JNV6/316dBMIfx1bqZnv6/lTp19hOgHmHCmxcrzbcgrt86jYZJk0ebpMmDT5tNGHwU/Nvh6KgCIQOATU8AcOa72SItBmBBzPf+PGjdbr/+GHH+R4wWHplRQtQ9OTZPJwCH/J0tOo+yWYpjnRkZ2lc6fAafszvvqGZqmoqbfMfYh8uw8Uy4asAikobZCOkV1l4OBhMm/ePBk3bpwN76skb5tvB/2gItAuBNTwtws+/bAiEDgEHM9/06ZN8sEHH8iWzRulqrxEIjuelNTucZKZkSxTR6TJsIzu0jslVuJM97xAlMZh9JHhJay/52CxJfFtNB33jhyrkvrmjtKzVz+ZNHWajB07XoYNGyYI9KinH7j7Rq+kCJyNgBr+sxHR3xUBlyJAiV9NTY3g9b/55puyefNmaTAEwOYm0173VLOkJETJqP6JMqRvomSkxkuPxC4C679rdIR0ie5s0gCdxBccAHL4TabksK6+SapMbX6lCeuXm8fRogrj5R+zjXe25RRJo0TKwIEDTVh/olHmu9zW6aekpKhAj0vvLx1W+CCghj981lpn6nEEYPgfPnzYhvrfeecdKSwstB50ly4xUnzsmJSXFUtdValEmQhAz+RYSTfGf3CfRBmQliAZvRNs3X/nTu3nAEDcq65tlMITVbbRzj6Ty885WmINP17/CSPJW15VJ33T+8v8a+cbKd4ZMnz4cEk1nr6y9z1+E+rwQwIBNfwhsYw6iVBGAEGf5uZma/Rh9lPXv3r1amtEr7jiCkk1wjeFRUVy5MgRyc3NlbKSYrnkVKN0i+4gfZKjpF/PWGv4eyR0tZ5/lMn/QwKMMJsAfsIF6GAIgUQDnMNE74287klpajKd9My1Gxr/90FdfllFreQXV0luXqkcOV4thWWNUtt4iXSOiDKRAMPmNxoEhPSvvvpqmTlzpowZM8YK9Djn15+KgCIQPATU8AcPe72yInBRCDghfkL77733nuzcudPm7jMzM40Azk0yaNAgqaurs8b2wIEDkrtvn+zLyZb8o4ek9ESRnGqqsyH/+NhoSTZqf0ndooXyv0T7iLJ/i4roJJ3MRsAaf2P0m81mo76xSaprGm0Yv6SiRkrKTXVBRZ3x6M1P49VXmjB/XeNJie4SJz1795M+/frb0H5lZZUsX77cViL07t3b1urfeOONNjoRCM7BRYGqb1IEwhgBNfxhvPg6dW8gUFpaKvv377de/kcffST8PnbsWJk2bZrMnTtX+vfvbydSVVUlBQUFkp2dLRtNa19IgJu3bDEiQGWSmJAg3eK6GMJfJ+kaxaODeXQ0mv+dTP1/J4mK6GwMv/H88fpPG/5mqTEh/eq6JmPkTT6/7qRU15+UmvpTxuCfkk4REQIzH89+8ODBZgMy2P4kJfHdd9/J9u3b5ZhJQZDnv/fee2XSpEkSGxtrIxXeQF5HqQiEJgJq+ENzXXVWIYIAjPmcnBz5+uuvreHPysoSCHK33nqrNfx9+vSxxpfpNjU1Ccz/o0ePytatWy0XAMU/NgRjRo+W5OQkqa+rkZrqSqk01QDVVRVSa8iCzU2N/xvqJ9pvDP8p/uOneXSOiJQuXeMkNi5eYrslSFx8oiQkJEnP1FTJyEg3IfxU83u8xMV1s4Ydw79r1y473m+++cbW6ePxE/Jng5CUlGQuoocioAgECwE1/MFCXq+rCPwGAoTvMaJ47u+//7715KOiomS0MeK33Xab/QlZrlOnTmecCcMPD2DlypWydOlS+/crr7xS2CRUVlbazn8nThRLqREFKjPnr62tE3gEbDJ4cBCS79ixg/1sly5dJDExUZISTWMg0zYXXX02H3j6KO8lmGgCIjwdOvysG1BdXW09fXgIb7zxhn1Ojn/q1KkyZ84cG6HgvRr2P2PZ9BdFIGAIqOEPGNR6IUWgdQgQJiefjwH/6quvbMc+DCch/vHjxwv5c/Ttzzage/bskUWLFtm2vsj9pqenyx133GFz7EQF4AzQB6C+vs4a/YaGBvsaf2MDwMF5MeaRkRHmESVRZoMRGRUpEcb7Z7PBIzrayAQb5b0IE/JnDM44OA/nJ9T/4YcfyrZt22wkAmY/IX/Gruz+1t0L+m5FwJcIqOH3JZp6LkXABwjA4MdwEuInV77B5Ot5nmpC63j6U6ZMsc/Jl7c8rJCO+SwkwNdff91K/Hbt2tUq5fE5DG/LAyOPkXY2A1yXBwYcw08kAaPOz7Z46AcPHpRly5bZlAPVCIT477nnHlvex1zOHn/LselzRUAR8B8Cavj9h62eWRFoEwKI9Jw4cULWrVsn7777rmBACasjdUtzG9j8eNtnh/gx4KQHCLH/z//8j831T5w4UaZPny6zZ8+2nn/LATmhfX6eK9SPsXcMvuPNt/z8bz2vqKiwJYZELN5++22btiDPT10/YyL1oIcioAgEHgE1/IHHXK+oCJwTAccQI8yzY8cO6ylD6sMLh72PwZwwYYLdBJzrBGwYSA/gZb/44otCrp1yv0svvdR6+927dz/Xx/z2GhsRyIYoDRKBIAURHx9vKxIg+40YMUJD/n5DX0+sCJwfATX858dG/6IIBBQBvG7y7+T1KduD1FdcXGzJcOToKYcjXE5e/VwHojl08MPw83ne9/jjj1vDj9GHpBfIw0k97DO6AqQsCPczPqIX9913nyX7XWg+gRyrXksRCCcE1PCH02rrXF2NAGV3ePsYSEL8sPNhzU+ePFmuu+46G+J3Qu/nmkjLnPr69eslLS1N/vCHP1gyINUAZ6cGznUOf7zmbEhWrFhhSYdsCObPn2/L+/D6qRDQQxFQBAKHgBr+wGGtV1IELogAOvzkw3msWrXKeuzXX3+9zYcPGTLEltFdKNdO7Txd+yD3kV+nE94DDzxguQHnYv9fcDA+/KNTlghnYeHChYK6IPl9NjTMD87Cheblw6HoqRQBRcAgoIZfbwNFIMgIEN4nH09e/7PPPrPlb9TbI3Zz55132rx+XFyczYefa6gOO59c+p///GfZu3evZf3DB8CwDh069FwfC9hrDneBjQnlfVQpEAVAapjyPgiIzI8KAj0UAUXA/wio4fc/xnoFReCCCJSVlVnmPqI7jiQvIj2U7c2aNcvm+FsK5Jx9Murw2TgQKXj22WdtugBCH2RARHPcwJ7H+CMnjKIgIX8UBanlh3zIONkEqKLf2SurvysC/kFADb9/cNWzKgK/iYDjqTutdsntEw6n9t4J8WMQUc270EF0AKEeSH14/EQQiBRg/C/m8xc6ty//BoehyHQRpNzwzTfftF4/JYpsTig3zMjIOF0+6Mvr6rkUAUXgTATU8J+Jh/6mCAQMAcdTJycPmQ/GOwQ8CG94wsjcInLzWyFwCIF40nTE++KLL2zJ3FNPPWWjBcjpQuxzw+HoDKDoBxeBnwgVOYp+bAJU0c8NK6VjCHUE1PCH+grr/FyJAKFvuuzl5uZaIt8nn3xiNfTJyyNu87vf/c4K7lwM6Y1zfPvtt1afn1JAPOenn37aetIXShEECxiqD3766Sc7b6oP0P4n18+8UfQj4qGHIqAI+A8BNfz+w1bPrAicEwGH7AYJ78svv7QGm+c9e/a0krxo8aPDD+HtYg48Z0LnaOKTPhg1apTcfffdNmLAxuFiNg8Xcx1fvYfGQ04FwzvvvGMrENzGSfDVXPU8ioAbEVDD78ZV0TGFNAKUt+Htw8Kn6x5GH3GdsWPH2na7GO6LCXmj6Ec+H14ASn379++XgQMH2jK5q666yub33QgkY26p6JednW15DMz/hhtusKkO0huUIOqhCCgCvkdADb/vMdUzKgIXRACCG945tfotJXkJdWP8ULa7kFCPc3I2EFQEwOZ//vnnpcS02b3iiiusMA4d8Aibu/EgKsGmpaWiH3K+RDkcRT8IjfQj0EMRUAR8j4Aaft9jqmdUBM6JAMYOMhseLuVsePx46Ri822+/3Zbv9ejR46Jz3E4ZIGx+Qv0c999/vyX1ofjXrVu3c47DLS/SVwBCo6PoR0piwYIFduOC+JAq+rllpXQcoYaAGv5QW1Gdj2sRcJroQGiDxU+emxp7vHNC8wjttEZaNy8vz4b58fh/+OEHS5JDope6+IupBgg2UE7EgjJGFP0g/aWnp5+WKAYPt/ETgo2ZXl8R8AUCavh9gaKeQxG4AAKQ+QhvU3bnhPjx+DnmzZtn2eyUsrU2NE/kYPHixdb4YzSp2X/iiSes4QymRO8FoDjjTw4ujtQwERDSFczjnnvusYp+XtjAnDEp/UUR8AACavg9sEg6RG8j4JDwkOR1uu5B7oOIR4ifrnutzWljNLds2SJ/+ctfbDc/hxzI+dAB8IqnzDxQ9GMuRC4oS4TYePPNN9vIBRj9loCRt+8OHb0iEHgE1PAHHnO9YpghgLIexg1JXlj8hOj79+9vPXNy2jTguRgynwMbQjhwBTgfEr2kDBD7oQzwsssus3X8znu98NNR9IPs+NZbb1lFP/QMUPSjzI/wf2vw8cKcdYyKQDARUMMfTPT12mGBwKFDh6ycLoaNfDbh65aSvGjUt8ZDhytAkxuU+l5++WXBcNK2F11/L7a5dRT9SIM4in6U/DEXQv6kQbS8Lyz+qegkA4SAGv4AAa2XCT8EHEleBHZQ5iPUj9GGtIaWPqS+tuSwT5w4YSsDMPwYSkLjDz30kDX88AQ4pxcP2vU6in7k+1sq+iFupIp+XlxVHbMbEVDD78ZV0TGFBALk8SnXoykNhh/FOow9Xfdg3iOtizY/YezWHEQQKIEjgkC4n7p/JHrRAaD2HZleLx7gw9zI9aPoR4qE5j1Ol8G0tDQvTkvHrAi4DgE1/K5bEh2Q1xFwuu7BtMeIEd7Hg0WC98Ybb7S5+AEDBggNdFp7QIbLysqSjz/+2J6TkH9mZqY8+uijQl6clEFr0gatvb4/3094n4gIWL3++utW0ZA0CKF+UiM089GQvz9XQM8dLgio4Q+XldZ5BgwBQvx4q3Tdw3NFlY76/JEjR1rDP3r0aCvR+1td984eMEafx4YNG+Sll16yGwAEfyZOnGilbtkAeNXoM1dH0S8nJ8ey+5EipmQRT99R9GOzpIp+Z98Z+rsi0DoE1PC3Di99tyJwQQQwzNSiY7wIxX/66ad2E0DJHqF4Qtew1NtyOB4x533mmWdspQDn5EE4vG/fvm05res+g6IfXQZJZ3z++ec2FQJ5cebMmYKiX/fu3V03Zh2QIuAlBNTwe2m1dKyuRsDxyPFSv/jiCxviR4+eHDz19ZSn8byt5DuiCPn5+ZbNT/0+kQXOC5sf0RvC4qFwOE2MHEU/8v7wISZPnmyrFyh/9HJkIxTWSOfgbQTU8Ht7/XT0LkKAjnMQ+gjFv/fee9brRy+fHPUtt9xi2+VCvGtr1zma+1AZ4HjCbCDI7WP4MfoxMTEuQqPtQ2EDRdgfrx/dg02bNllcMfiU98FlgOHf2lRJ20ekn1QEQgsBNfyhtZ46myAigCRvSwU6DBjd8hDWQWCHkrT2CNFQIfD9999bJj8lgjTiefLJJ20k4WLa+AYRmlZfGuyIbmD0SW189913lifBBoq0BuRIVfRrNaz6AUXAIqCGX28ERaCdCDhKepD4aLOLsXIa8Nxxxx02RE1eGlndth4YQrx9mvts3brV9rNH4ObBBx+0rXxDMfSNMBGKhxh+FP3QL4DISMqEKAdcifZspNq6Fvo5RcDrCKjh9/oK6viDjkB1dbUQhoeFjmE+evSoNUqEpK+88koryYtHTs1+Ww6MPnr/5Lyfe+4528fekfy99tprZfDgwW05res/4yj6sdEh5M/Gh9eojnAU/dqTOnE9ADpARcBPCKjh9xOwetrQRwCDTC7aaTKDZ0ooHu8bgw/b3gnxtwcNdPkh9pHbh81fXFwsl19+uWW54wH37t27Pad3/WdR9KPtMPgSTUlJSZF7773X4ks5oyr6uX4JdYAuQ0ANv8sWRIfjHQTwwmHWk29HOpf8PgYahj1sezx+X9Sdl5WVCWJASPTSt56NBYaPBjbk+ePj470DWhtGyvwdtUIiKkRY5syZY3P9MP1V0a8NoOpHwhoBNfxhvfw6+fYgUFFRYTvtOV338Pwx+uSgr7nmGhvix0i3N/8OyQ01Ozx+SG4w+J944glr+DD6pBFC+UC/AGNPtQSKfmgkwJlA/pj6fhT9NOQfyneAzs3XCKjh9zWier6wQIAwP16401QGo0TpHpK8hPgd1nl7jT5gYui+/PJLWb9+vdX+J7//2GOPWdIgBq+1Wv9eWyBH0W/v3r2yZMkSy6UAkz59+pyh6Ic6oh6KgCLw2wio4f9tjPQdisAZCBDeh3EO6czpusdrqMrB4scThcHf3jpzh0NAu9o33njDktsgCMIbuOuuu6wuwBkDC/FfWuoYLF682G54brjhBhv5QK5YFf1C/AbQ6fkMATX8PoNSTxQuCCDJiyIfXfdaSvLSdQ9vn7x7W7runY0fHALC3KQSIPURYYDRTioBch9RhXA6HIGklop+YADu8+fPP51aCSdMdK6KQFsQUMPfFtT0M2GJACFnDDEsc/LtGCAIfeTZb7rpJivUg7Ssr8h2jqGD1Pfss8/atr4LFiywpL5Ro0ZZQaBwWggnAkJZH8qIMPzhWaDod/fdd9saf19EWsIJU51reCKghj88111n3QYEnLI6iHZ03UOTn1IyjDAhZ35ieMi7++JAsIZc9rJly6w+AKmDRx55xDb6SU1NDcsyNox/Xl6eJTtS3keZH936br31Vhvyh//QlnbHvlgvPYci4BUE1PB7ZaV0nEFFAIODIYZgtnLlSvnss88s0xw5XsL7dI4jxO/L48iRI7Z2nevxQPL36aefttfz5QbDl2MOxLmcZkWkWlD0I/VCWR8pEGcdVNEvECuh1/AqAmr4vbpyOu6AIeCEmJHkpU0sIX7y7dSPU69PjtkfHnhWVpblEBBhoFUtIe2HH37Y6gPQ6CfU2fznW2DU+0iDQK4k5E8zH9YI/gMh/7Fjx2p53/nA09cVAYOAGn69DRSB30AAI4O3TzkdhiY3N9c2iIG9f/PNN1uD48uyOowYxD5y2K+++qqwAYA3wPVoUkP1gB5iSxtRSiTkzybgbEU/oiJ6KAKKwK8RUMP/a0z0FUXgDAQQ5sEIE25HQAdP25HkdUh2vhDqcS7qeLQYNNj85LSdigGa0/g6peBc12s/UfSDaMm6sCFD5Od3v/udDfdPmjQp5KWMvbZeOl73IKCG3z1roSNxGQJOkxg87q+++soaf4wwhvfOO+8UjEtycrLExMT4dOQYMEL7kPpefPFFG9bG00eil3p1rqmHWLnksxX94EEQGaH6gciIKvrpnaII/BoBNfy/xkRfUQQsAk5bWHL6dIdDOpe6cRrjzJs3z3bFQy6XfLsvD4w+eWvK+BAIonLg8ccft4bfHxsNX449kOeivJLNGYTLb775xqZi0FdgY3b//fdbwh8pElX0C+Sq6LW8gIAafi+sko4xoAg4OXYMPSF+2OM//vijFeW56qqrbNkYRDI6w/njIHztSAFv3rzZStPC5qeCoD3tff0xVjecE0U/1A3RViAyw0YM6WQY/hAiNULihlXSMbgJATX8bloNHYsrEMCLpGYfY0LXPYhjEPzoe3/bbbdZVr0/PUm8fXLWiAPV1NTYkDUeLGx1jJov9P9dAbSPBsHaUNJHZIYmPpRB0iwJXsS1115r100x8xHYepqQQEANf0gso07ClwiUl5fL0aNHraeP4cejHDp0qK0Tv/rqq61R8SWZzxm7E7qm4c/LL79sxXsoGSS1QM4a71WPXyPgRGhaKvqRpmHNKO/zVe+EX19ZX1EEvImAGn5vrpuO2k8IYEQItaMIB6ueUDvePWV7hNodZTh/eJA0+kGcBpY6Er3Hjx+3Kn0zZsyw3qv2nT//orNuEC8puWTdSJVQzuco+vlSSvn8o9C/KALeQEANvzfWSUcZAAQwvGi/E9r/6KOPZNeuXbaenn7vsPgJtftTMY9rE2mAzU/9PikHPFbY/JAKVYr2wjcBmyaMP4b/7bffltLSUhulcdQVIf35I1Jz4VHpXxUB9yGght99a6IjChICjiQvhmPRokW2LhwZWHLFGI++ffvaHLu/FPPQCyDCAJsfklpiYqI89dRTQu1+t27dlJ3+G/cFGyXy/XAj3n33Xbtxw9CjtcAGinbGvhRa+o3h6J8VAdcioIbftUujAwsUAk7XPRT58LbXrVsn27dvt4aX+nmMP94ixtefB6VoX3/9tSWpIQ9MWgE2PxsPX7T59efY3XRu1hGhJTZwrCO1/ffee6/tcdC9e3cbtXHTeHUsikCgEVDDH2jE9XquQwAGPypwTtc9OuKR1x89erRcd911VpIXkR68RX8d5KipIli4cKE1VrD3uf5dd91lPVYNUV888oT49+/fb7kS6C9QGTF37lxb3gdRslevXhd/Mn2nIhCCCKjhD8FF1SldPAIYXEh0eNh4iDThIVwMoY4Hnff69Olz8SdswzvR5YdfQDna888/bxsAwUjH07/iiitk4MCBbThr+H4ELGH1Q/SjvI8IAE2Uzlb081fKJnyR15l7BQE1/F5ZKR2nzxHA6GN0keSlzS6G4vDhwzaX73TdQ6QH5Tx/Hmw08FIRoHnhhRds9IGyQQRoIBQSqtbj4hFwyiKzs7Nt6oR1JQKQnp4u6CHQwpeIDmJIeigC4YiAGv5wXHWds0WAEHBxcbE1+JDBKOMjBzxhwgS56aabZMSIEQHJrTuhafgFsNEJ82OgYPMTbYiLi9MVawMChYWFZyj6wZOgLJNIDpoISUlJbTirfkQR8D4Cavi9v4Y6gzYiQOkXYjnUzTuSvHjahPcx+nj7gcitU8K3Zs0aO46lS5fa9rKQ+vD4KR+MiIho4wzD+2NEUqjUAFu4E+CM+iJkzWuuuea0EFN4o6SzD0cE1PCH46qH+Zydsq/du3fL4sWLbQkd6nyIvNxxxx226x7eYHR0dECQgl8At4CQNHKzGKcnnnjCjoM8NJsPPVqPgJPKgdlPRIdSSaI8dDiENOko+vmTtNn6UesnFAH/I6CG3/8Y6xVchgBCLzTgwROE9U1ImNAvbXZhf6PzjpdNyN3fB8aJRkCvvPKKrTunZHDcuHFWcQ7hIDX67VsB8MXTZ1MFeZOICpwNei4Q8qdMk3y/HopAOCGghj+cVjvM5+p4gBgCSvfouochwMjTzAVDQA/3lJSUgCBF5KGurs6OA4lexoUXiljQnDlzLBktIAMJ8Ys4ioisNxwKSjfB2FH0Q5gpECmdEIdZp+chBNTwe2ixdKjtQ8AxtEjy4ulTN0/pF6FfNN3xtAPJ9q6urrYNgGDz05SHMDTtZFHqYwMC0VCP9iPQ2Nj4K0U/UiiOToIq+rUfYz2DtxBQw++t9dLRtgMBuu5RrofnR9c96vcJp+P5XXnllbZePpChdSoKKCVEovfjjz+2kryPPPKINfyBKCNsB5Se/Cj1/EuWLLHrTyc/yiTvu+8+u/6q6OfJJdVBtxEBNfxtBE4/5i0ECPNTy/3tt9/aL368fbTwkeTF8KebGu9AN8E5ePCglQhmI0IOunfv3lail/FALKT8TA/fIUDZJMafKg4iPrD+L7/8cls9QQmnKvr5Dms9k7sRUMPv7vXR0fkAASR5yfPSvOXDDz8U2Px49iNHjhSEehDJwdAGkt3NRoRxMB7IfRglwvu///3vbZ4/kJEHH0DsiVOQ1oHYySbLUfRjs4XRnz9/vk35aBMfTyylDrKdCKjhbyeA+nH3I0BI/VySvHjWMPkRyYHBHygJV4w+6nJoCLz44ot2bBggdOSvv/56Qa5XD98j0FLR78svv7T4E3Uh2oNgEop+VFWoop/vsdczugsBNfzuWg8djQ8RQI4XYhdd73766SfbdW/Xrl2Wte903QuGMh5jgthHyPmZZ56xBD/EeqgqYDPi794APoTYk6eifJPoD6RKuiFS1eEo+qGhoIp+nlxWHXQrEFDD3wqw9K3eQoBSOULoeNYIuLAB4EsdFveCBQusy6yDWwAAQABJREFUOl+gQ/wgSNoB1UAkel977TWh2gDhICR6BwwYYLkH3kLaW6OleuJsRT+iLCj6odyIjoOmWry1pjra1iGghr91eOm7PYAAoXQesPbJoyPcgkIfuX6MK5K8fMmnpaUFZTYtNeQJOaPF/9hjj1mSWSAVA4MyeRdclJA/0SAInmwI8f7ZJFLWeeedd6qinwvWSIfgXwTU8PsXXz17EBBwvtgx+p988on1+FHqI5cLmY9cLiI96OAH44BZTnUBbXhJPTAuJHppw0t+ORCKgcGYt1uu6WwMEUxiDaiqoKQSRT/uD0fRj3y/HopAKCKghj8UVzXM50T+HG+fL/X33ntPIHDRjx0i3w033GBr9wNJ5nOWwzE41JC/8847gpAQ+X6qCyCXkYLQELODlv9/knKhNwIRIdYDnQeHZ+FwLVgPXRP/r4VeIbAIqOEPLN56tQAg4Hhyjja7I8lLiB/BHsRagvGF7rDK161bJ0j04vlDJiMC4eSWAwCPXuIXBBxFP5r3YPiJEKGdwAaMJj4o+/F7oKo9dGEUgUAhoIY/UEjrdfyOgPNFTvicbnd41JTyQZhzuu4h0hMVFeX3sZzrAnAM8Cphk8PmLykpkSuuuMIq9aHRrwIy50LN/69B+vzmm29s06adO3fadXAU/ZKTkyUmJsb/g9ArKAIBREANfwDB1kv5FwGnGQtd95DkPXbsmBXFIcR/2WWXWUleBFqClUOnwuDAgQOWzf/mm29aT/KBBx6whENK+DSn7N/743xnZwNG9IUNGYJKEP3mzZtnyZZsyEgT6aEIhBICavhDaTXDdC7kzmFpk68ljI7h50sczx5FNkL8MLaD3fSGEj5U4xjbjz/+KHiTTz75pDUwsbGxKhwTpPuXSExLRT+knan4QFCJro2U+qmiX5AWRy/rFwTU8PsFVj1pIBGgDh7ddcqyIPNt377dKuO17LpHyVywFdn27t0rX3zxxWnFuIEDB8qjjz5qSYdqWAJ5x5x5LbgXpImys7Nt2Se6DzRzysjIOK3o54b758xR62+KQNsRUMPfduz0ky5BgP7qMPcpyyJUizjLqFGjrAoeIVty/MFkZhORwLiwMXnjjTeEPDKbEEhk1I3D6tcj+AgUFBQIRD8iMnTxY41Q9ENVkU2aKvoFf410BL5BQA2/b3DUswQJAYwq5Cyn3SpGlRD6rbfeag1/3759JT4+Pkij+/mypCEIJ5OCgNR36NAha/QpGYN70L9//6COTy/+MwIo+kEGZQO5cOFCQfuBxkmsUzDaNuu6KAL+QkANv7+Q1fP6HQGHJU93O8h8NOIhZI63jxALHjV5/mC3tyUNQRQCid7nn3/e5pNpxjNr1izr7ffo0cPvWOkFfhsBp9wSRT9HZ4GOfhh/IjPjxo2zDH/uMT0UAS8joIbfy6sX5mN3JHlpdtNSkhcPDWIWBC0Y/MEM87NEeJHkjzH89IFnM0JuH/lgjD6KcXoEHwFHYAmSKNEZPH/C/lRbsJGEJEoESasvgr9WOoL2IaCGv3346aeDgAChczyxnJwc+eGHHyxZLisrS3r27GlD/Ojw0+YWprwbDohiGBAEhTAmlIf94Q9/sIYkGE2C3ICJm8eA1gJrxnqh5U+ZKNEZNpROj4dgCEC5GTMdm7cQUMPvrfXS0RoECJ1Te01pHF/MlF/hOY8dO9aWX6HOh0ENdojfWSwU4T7++GMhJUHIn/Kwhx56yDaDCYZ0sDMu/XluBGD4I/vcUtEPoh/3FyF/FP103c6Nnb7qDQTU8HtjnXSUBgEnFIswDyQ+PLKvvvrKlmLNmTPH6qwj1oO374aDnDHRCQz+K6+8YsP9EA8RhbnpppustoAbxqlj+DUCDmn066+/tmF/Nm/cV46iHwx/VfT7NW76ijcQUMPvjXXSURoEHPIVkrx40NRbswmg3tqR5EWkxy1fyHiOMMXZoMDmp1yMcDGNYHiQL9bDvQgQnaFihDTNRx99ZCszYPdT3of3r4p+7l07HdmFEVDDf2F89K8uQoDwa1FR0emue5TFQeCjyQ0sedjXbiDzOZBVVVVJYWGhJfW9/PLLVgoWkhikviFDhmhduAOUS39SNUJ+HzXI119/3cot9+vXzxJHr7nmGruGKrzk0sXTYV0QATX8F4RH/+gmBGBbQ47Dg6Z/Ouz4BQsWnCHJG2wGf0u82KTQgpexfvbZZ5ZsiEQvhj8xMdHyEFq+X5+7CwEiTERtKBNFcXHjxo1C50d0F2ijTFpJpZbdtWY6motDQA3/xeGk7woiAk7InLz+okWLhDprGt6gpgbZasKECVakh42Amw5Ih1QdsFmhUyDe4tNPP23D/bQKJjqhh/sRQMgHngYh/++++84q+iEQRcgfVUg2cXooAl5CQA2/l1YrTMfqlFdRW+1I8iJzi8c1e/Zs++VLyNVthhRv3xGCIWw8YsQISw5DWIge726KToTprXVR04angWYEGzgU/eBqsJbwNWirzAZUD0XASwio4ffSaoXZWB1WPDXVa9euPS2qAnnvuuuusyF+N+bKnRAx5YYvvfSSJYilp6fbjQrd3gYPHhxmK+nt6TqkUqI2b7/9to040RiKslFIpSj6qR6Dt9c43Eavhj/cVtxD83VC/NRT03WPUD9eMl+4NE+BWe3GHKtDCkNR8LnnnrPKfWjyw+R3U7mhh26FoA7VKSNlA+oo+rG29IDA8KPo16dPH6GDnx6KgBcQUMPvhVUK0zGSxydPToiVcip+x9gTYp07d64lWbkxXE5qAiIiEr2vvfaaLUO85557LKmP0sOEhIQwXVFvT5t1pZIEo89GlKoNFP0w/FSWYPzdeD96G3UdvT8QUMPvD1T1nO1GAC8LSV4EevCykORNSUk53XWPL1m3aqZDBoMBDhmMroGIvTz11FPWSGhf93bfGkE7AREoSkoh+sHd4J4kxM9mFM/fUfRT4x+0JdILXyQCavgvEih9W+AQqKurE7wrjCdNbWhwA2MfUtxtt91mv2CRUHWLJO/ZyDgbFngJPIf5jeGfMmWKSr2eDZbHfnc2pI6iH6V+KPpR3oeOP5s8NgN6KAJuRkANv5tXJ0zHhhofjHjq9b/88kuBSIUkLyF+5G75onWTUE/LZcIwQAJD8GX79u1C2R4bFsoOqUTAG1SPsCVi3nuOoh8bOkfRj0jAVVddZcv7WGuaRemhCLgZATX8bl6dMBsbuvYQ4/bu3WvrpZHkRTIVaVQ8fTxmnrul697Zy+OMH08fUh/5YMq+GPfll19uPf+zP6O/ew8Bh7zJOrPBO3jwoDhVG1dffbVV9CMaRcmmHoqAGxFQw+/GVQnTMVEvjTeFRCpd9/hC7dWrly2XQiI1MzPThlHdGuKnayDjxxN88cUXrdwr40bohfyveoKhcWM75Zrk+B1Fv7y8PLuxa6noR7RHD0XAjQio4XfjqoTZmJxyKXTtnRA/OVQ8aNj7lMGhzscmwM0HrYKJUCDRy8aFDcoDDzxg2fykJ7Tcy82r1/qxtSRxfv/995aHQmSK+xVeh1ZvtB5T/URgEFDDHxic9SoXQMDxoKjTp2wP1nRxcbEt13O67nmhDarTS4ByL4w/Hj4SvRiCLl26COqCeoQOAkSo4KM4in5sXEeNGmW5KPPmzdPUTugsdcjNRA1/yC2p9ybkdLEjZ0p9NAYUXXtqo1HoI8TvBYlbQr8044GbgDc4dOhQeeyxx2w3Ny+M33t3TnBH3FLR76233rKKfrwGr4MujJT5qaJfcNdIr35uBNTwnxsXfTWACKCIRl4cFj/e09mSvMnJya5nwpOuoPyQ9ru7d++2jVtIT6AwSLtgZfIH8IYK0KWcFBX3r3Pvcv8S4qeKgyoU2kZriidAC6KXuWgE1PBfNFT6Rl8j4AiikNfHU6brXmVlpdWyd7rueUHwhnJDiH18+T/77LMC0QtpXhTdaMFL9EKP0EWgrKzMElFJ8aA7gcgPzaNYf+4DjL9u/EJ3/b04MzX8Xly1EBmz84WJMh+5fchx1EFT/oYUKn3PyYu7vSzKSVWQ13/llVcEASI8feZAuJ+IhR6hiwAbWO4BuCk08UHUh6gVzXvgqJD3d6vuROiuis7sQgio4b8QOvo3vyDg5EadECm5fUr4unbtKtdff731lAYNGuSZPue0bN21a5cl9H366aeWyPfII49Yw4/MMMQ+PUIbAcL+iPosXrzYdpJEbRJZ6fvuu08V/UJ76T05OzX8nlw2bw+6oaHBhkPpukfZGzlxSt8gRd10003W60ekxyt10AcOHJCffvrJ8hOYE1/4SPSS43WztLC37yL3jZ5KFMSn4Kt8/PHHVnESQR/VcXDfWoX7iNTwh/sdEOD54xnRZS83N9fmxPmCRJcfIhw50d/97ndWBc0rOVHmQxniBx98IBh9OAq0DX744YdtqNcr8wjwbRCSl3N6TDiKfig3kq4iz88GYPDgwXaD6/bUVUgujk7qDATU8J8Bh/7iTwQcFjReERr85PZ5Tr07wid4yF4SumE+pC3Wr18vzz//vJ0L3j5f9JQhDhkyxJ9w6rldhgCCU+T7Kev8/PPPbZUHtf0DBw60TXy4L0j7eCWS5TJ4dTg+REANvw/B1FNdGAE8Irx9yt6o18fok9en3vnWW2+1JChC4xChvHCQsoDUBZv7mWeesWIusLkJ7UJQhM2tR/ghQFUHWg6E/H/44QdL9KOuHyGnjIwMVfQLv1vCdTNWw++6JQndARUVFdmSPQzlN998Y73lyy67zIb4Mf5I8npJ6IYUBWJDsPlp1oLHd/fdd5+uSFDJ1tC9ly80M8r5UPSjvPONN94Q7nt6NRDR0mZNF0JO/xYoBNTwBwrpML6O07WOMqclS5ZYjx9CHB6x03WvR48e1vv3EkwFBQWyZcsW69nRWwBD//jjj1uPn+dRUVFemo6O1UcIkP4h5M+9gaIf7Zk5zlb0c2uzKR/BoKdxMQJq+F28OKEyNEfTnJI9QvyU8ZELHz9+vO1jTq07RtJrX4Q05CFywbwo3yKMi+EnzI/+gFdSFqFyn7llHg6XBXIf0S3U/CD8JSYmWkU/SKxwWdzaXtotOOo4/IeAGn7/YRv2Z3bIbxCcUOUj9Pntt98Kr9PEhC9ARE5SU1M9hZXzxc6cEGzBo8PLI5x777332p+empAO1i8IwGchssV9j6IfG+A5c+bYXP/EiROt8deqD79Aryf9DQTU8P8GQPrntiPgsJyR5P3www9tuRtqfbCcITvx5YcXRCMTLx1OKBcvDone/fv320ZCePpXXnmlnZ+X5qNj9Q8Cjl4FZFZH0Q8yK5Eu7v+RI0eqop9/oNez/gYCavh/AyD9c9sRoKadPDhle4T4YTvTpxwDOX/+fFvu5iUyn4ME1QlsYCD1Pffcc7ZSgTptJHohKXotguHMS3/6HgGiQ1SvoOjHvwPSQ6S57r//fvvvwIsbX9+jpGcMNAJq+AONeBhdjxznsmXLbJ7TkeS94YYbTkvyJiUlebJ5CT0FECBibnhycBMeeugh25DHSzoEYXQrBnWqKPpBbKW8D0lnImHXXHONJYGi4w+xVQ9FIJAIqOEPJNphci0nxEkOnC86cuB0r4PER9c9Qp1ekuQ9e9mOHj1qyVoQt5DqRY8fiV7qtL08r7Pnqb/7BgEnQuQo+kFuJd2FoA+pIVX08w3OepaLR0AN/8Vjpe+8SAQgNZH3hs38ySefWElejD0hfkfEBC/Zq9KlMPgXLVpkRVpIX9BQ6Pe//73lLHh5Xhe5vPq2ViLgcF3oScF9Qxc/avu5bwj5w3VRRb9WgqpvbxcCavjbBZ9+uCUCkN7oTQ+TGW8YD4cvuW7dugkhfgRMyPF7VdiGfC1f4tRnI9hDRz6+sMnrQ9aiTlsPReB8CLBJJOXFv40ff/zR3jstFf3i4+PP91F9XRHwKQJq+H0KZ3ifjBA/hD6M/TvvvGPzmjD2YS/feOONtszNy54Nm5r6+nobyUCiF9U+IhlsaCjToo5fD0XgfAig6Ien31LRj3JW7p+5c+fahj7n+6y+rgj4EgE1/L5EM4zPhTd84sQJ25OcLzZy+2wCCO9Tr3/ppZfarntehog6bIhakPpeeOEFq9PPhoa50ZGPXL8eisD5EHBC/kSM3nzzTaHMlXQXG2MULMeMGWNLW70mZHW++err7kVADb9718YzI3MEbch905WMED+sd7T3CWVOnTrVPve6Utnx48dt5zXK+NAlIJrx2GOPWcOP0SeaoYcicD4E+HdCOoxqFxj+cGDo7Eh1y1133WU3yJSCev3fyfnmr6+7BwE1/O5ZC8+OBMY+hD46klGvn5OTY/P6hDFvueUW23UvFCRsnfJEIhrkainde/rpp+0XNpsA9dQ8ewsHdOAO+ZVc/wcffGArXmhWBfF1woQJdpOsin4BXZKwu5ga/rBbct9PGElewpd8kTmSvFdccYXNXRK+7Nmzp6e67p0PIch8jgIhnfkyMzPlgQcesHl+dPn1y/p8yOnrLRFw2jmj6EcTHyJlEGDhixDyJ/TvRWGrlnPU5+5GQA2/u9fH1aNzyG6Ik9CdDlKf04DnjjvukMmTJ0v37t09HwInPEt+lojGK6+8Yr+o2czgnVGtgD6BHopAaxAg7I/B/+KLL06nxvr16yf33XffaUU/7e7YGkT1va1BQA1/a9DS956BgMNSJqdPiB9hG5jtGEQ8/iFDhkhkZKTnQ+C0WGWuRDRg8xPhmDlzpg3NQlxEglUPRaC1CDicEe4ryLBsMJGy5t6iNFQV/VqLqL7/YhFQw3+xSOn7TiPgkJTy8/Nl69attjzp+++/t+FJlMgwhnSqwysOhcPpOQCb/+WXXxZCtSgQwuZHhAVylh6KQGsRQNGPfD8a/gsXLrTloaj4oejHxpnnpJDOFrpig8BmlPuQ8lLnwe8NDfX2b0SoTp48ZTthMq5LLuHRwZ6rsxHPijAb8oiICPtgc85z56dyVVq7kt57vxp+761Z0EfMlwpfMkjxQk4iv49x5IsKFj8ePyI9oRKqdNoKw+anaoF8LBK9NOVhnl7rLhj0G0gHYBFwyvvgjnz22We2eyVRgLMV/SDGtjww9HBM6BnB+3lQSmsfpty0oqJc2FTwb7T5ZLPIKZEOHTsIBr+zMfCxXWMlMSnZbljZtPJITk62D57HxMQoX6Ul4CH4XA1/CC6qv6dUUVFhO+3hqdBnnA58fFlRtnfttdfaDQBEt1Ahu1Ga+N1331nPjNrr9PR0y+ZnvqFQreDv+0XPf2EEzu79QOteIkpEzsj7Y4hJNVVVVdkNdqkx+MeMsT927Jg1+iUlJ6TCdIusKC+VSvOoramURuP5w8E5ieE3B1GDDiZ60KlTZ4mM7iKxcQnmES9x3eIlPiHRGn34OETpMP5xcXG2rJCxEAlQsuGF19Brf1XD77UVC/J4CfMfPHjQNqehrA3CGx4wQjZ8USHJS6vRUDH6wE1kA/Y1TYf4MoV1fe+999p0hn4hBvmGDIHLY9BbKvrhwTuKfqSTkPKllJSWvnv2ZFlJ7Pz8ApsmwPu/5FSzRHXuINERHaRr1CUSE9lBoiKMke9oNt+/4GOcfkNQPSUNTSeltuGUVNWflBr7MCkBMdGAziYSENvVbgD69e0rQ4Zm2g08/57ZEGD8STvoERoIqOEPjXUMyCwIHRLSxwB+/PHHsnPnThtOHDZsmMDipxzJy5K8Z4PohGIRWXnxxRetKBFfhFQrXH311TbKcfZn9HdFoLUIOPfZ5s2bTyv6kWeHKEs6qVu3ONP06oAc2J8rhw7sk+NF+VJbXSFystEY+E7SNSZC4rtGS0JctCTGRUm3rpHSJaqzRHSmEdbPozG0AGlsapa6xmapqmmQkgqjvVFhOAYVNVJZUy91DU0mLWCiAp0ipVtid+mbPkAy+g+UgYMGWvJqSkoPu6Fnk88mIJQ29q1dr1B4vxr+UFjFAM2BnCJeB54+OUk2ARCRCHmjN05Yki+ss8lIARqezy9DnpRcKiprzz//vM2pzps37wyhFZ9fVE8Ydgg4ZFkiafBIUPSjxp9/X716pdp0UmlpmTQ31kqXCJHkuM7SL6WL9O7eVVKTTb4+NlpijKGPjDSkvU4dTS6/g/H2IfKd6fFD9uPR1HzSeP7NUm+Mfa15VFTVy/Gyask/XiUHCyuksMRsCGrMeztESFxsnPRL72fkhMfaCJdTbRBKqbywu+HMhNXwh+Oqt3LODouYrnt8MVG+B6GPkP5NN91kjT5571DrLlZm8qaOWt8bb7xhUSPET/iVTU6ozbeVt4W+3UcIYPjx+mn6RHSJf2NLliyRvKOHJT7O5OONtY8xofsk49H36dlNMnrFy6A+idIvNV5Sk7oaDz/KGPuO0tEY+tYc9rpmI1BV2yDFZTVypKhC9h05Ibl5pXIgv1SOldSYvzVKjOEDZAwYKsOGj5RxJqo3cOBAG/6HB6Acl9Yg7p73quF3z1q4diTkESH04YW8++67VngE0s+oUaOsgA0/CfGfzT527YQucmC0UeWLGI+fckVynbD5qbNGT52Qpx6KQHsRgDeC7PXevXstiZSIGmJYtVWlkt4rQQb3TZZRA1Okv3mektjFhvRjo81mILqzDfVj9DtYMm3rR4LxJwJQb1IANXWNNg1QXlUnJ0wq4EhhuWQdLJYDhZWSX9oknaLipL9JP1CqO8P8G0Cng81vqFTvtB49735CDb931y4gI+eLgY50fCk5IX4YxoT2IfNhBPF+Q/FgzosXL7a6/Pv377c5/SeffNLm+FWiNxRXPLBzwsuHNwMrnzD/jh07TeXIasnN2SNVpcckNkpkaHqyjOifImMG95R+xtuP6xIpkSav78+DjUBtfaMUFFcZw39cduYek617C6WwtE6kY7Sk9esvU6ZOl1Gjx1gCIEJDVB6E2sbfnxgH+9xq+IO9Ai6+PkafMH9WVpatX6cxDV9QaWlptl6flrt0E8P7D7WDuZPOePXVV237VL7Yxo4da+cNq1/JTaG24oGfj9PcihLRb775WrYbMazjx49Jl85NMiIjXoalJ1nD3yclzpD3omwe33r3rQzpt3Zm3PvNJgVQW98kldX1JudfJftN+H/3gWLZnH1MjlWaKoIucYb5P0zmzr3cViCgXgnxTw9vIKCG3xvrFJRR0n8eURBK9gjxU89OjS/s/ZtvvtmWtbHLDxUynwMynhjpDUhWzz33nO0/QDoDEuPcuXOlf//+zlv1pyLQagQcT58Svqzdu006aZ389MN3UpR/yBD3Ik1oP1GmjOxtPX28fHL4wTxIAcAByD5cLKu3H7URgIMFZdIlPkUmTZkuEyZOtt8JfU0ZYCim/IKJvb+urYbfX8iGwHmR5CXXiJb42ZK8GELEPkKR3cuGh/QGJKuXXnrJCqcsWLDApjXw9lVDPQRu7iBOwfH0kbv+wihB7ti+RarKiqV3YoTMHt/P5vN7dY+1ZD7Y+nj5wTyaf+EAVBjv/1hptezef1yWbTkkuQVVUncyUjIGDpWrrrrKKnYq6TWYK3Xx11bDf/FYhc07IRtRykaI/8svv7RSohDd+EeNohglfEh8Ev4OxYMoB/l9DD/KhOiYP/TQQ7amulevXpbYF4rz1jn5FwHSZvzbKioqlF27dstak8///rslUnrsiGSkmra8Q3vKZRMzjMefJNGRnW1Jnn9H1LqzOymAQ8bbX7XdVCDszpOt2YXSITpBJk6eJpMmT7XfDVT4QPhTzf/W4RvId6vhDyTaHrkWSmLI8FK2h+HD80e4ZuLEiUIdO5r8oazkRWthohw8CPfDY3j66adt/T66/Epi8siN7LJhQuTj3xYCWJ9++ols27xRKgyJLy0pUq6YMkDGDekpvVNibT6f0jw38kgw/tWmxI+6f0h/36/fL9lHK6TWeP4DBg+X66+/3nr+ocr9cdkt1ebhqOFvM3Sh90G7ozf5bSfEj9H78ccf7c6dUN6MGTNsXj+UQ91gQKTjk08+seWL5GEzMzPlscces19ooZjaCL072Z0zcgSw1qw2AljG8Bfl7ZcBvbrJBOPpXz55gPX0Izq3vh4/0LNF/pd/J4dNud+qbYdl7c6jsmlPgUR0TZE5l82VadNn2pw/0TGVtA706lzc9dTwXxxOYfEuwpCQ2vBI6LpHDpJ8JB7+bbfdZg1fKNft8mXGA70CcvtsAKjdp9sgQkVsANzohYXFzenxSXJfkT76yqTO1qxZKXuzdktiTLPMnzFIJg7rJX17dJN4U7/X1nr8QMOD8a8xwj/HjOe/xYT7F6/cKweLaiWmW3cZM36yqX65w9b7Ex1Tjf9Ar85vX08N/29jFDbvQJ6WTmF4+hh+vN2hQ4daNrujTR/KHi89ztnooFfwzDPP2MhHS70CWMt6KAKtRcARwNpkNpTvvPuO7Nm5VaI7NsjI/glyw+yhMnJAikQaXX1kdv1x1JmyvNLKWik30rwQ9Oobm+xl0PmnYoBSQfT9W6sPwGbmpHnsO1oi363LNTn/Qsk+Ui69+g2Wu+66W6YarQ9C/ohd6eEuBNTwu2s9gjYa/hEjyQt7H8NPwxB6zTuSvJSw8Xsoe7xoo8NtgNT3l7/8xUY/br31VivRS9SDUkY9FIHWIkCFSHZ2tuWM0OOitixfLh2TJpNH9JKxRpinl9Hb92dOv6C40njlBbJ9X5GpxT8ux0tr7BR6GLnf0YN6mCqCHmbz0cOqArZ2bnxvlFbWWYnfNTvyZNHybKk+1cWIe82S6SY1iMCXbphbi6r/36+G3/8Yu/4KeCQYPUL7H330kWEc77LCPcOHD7dd9xCuCYf6XPqbI6aC4f/clFkhTPToo4/aLy9C/qFaxeD6G9SjA8QoUrOP/sUPP/wga1evNCI9myQ5pklumTtcJg/vbbT2Y213PX9MkTI8uvFlG9ndr1fnyOodR34x/NX2cmj9Xzq2n8w0j+mj+kpfoxnQloOGPxD+tpg8/3vf7ZScghqJSzKbmvGTbLtuSmCV5d8WZP33GTX8/sPWM2emfA2PBE9/0aJFgiQvYjXOgx07ebpQE+o5e4GQ5eULes2aNZbnwLyR6AUHqhi0POlsxPT3CyHgaPDDGXn99dcka8dmiYtoMiH+RJk/c7AMz0iRKNNRz18h/mqEd0zdPWV3H3y/yxDw8m0nPkL9Zk9im/z4wvDbjn+mVPFAXpks33JQNuwpkl0Hy6Rn38Fy990m5G/+/UAIDkWFzwutv5v/pobfzavj57E5XffwSJYuXWo16bdv325r9FHm4x8stfvhIMWJd4a3/95771mpXkR88FQefPBBK9UbyikOP99mYXt6SvcKCwtNk6fl8qpJHRUX5MqMUX2Md50mU0f2kTQjxeuPA6PO/VxkpHYJ71Nzv2TtPjloOu5RNYChRo2vV/c4n3j8zhxOlNdKjunut3r7YflsWbacikqWBQuuk5mzLpWRI0ZIijH+ergDATX87liHoIyCED+tZ/FI3nnnHcnJybHdtui+dd1111nDFw7NN5yQLL0IkOgFhwzThWzy5Mkyf/58W9UQlAXSi3oaAfgipM+WL18mX331pcScKpe7rxptDH8f2063a0yEX+bneOAo7H36U5bx+I/K0WOVtgtfUrdoaWw6KUeOlUtCbLRPDX+DSStU1tTLht358sZX28QEAGTIsFEyZdoMq+xHO1893IGAGn53rEPAR4GxO378uOzZs8ey2Mlpw2inVp8HnfdovBEOB8IqcBxovwubH1zQ5IeYhEph7969wwEGnaMPEeDfFxvIr776yij0Ub63Q9KTO8rD14235Xuw+CH0+eMgxH+cEP+uPHnf5NxzDes+MS5aYk1nP1ILtN3dY/L+XUxrX1+E+lvOgXnv3H9M3vt2l+w4WC7NnWJl1JiJcs8998gYwxUKh5RhSzzc+lwNv1tXxo/jcjxc6tRhGePpUsaHob/99tuFrnvhlJOjjPHQoUOybNkyWbhwoUX+3nvvtRK9yI+iXaCHInCxCPDvi8dm0+eC6pAdW9dLTMd6GWXK926akynDTZtdf9br5x2vNF53nhXXWbrpoBn2Kbl0fIbg7Ree+LnT3i6juhdt+gD42vCDEQ18lm0+JGuN579tX4n0HTBcHn/iCdvKOxxIwmDg9kMNv9tXyA/jc5rQYPDJaUNqS0lJsZK8N954o4ww+TiIbKFO5nOgdZQK8fi//fZbSUxMlCfMFxUeP/wGGMl6KAIXiwB6EOT3Icu+8PxzcmT/bhk7KFmmDO8lswyDno57/jiaYPE3NEmWKdn7clWObMrKtyF9uAQ3XzbchPajTFtdk37YWyg7Te4/yvQD8Ifhp5PfnkPFduNBrj8msa88aHpdXHrppaK9Lvyx8q0/pxr+1mPm+U/QcGf9+vU2xO9I8iLQQ3gfo4+3H8pCPWcvoBOSBZN9+/bZtruPP/64DfOr8tjZaOnvv4VARUWFHDlyxOb2iSDVl+VZoZ4Zo/vIwD6Jtuveb52jLX+vMkp6RSWE+I/Kh4bFf8CQ+ZLju8i4oaly3aVDJcJ0+ft+Q66s2WFa6/rR8NciGFRhhLAMqfCVzzdLZXNXufLKqw3Jb5aV8kXUR4/gIqCGP7j4B/TqTnkRdfpO1z3U+SCy3XHHHdbQIVJDI5pwOAjHUtmARPGbb75pWf1EOcaMGWPLkGg9rIci0FoE+DdFdczPehCfSRcpt7n96aP7GqMfZTvvtfacF3q/uY1taqHghNHiMN78KsOqR0mvsfGkTDPXnPHLo7ahUb5YkS0rth72q+GHXAiBkDLClz7dKIdKTsnwkWOMkt8MueKKK0zDLyX5XWg9A/E3NfyBQNkl14DARlibOnW67lFqNGTIEGvwIbMNGjTItqANF21txFUIy4LHs88+a5ULiXhQxkgXQjoS6qEItBYB+CKkjVatXCHr166U1NhmeezGCTJlRG9TTud7Up81tCbMvyu3SD7+abesM6S+ApPn79szXm6fN0KmmNJB1AHziysCYvidjQilhO8s2SF78mqkS3xPGTNhiu35MXz4iNZCqu/3MQJq+H0MqBtP55D5IPBRukfukbp9+sxfe+21lsU/bNgwm+d34/j9Naa6ujqhYxqeGWV8lDZSvkcukpLGnj17+uvSet4QRoBmPIsXL5YN61bLodw9MrBHZ+Pxj5PxJuTuj6P6lxD/OhPif//bHZKbVyoJhsU/IbOX3Dp3hIwysrxUEew7eiIght+ZY/bhn6+3NbdESmo6yrBRE+ThR35vw/3Oe/RncBBQwx8c3AN6VUL8GDlqiiHzEYakhI1uc2jRjxs3zjLXUacLpwPFQvL7sPnfffddIZ//yCOPKAkpnG4CP8x1584d9n7atmmdNFQdl2F9uhjPe6RtxuOHy5ka/QrTGveIJdMt33LIXgIZ3mlGhnfysN6SZjr/UUWw90hxQA3/gfwy+WnTAVmfVSi7jZLfgMyx8jd/+7emamhqSPf88Mca+/qcavh9jagLz+eUq+Hp03WPOnVC2nSeu/LKKwVhjXBUpoOABSYrV660Xj8e/lNPPWUjIJQdERHRQxFoLQKbTBnfn19+WbK2b5CkmJMyZiASvUNkcF/fNnmCxQ+Rbrepm/9iZbZsNCz+fBPiT+sRZ8oGh5nUQpr0MUY/ztTvc2QfDqzhZyzrs/JkzfajsnTLYendf4T88Y9/b6tl2GSHS9VQa++fQLxfDX8gUA7iNQjzU65HmRpGDq8fAt8tt9xiDT916nTdC8cD8aJPP/3Upj/gO9CBD49/woQJYVXOGI5r76858+9treGM/Md//IfkZm2WERnxMikzVeaYOvr0Xr7Vg6isaRA67xHi/+iH3ZbFnxQfI+OGpJoqgkzbdS/alOx17vRzu99AG/7jlPUdPC4rt/0s4ZuQOkj++q//2kbUaNUbbhFGf91zbTmvGv62oOaRzzh9wLds2SIffvih7N6923r2aNAj1EPXPRj87L7D6XA4D7QefvXVVwUho7i4OJvyIPVBV0I9FIHWIuDcVxD7/uX//T85krvdtN/tY0LufWSS6cTX22jj++KAPHfS/C//eIVpvFNgWfw/bNhvmfTTRqbJ9NH9bH0+3fdaHoE2/CgEHioqt1UEb3+9TSLj+1p9jNmzZwvdLomq6REcBNTw/3/2zsS7zqr6+7uZ5zlpOqfpPM8DLWUsZZAZQaX4ExZLUbAseXGp+AeoZTktEJFXUFDkBZUyKLRYsP6QQsd0SOembTombdOkGZp5ePfnpAfSNE2T3DH3nqMPaW7u8Nx9nufss7/7u787MHb3y6fSB7wrSV4gfqRoUeoLRwlNy3lYu3atkeiF9Ig90DGA2AcK4oazQG8tQJUIm204I8uXL5dTR3bLlxaOkSunDzf97gdmeMfRtVAup7r4hcri/9tHO400b4kq8o0YlCpfvUGrUpTFzybDQvz2e/jb8VvpYMoHf//2ZmmLHygPnxfyYe0Jh+Zf1vbB9tM5/mCbES+cjy1TQ4xmzZo1RpKX2n3U+YD4KVfjxiPKDcdB22F4DizQzz//vKBkiF1w+hAeiUbccBborQUoDaXfxX+0Yubpp5+W8hP75G6V6F00fYSMH5GlYjoJvX3LLp9fA8Svjn5d4dF2Lf7j7Vr8sycMka+o4582tp3F37ndr78dPyqClTUN8l8lHD739w3SGJ1lNPuJ+PPz88M2xdjlpPr5Qef4/Wxwf3wcDP6KigrZuHGj6bpH213y+kD7lKtB7AtHiN/aHqfPRgjH/+abbxrIEaU+HD9On46EbjgL9NYCVMqwqcTx//znP5ezpfuNVC6OfyyKfaneua6OKHy+VvPmHOTPB+iJIg4Ei/8Khfoh9NEAqDNh19+Ov0FRiapz6vi3Hpbf/HW91EdmytKlS819hmYI0thuBMYCzvEHxu4++VRyjBw4NvL5QNnUEwM/4tToukcDnqFDh/rk8/vLmxYXFxskBPvAwMYey5YtM1A/hCP6FLjhLNBbC+D40ejH8f/iF78wjv/exZNMxD9mWKbXpHp3Kov/ryrJi0Ol816aavBfPyffkPrI66cmdd1b4jDNc7YUyxbV699/tNzU9qMtABlwuh6Ds5IM0z5Ju/aBTiRoEx9PBo6fNr2c57NvrJe6iIwLHD/BiBuBsYBz/IGxu08+FflZYH6c/ooVK0zET0/wESNGGDIf/eWB+8OdVLNjxw6jXAjpkYUa8aKHHnrIICJwHjpHSj6ZLPemIWeB7iN+dfzaHc8bg857z7+5UT7R3DkEOtrtThiZZdT5EuNiPmfxd/6siup6OajiPnTvO1NZK6QChmQnGz7AYP2J6E9cTJTkD02XRUoQHO5hMyHj+M9H/M+6iL/zdAT0d+f4A2p+7364zV2vW7fOCPUQ2dINa86cOULXPRxcOJL5rJXZGEHsIwXyf7XOGvEea5877rhDxo8fb5/qfjoL9NoCl8zxq5iOyfF7Cer/THP7P39V9ScU5ofkFxcbJdnpCYLT726Qcwd6p5lPvdb/R2g6IDE+WojwE/XgJ8cMRQHgCkzW9sGejPYcf72J+J/720aT43/ggQeEHD9y2OFaRuyJTb31Wuf4vWXJIHgf2Ok4fSBs4MbOkrzkr8Op617nKbFQLII9aPPTTIVFiBQIhMdwT4F0tpf7vXcWsKx+7r2f/vSncvroHtMVjxz/pPxsyUn3Dqv/c8evEDpR9QBN8iPJG6kRfHeDjS/NcxD+oTIAbkCU1vgT+UdGRGjzoChTCXCFlh9+UyWGZ44f3N3bXfZvtQ1NckZr+YH6X3hrs7TE5siDDz5o7jlQyLS0C8sNL/uG7gles4Bz/F4zZeDeyEYaENbeffddI9JDKR+7att1j911uPeVp0kRLYlZmF966SUT/d9///1mIcJWjmwUuGs4FD7ZIkr0fli+/Gdy4uBOzb3nmTr+2RpFD9JGOd4YNse/ff9JdeQtxon35H2NI1aIn/TAubomI+ObqvyANOUEpGq6IDlRI39FDaaOHih3qgDQ+LysnrztJZ9Tpfn94yonTDnfK+9tlajkIfLII4+Y+43WvElJSZd8rfuDby3gHL9v7euXd6f/N9E+XeaQ5D116pQRoaE2/brrrjOSvK6vvAh8B5QLYfPTlpjNEBK9V2mfcKKPcN8Y+eViDeEPseRaFDJ/9ctfyKG9W2XaqEzVyx8kVync31lQp6+mAK4/qsx+SuXozMf/ejKOnqySTwuPSKFuGA6eqDCdAqdpAx8c/ZRRAyU3M8lE/5ADyf3DHfBkwCOgUQ8R/5uqLJiaO1qeeOIJ4/gpJXbKfZ5Y17PXOsfvmf0C+mqrFIbm/Pr1643jRzUMB3b77bcbljp16VlZnu3cA/olvfjh6Bp88MEHJh0CAXLkyJGGzU+lg9MO96Khw/ytNimH5Pnnfyt7dmyWwWkRMnNMlty8YIzA7A/k8Hc5H3LCBVpBsHb7UflwY7EMypv4uVY/Tj9c2n8Hcs4v9dnO8V/KMv3gcYhqCIbATqe7XGFhoUYArYbEh/QsdftuZ/3FRG7btk3+9Kc/me6EPDp16lSBbEQL3nDmPnxhIfcvb1iA7pevvvqqbN+yXgY0VMik4cnaHneS5vk9I8t5em7+dvy2fHDDrhLZpq15R46bLt974v+YHiE06HHVM57OaN9f7xx/320X8FfSPx7mPmQ+tPhpM4sTQ5J3yZIlJsfvbi4xJY7wICA+otR36NAh05CHSN92Jwz4ZLoTCBkL7N27V95++23ZvOEzKTlaJGNyY+ShW2fIjHG5AXV2/nb8+xTmf2/tPtlSVCallW0yYcps+bYKZc2ePSdk5rq/fhHn+PvpzAHzA12vWrXKdN2jNh3WPpE+jn/48OGONXt+bq2SIWkQHD+qhjj8RYsWmcY8EI3ccBbwlgXYWP773/+WT9d+Ils2rZNh2vzysXvnyLxJQ7tU1PPW517uffzt+HccOCX/b3Wh7DxSI5HxGTJt5jwV8HnAIG2XO1f3d99awDl+39rXJ++OEl9lZaVRnYPMR3c5SveArum6N336dJPndwp07ebH0bMYQ+oDggVmpKwINUPXLMQnl2hYvykkUtJvH3/8v7Ly/fckNapGvn33bFmoZXIQ5ii9C8Twl+OHcNio1QYF2jnwj//cIsVlLZI3eqLMmbdAbr31VkGu143AWsA5/sDav0+fbrXmO0vyEukj1kM9ulOg+8K0Vt+A+n0iMdQLH3/8cVO/T0kRmyY3nAW8ZQE25UeOHDEbzZdf/qM0V52Q+25Aune4jBycLunJ3lHw6+35+svxW6GgT5XU9+I7m6W8MV6uu36J3m+LBPVQp5fR25nz/vOd4/e+TX32jgiEIEKD4txHH30kGzZsMG13c3NzDcSPCM2QIUMkOdk79cI++yJ+fmNyrugbYK/Dhw+b/P6jjz5qFiFHMvLzZIT4x5GCQy+CqB+E6aUXX5Ty0oNy9cwRcqU20qFl7tCcwHTFpATwU1X9KyzScj6V7o1R5KFjOV+Ol9oGn1Vp4EMlFdpEiO6BOyUiMVfu1+Y8lM06xb7guAGc4w+OeejRWcDgLy8vNw4MFv/Bgwdl4MCBhr0PhDZp0iTTdc9B/F+Yk4W4oKBAXtQFGIEjNkVUO3zlK18xXQod+fELW7l/eWYBrjWqaiDZsjkHYXrz73+XkmMHJX9wiizQznn3XDtRdfUD0/a5tl6V9IyAT4MK+DQayV5q9o2AT5KmIFSn3xuDDQbqgp8VHpd1O0skN2+CPPqdR2WhKmS6KiNvWNjz93CO33Mb+vwdWFA4EOaBxAfE//7776tOd5Nce+21BrJGrIdo340vLEC5I3wIBFWQ6EXvYObMmUaeF2Ej6vjdcBboqwWso+caI8pHSItKG6J9WmGz0aT74+nS4xIX3Sazx+fKg7dOl1kqhRsbHXlZid2+nlegXoc9kALeU1wm73y8R7YWnZGKugiZOHWOfPNb31I2/2yXggzU5HT6XOf4OxkkGH+1UqAsJPSPp8kMmwAcl5XkdX3kL54527QICVWa8vD7nXfeaSBH0BFy/W44C/TVAjb1xr24b98+k3ZDGIp0Ejwcrjfu3Yb6OqmpOisTRqQbxw/c7422t309b1+9jh4ADU3Nsmn3CXn5n1vl0KkmGZ4/TubOX2gExWiC5RA2X1m/d+/rHH/v7BWQZ7OA0FDGdt1jYYGNTpR/1113Cep8jsx38dTQr2DPnj3Krv5Y/q6QK4qGDz/8sHH8Tiv8Ynu5R7q3gN2Ak3Kz0T2wPuRReCSk3iD1Ef2TbiOtxOaytrbWRP+pMU2yZN5IA/lPHpUjAzWnHkqOECnh46erFOI/Jq9/uFPq2lLk+sVK6tOyWUjHdMJ0Izgs4Bx/cMxDt2cBRA1cTc6QWvT4+Hi57bbbPpfktV33un2TMPwjGyScPqkRJI1ZeJYtW2Z0DrAhMr1uOAv01AIQa22jJyJ7NpU4fBo/weRn8829yKZ83LhxRkuD39kMvLXiTTl8cK/kJEfKzHHZcufV42RCXnZA6/p7+r17+rx2pb7Dsm7Hcdm056TkDB0t//M/3zC5fTbajnTcU0v6/nnO8fvexn3+BHL4RAtI8dque+QQqYMF4mcXnZqa6prLdGFh8o0szkT65FmJzCZOnCjf0lzjrFmzTKQVStFWFyZwD3loAcsRAXEjwucaAnljQ4nD5yf5fDYElIVSXcO9CaTNtWY1ItCQeGvFClm/bq0cO3xQhmVGab/7STJnwmDJTI3Xdrj9ewNKq9/a+kYpVMGet/6zW3YdrpLmiASZNG2WSmJ/3fBq2Gg70rGHF6QXX+4cvxeN6e23IopgcaHrHg4M6BqRHiB+SH35+fkmanXNLi60PE6fAy4ESn1EZkQcbJRIjbhc44X2cr9dbAGuHxw++XtkseHXkMeHtMd9CKEvISHBEGrh2tgIn4ZYtHeGvW5RJSpxeP0nn/xX/vHO29JYXartekdqad9QmTF2kOmKd/EZ9J9HaPMLk3/djmOyYs1uqWqON2I9CxZcaWD+vLw8l4oMsul0jj/IJoTTIZcIcQiIEKdvDxaaO+64w0D8LDSZmYHt9hWEpjOnBFLCog3E/8wzz0hpaamR571Sy4kWLlxoIrFgPXd3XoGxAI7eXjc1NTUGusfpk78nYsfpA+mDuKH9gHNHFptNpD3YXHYV2cIJQD2SdBPKkYf275DB6VEyfXSWLJ47SsYNzzRRf3RURGC+fB8/1Sr0HdN2vxt3H5cNu0plw+6Tkpo9XO758pfNvUZwQvtrN4LLAs7xB9d8mLOxED/159TrEy0AS8NE/7LeUNShky9z/ay7njxgWRZp8vt/+MMfzIJOagQBEaBYFm03nAWsBXD6bLZx6iBs1OBzzxHd4/jJ63P/4cCIXhGh4TqifDYtLc2k27gfcfpdkWwt+5/0AL01Nq7/TA4W7ZaByW1yx1XjZc7EITIkO1lSVM63Pw2r0Ld1X6m88797Ze/xaomITZXJCvF/he6gWjqbmJjolDGDcFKd4w+ySWERstryRKyU7/E7zp5o9frrrzcQv8tPX3riyMPSghci5D//+U+zSfr2t79ton5QEpATN8LXAtbRd6y/J6124sQJw8zH4cPQB9Inf49DJ39P9Mrme+zYscb5cy3h6EEAejJAnrguIequXv0vqa88KXMn5Ghdf65C/gNV0S9VI/8oiYrs2fv15DN98Rwi/abmFjl9tlbowLdJNfk/3HhYalvjZdp01clYsFAWL17s1ilfGN9L7+kcv5cM6Y23YUHiIOJAoAeInwY8qPOhNIckryUMeePzQvU9WLRXr15t7Ifg0YgRIwSJXuwHSuI4EaE68z37XjYCB8rnXoMDYuvveQzEDbIe993o0aONAyPS53fItET3tscDG/CebsIt5L9161Z5+623ZGfhFmk8VyEjc+PlpivGqPPPlUFZyZKcENy9Ixoam4XSvR0HT8uqz4qk8OAZOVvbJnmjxsudd90tc8/r8WMrN4LTAs7xB9G80D4WuBEW+htvvGEWJKINuu3h+KdNm2Ycl2PHdj1pduNEFQQpEhZYoropU6bIQw89ZOzY00W6609wj/ZHC3RXf0/u3tbfkyLi3gLSZ7MInE+ED7RPKSiEPU+uH3t9HtKN6Zo1a3Rj+qnp4hfZXG0i/xljc2RSfo7R8k+Kj1Et/cigMjcCPcD7pytqjdZ/wd5SWVNwxKjzDc/Llzlz55nuexMmTHQb7KCauYtPxjn+i20SsEeAqIlQqdcn4qecCPY+ED8laCw+XeUQA3bCQfbBlhQJiQqJ3qKiIhOxzZ8/X2655RYD0QbZKbvT8YMFOtbfg6BxdK6/h40PWQ8YH5Y+RD0eI2olT80G3Bu6Dzh/yIPA/lu2FMj7770ve3cVSmPdWRmWFSuLZowwkf/ooRmSkRLv0UbD26atUX3/0jM1skPL9tZsLpY9R85KVV2bDBs5Rm6++Uvq+OcadAQOjWt+5W3re/f9nOP3rj379G5Aj0SmRB9A1JSh4bRYfL761a8Kjot/Ay+6cWkLYEOiNnL7zz77rKm7XrJkicntO+WwS9st1P7Suf6ecrqO9feU5+F4uV5w6p3r79kAEPXj7H0xcP7c8yANa7RNNIqcoFStDSrrOzxFJuZlyhRV9ssblKZ1/gmSGB+tG/4IidC0gj+HnqZJPdY1NEmFdtw7cbpa9h87oxB/meb1T8m55hjdLOXJrNlz5OZbblYF0Yle2yD583uG42c5xx8Es45ID+IgRKpA1CxMRPdE+USqiIEgN+sg/u4nizQJpVe0Q/3zn/9soqUHH3xQrr76ahPNuZxj9/YLhb/iVLmfuqq/Rz8fZw+5k/urY/09Cns4e+B8/h4TE+NTLoiJ/LVaoBSUT53+vxX637Vjm5SdPCYJkU0yRkv8po3JlfmTh8rIwWmSEBct0VH+hf4NiU/hfWR4tyiBb+v+UtPS93RVk0TFpcjoMRNUkvcGZe/P0PtrhLFfb8iOoXC99dfv4Bx/AGeOm5+D6IMdPyz+lStXmtIiWLFA/HS0YpFy4/IWoIQPtIRUyYcffmh0Dh577DET8bt2oJe3X398BvdP5/p7HHxX9ffk54GhIchSe0+PC/QwbP29N6D83tiQcyc9hSQ3RF64PbD+y06dkJgBDTIiJ0HmThysdf4ZkpOeJOkK/UP8i9P2uTD/IyK8iwBwPnTXa2hqMW17K2saNNKvkwPHKkzjnaIT1VJW3SpxSekyVvkPs2bNlGuuvc6k0yDNusCkN7Mf2Oc6xx9A+3PTs2iR10eZb9OmTSbyh0wExI9Cnys/6/kEkSqhfG/Dhg0GNYGR/cgjjxg7sqj3tOyq55/onhlIC+CoOCh37Vx/zyaQtA/Onlp7onvuK64J6u+J7i1DHzQtUJEq528RPzYA8A8Kt2+TLZs3SMXpE5KSEKU1/ona2S9LxuoxZlimMv+TxBfkP9tdr0zJeweOV5hSvd3aYre4pFJOlp8zDn/cxKkyafJUQ5TFnjQhIgXpuEeBvBN6/9nO8ffeZl57hSX5sNt//fXXTZSSp2VD87Qc5vbbbzcRiSPJXN7cLJ5somDxv/LKK2YjBVRLNcTSpUsNq//y7+KeEewWsPMMXI+oDgfpHfTybe29ldTtWH+P04edT3RPLT6baaLTYNsIslEBqdixo1A++e8nWtWzW7UETklEa70MStN8ek6SjB6ablj/WekJkqqCP3Gq8x+n7H8qADii9YhSXQE2PPr/iwY2JKqnDr9RI3sOInxK9KqVvFdRVScnyqrloEb5xaXVcrSsXmqbIyQhMUXyRo4yfCPuKxATyI98jhv9zwLO8QdwzpDkhYgGNI2oB0Qj+sUD8cMudjdWzybH1mVjQ0h9RH+UPi5YsOBzIZGevZN7VjBbgHkGIetcfw8nBngfZ2/Jet6sv/eXTfhu1PpDRiwpOWE0BtjMFu3bIyXHiqX+XKXEqKxvZmqcDM9NlSE5KTI4U1v/pidKhnx+R04AACA8SURBVDb7oQqAdECi8gG6SgWYjZM6/rqGZjmrZD1g/DOVdVKmQjynKmrk+KlqOVRyVk5pdF9T2yiRsQmSmT1Y8vJHy9Rp08/3IxhhonynHOqvq8I3n+Mcv2/s2u272pzk9u3b5e233zZ5PaJ/IhKkZcnru5x0tya84I92sYTU99xzzxmIl54GkPpoaoTwihv9zwKgODD0mV+iYaJ7nCJRMeV4tv6eyB+oGUi/c/09sL6n9ff+tpyt8kFJkJw/4kL79mn732PHpUJt0NZcL8nxKiGcGCmZybGSoUd6Stznjp80QGx0lNqEyP/82StDvwV7KlnvnHbSa3f89VKujr9cNwFnaxr1Z5OcqWmRFomWRCNglKvpkXzD1p8xY7oh8DmH7++rwTef5xy/b+za7buygBGlEKEiyctihiQvED/OCmjS5aS7NeEFf6QiAkeA4ydlAtGI9rvY0pVBXmCqfvWLrb/HAeL8UNhjnnH8SOzi7EHFIOuxac7TNBlEWB7D2ZN79lb9vT8NZ1MabHhYK/iuZ89WqKRwe0rjcPFBOXbkkJIAS+VcTaU0NzUovD9AWf8RCvdHGfIfKQCqACLPEwCtzG5DY5NC+80G3m9sUo6RQv4RkZouSEiU9IxsyR08XBDjGTMGLsRQTYtkKB8iw2yqqHZw65I/rwTffZZz/L6z7UXvbCMYoGicPrl9iGjsooH4gaZdE5mLzHbZB0iZkC6hKoKDuuxly5YJ3fjsYnXZN3FPCLgFbP09ZDecXef6e+4b8vmd6+9x+uTwfV1/HygD2XUDe1CuCo9h//59cuzoMSk7U2bQkPr6BmMXNkttba0K9Q+QSA33LfG/VSH+mhqF9DUlgrNPSk4x5EZIjhwZ6Wlm05SvhL1Ro0abdQjinisjDtSs+/ZzneP3rX0veHduStrFUrZDvT5RDCS0yZMnyz333GPy0mwCeMyNnlsAJvSKFStMVQS5XohHDz/8sEmZBIqt3fOzd8+0FuDeYP5Aw+iOR3SPk+OxYKm/t+fqz58gABx2/SAtyFFbe07TIPXm31Q2sDEA/SL10agEyObmJmlVXoS+2pDwSkpKpWDLFn28xWiDkAaDqAdikpAQr0eioiSJypNI+rz7p2Pr+3Om/fdZzvH7ydbcuNyYLGREpTgqohoU5SDzIc0LVOlYsj2fECIh8qFspGi/CxRMnfZMbQdK+2KEj9wITgtwP8B1IbrHUZHDx8F3rL/n30DdDOaViJ5NnT0CVX8fLBbFhtwDNiVgHT+2pO8HGwXuD55HBQMNiSh3ZYPFugMixrpDWV4wVjkEi51D8Tyc4/fDrHLjcdg6cyQ6+TeQNM13gPgtCckPpxMyH2FZ0GykYPOTC6YDHxupRYsWGaJXyHzZEPoi9n7AqXeuv8fZsxFgQNZjM4xjIgUWTPX3wTId2NJWO+DoQUZImfAYmwL+bscWjfZfeuklQeOAqhfulY5tvl3QYS0V+j+d4/fDHLP7BopDoAfyGU4f4hGEvvvuu88wz1272N5PBHAnGuyQ+l544QUT5WDPa665xpC9IHm5EXgL4HxwQjgl5swy9FGsBAGDnc/PsrIy8xwIeWyKIbmC2pDDx/kHa/194C3cszOAT0TVi21eRdR/0003GVGjnr2De1aoWMA5fj/MJM6JshwIaKtWrTKLIJK8RPo4f5jITqin9xNBPTdSxzh+yiLZTCHRC5sfJ+GrJiu9P9PwfoWNSDvX3xPt8xjIDSRMyi471t/j/K26HnML94Wo1EWmfbueCgoK5MUXXzTcCTbFpMQoeyV14kZ4WcA5fh/Ot2UpQ1L64IMPTMQPK3fo0KGfd91jsUN0xI3eWwBbfvTRR6ZCAhiTHPDjjz9uIEyHoPTent56BdE9135X9fegXUT4OH0if8hjsMpt/T0RPtE990h/q7/3lv189T7ohrz66qtG2ZKyPMh9pBohF7sRXhZwjt+H821ZyrbrHlrcMGjpunfzzbSxnGBqzl1zi75NAtE+1RE4fdIpLGDf+MY3DIriEJS+2dQbryLXDKRPLpmKC0iXHPwOoZW5AZHpWH9P/r6/1997w3a+fA+qiP72t78Z9JG1iU0W9wvMfjfCywLO8ftgvm1OkxwmkpvU7BPxM+gPD/kMmA1Wshu9twARJfAwnfjI7ZOzxInQ1Oi2224zOeHev6t7RV8tYJGtjvX3QPhE9aBdlOdxL7A5A90C5YKs17H+Hta+S830dQZ69jrQln/84x+mCgYiLLLgNLEiEHEjvCzgHL8P5tvmNIlI2WFTbkakQ/6SrnuQatxC13fDQxKD+Q1n4je/+Y0hhVGWBJMf9UOiRzf8ZwGLbHWsvwfOx/kzVzh0eCyQ9XD2pGSys7PNPQCcT36f/D2wvxu+swBzsnr1agGBJPonpUJqjHvGjfCygHP8PphvnBIKY7brHhAnN9n8+fM/j0gdFN13w5MbJm0CqY/6fRCABx54wJD66L5GztgN31gANMvW3wPns6G19fc4FmrFKcmjigUSHhtc0Bhbe89PkC6nqOib+enuXUFgaApmVUPhVXz/+983CKQjTHZnudD7m3P8PphTbjCcEhEpu2sYyXfddZe5wYA4yW+6G63vhmdTBYry8ccfmyoJnMt3v/tdueqqqwwLHGKfG963AE6fw9bfk2JBYY9SPJw9mwBGd/X3RPjIwDpFRe/Pz+XekQCEkj7um3/9618Ghfnxj39s7hsXiFzOeqH1d+f4vTifVlKT0r233npLYNHCbCbKuf/++00uzUnyem5wosqVK1cKQkjkkEFTcPwgKk6BzHP72newXJWO9fc4dzZeRPe2Bt9K6uLQu6q/h7Tn5sVaNXA/KStmTfrPf/5j1ifm5amnnjJImauCCdy8BOKTneP3otWBN1kMgdJw/CySEGdwSMhjkuN0C6BnBscZQZh85ZVXzCKGPWEls7GiPAkkxaEpntnYvtpyVXDsbLZg5pMbJpffuf6ezRdHnirt4fyJ7Dkg8+FU3LxYqwbuZ8cullTDgEQ++eSTxvG7druBm5dAfLJz/F6wuq1bpq4ceJ9IFJU+IE8gfoR6WBRd7tkzY+OIiD6x729/+1vjgChJYmN14403Ght79gnh/Wp7HYNSwVMB0kf/HRgfRjibWjohwrEAGuZ6hqhH+orueFzjrv4+eK8hAhHSkET8f/zjHw2h0gpeQbaEd+FGeFjAOX4vzDMQPwsleefXXnvNREYwmadMmSJ333230cUm8nFd9zwzNg4JRwRB6fnnnzeIype+9CXD5ifqJ9J0o+8WsPX3lHpRf89BKgXHzyYAZw88DFmPUjAQLNj6OA2ieyJIrnvEYdwIPgtYiWsc/+9+9ztDiqWL5TUqcW03bMF31u6MfGEB5/g9tCrQMxAaUCjNYoD4ucEokaFeH/lY4E83PLeA7W4IOYkNFgSxhx56yJCTcEY4Hzd6bgGLoFCORxTPddy5/p58PiiLldQluoezAtJCtO+kkXtu70A/Ex0FNnAQj3/961+bzohLly41jp9SY0iyboSHBZzj92Cecfoc5D4RxgCCBg6ljhwpTLpfERGRP3PDcwtQwgd/gnQKzh8hmGXLlhn+hENUem9fBHeso4edT3TP9ctjOAmid65lNq44e1d/33sbB9MrEFpiXon4ly9fbtAz2lcT8ZOqycnJCabTdefiQws4x++BcS30jIIcXfcob6KpCIQ+bijIZsCeTpjEAyN3eCkbLJrxUJJEaRJiMI8++qgRRHLlSB0M1cU/2aB2rL8nwsfBA+PDTSGHbyF9Xk7+3tbfIy3t6u+7MGo/ewgOBygPm+af/OQnRk3xlltuMYgZaxZBihvhYQHn+D2YZ2BQdOKJQKmLZUAyg8xnc87OIXlg4A4vxXHBofj9739vaschTrJY3XvvvSZacUz+Dsbq9E+LTAHzQs6z9ff8xNmzCeA5rv6+k+FC7Fd7HZCSfPrpp40IFtVGHKQl2ei5ER4WcI6/D/NstckhP9FmFwa/bcDzta99zeT3ITwBP7vhuQVspzdgfiR6cVbIHrPBAqZ0HIoLbcwCT3R3qfp7W4Pfsf6etAlkPSBfkBQY+q7+/kK7hspvpCR/9atfGaQHVJKqmOuvv97Mf6h8R/c9ureAc/zd26fLv0KGQgyDGwiIH0fEojl79mwT8bNwUrtMjbkbnlvAspGBKOknToqFagmU+oCh2WS58YUFOtffk7vvWH8Pe5/8Pc4eUhcyx1y//E6qytXff2HLUPwXqUmqYiAkI9vLJhrIH+KmG+FhAef4ezHPNpKi3AmInwj0ww8/NGVON910k4HLpk2b5srKemHTnjyVyBTHheNfsWKFYZh/85vfNI4fZxXuyMrl6u+J8KnftvX3QPos+Dj9jvX3OH2XMunJFdm/n8PaRR0/iCVzPmPGDLORZhPtRnhYwDn+XsyzLX9C9vKvf/2rcf5Eo9Q003WPiB9SFNKlbnjPAijFwUQmN0lahVwkEr1A/dg63JEVKxUN4ZHFHBIkB7+T18eZU3aH3UCjSI3A1gfKZ+Fn4+Sa5njveg32d6JrKOWw/OTaQG+EFCU/3QgPCzjH34t5JmJiMSXSf+ONNwwrFqdP2R5CMvybG8lFTb0w6mWeCspCqRkbrYKCAiPaQw05ET/kvnC0td2A2vp79A1sWR6wPhslW39vIX1gXJw+tiPad/X3l7nwQvjPbA5Bzoj8UfMj0kcPg8jfjfCwgHP8PZxnHBAL6po1a0zkSZ6MaOmee+4xEL+V5A1HR9RDE/b6aTa1QvkeEr2UnKEwNnfuXLnjjjtMiVmv3zQEXkD9PekPrkdSIF3V31OaRd4eZ2/r70GjbP4eFUlXZhoCF0MfvgK5/ffee8+gZ1R5sCn8zne+YxDLPryde0k/tEC/dPw4BKIeDvKbHDzGsBE3ZXQsbBz825NhJXnpuvfmm2/Kjh07hMeInmgOM3PmTAOXOknei61snTfM/O7myjYvsvPHO1kIG4neZ5991hAqYfFTfgTKEg7lR9ivc/09Th9Cacf6expEMVz9vTGD+083FuC6+eijjww5mbQl5M7vfe97ht3fzcvcn0LIAv3S8VsFKlSoOHAQOBUGTh4nAque/C+5S373JBIHSmWXDMSPgAy6/ESdOB/yzECn1nGF0LXh8VfBaXFQVgYszVwxd2zYeJy54mCeyDPbSgi7USO1QpkkEqMvv/yyeR0bLWSQLcLi8UkG8RtY+wHHEplxDRLhU3+PXWz9PcgTeXtsQrqJ/D0bAB4nwse+3tgAB7Gp3Kn1wgJcS/Bl0B/hYAP9ox/9yCCXnqyTvTgF99QAWyAoHT9OHOeAo8Bh1Gr5Fs6jUQ9+1tXxeI3RmuY5REQ8n4HTQC2P6BunbxuH4FTsQd4TR8OCyHOto+k8F5wH780OGeezfv16kxdD0xqIH6fPggtLOpwHNmIeKLMDhubfdq7qdb54jM0Sj1vHj71YZHBIzAvzxHzF65zEcuhjvAbbQ+hbvXq1cWZAkosWLTK64sxjKA3r6LnG+e4cOH3y9TDzO9bfY0uuX6oauAZt/T1MfVd/H0pXhfe/C1VJiGGxpq1cuVIGDRokTz31lKmScRtE79s7GN8xKB0/jgSHD2EJ7fBjSqg7rf8+XVZmGonAVK4570hs9MiiaQeOnAPnkZCQaCIfFkOO7OwsExEBb9m+4Tyvq8ECTFSF46F/NblUHBQle3feeaeR5GUDEc7dyLA7DgrnBPGRSLRU/11m5qrM6IFXV9eYDVuTRvvWuVl7W+ePDRMS4iVdN1FsrDKzsg2Kg16CfV/y1Uj0grSEYo7abjSB8onuO9bfYweQLUvWI7q39fdcx0T39ITg+uR6xq4uerNXmfvZ0QKsq6QrcfykLrnffvCDHxgkjesL9NKN0LZAUDh+C91blnKFOvYyXfxY8A9qxIdTqThbKWfVCVdWVmsEWWci8VbgYpvD14XODH2srU3z/i3t0H9UZISJIlNTUyTt/JF7PkoCEiVi4sK3i6ZNDfBeOC8IZcBiQPycH1E+OWaiTkhT4TRw2jgnNkSUMeLwqzQiPXX6lELRR+W45p1PHD+mm7RSOaud3qrOluvfK6RRo1N9oQyQtvMOqd1q+nZmtOpP5jIqJlYSk5IlOTVN0jKypHVAhJRX6CZP7d7U1CiTJ0+Rr3/96ybNAoRtF6lLITbBPjfY0l77bDDZ0JKrJ3/PdWfr74n6+Y4gS1xztv6en7adqnP0wT7bwXN+pC5JF1Ei+5e//MUgbU888YRco/wZNpCXCoSC5xu4M/HUAgF3/DgTnEhpaamBdak/3q8XJRAvkQ/wMS4jViP32Pj2Iy5B+34nJuuhv8dpDl9hfbv4t5nFtEmhZs3/12qaAGSgViPOunPSqAePSWuzxETHqMNPNwsp0RNNSPjJwopTYVHmXN59910D8Rcrg5pFlnp9Ik6iLKKrcBqgK6AxRAwsHESke7Q0CHGYUzpX52qqRdRBR7Q1SYw0Say0SOyANomLFEmIVkg/SqH9iAE6V+2bNBw/Dr+xpU3qGjW1oz/rWwdIQ1uEvjpKahpbpaJGUweNTWbDkD8yX65TaVGUxpgvNm5s2PorqdKSF4FeKbHiwKY4/s719+TugfT5zigVco3a9IinHJZwuobddxWDYoLM4fhfeuklk24jhYbjd4JY4XGFBMTx4+xxIkTQ9AAnsgfSL+IoOiBH9feyM+XS1Nwi8ecjwNSMbElN08g8Ld1EhEmp6ZKgf8PxR1/C8dcqD6Cm8qxUa9TJUVVRLpUVZ6T6bIXUVJ0VuP5pqckyWJ34KIX+R49uJ0fZHClEKurHibyoe0agh657kydP7pYbEGqXDs6eDRjRaEnJCSk+VCx71EEV7dsrh/bvlTOnSqSpvk5ddYukxMXoESXJsRGSFMvPKEmKiZLEGHX80Uq8xPGfR2dw/C36nyZ1+LXq+M81Nkt1Q7M6/BapaWiRqvpmOVvXaP7WpABOcnqm5I0eK6PGjpPx48ZLvm7UICbhCG2kEszwNtc8aIlFtmz9PWQrNplsLkG3yN+DPLEIE9WT4iCHz6aU65C/ueEs0FcLcP0RVAH1P/fccwZ1oo4f0ixEZe4lN0LbAgFx/BbeJKr/TPXut23daiKd02Vn2qN7jeYzsgdJ1qChkjtshKRlZku8RvwxhowXI1GaD47SiD1Sc1GRkcrYj4hQTKB9gB4T9be2armf5pSb1Wk1axSK82pqrNfIv844/5PHjsjpkmNSfvKEogJnFQRolDSNokZqVNmeM00x5WPIxJJ/tpK8NLXg7+EErQJDE4Xu2FEon/z3E3VSu00apOFclcS2NEhKVKtkJ0ZKZkK0ZCTEGCcfrXMSFTnAOPoo/m0ifSVf2pSMna/zUX+L4v3NnY66phaprm+S8nONUlrdKBWNIucGxMiAGFWa001fntapE/3TCRHHiKMM5nmB5Ej6CAePKBHRPRteEBQ2VqQuqL8nsgfRwNGzqSEVRYSPwweGhYDlhrNAXy1gyaNE/L/85S8N4opy3zUa8YMssbl0I7Qt4FfHb0l7RDo4kl27dqvj/0z27S+Scs3hS4Q6jpxcGThkuAzJy5fBw7RxyNDhGuVnGGdv4fy+TonN/RPtnzpxTEqPHZYThw+an6dLT0hTXa0kaMSaqCSz5OQkadDIC2IhaMCDDz5o8vugAaEecVkCHo4KRAZYkIh0u27QNq3/VO11RKLamiUlZoAMTI6V3JRYGZQSJ1mJsZKq0X5slG7EOjn4vsxZk/I06jXUr6htlJKqeimpbtANQIOcOddkkIHkjBwZP3mqTJ42XbUUZmiqZrTk5OQYJ9ldtUZfzqW3r8GGXO/YkFQWmyeiLNAtNrwW0rf19+TvQS9w+ByoqcG2DnfyaG/t7p5/eQsQeOH8ifiXL19u7nHIykT8BDZsoN0IbQv41fGTtyQfjEY09aO79+w1EVBkbLwMyR8rg/NGy+Dh+RrtD9T8vebxNcqPi2/P4XsnkmuvKwcFaFBoul4X5TrN/589U6YbASWnHSqS4r07pOJ0qUELYmOiTQkZUeXSpUuNpGU4RFyWXQ4ETQljgZb+MGelx49Ka12VpEe1SH5GvAxSp58SD4wfJfEK48eowyfSJ4/vjUH+HySAVEC9Rv+154/TNQ1SfKZWTtWJ1AxQDYD0LGW4j5RpGvlfddXVJmqx0L83zqO372E3Trb+Hj4EET7RPZsoHuc5nCPRPez8jvX3bALgLoAAuPKq3lrfPf9yFuDaI+0Emvmzn/1M4JgsWbLElPOx1sEjcSO0LeAXx8/ukogHiBN96C0aOW7eslXOKGM7MSVNBg1XadGps2TE6PGSM3iYJCaneCVi7OnU1Snhr+L0STl6cL/s3rpRjhzQDcnJEhmgJMAsJQDOVA1rdsRAysCuoRrx2wUBx9QR2t9VuE1KjxaLNNTIYI3sR2QkyJjsRBmYFKt5+0gD4/fU1p48z5yfLloVtU1yuLxWis1RJ9UtuulISpWRY8bJlYuukhkzZxlHSvTvj40a58XBdW6je2xIvp7oHofPQcRP/p5zIqpCUhf1RyJ8iKWgSYFGKjyZH/fa/mMBrleqlZ5++mkjDkW10sKFC8OyWqn/zJr3ztQvjp8Fj4gHfXvgpcNHj0lEjELDg4bJmCkzZOjIMZKpED9lXIalrzl1f46WlmYjOHOuSksGz6gcanGR7NuxRRGA/VKhpWkDszJN/oubA8U+dsTegLL9+R178lkWAgTW/+CDVbJJ5+vQwQPSWFUuA2NbZXBSlAxPj5dsdfiQ9nD6kQrpewHV78npmeewYFEFUKtEwIq6JgP9H69qlOJKFRGKVB2ArByZOm2G6S8OAuCP1IxFSLjOie6xH8RQNrod6+/ZiHSuv7fRvau/7/El4J7oJQusU37VM888Y8jLbEDnzZsnN9xwg0GgvPQR7m2C1AI+dfw20qcmGWh/0+YC2bV7jzS1DZC8sRNl1MSpGunPNFF+jEZBEPUCOVjAW5qb5IxG+0W7t8uBXYVStGu7tNTXyrAhg2T6tKlyvZaTQSQLpcgfZ8p3J998WJ0VG7SV778n+3fvkDaN8rNiRcZlJ8kIdfoDk+OUrR8ZFBufhuZWZf43yfHKetlzqkaOVjZIeX2r5CqCdN3iJTJv/hWmAgPCnDcFf7CVJaiCZBHdW94KwjtE96S0eNzW35O/pxkKC6ytvwfq904KK5B3jfvs/moBhMleeOEFoxlBMEPV0q233mrQsv76ndx598wCPnX8NtInT0xTiOMlJyU5M0eGjBwrE2ZoLilvlCHuxWkuMyIi8M4EB2giSs3/11RXGtJf0c7tcqRot5QePiAZKUmG4EcdfyhF/uT7qCmnJp+uXeuVcHmgaJ9E1FXK+Kw4yUtTaFodflp8tMSZkjwKIQM/4ACQ/6cM0MD/FXVSWFojla3Rep0NlKkzZpkufrQb9WYb2s7190T4Hcl6OHM+D90HcvdA+q7+PvDXizuDCy2wVVOur7zyikGnQJxQJKVcmc2pG6FtAZ84fstmJvqhZGSDRpA7d+8ViYqViTPmyliN8vPHTzawbDBD5lVa73+8WLUFdm6Vbev/K7WV5TJ0cK7MVAj55ptvNpE/ZVbkbPvzIDI9CpFvw3p5RxUK9+tmJ7K5ToYkRsj0IakG3qcmPyYyOBx+Z1vbDUCpMv8LS6vlgBL/SqubZaASRZfoPC1YsFCmnC/DhCzX22vO1t/D0LfRPSV4kB9x+OTxO9bfA+l3rL+nNtrV33eeNfd7oC2AbO/rr79uiLsgWOiTQGKG2e9GaFvAJ47fOBJlLxPpI3V78PBRSVYBnmGjxsuUOQtkaP4YQ+CLiY0LausiE1unYhelx4pl77bNyvjfKSWa/8/NzpAbb7zRKPixO6bWur8OEI4i3aCtWrVKPl37iRRu3yZtNWdkUna85GdqXbmS+VI10u8ovBNs39VoN+j3QASoXEv/Dp6pk60nFIJvi5XMgYNl9rwr5N777jMRjZX57c13sPX3wPe2/p5cfsf6e0rviOwR26H+Hufv6u97Y2X3XH9bAKSK9bmgoMCU9EEyffjhh02bcX+fi/s8/1rAq44fJ0J0RMkSwjywRj9WwZd6bZw3dc5CGT99toyaMMVE+v79mp59Gkp/xxXq37u9QDZ/8m9prT8nUyZPkivmz5PFixeb6K4/srEtB2Pz5vYmRNs3b2wn8sW1yZzhaZKnOf1EjfSjgzTS7zyrRP6IAJVozn+bOv4D5fVysrZFRo6fpFLLX5MFC6+8rDIZ1zCIFYI6MPTZxCK6Q5UDkT18Ff5NTp/n0v6W/D0O39bfwylw9fedZ8f9HmwWYPNKdz44PfBS4KA89thjRhQr2M7VnY93LeBVx29Z4ZTrvfbaa1KgJXu1qrOeMyxf5l97k4wcN0mSUlIl2CP9ziZG+Y/I/8jBfVKwdo0cK9qjlW2VMnH8WNM0htrX/gj549DY9UO8fOedd6Ts8H4ZlxErozI1r68le5mJqo7YQWK3s12C7Xcb+Z/TyP90TaPsLzsnG49WSVuyyi3PmaelfouUnLnYsJa7gvtx5BwWsWJhJMLnZ+f6e+B7GPosluTy2QBA1uM6cPX3wXZluPPpygJUnaxZs0Y+/fRTU2adp5oSTz75pEEyu3q+eyx0LOBVx2+lXdfqhYTjP3KiVIZrbf5YrdGfPv8qo8jX1YJ7OXMiuFOvqnqI7tB8p0mJaDzW0tKsXfhaDCMdVT5dtU3+lo59yPlGR2uduRIHEQFCECg6xrN2pWjS79u+RXZv2yi7Nq+TLNX5v+eeu023Pit12Zfvd7nv7+2/W1Y6u3xIl58pxL9l03qJqi2XBXkZMlYZ/Okqvxun5Xq9HThfI7+rqnuN5oCA1/7vZiXioc3fplE5z2Mg4UvTnmg9EACKj2rX9IdP0FchoHbRn1ZT57+2uEJONkRKopL9Zqjzv/fe+4wQk43IcfSd6+9pGEV/Bg5sBKTfsf6eBZLKDqJ8cvmu/r59Lt1/+5cFDDL72Wdm4w8Xiw3sD3/4Q1PLzzrWH9ay/mXx4Dnb/w8AAP//FqpJEgAAQABJREFU7J2Hf1Rl9saPlBRCAoEAIfQWkF6liIgV7BVRsYu9rGvHP0DU1XVdV3ft61qwoy72go0mCEjvPRBIIIQUktB+7/fg9YcsJclM5t6ZOe9+ZiPJzL3vfd6597znnOc855h9bkiYxpo1a2Ty5Mny409TZMbPP0utxHoy+NSzpUuv/tI0q6WkpKZV60zFOwpl84a1kpe7Ubbl5Urhtq3C73aWFEtFeZnsqiiXXbsqhEupXbu2JCQmSb36qdKgUYZkNMuS5q3aSst2HfXftevUkVq1alVrHmU7S92582XZ/Dnyw2cfSsm2LdK5UycZMmSQnHPOOdK5c2c55phj9FWtE0ToQxUVFVJUVCSzZs2S1157Teb/4taqrFBaphwj/VunS+uGyVK3di2pXeuYKs2ILxJrULZrr2zfWeFeu6Sg1L3cT/67uHy37Ny1R3bt2St79u5TnOq4cyTXrS2pSXWkcb0EaZ6WJE1TE6VxSoL+vkoT+O3NfKP3uv/LL6mQZVuKZWVBmawu3CPNO3SRUaNGufUaIu3atZMGDRq4780uyc/Pl+XLl8vSpUtl0aJFsnr1atmyZYuUl5dLUpKbT9Om0rFjR2nfvr1+LjMzUz+blpYm9evXl8TExKhY9+pgaZ+JXQQ2bdokc+bMke+//14mTZokzZo1k3HjxsmwYcOkbt261X5Oxi5isXNlx4TD8O/evVsfkr/++qu8/fbb8sucuVJYXCqZbTrKsDPOl/ZduktiUrJgdKsz8p3BX/zrLFm7fLFszlkv27fmSVlpqTtnmexxBn+PO/+evbtlnzMm7gnsjH8dqZuQIPUbNFTDn9W6nbTp2EWat27r/t3cbUAaSC1n2I45pmobgL17ncHas1vWrVgqU7+aJGuXLpTdZSXSveuxctVVV0r//v0lNTVVEty5gzwKCgrUuP344w/y1oQJkrtyiXTKSJbOTepJ56apanSrM//dDv/y3XtlmzO46wpKJXdHmWxzhn972S4pKtstpc7o7/7N6GOYGWyU2GRg/NPr1ZUsZ/h5tXCbD4x/amIdSahTtXXy5l5asUe2FJer8Z+xtkBqNWgmQ044UfoPGCDde/QQDDdY5OTkyLJly2TVqlXC5rWwsFAfemwMWrdurUa/W7du0qFDB2nVqpUa/WjY4Hk42E9D4FAI5OXl6UYXw//OO+9Iw4YN5f7775cTTzxR6tWrp8b/UJ+z30U/AmEx/CUlJeohTZ06VV79z39k7YaN0rZzd+nUva907Xuc8/ZbOUNbWx/y1YFs/arlMvXrSbLk19mSn5sj5Tt3SoLzxPDsMfB13O60jttU4G3uct4sm4LiokLdENSp6zYA7gHfqGmmdOjSQ/oOPUlatetUrY0Ix+dVkL9FVi9ZIEvdZmTezz9Jk4apcskll8jQoUPVK0xPT6/OZUbsMxi4b775Rn5yhv+Xn2dInZJ8GdK2oTP+KdIwua4kOSNcnYE3X1BaIau2lsrs9dtlw/adUrFnn+xxmBE7qIt3n1DbGfpjpJYz+Hj9Ze4zZW6zwPsYbAAynMFvk54s7d18OjVJkUYuEoChrepgI1Lhjr1mW6lMX7tNNpfVlqT0JtKiTXvp2auXfmfw8jH8bAA4R6NGjaRly5aSnZ2t3j3/3aRJE90k4N0nJ7toiPu+VWc+VZ2/vd8QqEkE+M7zLPjuu+808kd0684775Thw4cLzzC+6zZiE4GwGH52jgsXLpQffvxRPvhgopRU7JWhp5+jRj+zVRtneBuGhF7OmpUyY/Lnssp52CUuxO/8RPXmk1PqS5L7cuoGwBl4Z5Y19F9StEOjAgX5eVKQt1nKy8p0c4DXP+iUkdK5Zz9p0ryFpNSvXuqBkD9RhyVzZ8q3/31P9pWXyHAXHsPwH3/8EPUKQ7rgGvrw/ojFHiEy8/rrr8us6VNkR94maZawW4a2S5e2jeoJoXeMcnVGiQvlb/7Nw/55XYFsKSpXQ17PGfsUfdWR+s6DT6pb63fDX1qxW3a4aMCBkYEEFwHITEuU7Cb1pW/LBtIqvZ5uRphbdcZmN4/5GwtlWf5OWb9jl9Sun65efIIL0efm5mq0ioccoU5C+qRsunbtKm3atJGMjAz1fqpzXvuMIRBkBEj3senF8L/wwgu6mb3pppvU8Ddv3lzTWEGev82t+giExfCvXLlSvvrqK5kydZrM/XWe1HNe1akXXOYMbF9JrpfijG5ooW/y6muXL5EdhQXqbSW4tEFScooz+IkaSSBn7+Xt97pQMnn/0pIi2bB6hfPIp8iGVcukyIVvUxum65y6uShEjwHHaySiOtDt2ePy1I5XsHLxPPlu0nuSn7NWmjdtIgNdCJkccrduXatz2Br/DPnsnS5aQmTm2Wef1Y1L8+R90iE9Ubo3T5NmLreuIexqzgTDT2gdD3vx5iIN+xOyb1o/0XntdaVeQh3dWMAdwIQTPcErx/BvcmmB1S5SsGRLkfIBkurUdgY/Wfq3cpEItwFgbmwaqjPgFnD8JZuLZfq67ZJfJtLAhTXx5PHoyd136dJFw/rk8/H6SQMQ7iR/D2/EhiEQawjwLNi6dasa/qefflrg/lx99dVq+Nu2bauh/1i7Zrue/QiEZPh5cGME8SDffPNNmTV7jhQ7UldW+84y/OyLpV3nrmEJiZaX7ZQdBVv1XPWcl5+o4db9Rv9QC+kZ5pzVK2X2lG9lsfPM1zh+wG5n+IhAdO83WE488wJp0+nYQ3280r9jYzHju89lzeL5Urp9m8v1d5GxY6+XAW4DQJ4/aAajuLhYIPSQ03vR7fBzVyyUfq0ayLHN6ksrZ6DTkupW+toP9UbC9pD58pzx3+gMLYGDFg2SpYkz/A1IIRwmV1/ivH6iA8vzimWWSxGs3bZTSYCNXMi/R/NUN7/UkLgHkAnZlCx1RL+vl+fLusIKt2lMlg6OmHnSSSfpeh177LGSlZUlKSkplts81OLa72IOAQw9zwSeB48//rjs2LFDLr30Us3xsxEm2mUjNhEIyfBD6itzYfTfPcgVqyTL5c/J7fceNEyNbDhg24uH/Ttrv44a1GOcl3+4PCsbEsLahOPXuUjBwtnTnYH+UvI25UiqI2x1c4b/rEuvdfPsHdL0tm7JleUL5qrnvOiXadI6q5nceOONcsIJJwQyR4bRnz17tvzgbvRPPvlEdm/dIKd0aixdmtZ3rPq6kngYw1xZkMjZY2Qh+JHvx60nZ5/ovHfy+rUPk0LYTwrcI+sLdqrhh4mf6zYC7iPq9WP4j2uTrpuIys7lwPdBJGRuK11E4Ttn+DeU7JOkBunSu+8AGe0edH379lUPn3A/mzUvenTgMey/DYFYQ0AdJOcMYfjHjx8vpGzPPfdc9fh7OQ4M1Ss2YhOBkAy/R+r74Ycf5LnnnpNN+QUy4MTTpVvfgc6b7qLlc37CVlpcpMZ+gTPK3378rqxbuVRJfd37DZLzr75ZywxDmR9cgi2bNsii2TPk+08mOo+5tlx++eVaDgMDnJBxkAYlaxj8qY7Ut3DeHEndvUNOzW4iHR2JziPc+Tnf3KIy+TWnUBblFsnK/BItC4TZf2xmqgzvmKEchFDmt6Fwp8xYu13WFe2RioRU6T1gsNzgNmpEaCCHmsEPBV37bLQhgIPEi+c3hp98/6mnnqqOy8CBAzUNFm3XZPOtHAIhGX5qnSH1sWOcOHGiVEhdOf2iMUrqa5CeoSH5yk2jZt6F4acUcMEv0+Wbj96W9S7Xn5RcT0P95155ozP8/UI6MamDstISV20wSz5/9zXZVVwgw04Y+hvJ7/jAkfzmzJktL7/0ksya9pPsKsyXFsl7ZVDbRtLa5dJDye2HBOIBH6bufqnL8WP4F24qkkJXBtjA1fdj+E/r3FTaN0454N1V/8+t1PW7dAIkv+XbyqVDj35yx+23y1AXoSHEH/QyzKpfsX3CEDgyAhh+IrZPPPGErF27VkuS0bmgpI88v43YRCAkw88X5UfH5P/ppyny05SpktQwQ86+7Frp0ru/y5MePgdf01B6O1lIgetWLpOFzvBP//Yz3QQ0aNRYQ/0jR10pHbv2DGkq3nlWLPxVvnCGf9umtdKhXVsZPGjg74I+IZ0gTB9mnoT1pk2bJn978klZMGuaZP5G6uuZ1UCJc2E6VUiHwTBj+CEGzsfwO9GfNGf4u4bJ8EPyQ1tgsdtY/LR6m2R26i633HKLhjYh9WH8bRgC8YbAz05sDXIfJG3KWI877jgZMWKE6lbEGxbxcr0hGX4vdDx9xs+ybOUqSc9spR5/x6695Eg5+JoGV8vWdu+SjWtXyeyp38viOT87Bv58Fd+hhr9b/8Fy/GlnSav22SFPBaNKxcEPn02UTWuWOeZ5gvTr01vGjBkjPXv2CPn44TiAJ7DEJu3xv/xFVsybKd2apTjBnhQN86e7OvkgDAh+CzbtkEXO8EPEo9RPQ/2OfHhSpyYu1B+aYYZ7UOwqCIgofLlsi6RkdZArrrhCvRvK+IKWmgnCmtgcYh8BeD+U86FpwQa4X79+muunrNVGbCIQkuFfsGCBvPXWW8rm3168UzLbdpQTz7pI2obIlj8a1Cj1UbIH27/c1dTvdkYe+ReU+/bupdQOEZ8SyVm7UubPnOpC/Mu1/j8tvbEc23uARiSOdTLCGZlZRztVpf6e4zYYM7//StYsXSClBXnSs3tXufmmm13YrN9hCYiVOnCY3gQBc/v27ZqS+dvf/iY5S36Vwa5uv6sjzTV3rHvU8fwcbu+kErs5TvBnpqv/X+zK7sjHM1o0SNRQ/6A2jaWlqzwIZSj50Bn/xW5T8cmizXJMoxZytpNaPvHE4dKnTx8jM4UCrn02ahGgKgvpbtK2iPj07NlTBclQq7QRmwiEZPh/+eUXed7tFH+dv1AS6jt50+xuMvCkEdLSbQBqcqDRv80J86Ditzlnnar0YTy8DQGkO8L8KOzxPn6f6uR722Z3lX5DT5H2x3aX9IymqjEQjnlu2bhe5rvw+bJ5s9X4d83uIPfec49qwmvu/DBs9nCcuzLHoExnw4YNWq/7ksvxF6xdIic7Dxq2PDK5MO/9HBhkFPYg9H23Ik+9/aLyPZKW7PL7zttnnt0y07QsMJR5ehuMZXkl8tniLVJWL0OOP8EJLw07UQlNCPbYMATiDQEMPpK98+bN0yotDP6VV14pMPttxCYC1TL8Xm572vTp8tTfnpKFS5drGV/H7n2k18Ch0qxF6xpFa4ermc9xNfTU5hPCx7gzCGmreI8j9VH3j+ePnG8jZ+RbO9W+bFe+133AEG3aw+9r1QqPweP8KxfNk0UupTB32vfSoXUL1bym2UUQ6vlpQrN48WLn8X+nN3j55jUyskszNaqo6qGV79cgUlPqcu95xRUq3jPV5d7XO8+fkdUgSQV8ujjjjx5AqDoDelD3f5T1fbU0Twprp0mXHr1k0PEnyFlnnSWdXF2/DUMg3hAgxP/xxx8LjtzmzZtVufKGG27QkH+8YREv11stw08OHSNLzvjRxx6T5avXSff+Q+TYPsdJdo/e0rhp8xrFDxnelYsXyJJ5s5SotmXjBj3fvn17BeU+Qv+7Xd1/klMNpCsgnn43NzcEewjv0yWQBj2H0wGo6uSLtrtGLy6tAIlwypeTJKtJuvzpT3/S3DGNXgif+Tko05k5c6Yr2/levvj8c6lduEnO6tpMMKihSPSGek0YfTaRuTvKtYwP1T50/iHh1XNRiA6uzHBYh8bS0XERUpzqX7g2KGudXsCPK7dK3h6nKNiinQwYMlRGjx4t3bt3D/WS7POGQNQhAKnviy++EEh+NKuiFPmOO+5Qkl/UXYxNuFIIVMvwe2QxNJ4fffRRWb1hkww6aaRjyw9S49qwcc0qPuHNk7dfvXSRrFj0qyCk4yyIivZ4OX7y/3QDJMSPWh+Ew1btO0mTzBbud42kbhilWFUvwJUNLnR6Ad989I5kpNVTtjglMei/+80Wp/qCWl2a8kxxr6TSfDm7a1OnhZ8Sts1Ppb5tB70Jst0OV7KHVC+5fYw+JXxo9bdw3j4bkwGuTTDePv0DwpUxoXkQ3fo2ltWSOg2aSt9BQ+Waa6+V3r1DE3Q66PLsn4ZAVCDA84GSbMr6cBBIed1zQKoyKi7CJlklBKpl+D2pRww/9Z8bNm+VoSPOcfXxg6RF2w5OE79mhWsI4e90Wvzk8otd0x6MvEYhnJdPZz5SAfmbNwqRgNwNa2WXIwLSKKhVh2zpddxQFRdq2LipiwjUqxJYh3sz59y+Lc9FH6bLF++/rrXnY8eO1TKxFi1aqCrc4T4bid/TX55ufFN/+tF145suKeXbXKi/iXbji8T5D3cOr3wPBj8v6viJANCWt58z+J2doiAbgNREuuEd7ihV//3GwjL5ZX2BrC8V2ZXYUHoPPF6FfGAz2zAE4g0B+D8zZszQCO7XX38tPLPGjRunQmRB4CjF23pE4nqrZfjLy8u1ZzmG/0lXF567dbuceMYFrkxukPOu24bcja+qF66cA5d+QNYXlv+Ogv2Gf73jAVBjT1kfRD9q+HsNPEGZ/RD8GmU02+/xhmhV2HgQ7kco6LO3X5UUJ3l/rfMgh7v2luyeCff7OQjlffnllzJtyo+yYM4sqV+xXU7v3EQ6NA7Pxqeq11bh0jGE89e5kDtKfSu3urbOrpSPdcxISdQQP55+a9ctsJ7r5BeuEL83T2r552xwCn7Fbh61U9xm8HgXoblV+jsFPxuGQLwhQIdKmP08z8n107wKw0/EkhbUQes5Em/rUxPXWy3D75WH8UV56qmnnOEvlOFnXaj18RD76qdF3tB5xh+hGvL7GOPtW/Nl0/o1Tk9/jvzy02Ql/DXNauW4CAPkhBHnatlhLafNjuZAKANCYVHhds3xf/LWK1Kv9r7fu1y1a9fO9y5XK1as0BzedGf4F/0620n1FsppnTKcEp4/hn9baYUy+NHkX+JeNPXZ7TZudPHr7QSFOjlPn6ZBNPahk1912wQfbk0x/Gw41jrp3kJJlp7HDZHbbrtdBjjhEhuGQLwhAPl3yZIlGu6nPJvOlIT6cVzq169vipYx+IWIGcN/qLXB+MMHWDRnpnw1cYKsWbZI8/7Zrvpg5MVXqFZ/opPwheEfyjDDXzn08PTpkkeOfb4T6qF8j7D7HufpI9TTwUny9nNteNuk19MWvAl1QtuQHW5WZvgPh4z9Ph4RQONjzZo16vG/+uqrauhvd1LWGP7GjRtre+p4xCWWr7lahj9oof7DLZDX1W/Z/DnyxXuvq6b+Tifs09rl+k89/1Lp6pj+1PPD/g9lWKi/cugV/Obp036XnP5mF96nmx9te3u1SJNOTfD060lD5+nXca35wu3pe7O0UL+HhP00BERb83rtumm2Bl+Kcj4MP/n+1NRUgynGEKiW4feb3FfVNVjhauwx/HTpK3Thf1j+w53CIGREUhMpIaYmjNx35BXZ7+nvEZT5kORdkV8sG10JH+H9xk4umJRDXzx9l9OHyBdqe+Ajz0Y0yvD/5L4Gv5H7brK65aMBZ3+PSQRI3RYUFKjHT+qWfyPgQ46f0r709PSYvO54vqhqGf7/LefLdeV8I5TcR618w0Y1W85X1QVD5OeriW8q6x4NgCautp8cP+WHLdpQhRDaF/vgcr7Gqcm/N3+xcj6RgtJdrlSvRFY4T3+Jk+Pd7HL6Fbv3qKffMytNsl1OHznehskJEWkPfGA5X20t5zterr3GlfM52V4bhkC8IbDLdRnduXOnGv7HnC4Lof9Ro0apx9+1a1cl+8UbJrF+vdUy/IcU8HGKeMf2RsCnjxPwyQwEbhD+mKt2z3Nldotmz5BCl/PPbNFGhp1xnnbpa966ndb6hzLhPwj4fOUEfDLS5c4779Qdc8OGDYMj4ONqdb/4InICPr97+k53f6F6+q5/gsvp++Xpe2vsCfhs2ZMgjbN+E/C59FIT8PEAsp9xhYD3PKeWf/z48ared/bZZ2s5X9++faV585oVZIsrsANysdUy/Mqgd0bVL8neymIHw3+XKz1c/OssgW2/ZO5MZfu3cfK95Pi7u/JDVAaTU+pX9pCHfN8fJHun/7Bfsve++/TGCYJkb15e3m+Svd/Lu+++I5GS7MXTX+08fXL6sPfJ6aPJ36R+gvjh6XuL9/+SvanSuXsvGYxkr3vQmWSvh5D9jCcEvOf5Tz/9pIJs1PUjN37CCSfI4MGDpVWrVvEER1xca7UMv4eM16RnrmvSk+ia9LTRJj0jVcTHe08oP9mJ7lH53V1ao1+rVi1JTEpWFv5+ud1Dq7rs/9xuFfjZlpcri53B/+6TD2TdiqWO1V9bOnXrre2Du7pOfeT3ExJDk9SlSQ897g9s0nOg8lW4pIGriyVNetavX6+hPJr0bF+3tEab9EDYK6n4Laef69j7rinOhgB4+m6vql0AD2zSM4QmPe7Fg86a9FT3G2afiwUEpk2bJn/9618FwS+6VWL0TzrpJKEk2UZsIRCS4act74QJE2TWnLlSWLJTmrfpJMNcPX+42vLuqij/TZ1vu9bJ16mbIE2bt1CBoFpO1hW9/UMNlP1KnbLfpnWr1ejD6ofgV1JUKGlOVZDWvKddcJl07NZLNxGhNutBIGjmD64t75IFUkJb3m6uLe/NN7m2vP33CwQdapIR/N3Bugv72/I2+q0tL8p44W3Lu33nb56+K9dbklskuXj6sPddyZ6fnr625XXzoO3vwW15keu1kGYEv5R2qsAhgFzvM888I+h+tG/fXgY4QaszzjhDOnas2W6rgQMiDiYUkuGnocMnn3wi02f8LCtWrZaGma3Uk0YXH1GcUD3dMld6V7A1T7bkrFdtfprvNGvRStLSGzkvPVlVpVSARzcAv2n1u/A+JXuo9210jXOWzvvF/VztNg4FWrbXukNnLeMbcOJpYYlMECZbu2KJ/PjZh7Jx9TJtJtO/b28ZM2aM9rUOwnfII2PSVOnxv/xFls+bKd2bpjhJ3BTp6BrhpDtmfTgGhhX9/Y0up//rxkJXslci6506X0nFbklyNfkQ+Pq0dJEh2PtJdSTRbd6ONPj+IKqY6ESWUhJrq4b/kd5/tL+RZihyOgKL3Gbky6VbJCWrg64TZUs83Bo1qlmp6aPNz/5uCPiJwJw5c4SIIGI+3At4/RdccIF06dLFz2nZuWsAgZAM/+/NX36aIlOmTpOkhhly9mXXSpfe/Z1RThSMcigDtny+a36z3Mnu4lHnbdrg8vGpqgwIEz+lfqqG/mnGowQV5+mXOXZq8Y7tqtpXWJCvUroo+dVNSJSW7TpJvxNOkc6OgNgcaWHXwCeU4eXGlDz43muybeNa6dCurQwaeJyce+652t4ylOOH67PME77DtGlT5W9OYnnBzGmS6UT7OqQnOg+8gTRLTQzLqUpdeH9rSbnL6Zdo050123ZK6a7dWo+Poc9wHj86/A2SXac9tzGs5VT5jjT4M3K9yPi2d+I+6fVCE1pCJnhzUZka/imu/W/TDt0CVX1xJCzsb4ZATSMwb948eeONN4RILjK9PXv2lEuN9FrTsPty/JAM/5YtW/RL8v33P8jEiRNl1zF19+fO+w6UBumNJTE5OaSL2llSLFtdjn65C9VP/fpTWbdymTPwe1R9r54T3UF1D4NO7l8NvytLQUUPvf7S0mLZ5zzQBNcSNzUtXSsN2nXuJr0GneA2AB0lKQyKfbvd+YhKLHHkwc/ffU12FRfICUOHytChx8vxxx8vrVu3Dun6w/3hObNnux39i/LLtJ9k1458aZG8Twa3bSSt0pM1OnNkM3z02ewo2621+os279Dudxu2l+mHUOAjnZCS4Dx396L7XmUGcr1EClo5JT+0+7Ncw55QBk2BljsNgWX5O2XZ1nLp0KOfoFA21K2ZSZOGgqx9NhYQWLRokbz//vsyd+5cFfU59thj5ZprrrGulbGwuAddQ0iGv6SkREs/aPmK4hPNegac6Or5neFv06mza4oTWj1/xW85/o1rVrpSvJ9l/erlKsFLJKDCsfVpyrNn9271Zvc5IqA4y1W7Vm2pk+BEYBwJkJQAbXgzW7bVlrxNXZqAxjz1XKSAHW2oGv10ByQKQZngd59OdMattlx+2WVKFAti6Hj5b6mZKT/9IIvmzXWa/TvktOwmGu4Ph1JeocvtrysolUWbi5zHv12Fcvi+ocDH8es4Q86rsop8vDfZNemhzv/kTk2knfP6QxmUEv7s2v/SnKeibqprzjNYbhh7gzbnqeOiRmwgbRgC8YoAqdtJkyYJpG2Y/dnZ2XLTTfu5SvGKSaxed0iGn9wxwg+wQZ999llZsmKVZLXLlk49+kpv51lntmwTEm579uzWcrzt2/I1T5+XmyOF7r/J12P8y5xnT7ke8yCczYO7riMA0m43JTVNGjZuIk0cGRB1PkL7pAcg8oXKPfAuatsWF41YOFfLBBc6Vn+r5s3cjXKjepDkyJJDjHh45wnXT2Q5ual/+OF7+dRxM/ZszXEGtbH2vQ+HYp4XSl+zrVSWufx+vpPoDWVg+PH40e4f2CZdWjiOQHXGXlIdLvqzamupfLcyXwr2JUvL9tkyyJXxXXTxKEGkxIYhEO8IrFq1SmjLO336dMH7h+CHHsmgQYPiHZqYu/6QDL+XO6alI7mhXxy7v7hsl2S5h+rwsy6Wdp27hmRkOT6hfVj6O110AU18mP7k7D1Pn7/zPvd/zuN33qQz/rVr19F0QEJionr+pASSXWqAqoBwGX2+CTkuEjFj8ueyesl8x+bPlx5du8jYsWOVDRuE+v2Dv61FRa7SwRl/hDpeevEFyV2xSPq3biBdfuuGl5YUWg59tzOuZbv2CLl+SHSQ6UIZEPvgAaTUrS2NHD8g2f2szvDKC+kP8M2yPNnXIFNOPuVUOWHYiVqy1NLqlKsDq30mxhBYt26dQACeMmWKTJ06VVOV999/v6Ytw/ncjDHYovJyQjL83hVrv/evvnIEv6mur/N8qdeoqZbLZTvPf7/BDc2geOcJyk8VBnIbkFVOCnjypPclP2eNNG+SIQOP669Sl926dQvKVP8wD6Q5S0tL/z9CM/dnyfqN5Nc9M02aOpKfMun/8Kno/weRiE2uFe8SF4WY7lIQjVpnyxVXjHEpmRO1Rtm0yKN/je0KQkcgJydHKOkjdfvll19qeeu4ceM0dampUXbiNmICgbAY/i1OGW7RwoXyvfvCTJz4oWNy75XjnRY+3e8I99cPsQlO0JAmxUDKYfHcWTL5v+/K3rJiOdGpXJ1wwlDdHQdV6UqFjRy7/1dH3nndRWhmTpsixfkbpVnCHhnaLl3L7KqSgw/auhxuPlucjgBtgJdv3SnrduyW7F795NZbb9O1ovNYoosM2TAE4h2BzZs3y/z58zUiCFmblrx4/MOHD9d7BB6MjdhAICyGH5IfDH88/v+4fs5rc3KlbZceLtffR41/0+YttbQv6sNFLp1AWqEgf4usXrbI5fZnybwZP0hGg/pyySWXaG4/GrpZebm8KS6s98vMGVKnJF+GtG0onVxNPy1xk6oZUg/aLeHpCqx1hMMZa7dJblltSU5vKv0HD1W2ch+nQ05qKOq/l0ED3uYTlQhs3bpVli9frgqfb775pla63H333dpzJC0tzTbIUbmqh550WAy/JxAz1+X63377bc317yjeKZltOsqwM8+X9l26uy9NkubdDz2N6PgtlQOE+ZH+nfr1JFmzdKHs2lmsuX3aWKJ0hQdJfj/IgxacGP8ff/xB3p7wluSuWiKdmyRLdpN67pUqjV0+PRYGXIM8pyuwzOX2Z6wtkGMaNJMhQ51ErwvxexK9ZvRjYaXtGsKBQGFhoZDn/+677+SVV14RPPxbb71VPf4mTZpISkpoVTXhmKMdIzwIhMXwe1NB43ny5MnykyOHzPh5ptRKTJEhp50tXVxotYnz+mHaR/NAH6Bw21ZBAviHzz+U4m2bJdspvg0ZPOh3wR7NkQc8F1bhyJIQ/cjnvf7aazJ/9kypXV4oLVOOkf6t0qWVY88jnEMdfTQOeJ4w+anbX+YaBK3YViarC3dL8w7HysUXX6whfvTHLbcfjatrc64pBLzILYb/n//8p1ZLXX/99Wr4SV/i9duIDQTCavi9ZjCE/N98c4Ks35grrbOPlc49+0mvgSdoWV00e1hbKd9bMEf1/xfOmi6NXYj/wgsvUNGezp07a04sGq5PxY5cCSSa3N9++61M/elHmfvLz1K3dJsL+TeSTk3qq0petIb8PU1+ygqnrimQ3PJajnDaTHr3HyijR49WKVK8l6BHZmLjEWNXES0IlLvSaLx+DP+TTuGTjQDS48Ndjp/OlSZpHS0refR5htXweyF/NJ8p75s991fZ6cq7mrVqJwNPGunK+7op0S/UbnhHv6zwvoPyQcoJ169aJrOnfifrVyyWsqLt0q1LZ8cOv0JD/A0aNIi6HFh+viMoLl6s5TsfffSh5K9dIZ0bJ0rHRknS1onlNHISuXj9lRXcCS/qVT+ac/SVg6Eh/mJU+px08IZC2ZuSIf1cGuZ4F+Y/7bTTtD45GjZoVUfAPmEIVB8BT5eFct/HHntMtm3b5hybC9Xwd+/eXZo2bVr9g9snA4VAWA2/V9dPnghRHzz/H52Of/kekR7HDZVjXci//bE9JD0jur5ARdsLnIDQKlk6f7b88tO3spu8frdjZbATtjj11FN1N1y3bl0ligVqdY8yGXb4RGlmzZrluiy+KfN+mSm7igok0+nk9G/VQNq6ZjpI7BL2j4bhCfVs2lHumgTtkBWOxb+5dI+0dXoSoy+9zIX4h2rr3YYNQ+vREA1Y2BwNgaoi4FX9UM43fvx41fygOx98GDqNZmVlVfWQ9v6AIhBWw+9dI+EiGvjMmDFDPvroI1m9dr2kNm4mrTt2ke4DhqhWfkpqA9dhL9hlVJ6nn7threvyN1tWL10gm5xscLOMdBkxYoSKv1CzD/ElWgebNZi8n3/2qXr+C+fPk33F26Rb02Tp0ChZm+qkuaY6QS7zO9DT31bqWgK7EP+cnB1SuC9BGjXLkv5OmneUq7qg9S5qilaWFK3fVpt3TSPA8wABn0ceeUTWr1+vlUr0sghi75GaxiKWj18jht8TikH7GbLfTOdRLlq81LVaS5Ju/QZJtivza+/C/g2d5x/kkKvn6dMdcO70H6S0cKu0cLK8fZ0BYSeM0Y/GEP/BX+jCwu3K5tWN2ocfyvJF86Xu7p3SIqW29G6RJq1dE58U12Snss11Dj5+Tf8bT3/Xnn2S60R6FriWuyudp7+pqEKatm4vp488Q4a4hkk9evRUQRITIqnp1bDjRzsCSPb+7W9/08qfHj16qGTvKaecoimyaL82m/9+BGrE8HvgUtu/0An7YFC++eYb2Zi7RdJck5wWTtL32N4DpEXbDpLaIF27+IVTQ987f1V/stvlRYe/4h2Fstl5+iudEVzrcvqb1iyX9FRXpTBkiHr6AwcOlBYtWgR641LZ66dEkbD/kiWL5ZNJn7j1miarViyX2jt3SJcMl+9vmKitextojX8t5/0HI/TvGfySit1S4Dz9tQU7neEvlu176roIU1Pp0aefnHfeeUrmQ4yknuvhYMMQMASOjACpP1j9RAJh81OmfNZZZ2lK88iftL9GCwI1avg9lihfIDSgZ/0yWxYvWSquQ7sS/Tp07anePwI/dV3YH419P4fmuBzbfeuWTbLSyfGuXDRPVrjX7p0l0jIrU3r36insfPH0Y8mQsNnh2qnvX7NmtZb5ffbpJ7Ji8UKR8hLJcBmZ7CYpTtkvWTJTkzTvH4RITbnrBbDD9Yag6x46/OsKy2Xbzj2S6Tz9k049TQYOGuw8/R7q6aPOh7dvwxAwBI6MAG15qeOnUQ8RTVJkF110kdCm10ZsIFCjht+DyPP8qRuHMbpuQ47UTkyWjKzWkt29j7Ro11EaNWm23/t37XTrOKJcJIfXBZA2u9u35knO2pWu696vkrtutews3CZNMxrJcccd9/urZcuWMeHpH4wxrN6yMmdElyyRL774XGa59Vq9epXs2rFNmiXtlaz6dVyNfz1pUj9BUpPqSGKd2lLbaRZEUrZAIzIurF+Kl+/aAG92crwbdlTImsIKKauVrMTRHr36yJlnnSm9evVW/oV5+gevtP3bEDg8Asj2TpgwQeV7ud/YPF9++eX68/Cfsr9EEwIRMfye579mzRqh1G+O6+I326n8bS3Y7sr70qV563Za69/Gkf+aZO0X+omkR1lWWqIyvOtXLZclv850ZXvLZVveZkmtlyzdju3sPP1eavQ7OrEeallj1ZBwkxP2L9y+Xda7ftwLFsyXKT/+JIsWzJPc9WvkmPJiyWqQpJr+yPvS1AfjD/EvEkPn5+ZIWH+dk+GlTn+1y+cX7XHtmFPSpF2nzjL0hGHSp28/7SXerFkzLbE0Tz8Sq2PniBUEKPFFq59n9Xb3LOjSpYtcd911mjKLlWuM9+uIiOH3QOZLhPGfN2+eqvstXbpU8p0+dJ3Ees7rz5asth0lq41TVHPef72U+pJUL0WSXEtdr51uODYDGI/drktdeVmplLlOdaUlxdpwJ2/TBtdmd4XK8O50NfoNUutLB9ePml7UhLr48mdkZMSkp++tj/dTuw86jCjLhJ8xe/Zs3f1vzlkv+1zeP73uXmnvav0zneFPc55/SkId1zK3ltsE7M//h0vxzzP0Fbtdu9/d+9v9ljpdiLzicjX6W3buk2JJknrpTVyXvbZug9Zbhp14ohp9Svas+Y63ovbTEKg8AqRmP/30Uy3z5XmNeM8tt9yiuf7KH8XeGWQEImr4YfujBkUziA3Oo1zkdpbU+y9fsVK2bS8UqV1XMpo2l2YtW7sNQAcXCWgrmS1aS2rDdKfzH3qdPIZk7949StzL27hBNjkvdoMz9ps3rJP8zRtlV9lOqZeYIO3btpHBQwYLohVtWrdW4Yp46uK2H6e92sIXEQ/KevAC5v06V2Y54h941dm3W9ISjlHSX2Zaopb9ZaTs3wiwAQjHJm234x2UuU6PBaUV2laX+vxNLrS/1Xn8RWW7JbVRE+ncrad0dwa/r2u4Q0QGkRGkRaNRVyHIDwqbW/wggPQ6ip48m391kVnkrf/85z8rqTl+UIjtK42o4feg9BSiVrvd5HT35aK5D3nl/K3bZN8xznNMSXVef3MN+9PWt2HjJs77r+fq/p2GvMv/EwGAB1CHzYAjbNFh7fdEszPu+/btlb17aKizW3Y5XXo8/F1OfW9XRbnz9Heq3v7mnHVCfT4h7PzcHJfbz5f0hg1UqGKQI4UNG3aC7nTjyeB763PwT0+KecGCBfKTI2nC/s/P3yoVJTskcW+ZpNXZK01S6kiGU/pLr5ewX/THrUmd2sdoGoAqANIB6AB5GwKSA1p/7356wju797pojMvf60/332XOuy8u3yXU5ue68ryCCpFiV5u/L8GVF9ZPlTZt26kXQkSGTRqhfY7vnePg67B/GwKGwNERYKNPLf9PP/2kpGyY/bTnpZ7f7q+j4xcN7/DF8GsI1+WS8f4J9ec473+l6xa30nn+y1eudNGAHMlzm4Bd7j0p9dOcx99QGjTKkLSGjdX7pwQwtUFDqece/olJ9aRuQsLvqnn7mfm7tCRvpwvjF7n0wo7CAilyrx3bt6nRL3I/Kdfb5cr2ajnzw4ag2BH7COdfddVVqvCWldVcGa3mOYrbNO2SnTt3qoTnpk2bZI3zCJa4NM2KZUtl9fKlss31MNhVXip1Za8j/SVo+D81sZbUd7X/qe5V36UCUABMcukATwKYB8j+UL5IhdukIbNLWV5xOS9n8N2/8eq376yQUuf173ErlZreWFo5Imi7jp2kc+cumopp9VtExtNTMKMfDY8dm2OQEeAe/+WXX5SITcg/MzNTHnroIVXwgy+jjlaQL8DmdlQEfDH8B86Kh39xcbHKQ5JPWuw8f3JMhJvy8/Jkp2OZ73NGIjG5vnu5xirulezy/8nO6Cc7DgCGH+8fz59B69zdu52H74z6TkfaK3UGnQ0AOf1y9+/y0mLZ5yIBiQl1VcUNj54NCA1r2ruc/o033qhfcNT4YpXEdyD+Vflvcv909stz68IaLXPGf4lLAaxdt1a2bMmTkuIi2be7Qmrv3SUJrmgz8Zg97rVXkpznX+93DoDT/lcyoDP87n/OsZcKV5ZH7r6MXP5e9+99tWXXMXVkl/ByksFujRu6aExLp5vQKbuzM/qddZOGjoJFZKqygvZeQ+DoCHhVWDTree+995TQ/MADD8jw4cMlKSnJlC+PDmHg3+G74QchL/Rf4sh2RU47nnpyjEtOTo5uADbm5jp2aaFsL3QyrO7vpaU7ZZcrPSNEXLtWbTnGhZI9T4+NBC9y+YST2Z0muy9rA5f3bdggVX9mupBwW5fHh6yHhCskw3feeUfnce6556rh7+WY/ISObfw/Avtx3atiP2zWWCvWgwcFRMANG9bLRhetyXcRgO2ufTERliKnCkh6xX3R3Hq4l4biDzzm/4f667jIDRGetN8iPI0zmjjORzPJatFSN2XNmzd36ZiGkuZqizH4rJ1FZP4fS/svQyAcCMDrwRGi9Pr1119XB+iuu+6SEx1xFtIsxt9GdCMQCMN/MIQeCXDz5s0qGwkRcIvbCOTn5WtqgOoAQvOUCeKFEt7HKDH2GxaXT3YRANqu0n6VMHDjxhlq6DH2LVpkqSFBhAfDQdnKc889p/0F8CZh8o8cOVJz/N7xDp6j/Xs/AuBeVFQkGzduVMIm+cFct1Hb6jr/bXW8CR4iRW6TUF7uuBZs1txaMfgc6wd/oNRt+PjvRo3SpWvXrtpIJ8MZfYh6GHt0E9q2baueBzr7Fmrcj739vyFQEwhwT/LMxeN/6aWX9H67+eab1ePHGapfv35NnNaOGUEEAmn4NU/vDDpiMniW5JcxDOUuzFzhfvJvfo/B4D2Enz3jj8HHOFDKRaieLyk/+XdCgqs7d6x9PEU2BPwOw45C1bvvvqtlaxgxlPmuv/566devn24gzNAc+RvJRo11YD1YG/5b14s1cymX0pJS2eFw5W+e8cfwEykAexo60SIY9vAlrplOL6eQyFrhWfDy1ouNnG3EjrwW9ldDIFQEuI+JuOLxP/PMM/p8vfbaa9Xjb9PGka2d128juhEIpOE/GqReagADgzHB8OD5MzDSePEYdYwGRp9/YzAONzA8tKKExUoJC7tacv2wWNPT0y20dTjgjvJ7jLvn2bOhYr1YO9aK3+NVgDe6DnAGsrOzhZAiERcbhoAh4A8COFJ4/Rj+J554Qp2sSy+9VD1+IqJESm1ENwJRafgxGhgP7+V5+ywFBh7jzwvvn9fRPHZSB5AJMf5vvPGGbiTQpqYPNfrU0dx21++vJ2vF+hxo8PndgYYf449QUFsXzqdsiBagR9qo+X1Ndn5DIJYR4LmK8SfUP378eI3GXXDBBWr4e/bsadynGFj8qDT84cadsDQe6dSpU+X5559XUiHkvsGDB8upp56qfAAzROFGXRTnn3/+WTdcX331lWRlZcm4cePkhBNO0A2bYR5+zO2IhsDREPA26zhCDz/8sPJ3Tj/9dHWE6FlCNY2N6EbADL9bPzxS0gWoVNGcgtAzHirNKa655hrVqCZqYIYovF92SIBgjWfx0UcfaWTlwQcf1Fwi+XyiNTYMAUMg8ghg/BHxefzxx5WDQ/qNSBybcvL8NqIbATP8B6zfKici9M0336jnD9OfnS25/iFDhqgMLLwBG+FDAELfEqfbgOF/++23FeN7771XQ4qQLzH+NgwBQ8AfBEi//f3vf5eVTlSNlOfAgQPltNNOkw4dOvgzITtr2BAww38AlPQQgGRGiIu6fsbo0aM1xEWjCjrz2QgfAh63AsP/6quvKiHzjjvuUMMPgQg2vw1DwBDwBwHU+yhzXrZsmabhqHI655xzlITrz4zsrOFCwAz/AUjCOkc8iBDXCy+8IOgIkNMixIV4BSEuC/cfAFiI/wmvAnlQDD/cCsYNN9yghp98PyI9NgwBQ8AfBEh9siGn5JbqKHhPo0aNUq0Nf2ZkZw0XAmb4D0ASNiu5fsL8r732mixcuFA1AWgCc+WVVwqMVgy/Gf8DQAvhPynFJMqC4f/HP/6h5X5XX321brKo6aeU0oYhYAj4gwBNuUjBwcPhuUgjrCuuuEKfg/7MyM4aLgTM8B8CSeQqP/vsM60xJwfd2jWCIdcPwQVBIMs9HwK0avyKkiGEmKgXhkRE7TCpleFOE5yGSags2jAEDAF/EODZB+l29uzZKujDPTl27Fhtge3PjOys4ULADP8hkES1ivAWuf4PP/xQBYAuv/xyzfVTa27KVYcArRq/8iIsGH7KhsD9/PPPV4+fsCJdwWwYAoaAPwjgAH3++edCyS0Ev44dO8ptt92m6U9/ZmRnDRcCZvgPgSSSlTDOUfJDqxq9ecpYyPXD8Kc/tY3QEfCEfA6sF4Y1DNYwiK1eOHSM7QiGQHURWOO6pZKGQ98Eoh9Ozz333KP6JpburC6qwficGf5DrAOeKKI+fNkhtyx2rWchmsFqRbqSXJd98Q8BXDV+hfHnwfKXv/xFO/xh8K1euBpA2kcMgTAj4Elq//jjjzJ58mTdiHsCW8Z1CjPYET6cGf4jAE673o8//ljlZNn9tm/fXlnnGCevJewRPm5/qiQC1As/9dRT2omR7nxevTB42zAEDAF/EEBgC6Izqbj//ve/2i0Tw0+Fk7XD9mdNwnVWM/xHQJIv/ty5czXk/+mnn2pJC+x+QtG0ik1LSzvCp+1PlUVg1qxZv9cLE97v37+/nH322VYvXFkA7X2GQA0gAOeGaCeGH10T2psfKLCF8bcRnQiY4T/CusE4p86cXP+///1vZZ2j3U/XvgEDBqioxRE+bn+qJAJsrl555ZXfUyqUT9IkCe/fhiFgCPiDAJomNC8jz/+f//xHu5R6AluImZnAlj/rEo6zmuE/Aope+9+ZM2fKyy+/rKp+tOzF6GOYkLG0XP8RAKzkn+bPn689EvhJzh8OxZgxY7RXQiUPYW8zBAyBMCOAwNbGjRvV8CNoxqCsmXLb5s2bm8BWmPGO5OHM8B8FbQwRpX3vv/++sAHYsmWLhqCvu+463QAkJSWpyM9RDmN/PgIChBM/+OADzScWFhbqhuraa6/V5khH+Jj9yRAwBGoQAQS2qGjC43/66adVYOuqq65Sw28CWzUIfAQObYa/EiDn5OSo0SfkTxMfcl107SPkT605oj42qo8A/REmTZok5PrXr18v9EW45ZZbNNdf/aPaJw0BQyAUBFDrKykpUcNP1Q2bck9gi2inCWyFgq6/nzXDXwn8UZTDIFHWgpQvO+GzzjpLSX4IzRD+t1F9BOiK+PXXX8v06dNVJhlv4q677lKlxOof1T5pCBgCoSBwoMDWI488ogJbNOkZNmyYRuNMYCsUdP39rBn+SuDPzhdRH8rOXnzxRS07wzhRdsaN0Llz50ocxd5yOATWrVunmyqaI/GiGdL999+v9fzGoTgcavZ7Q6BmESDNuXfvXiU3Y/iJfJ500knq8CBfTmWTjehEwAx/JdeNm4CmFRMmTFBhHxj/sM7JeSHsk5iYKLVr167k0extByLgpVJQ8Pvyyy+VOES9MJ4FmJrxPxAt+29DILIIILD1xBNPCFomlNoOHjxY8/wo+dmITgTM8Fdh3fBMuQnwSsn30zP++uuvV8+UfBetK21UHQHaH9MClHpheiOA5YMPPqhCIbahqjqe9glDIJwIoNVP90xPr59W5SNGjFDt/nCex44VOQTM8FcBa6+ulVz/m2++KZT7XXDBBeqZQnZp0qRJFY5mb/UQoC8CKomwh9966y0VRkITnLIh64booWQ/DQF/EKA7HylOuvU1bdpUu/Odd955luL0ZznCclYz/FWA0WsjO23aNKGulQgABp/Q18iRI20HXAUsD3zr9u3bNYyI4ac3Am2Pb7/9djX8RFUsknIgWvbfhkBkEZg3b56SmhcuXKj3Zs+ePZXd361bt8hOxM4WNgTM8FcBSvL8vAhLw+5HcQ7ma48ePVRwpk+fPqphbbn+KoDq3uopJGL4n3vuOcUYoRA0wZHwpUGSDUPAEPAHAQz+u+++q889KprgNl199dVCRZON6ETADH8V1w3DD8mFfDS5fkR9KGu54YYbNNffsGFDlbas4mHj+u08TEijYPj//ve/m1BIXH8b7OKDhgBpOJr00K0UCXOqmNiYQ2q2EZ0ImOGvxrpt3bpV5Xthob/99tvKOkfYAhY64jPoWNuoPAKUS+L1s5l6/PHHVSjkkksu0VC/CYVUHkd7pyFQEwhA6vvqq6+0nBmVzQ4dOsidd96p5cw1cT47Zs0jYIa/GhiXl5ercYLh//zzz6uedd++fWXIkCFyyimnCDX+NiqPALXCGH88/ocffliFQiAPEeqnYY8JhVQeS3unIRBuBNauXSs4OUQ40TJp3bq16mzwvLNS23CjHZnjmeGvBs6E+zFWsF3p2kdzGQhp5LwuvfRS/VmnTh2pVatWNY4efx/xuBM8XDD8NAahCyLtjxFJMqGQ+PtO2BUHBwF0Nijp4/7E88/KyhJ0Nrg/TWcjOOtUlZmY4a8KWge8F2NFCAypWVj+MF8xUOS+2AlDSGMzYKNyCIAnERRC/XgY1AqDI14/Sn42DAFDwB8EDtTZ+Oijj1Rn44EHHjCdDX+WIyxnNcMfAox5eXnauY+dMN3lMPRXXHGF7oRRtYLoZ6PyCBBGhNzHhorcPt7+aaedpjnFyh/F3mkIGALhRMDT2YCDg3JpWlqamM5GOBGO/LHM8IeAucdGR8WPXD8bAWr66dpHGMw81aqBS3c+yvmWLVumZXywhumFkJ2dXbUD2bsNAUMgbAigs0EU7jvHwSG16elsEI0zxdKwwRzRA5nhDwFu8vyo91Hm8tJLL6n3z24Yot+oUaOke/fumgOzXH/lQEYXgQfLokWLNFUCse+iiy7SuuHKHcHeZQgYAuFGgIqb3Nxcrbr517/+pfymsWPHatUNOhs882xEFwJm+ENYL4+URj/5Tz/9VBmveKuw+sn108EK1bm6deuGcJb4+ajXBAmy5IHCSAgk2TAEDAF/ECgrKxO8fjz+p556SjuVXnnllZrjp7TPypf9WZdQzmqGPxT0fvssu2HU/Mj1T5o0SY39Nddco3X9tiOuPMDUCE+cOFHmzJmjgj7k+a+77jrt/V35o9g7DQFDIJwIUGpLWhPD/5e//EXvzYsvvlg9fmR7rUdJONGOzLHM8IcB59LSUs3v07yHZhbbtm2zvtXVwJXIySeffCLk+skpIoZ0yy23yIABA6pxNPuIIWAIhAMBL6XpldvC8j/zzDPV44eH07x583Ccxo4RQQTM8IcBbMLS7IqpdaV5D+H+Zs2aae9quvfhuVq969GBXrVqlXzzzTcyffp01UZo37693HXXXZoyOfqn7R2GgCFQUwiQ1sSxefTRR2X9+vUazYTATMltq1atauq0dtwaQsAMfxiA5aZgV0zbSjSt2QDQua9jx45y0003aU06feUR9bFxeATAjAoJXqiEoRBGvfDxxx9vCmGHh83+YghEBAH0Sp588klZvXq1KmrCYTr55JNNqTQi6If3JGb4w4gninOEqdkZf/HFF9KgQQO5/vrrtbSPCAC95W0cHgHwo+kRIcXPP/9cQ4gPPfSQehcWMTk8bvYXQyASCHBvPvvss7JixQpBp4QU3BlnnKEpuUic384RPgTM8IcPS200A9EPw095X1FRkYwYMUINP7kwpC5tHB4Bcocw+iERffjhh9K4cWN58MEHTSHs8JDZXwyBiCEA6fbll18WSLjp6elKuvVSmRGbhJ0oLAiY4Q8LjPsPQk0/DXxQoEPQh50xIj7IzyJEQztLavqtscWhQafrIS1AMfxvvfWWRkg8hTCTQD40ZvZbQyBSCLApf+ONN4SyW/p2lk8AAEAASURBVJ5jlNledtllqlcSqTnYecKDgBn+8OCoRyHXD9EPARokfBH22bJli3Tp0kUQvCA0Rk0/YWsb/4vAoRTCbrvtNi0bMoWw/8XLfmMIRBIBPP33339fENrasWOHCmtRtozQlo3oQsAMfw2sF6xXiDCQ1PBeCVlj+GHBmgE7POAohG3atEkVwpDuhTB5ww03qOFHDwGv34YhYAj4gwDVSl657YYNGzS3f/PNN2v1kj8zsrNWFwEz/NVF7gifYzfMjQFJ7dVXX1Wlq3PPPVcNP617IfrZ+F8EvN4HNANBIQzFMBTChg8fLpT2kVe0YQgYAv4gQLkt3UhJZRLu557805/+ZOW2/ixHSGc1wx8SfIf+MDX9iPrg9eO5IkZDfp/yl5EjR+pOmTy/5fr/iB+4lZSUqMePQlhhYaFccsklSu5DC8EUwv6Il/3LEIgkAl65LaW2Xrntfffdp03J7FkWyZUI/Vxm+EPH8H+OQIiaXD9kmHfffVdmz56tDH/kLSnvg+FPnt+a9/wROnDD+OPxP/zww8qPIFJCF7A+ffpIZmbmHz9g/zIEDIGIIXCocttx48bp/WnlthFbhrCcyAx/WGA89EHw9An3k+vH+yfET/Me2vYStk5KSjr0B+P0t17TI8ohMfw5OTlyyimnaB3/wIEDpWXLlnGKjF22IeA/AhCVvXJbSH5euS2pOBMo8399qjIDM/xVQauK74WljsoVxp8yGLxZ2swOGzZMZXwtdP2/gGL8p06dKo8//rimSCiFRBYUr5/SSBuGgCHgDwL0IKGfBoRlnmcpKSny5z//WTk4iJVh/G1EBwJm+GtwnajpR8THy/XjwULuGzx4sJx66qlKjrHc2P8uAOShp59+WlauXKncCLz9008/XWgBasMQMAT8QQDODRVLGH6EfJAgp4kWHn/Tpk11I+DPzOysVUXADH9VEavC+72c9bx582TChAnauheRH4QvqH8lb22CPv8LKPoHkCIpH6LzF5wIcv3Z2dn/+2b7jSFgCEQEAYi3hPvh4CDdy7OMttkYfhr14PXbiA4EzPBHYJ28rnOEsJG9pCadXD8h7LS0NAuRHbQGCIRQBokQEuFEBELo/921a9eD3mn/NAQMgUghQAQTrx/DT7MedDcuv/xyNfy00CbnbyM6EDDDH4F1QoqW3Bi5/nfeeUfPOHr0aM31c8M0atQoArOInlNQI4xkL5ESqiO6d+8uY8aMkZ49e0bPRdhMDYEYQ8CTJMfwjx8/XniuwVnC4yeKSbjfRnQgYIY/AuuEEE1BQYHWvr7wwgtCMxpIa7Sb9Uhrluv//4WgvfHEiRO1DBLckDymDJLUiA1DwBDwBwFPkhwHhqobVDbRJYGsjBy5NSHzZ12qc1Yz/NVBrYqfwWuF0U+Y/7XXXpOFCxcqMYYQNsp0eLIYfjP++4ElOvLZZ59pi941a9ao4BEkIh4uNgwBQ8A/BDD+lCcjsIWgD84LL0qUW7du7d/E7MxVQsAMf5XgCu3NdOvDoMHyx6vlRiHXj6Jf/fr1JSEhIbQTxMinKYH85ptvZPr06Rrub9eundx1111aDREjl2iXYQhELQLcl0hqw11ClIznl1elFLUXFWcTN8MfwQXPy8tTwhqhMvrN06kPcgyhsrZt20rDhg0jOJvgngpPAklQPAvEfNggPfDAAyYNGtwls5nFEQKzZs2Sf/3rX1p1A5u/f//+ctZZZ1nVTRR9B8zwR3Cx0O/Pz89Xg/bSSy8Jghh07CNUBsOfm8iGyKGkQR966CHdIJk0qH1DDAF/EaDq5t///rc6MXTMJGUJyc+qbvxdl6qc3Qx/VdAK8b3k+imJoU6dcjX6W3PjUKd+6aWXKnvd8vyi5EekQWEPQ/KjTAiPHyKkSYOG+CW0jxsCISJA1Q26JNyjaJV4VTcw+21EBwJm+H1Yp6VLl8rHH3+s7S0hr9Hekr7zKNQlJydrCsCHaQXmlJQJId6DQhgPGPgP99xzjxp+NkomDRqYpbKJxCECXtUNZGWillZ1E31fAjP8PqxZbm6uEC4jh/3pp59KvXr1lN1P2J9GNIj6xPNAJIQGRxj+V155RUmPt912mxp++huAlw1DwBDwB4EDq24g4qJFcuutt1rVjT/LUa2zmuGvFmyhfQjFK2pgMfzkynbs2KGsWEpirB5WVBGMzRGGH+lewoljx45VoRBUD+N9YxTat88+bQiEhgDGfvLkyVqdhAMDMfnuu++2qpvQYI3op83wRxTu/SdDAWvnzp1ap45HS1iblr0YfUgyxx57bFzX9HuCRxh+yobACr0DFMJo1ENLYxuGgCHgDwI06kF+HMcFHg5RygcffFCJysZR8mdNqnpWM/xVRSxM70cIA3Lfe++9J5TH0PyCkBlNL9gAJCUlqchPmE4XVYdB7IgKCAw/QiG0Nx41apQafpjD1s44qpbTJhtjCBCtnD17thr9Tz75RJ0Wr+qGjn00HrMRbATM8Pu4PrTpnTlzpu6cEayhuxVd+wj5Z2ZmKqnNx+n5dmqvq6GnCY7E8TnnnKOGn9IhOvbZMAQMAX8QQI8E9VHuTxwX9Efuu+8+vT+NnOzPmlT1rGb4q4pYGN9Pbp+wGSI1SPkS0kYIA5Jfr169dCcdxtNFzaGIhvACF5qBsEE6+eSTFRdUwggt2jAEDAF/EKB/xsqVKzUix3MLsu2f/vQnJd+ShiNaaSPYCJjh93F9vJD2jBkz5MUXX1QJTORpKevDw+3cubOPs/P31Bh+pI0ff/xxZfijDobIEbX8kIlsGAKGgD8I4LCwGScVx3OL0P5NN92kHn88Ryr9WY3qndUMf/VwC9unMHCeIAbCPjD+yWNfddVVKuxDzTpqdfE4fv75Z3n66aeFHgdsguhoOGLECCX4xSMeds2GQBAQgH+D1gaG/x//+IdUVFRoitLblJv0eBBW6chzMMN/ZHwi8le06WHJevr0KNXRhhYp34yMjLitW2cjRBtjBI/wJFA4jPdISES+kHYSQ+AICGDocVAw/E888YSWI6M8OtxV3bBB55llI9gImOEPwPqQM6M2lpz2m2++KZT7XXDBBapNT2lfvLLYf/31V5U2XrRokW5+4D3A7jdN8AB8aW0KcYsA0uMYf8h9jzzyiPYfOe+88zQNF8/cpGj6QpjhD8BqeTtoctp4uEQAMPiDBw+WkSNHSseOHQMwy8hPgRTI22+/ra154UOgCX7FFVdIz549Iz8ZO6MhYAgoAqQnMf44Khh+mmrRlhdSMvwkRLZsBBsBM/wBWB9uJF54uLBkUcPixqLpxZgxY6RPnz6q3x9vuf4DNcHJKbIZQuegb9++AVg1m4IhEL8I8LwiPYnOBvLaGHyPfNumTZv4BSZKrtwMf0AWihuJhj2Ez8j1U99PXpvmPeT6IczEW5mMaYIH5Mtp0zAEDoEA1UiQbyntI7eP8T/99NONfHsIrIL2KzP8AVoRvFqM3Q8//KAhbuQvR48erbl+VP0aNWoUoNnW/FTgPXz77bda1jdv3jwt4/vzn/9smuA1D72dwRA4KgIHk2+JxJ177rlxXYZ8VNAC8gYz/AFZCKZRXl4udKYjhPb8889r7oybiRDaKaecItT4x9OA60D0gxf5xFatWskDDzygyoamCR5P3wS71iAiQGryP//5j0C+JRrpkW+7desWxOnanA5AwAz/AWD4/Z+E+5GrRQebrn3z58/XlrTcUJTL8DOetLAhDdHHgAjIZ599plK948aNU/YwfAcz/n5/Y+388YwAsr3vvPOOcpMgKGPwaaZl5NvgfyvM8AdsjTD+5My+/vrr30PcSNTeeOON6vmnpqbqZiBg066R6dC4iM0PvIcPPvhAUx14/AiFxHMToxoB2w5qCFQRAfQ1PvroI3VUuFfJ88NJMvJtFYH04e1m+H0A/WinpAkG4TM8XQxeQkKClrFRLoNcbbwoY3mcB4RC0DeoX7++kONHKCQtLU1QNbRhCBgC/iCAouYXX3whKGzCTaLs+Pbbb1eFTX9mZGetLAJm+CuLVATfR7MeRH3od02un40ANf107cP4x0u5DHwHSoXw+F9++WUtabztttvU42/atGncKhpG8KtopzIEDouAV4UEJ4mUHM+le++9VyOTh/2Q/SEQCJjhD8Qy/HES5PlR74M1+9JLL6n3j4dLCA3lOoRsyHHHet9rZEFpyYvH/69//Uv5D0gZ4/GT/gATG4aAIeAPAhs2bJDp06erg0L1DcI9Dz74oDooPJuMg+PPulTmrGb4K4NShN9Dnp+XV8fOzbVs2TJl9ZPrpzUtrTDr1q0b4ZlF9nRlZWWyfft2NfxPPfWU0BwE5T4Mf4cOHeKuvDGy6NvZDIEjI5Cbm6tiY0Tk/vvf/6q0OIYfDg7PpngTHDsyWsH6qxn+YK3HH2aDt0vJDLn+SZMmSXJysnbBGjZsmO6uY93jRaaXtAcePwphpD+IePBggUEcrz0M/vAlsX8YAj4hkJ+fL4sXL9b7E2ntBg0ayH333acb85SUlJh3THyCPSynNcMfFhhr5iB4uOT3qWGn7/W2bdvkpJNO0jw/Xj/h7lgeXsoDj+Lhhx/WsD/d+TD8yBg3b948li/frs0QCDQCROMQ2WJj/uqrryrZ9o477lDDT4dRHBUbwUTADH8w10VnhV4/Xi+sWZr3EO5v1qyZ9O/fX7v3oV0f6/XspDzY+GD4ySmefPLJuvGB7BjrG58AfzVtaoaAFBUVyaZNm5R8+9xzzykilPORisvKyhJKj20EEwEz/MFcF50VRg+vl2Y15NDYAKBmR9nMTTfdpGUzlLQh6hPLA9Ywfb9hEffr109ZwzxcKG20YQgYAv4g4FUf4fH//e9/Fzg5V111lUbk2rdvL+np6f5MzM56VATM8B8VIv/f4CnY4flSN0suDXY7pX1EAKhvj+XBhsdrBkLPApqBjBgxwpqBxPKi27UFHgGikSUlJerxw8Gh/BYODptyopHGwQnuEprhD+7a/D4zytpg0GL4Ke8jxIbhw/DjARNWi+VxYDMQNjpcszUDieUVt2uLBgSIRmL84eCMHz/eODjRsGi/zdEMfxQsFjX9NPChDSaCPihmIZZx3HHHCWQ3pDJjuW7WawaCNjiEIWsGEgVfWptizCPglR3jkDzyyCPKwfHIx8bBCfbym+EP9vro7LjBIPoh44uELx4w2thdunSRsWPHyoABA2K6bhaDT7kQGwA8DGsGEgVfWptiXCDAs2natGny17/+VTk4XjdR4+AEe/nN8Ad7ff4wu/Xr1+tNhpQvhBpKZjD8hPwzMjJiVsIWcuOHH36ozUDQ72fDA8fBmoH84eth/zAEfEEADs4zzzyjkUiIxzgiI0eOVBKyLxOykx4VATP8R4UoOG/YsWOHhtMQ9KFuljp/ct0YfsLf5L9jcZDaoC3vzJkzZdWqVfpAQbOfB4wNQ8AQ8BcB2oijM0K3PhwQNuTnnXeebtD9nZmd/XAImOE/HDIB/D1hbow9oTXqZmlgQ34fMR922DDe0ceONY1sREImT56s1z137lyVLqZLH3lEG4aAIeAvAvPmzZPXX39dFixYoCnHnj17yujRo7WniL8zs7MfDgEz/IdDJoC/h0VLrp8e9e+++66GvmH4k/Mm9A3bPRab95DimDJlijYDIdrRqlWr35uBxNomJ4BfO5uSIXBEBOAe8TyCg0N5X9euXeXqq6+W3r17H/Fz9kf/EDDD7x/21T4znj4GkFw/3j8hfpr30LYX0YykpKRqHzuIH0THAEIjZUOE/DMzM+Whhx4SehbE4kYniGtgczIEDocAiqIIjHGPcq9mZ2erwBiOiI1gImCGP5jrcsRZeRrZGP833nhDme4XXXSRGsJYFM6ggoEwIob//fff1658999/vyqEUd4X68qFR/wy2B8NAZ8RgHfz1Vdfabkx3j+dM++8804V2vJ5anb6wyBghv8wwAT519T0E+L3cv1o2EPuGzJkiJx66qmCXGYshcBpTkSLYioZ2OjQ+YscPyVDqBgiW2zDEDAE/EGACCS1/Ehr80xCY+Tee++V448/PqaeQ/6gWzNnNcNfM7jW6FE9xSxINRMmTPi9vh1SDbk1WLWxJOiDFCh5fgz/yy+/rB7+rbfeqoYfWVA2AjYMAUPAHwRycnK0jwgRyC+//FKVRL1UXCw9h/xBt2bOaoa/ZnCNyFEJsX3zzTe606akpkWLFprrZ6edlpYWM54whKHNmzdrqP+f//ynoGQImRGPH6If12rDEDAE/EGAexMnhI35xIkTtaRv3LhxmoojGgcPx0awEDDDH6z1qNJsELMhBM5O+5133tHPUkYD6Y3SvkaNGlXpeEF9M12/8Pp5sPztb3/TksYxY8ao4UcwJFauM6j427wMgSMhwHOIGn44OEQgaRp2zz33qOGnNa+l4o6Enj9/M8PvD+5hOSsGsaCgQEvdXnjhBfWK0e/H4z/xxBM11xYLuX70C2gByoPlscce02u++OKL1fBTOtS0adOw4GkHMQQMgaojwKacPD8b81deeUUSEhIEgS2eQaTi6tWrV/WD2idqFAEz/DUKb80enJp+jOKcOXPktddeEzTtYbhTP3vllVcKOX8Mf7QbfzgNhPeJbDz88MO6wTnrrLP0wQKfoXnz5jULtB3dEDAEDosA3UMJ92P4//Wvfwn3q5eKa9mypaXiDoucf38ww+8f9mE7sydpC6MWXfvWrVtrrh9FP8Ju7MCjfdAMBOYw7T+pYqALGLoFqPeR57dhCBgC/iBA5JESYyJylorzZw2qelYz/FVFLIDvz8vL0859eMQ0s6lbt65cfvnlmutv27atNGzYMICzrvqUKBeiCxgSvoiDYPTZAHCNNgwBQ8AfBIjGYfzx+B999FGh/NZLxaEqaqk4f9blSGc1w38kdKLkb+j35+fnq5LfSy+9pDcejXvI9VPbHyseMV3A/vGPf2gXMMiL8BlGjBhhXcCi5Htq04xNBDwpcS8Vl5ubK2eeeaY6HmzQs7KyYvPCo/iqzPBH8eJ5UyfXj6gPkpl07Vu8eLHApuWmu/TSS7VZRrTn+blWShYhMcIgxovwuoDRqMiGIWAI+IMAaThe9NOAfIvmBmk4XjgfseJ4+INuzZzVDH/N4OrLUTGIH3/8sUpnrlmzRhX8brjhBpXORNqWFEA0D5qAeCRG+hGgVjhq1ChtUhTN12VzNwRiAYHp06fLk08+qak4iMVwjE455RTtphkL1xdL12CGP4ZWkxAbbWtp3vPpp59qGQ3sfsL+scCupWrh7bffVrEQIhzdu3f/vXohhpbRLsUQiEoEZs6cKQhsoS2CbO+AAQM05E9azkawEDDDH6z1CGk2lNVs2rRJDf+///1v2bFjh2r3E3LjJoz2XBsVCx999JGG/CE0dunSRcaOHash/5CAsw8bAoZAyAhQVkwdP6lGemj06dNHLrzwQqFxmI1gIWCGP1jrEdJsYNcidMPOmxuQdpm07MXo072PGzCac/2ULX7++eeqC75y5Uol9SEUAsnPhiFgCPiLwPz58+XNN98UfvKc6dGjh1x22WX609+Z2dkPRsAM/8GIRPm/Idmw437vvfdk1qxZQktbQm3XXXedbgDIjUdrG1t4C5MnT9beBHgXlPHdfffdWrkQ5ctm0zcEoh4BnjsffPCBCoqh5oejce2116rnH/UXF2MXYIY/xhaUy6FbFl4/uX6a+BB2u+aaa5Rlm5mZqaI+0XjZsIURKULIB7EQeAsPPvigchiiOZIRjWthczYEDkaA3P4nn3yiDse6devU4bjlllukf//+B7/V/u0zAmb4fV6Amjg9uX2MJAYSFjzhfyRuIfnBhCf8H40D/gIli9QL84DhOmj/iSY4HcBoAWrDEDAE/EEAYS0cDdj9dOtr37693HXXXcru92dGdtbDIWCG/3DIRPHv0e9H1GfGjBny4osvCu17CYtTXnPOOedItNa9k7aA2Y9C2Pvvvy/p6ely//33a7MeyhWjNYURxV81m7oh8DsCePnU8hNp5EX9PhE5avktIvc7TIH4DzP8gViG8E+CXP+CBQu0TSZeMox/cm5XX321CvtEY59spEAJJxLmf+ONN7Rc8c9//rN6/MgSW/vP8H+P7IiGQGUR2Lhxo0bkuD8/++wzbZ41btw4VfCziFxlUYzM+8zwRwZnX87CDhx9e28HnpGRoV2z2IHz39HWLhPCECkMHixIE+Phk0McPny4KvmlpKT4grOd1BAwBESJxDgb3J9E5Bo1aqQROVJxFpEL1jfEDH+w1iOssykoKFAVLXL9lNlQ7nfBBRfoDhzvn17Z0TRKSkr04UKoH6EQrof2nzxYCCtCYrRhCBgC/iBARI6SW+7PAyNybMy5Ny0i58+6HOqsZvgPhUqM/K6iokJD/DDh0bgnAoDBp6vdyJEjo665DWp9XvtPpEHhMYwZM0YNPyWLeBg2DAFDwB8EPFIxhp+IHOF9LyIHEdcicv6sy6HOaob/UKjEyO+85hmexj1yvjT0QVgDg4myFvr93KDRMDyBIh4sNAMhooEwER6Ftf+MhhW0OcYyAkTkUNQk1P/MM89oRI46fiJySPhaRC44q2+GPzhrUSMzwfgjfMPNCOOW+n5q+WneQ64fUhyiPtEwvPafXMvDDz8smzdv1jLFYcOGKWGxefPm0XAZNkdDICYRICJXVFSkof6//vWvGm1EuY+NeXZ2tjRu3DgmrzsaL8oMfzSuWhXnvHXrVmXDU/9OkxtKa0aPHq25/mgLkbORgbPwyCOPyIYNG9SbQJ+A9IW1/6ziF8PebgiEEQEichh/NuaPPvqo8Nw5//zz9R6lW1+06oeEEaLAHMoMf2CWouYmws0IIx6G//PPPy+U3dDLfsiQIVHZNhPOAh4FkQzSFRj9k046SbUKag5FO7IhYAgcCQE25aQScTDYmPOcOf3009XBoF9IixYtjvRx+1sEETDDH0Gw/ToVNyRh8tmzZwtd+2iikZCQoCp+l156qf6kNC5alO9+/vlnefbZZzWK0aFDB23SE41kRb++D3ZeQ6CmEOBZQ0oRDg5kYpwLUopE5Vq3bl1Tp7XjVhEBM/xVBCxa384NSUe7r7/+WvXukdRE6/7GG2/UmzM1NVU3A9FwfWxgUCSkTS8liUQvzjvvPG3TGw3ztzkaArGMAJK9f//731UxtGvXrjJw4EA57bTTVMI3lq87mq7NDH80rVaIc4Vxu2jRIg3F0UULr/+KK67Q3TiSvhD9omGwaaEHAWIh1AaTP4SzALPfhiFgCPiLAF1Bn3vuOW0LTnifJj1nn322Evz8nZmd3UPADL+HRBz8pFkPJXAo+ZHrZyNAfnzo0KFq/Cm5iYaBXv+7774rlCmWlZWpwb/yyis1ZREN87c5GgKxjABlw6+++qo6GfXr19f78uKLLxa8fxvBQMAMfzDWISKzIM8P8xbtfgQ28P7T0tI0VD5q1Cjp3r17VHS5W7p0qXz00UfKWaBxD02HKE8k5G/DEDAE/EWASNxbb72lXCKeNzxX0A0hMmcjGAiY4Q/GOkRkFuT5edHohiYa5OKWLVumbPibbrpJu/eh34+oT5AHsqBffPGFQPLjWjp27Ci33367kvyCPG+bmyEQDwjAvfnwww91Y05JX5cuXVRa2zbmwVl9M/zBWYuIzQThG8LklN1MmjRJG2hcc801Gu6H8EcUIMiDMr7JkycrSZHoRbt27eTuu+9WkmKQ521zMwTiAQE25jgWiIVBKEYr5LbbbhNK+mwEAwEz/MFYh4jOAo178vsI4cCOp7kGdfCU3AwaNEjZ/hGdUBVPRoc+avnhKrABYLNC+0/mb32/qwimvd0QCDMC3sYc3ZA5c+ZoRPGee+5RPlGYT2WHqyYCZvirCVw0fwyRjV27dmmoHMNPzhxVLdi3dO+jkQ/6/UE1ops2bdIwIgphn3zyic79oYceUqGQaNIjiObvkM3dEDgcAgduzOmrwcb8gQce+H1jHtTnyuGuJxZ/b4Y/Flf1KNdEnh+iHwb/448/1pDc2rVrNVdOrv+4447TMjmMaBAHhD6IiTxU3nvvPUlPT/9D3++gcxSCiKnNyRAIFwJszPH02ZiTSsSpICJHTw3uzWgRCgsXHkE8jhn+IK5KhOaEpCY5cnL9kOXonkV/e0Lm3KyU4gRxHKrv91133aXNQLiGaGk6FERsbU6GQKgIeHohGP533nlH9UHuv/9+1eyPBvJwqNcfDZ83wx8Nq1RDcywuLpbc3FzN9VPeR2etESNGqOHv16+fZGVl1dCZQzvswX2/iUzQ95v2n2xYrO93aPjapw2BUBBAK2TVqlUakUNoi434nXfeqRtzonPJycmhHN4+GwYEzPCHAcRoPYTXTWvGjBkq6AMbFxEfQv3nnHOO1scTlgtaTs7r+02oH81+ruO6667TBwsd+qzvd7R+I23esYAADkROTo4a/hdeeEGfH6QQh7v2vLTODmokMRawr+w1mOGvLFIx+D5y/RD9yJdPnDhRkNokf07d7dixY7X8hpwcRL8gDboN4vVj+J988knt+41ACA+WaGszHCRcbS6GQDgQQCGU+n3uz6effloqKirk6quv1vszmqTBw4FFUI9hhj+oKxPBedHX/sDyuMaNG6vhJ9efkZEh5OWCNPDwker1+n6T87/ooos01I9KWNOmTYM0XZuLIRBXCGDoSSNyfz7++OO6SacLKKk4nAqeKTb8RcAMv7/4B+LseM8Yf0h+aGxT53/uuedqrr9Xr16aNw/ERH+bhBep4MHy8MMPK0/hzDPP1AcL6mBB5SYECUObiyFQUwh45cLcn+PHj1fNEJ4nROR4nmRmZtbUqe24lUTADH8lgYrlt1HTj7HH66erFqV96N8j5kOfe8Ln5PmDlOvH+CPg88gjjwh1w3gTNBui/zd5fhuGgCHgDwLcm7xwJDD85PtPPfVUdSRo0Utdvw1/ETDD7y/+gTg7Nf3s0ufPn69d7+h3D0GHNreU98HwJ88ftPpbNirk+FevXi29e/dWZTAUCJHwtWEIGAL+IYDhR7nviSeeUEcCcTA25WzQyfPb8BcBM/z+4h+os+Pps0vHk8aoUhp34403qidNGU7Q6uPRAn/mmWeEaoT27dsrGfGMM85QIaJAAWuTMQTiEAGaaEHuQ68/Oztbq4UoF+7QoUMcohGsSzbDH6z18HU227dvV+8Z4//GG2+orC+kORS3kPFt0qSJr/M7+OREJtAfoBsYhETy++eff74SiA5+r/3bEDAEIosA9yflfCiEQrglckiunzSiDX8RMMPvL/6BOjtlcoT4vVw/hD/IOIToyNHhVQcpzz9v3jxBIGThwoUqBcpcR48erSmKQAFrkzEE4hABOoB69yfRwp49e8oll1xi92cAvgtm+AOwCEGZArl+iH4Y1AkTJmjrXv7NDUsdLh51kAR9MPjvvvuuzpPaYTgJV111lW5WgoKpzcMQiFcEuD+R7OV5Qvkt9+eVV15p92cAvhBm+AOwCEGbAnKb33zzjZJzCNe1aNFCc/14/qjiJSYmBmLKXpMh+g1s3rxZQ4g33HCDhhQDMUGbhCEQxwjY/RncxTfDH9y18W1mqG4tX75ciX7s2BmE6Mj1U9pHPj0IA9IQzYWQHGa+kIbuuOMOJREFYX42B0MgnhHw7k9IfsuWLbP7M0BfBjP8AVqMoEyFsByNNqZMmaLkHLxp9PuPP/54LcdBzz8Iuf41a9aoLChlQ3j9lAndc889ykkICpY2D0MgXhGgSggRH+5PKnB4bnj3ZxCeH/G6Lly3Gf54Xv3DXLunvEVPbcg5CxYsUPIctfLk6Mj5c+P6ffN6UsM//vijfPvttyoM8tBDD6lQiN9zOwy09mtDIG4Q4P4kGsf9+fXXX2vKcNy4cRo5DMLzI24W4hAXaob/EKDYr/YjQH38Z599pix/SuZat26tuX4U/eiwlZCQ4CtUmzZtEjYneBX//e9/VXcAw49ICK16gyY45CtYdnJDIMII0PIbZj/Nej7++GMtB8bwc38GsflXhOHx9XRm+H2FP9gnz8vL08591PV/+OGHerNefvnlumMnrN6wYUNfL8CbHw8W2P2IDN13332qCU7Pbx4uNgwBQ8AfBPLz81Vjg435W2+9JWlpaRrqR7M/CI6DP6gE46xm+IOxDoGcBfr93Lwo+SGUQxc8OvaR6w+CJj7zgUDEg4WUBF0E//SnP6nhZ1MSNKXBQC6yTcoQqCEEEATzeDg0/yJCePvtt+v9CUE4aF0/awiGQB7WDH8glyUYkyLXj6gPxDlu3MWLF0tqaqqWy9Fmkxa4fubSva6CePxsTAjt33LLLfpgQW44JSUlGEDaLAyBOESA1ryk49iY0/wLnRDKbYc7j58SYZ4lNvxBwAy/P7hH1Vm9elyIOuzgUfDjBqbTlp8hdSIShPsx/Gj27969W6699lp9sMBHQHPAhiFgCPiDgFcdxP351FNPqYgP5GBy/JTekpqz4Q8CZvj9wT2qzgpJZ+7cuRry//TTTzVExw1M2J8Wm+Tu/BiexDAPlr/+9a+ChwEHAY8iSHoDfmBj5zQE/EYA1U8UNbk/H3vsMSH0P2rUKL0/u3btGrjeH37jFcnzm+GPJNpRei4vZEeu/9///rcQYke7f+jQodoRLysry5crw8PH+PNgefTRR5WDcOGFF6pH0aNHD20M4svE7KSGgCGgoX3uUUL948ePV3XNs88+W8nByH83b97cUPIJATP8PgEfTafl5mXnjgjHK6+8oipc5NAHDBggdO+jc58fuX56fsND8B4s5BNpy4vCIP2//dqQRNPa2lwNgZpCgPuTFw4DG3Pq+rk3iRQOHjxYWrVqVVOntuMeBQEz/EcByP68HwFuYMh97733nsyaNUu2bNmi4fTrrrtONwAw6Kmdj/Q48MGyfv3636sOqDwgz2/DEDAE/EWAbp+k4lavXi19+vRRo3/SSSdJu3bt/J1YHJ/dDH8cL35VLz0nJ0e9fnbwNPGBPHfNNddoyD8zM1Nrc6t6zHC8nwfLk08+qcRDVAXxJk4++WR7sIQDXDuGIRAiAkQKId8iCAYxmEghkbmOHTuGeGT7eHURMMNfXeTi8HPk9vGqkeCkbp7w/1lnnaVedq9evVQ5zw9YeLA8++yz2qgHL8J7sEDws2EIGAL+IoC6JuW2qH82atRIvf4LLrhAunTp4u/E4vjsZvjjePGreumwdCmho6zvxRdfFNr3ouCHhO8555yjbXGresxwvJ/WwS+//LKmIhAGIZxoD5ZwIGvHMARCR2DevHnyxhtvaM+P2rVra68PTwck9KPbEaqDgBn+6qAWx58hp07TngkTJqiwD4x/yH1XX321CvskJiYKN3ckBw+W119//fdmQoT7R48erQJDkZyHncsQMAT+F4FFixbJ+++/ryXB3vOCFCFNv2z4g4AZfn9wj+qzrlu3TlttkuvnlZGRIddff71K+fLfkZbi5MGCVj8NQYhIUCPMRoT0gw1DwBDwF4Fly5bJpEmT1FGA2Z+dnS033XSTVt74O7P4PbsZ/vhd+2pfeUFBgTJ0yfW/+eabqphHaJ1SHbz/Jk2aVPvY1fkgyoJ050NaGLGhzp07q7Jgv379qnM4+4whYAiEEQFSgrTlnT59ujb9guB35513aoowjKexQ1UBATP8VQDL3rofgYqKClXJg03/wgsvCBEADD5s+pEjR0acrUujni+//FK5B3gXyIHecccdctxxx9mSGQKGgM8I8HzASZgyZYpGCimzvf/++zVC6If+h89wBOL0ZvgDsQzRNQny/LwIrcPuR84XIR3U8saMGaPkukj226Z/ACI+bERg+Ldp00buvfde3YjYgyW6vls229hDwCsDpr03G3QU+8aNG6cRQvhAdo9Gfs3N8Ece85g4I4bfM7js5DG41PLTvAfxnEi2xSVvSBgRr+Lbb7/Vzl88WFAI46FiD5aY+MrZRUQpAps3b5b58+fr5nzixIlC5Q0ePz01IAP7IfwVpVCGbdpm+MMGZfwdaOvWrVo7z07+7bffVgMLm55cPzX01OxGYpDXp1YYr59cf9OmTdWjoAsYkQfa9dowBAwBfxDwnhP01IATVL9+fbn77ru1pwYNvjD+NiKLgBn+yOIdU2ejQU5hYaHm7Z5//nnZuHGj0HxjyJAhcsopp0RMOY/WvMgJ82CB3Y+i4H333aceBRUGGH8bhoAh4A8CPCPI83N/0usDD//WW2/V+xMicEpKij8Ti+OzmuGP48UP9dIJ9+/du1cQ0KFrH+G8hIQELaNDoINyOm7ymva4qTKA4MeDhXr+5ORkZQ0TSqTnN30EbBgChoA/CJSUlGhvD+7Pf/7zn1oFRPkv9yeNevxq6+0PGsE4qxn+YKxD1M4C44/RpVwHch1iOi1btpQbb7xRPf/U1FTdDNTkBSIlDIGIBwuKgmw0br75Zn2w0EWQ0KINQ8AQ8AcBLzLI/UlPDTYCkIAx/JFMCfpz9cE8qxn+YK5LVM2KUDsiOuT6P/jgAzX0V1xxhZLrkPSF6FeTA9Ee5kCOn2YglBtee+21+mCB4U/o34YhYAj4g4DX1pv787HHHpNt27bJhRdeqPdn9+7dlZPjz8zi96xm+ON37cN25TTrIdyOih+5fowwNf1Dhw5V44/xrcmBR1FUVKSG/4knnlCNgcsuu0wfLKiEwSK2YQgYAv4gQDqQcl8cg/Hjx8umTZu0Ox8k4P79+0tWVpY/E4vjs5rhj+PFD9elc2Ozq0c5jy5ceP/k7SD6jRo1SjXzqdetqVw/58b441E8+uijAosYJUFY/WgLEO63YQgYAv4hQEqQst9HHnlEO3ziFPCi9BdBHxuRRcAMf2TxjsmzcVPzWr58+f+1993xdZRX2sdqV7333iVbbnLvBQMuhI4hoYSQkM1CliX5IHV3/012E3Z/bNgNgSS0YAh9A8bGgGkucpObbMsqVu+9d8nfeY4Y4jgu0i3SLedNLleW7sy888ydOe9pz0M7d+6Unnow6CHMD05uqPfZsroexzY8il/84hfiUYBBEB4FJHrVo3DKr52elIMhAK6NJ598UlQ9sSDHcwHdP6Dw1TG1CKjhn1q8nfpoIOoAmx9CehDlQHU9VLhApIOCP1tW78L4I9UAjx+tQzimehRO/XXTk3MwBI4cOSJV/XAQUM2PRfkNN9wgBX4OdioOP101/A5/Ce3nBIwiOzDooboeRTzr168XI4zVPYy/LQe6CuBRlJeXi+a34VGkpKTY8rC6b0VAEZgAAqD2Rh8/UoEouIUs7+233y46HxPYXD9iRQTU8FsRTFffFcLtw8PDdOjQITH8UM1Dfh0qeajihZCPLbm5QRuMPmF4FEgzwKPYvHmzehSu/sXU87cLBMDz8eqrrwrfByJ0CPfffffd8m4XE3ShSajhd6GLbetTxc2MQj8Y/HfffVf4+ysrK0WtD339S5cutSk3N2h7n3vuOWHxA11wbm6uFPllZ2fb+tR1/4qAInAVBMCuCa5+3KcdHR2E+/Lb3/623KdX2VT/bGUE1PBbGVDdHQl1Lyr8kevftWuX5PbB1IW8O4R8bEWoA48CzH2nT5+WyAI8CjAIoldYhyKgCEwvAojE7dixg5Drh8AXyHseeughicxN78xc7+hq+F3vmtv8jHt6egjCOcj1o70PPfYbN24Uw4+wv62q7JE7fPPNN0UmGOxgs2bNkuJCUAfrUAQUgelFALU3UM9ELQ6KgFF788Mf/lA4P6Z3Zq53dDX8rnfNbX7GRl/9wYMHhdCntLSUQOKzZMkSuvHGGykrK0t6+q0tl4sWQqjzIdoAwSAcBykGLDZ0KAKKwPQiUF1dLb386L6BU4DKfsjzovtG5bOn9tqo4Z9avF3iaEZfPTxw5PQQ2mtqapKc3oMPPiihPSjmodDPmgOaAR999BFhwXH27FlKS0ujRx55RGoLrHkc3ZcioAhMHgEw9mFRDqIthPyR9vv5z38ufBu2JPia/Eydfws1/M5/jaftDGtqaiSshxU+BDpQcAfDj1x/eHi4kPpYc3IoJMRDZf/+/dJZgCjD448/LmJB1o4uWHPeui9FwBUQwOIf9Td4FiAlh+fBT37yE6HWhoImlDx1TA0CavinBmeXPApU82D8EdaDbC84/RHqh+FH3t3aVLo4Frx9FBXu3r2b4uLixKPA8TSU6JJfQT1pO0IAvB5I+2FxjiJcsHn+4Ac/EGptCHmpfPbUXSw1/FOHtcsdCT39IPUBVeczzzwjlbzIu4NYB5S6qOq1pkFGQSFahfBgQTthZGSkGH5w9iO1YCutAJe7sHrCioAZCBiOADx+FP2qfLYZIFppEzX8VgJSd/P3CBiqXKdOnaI33niDjh49Srj5c3JyCO19KLqzZm4PqoDoFYbhf/3114Ud7Ec/+pF4FH5+fmL8/36W+htFQBGYCgQMZk/cnxfKZ2NhjrScreW7p+IcHeUYavgd5Uo58DyRe0f4HepcaOWBJ45qe1TzhoSEWC3EB2ngsrIyySH+6U9/kv0++uijYvhxHGgH6FAEFIHpQWBoaEgW/jD8hnw2eDbWrVsnHTgqnz1110UN/9Rh7bJHAksXCDtg/JHbQwoAHN1QzwONb0REhFWwAV9AbW2tGP7f//73EkqEOiA8ipiYGJsRB1ll8roTRcDJEQClN4w/Qv2//OUvqaWlRZg1Yfjnzp1r9ZofJ4fTotNTw28RfLrxRBAYHBwUEh94+8j1owgPxX0rVqyga6+9VmQ5rVF1j1AiHiZ4sBihRKgD4sGiocSJXCn9jCJgOwQMSm84AJDPBtfG9ddfLw4AOD5QjKtjahBQwz81OLv0UZDrh5d/8uRJEekAaxf+jVX+/fffTwsWLLAKoQ+8CXj9MPwaSnTpr5yevJ0iAOOPlN8TTzxBSAGi0HflypXS6YPFuY6pQUAN/9TgrEdhBJB/R5sd+uxR6IcVPnL98Pwh02kymSzCCaFERBeQQ/z3f/93am1tpVtuuUU8fvD2W7t90KLJ6saKgIsigJbb3/zmNwTCLaT6IN513XXXCeGWi0Iy5aethn/KIXfdA8IQQ6gDoT5U3WPceeedEupDa5+lxT0GYyD2jxwimMKgEYBaAkj02kojwHWvqJ65IjB5BMDeh5QfKLZxT6K7B/wemZmZk9+ZbmEWAmr4zYJNNzIHgYGBAULlPUJ9KL5rbGwU/n6E+oyWHktz/UYo8T/+4z8I3ODYN17oIEhMTDRn2rqNIqAIWBEBpPpefPFFAqU3SHxQ77N161YR1bLiYXRXV0BADf8VwNE/WRcBhOKR2wfJDtrt0N8PYp358+fTfffdJzl/axD6gDDoySefJKiBQZJ3+fLltGHDBlEDs+4Z6d4UAUVgsgjgvn/ttdek5gfPA9yj9957r9z/k92Xft48BNTwm4ebbmUBAqDt3Llzp/T0Q0wHnjhy/Sj08ff3Jy8vLwv2TiIK9PTTT0taAftGmH/Lli3CFGjRjnVjRUARsBgB3PN/+ctfpM4HpFvZ2dmi4YEiXx1Tg4Aa/qnBWY9yAQK42RHmQy7+//7v/8Trv/vuuyUXn5ycbDGDFyIKzz//vLD4gQ0sNzdX+oVRSKRDEVAEphcBLPw/+OADEdJCgV96ejp9//vfl7Tf9M7MdY6uht91rrXdnKnRbw/VPnB2Q7wDQjrIxaPCHzrdloyCggLatm2bpBLAB46K/m984xtCFYzWQtQa9PT0iE5AQECAMPxZWltgyXx1W0XAlRAAmRdabtHdg0I/LPYfe+wxScnpfTg13wQ1/FODsx7lAgSMtjvc9CjyAb8+DDCqe0HhiZyfJQ8ARBPeeustOn78uBj4WbNmCV8AFgBo94M8KLwOLAoQZgSFMDQDLDnmBaenPyoCisAVEDDkuqHa+emnn0pb789+9jNZ/OMe1PvwCuBZ6U9q+K0EpO5m8ggUFRWJih76euEFpKam0ne/+13p6wWvPgr/zBloE3rvvffEmwA7GFoFUUOQkpIiBh8thfiMUViIv4NTIDAw0JzD6TaKgCIwCQQuVNHEfYqFNwy/qmhOAkQLP6qG30IAdXPzEcADAK09WPnv2LFDWntQ3Y+wf3x8vNmGGHnDjz76iLCgQCERDP7DDz8sIj2vvPIKHT58WNoK0UoEow+60M2bN0uuUb0N86+nbqkITASBS6loPv7440K0pSqaE0HQ8s+o4bccQ92DmQggzw7jj1w/ivEg2QvufvTcW0K4Y6gBIocI4w/GPnj8SDGAwx8pAEQUYPi9vb1p0aJFBE5/vOPfHh4eZp6RbqYIKAJXQwBcHmi1RZ7/pZdeknvukUceEcMfGhqqKppXA9AKf1fDbwUQdRfmITAyMkL9/f3igcPwI/wOIw2jD/U+VOGb44EjhwiDj0jCxx9/LA8SMASC3OfVV18V4iDUEcDA45goJvz2t78tCw6EHeF16FAEFAHbIAA9DaTgYPhB5IWBhfk6FtOCiibqfXTYFgE1/LbFV/d+FQRgjFHc9+abb0r/PQrvEH6HIcYCwBwPHFEEePXg7Ee/MMR7QOCDAj5EF5DbhyoYKvzBJ4AFwG233SbthNaUCb7KqeufFQGXRACLfXTywPA/9dRT0mXzzW9+Uww/0nIhISEuictUnrQa/qlEW491SQRqa2vF6MMow0OHYA9C7wj5R0dHC6nPJTe8zC8hzYvFBB4s0ATAYgKV/SAHwt9QRHjXXXfJguC5556TdAPIQ9BKuH79emX4uwyu+mtFwBoIgK2vt7dX7s9f//rX1NnZKfcjPH4svMPDw61xGN3HFRBQw38FcPRPU4MAcvsIzyM0j5wfPIIbbrhBivzA4z1ZVb2Lc4go9sMCAg8UeBNoG0ToH/38zz77rCwSIBCE399xxx3KGT41l12P4qIIGNTdhoomiv0g0gMxLZBt4V7VYVsE1PDbFl/d+wQQgAcAUh/k5f/whz+IfC9IPUDhiwdCVlbWBPby149cnEMEoQ/y9qDvxUICnj2KCGH4kWIA0x+2ycnJoQceeEAePn/dm/6kCCgC1kQA6T2k2RDhg3w2In6ItKGbB/c8Onp02BYBNfy2xVf3PkEE8DCAeAeK70Dsg4p/hP3uv/9+8cRNJpPk6CeyO0QMENKHR4Ec4pEjRySPD2pQ6H7Ds4AGOAz/rl27ZMGBIj/8/Z/+6Z/kbxM5jn5GEVAEzEcAXTf/+Z//KRwe6KiBmBbC/Vj067AtAmr4bYuv7n0SCFRVVQmNJzwBvBCa/853viNUvvgZ7XcTGSjmw8IBOX48WPLy8qQ7AAuJW2+9VYhCwOIHww+9AMgEI9qAiMCPf/xjiQiY000wkbnpZxQBRWAcgUOHDtH//M//kMHXDz6NjRs3ygJcMbItAmr4bYuv7n0SCBi5eeT6QbSDdj8YaoQAUZwXERExob0ZlMBGDhH7Q0Rh7ty5BDEgeBXoHEBkANEAGH94/mgl+ulPfyoRAXQAgNJXhyKgCNgGgaNHj0pqDyRbaKNFge3NN9886dSebWbn3HtVw+/c19ehzs7w1OGho78XRDww+AgBbtq0acKeAIw8jD8M+i9+8Qt5xyIChUMPPvigGH5Q9MLjR3oBC4S3335bCv9+9KMfSUTAEspghwJdJ6sITBMCJ0+epD/96U90+vRpkeLGwhzdNqi10WFbBNTw2xZf3fskEIDBxgs0vnggoBcfBhxkO/fee68YbvTgwxu/2sB+kC745S9/KSF/LCpQtW8whKGKHx4/woww/DgeUgmPPvqoGH5U/4NDQIcioAjYBgEY/DfeeEPud9yLhpgWCnB12BYBNfy2xVf3PkkEYLAh2ANjjNw7ePXR3gPxHsj2BgcHT9ggY3v0CSPXj64B5BDh0SPUDyMPjx8VxTiWwSD2ve99Twy/MohN8sLpxxWBSSIAkS5DTKu+vl5C/GDwwwJdh20RUMNvW3x172Yg0NraSlDQQ6j+tddek8I8hABRjY/cPPi8JzKQMkBxHww7iv1Qyf/zn/9cDDsiB5DoBYMY/v6b3/xGFgIQCcLCACQ/yiA2EZT1M4qAeQhcKKYFwq20tDT653/+Z+2qMQ/OSW2lhn9ScOmHpwIBGGSweaHdBwQ74PU2mPVAvQtaz4mMAwcO0JNPPikLCPTpw/D/67/+qywgULVvaAUgIvCrX/1KFPu2bt0qhh9hRxQc6VAEFAHbIGCIaWlXjW3wvdJe1fBfCR3927QggHA/CD5Q9fvCCy8QCHi8vLyEfOfrX/+6vINf/2pV92jR++///m8x/PD4QQ7yL//yL9IlgBPDMWD8EVkAkQg4/lFEiMgC+opjY2On5fz1oIqAKyCANBta+nD/QUYb99vPfvYzuT9Rx6Mttbb7Fqjhtx22umcLEIDxRygQ3P0I2aMCGIxeyAGCeQ8KXlgMXGkYhh/tfOAGh+E3HizYDsfACx7HE088QeARQAcBagnQQoi+fh2KgCJgGwQaGxulsA+pNohpgavjJz/5iaTiJkPYZZvZOfde1fA79/V16LMDh/eZM2fEI3jnnXdEVQ/V/TDKYPdCod+VBkL9yN1fzvAb2xoLhLKyMmELxAIBDH/I8+tQBBQB2yAAdk0U+MHwg7EzMDCQHnvsMUm1QVDragt728zKNfaqht81rrNDniWq7lF8B48cuX6o7MHbNzzypKSkK56XkeO/0PBfGOo3NgZF8DPPPEOg7UW4EVXF0AjIzMw0PqLvioAiYGUEOjo6hKsDNTZI6cHQgzJ77dq14v1PlKnTytNyid2p4XeJy+yYJ4kcPPr4YZj/+Mc/CtEHJHtBxIMiPPT3X4lhzzD8yCFemONHDv/C/CFEeiDPCwYxVPJj/2AMzM7OdkzgdNaKgAMggHsSdTXw+H/3u99Jzc2FBFuIAOiwDQJq+G2Dq+7VCggYOXi09u3cuVP49BEaRJgf/fYIycMrQGvepYYRwseDBd4Fqvr/7d/+TTwKGH7D+IMoCB4HWorwsDEMP7j9dSgCioBtEEBED/clPH4U4YJrA+208PjR2jfRtl3bzM6596qG37mvr1OcnVEEBM99+/btBDrdb33rW5LrR8Hf5TwDGH6o8+HBgpQBQvgGF7/RFQDjb1CHwuPHvubPn0+33Xab5PudAkA9CUXADhGAHDcY+3B/gmgLWh247xCRw6L7Qm0OdPDgXjXe7fB0HGpKavgd6nK55mThCaAQCLl6MOzBiE9Ev9tQ/4LHj+2RGgBlL+oEDC5+pApAHfrnP/9ZSIPU8Lvmd0zPeuoRMNppcX+CWht8HVDnw/0J9cyoqCiZFIw9FuqI7E2Usnvqz8axjqiG37Gul0vOFnl+eAeg74XhR7gfDwV48PAQjFw8+PixSIAXARIghPC3bdsmvcLwJlAMiKI9kPOAhx/FRHiogEgEXgdoQ/25TTCH/45+/qysLEJbERYJSCkYnzdSBC55MfSkFQEzEcA9jPA+7k+844X7FAt03Nd1dbUcbcuV+/PCUD8W5zD8uP9w33p7m/hnk9ybxu9wfxr3ND6v48oIqOG/Mj76VztAALl+eAcw+O+++64sAGCs09PTpa8fCwB8BvlC8PzDczBahfYx+x/a9PCw8eGHBqr24dXD4BthQywW0DqIB5Ovnx8lcf/+QibwyeD9I9yIbbBoQM5RPQ47+ELoFBwOAdyfYM/EvYkXivqQwmvlSBxqeA4eOig/BwYFy/3px/chjDqGEeL38vIkf18/CgoOojDu+Q8LC5fqf+hqIOUHZwDiW1io67gyAmr4r4yP/tWOEMADAxX+yPXv2rVLbvBvfOMbkg+E0QbHPxYEDQ2N1MGUv01szGtq66iru0ceHjPE2DMjmBsX9vH/MJjCh87zogILixn8Mx4yQbwwiIuNoUg2+iEhwRTDIkHJXFCIBwyq/tFZAAIho7BQPQw7+pLoVKYdARh5ROngzaNyHwa/q6tL2nFBklXHjH1NYvSbqKOtldpbW6hdcR9PAAA690lEQVS1qZH6+3qJb83xe/Wisxjjfbq7s9fPETjfgEAKDgmjoNAwCuZXRGQUxbHhxwId92g4G/8AvofBBWAsIDRK97eAquH/Wzz0X3aMgNH+A8OP9r7q6moJC8IIg9sffwdD3+h54geED7lzONDN04tMPn7kFxBEPuwtmDhM6O7hycbfTc4URn+YUwSDA/3Uz9v2dnfSUD/vY2SIRocGaYRfnh7u8iDBQwVRAKQA8EpISJCFgMr32vGXRqc25QiABhtGH7wbpaWlEqkr4sLZKl6UN7GH38f36fnRYXIbGyav8yPkSSPkwe8mt/Pk4+lOXu4cjUMh3/janGD0R8bO0xDf2AP8Ghpzo6EZHjRM7jTEr/PuXuTJ93owL9LjYuNEywPpv3QW9MKCHZE6LM7V+P/1q6CG/69Y6E92ioDhQcC4w+tHkR/a7xD6D2YP3MvkTUMjo+TGHoHJx1eMfGBwKAUEh1AAhw79g/g9MJh8wQbGn/Xw9OCHwLjhlwKj4SEa4FRAH3sm3Z3t8urp7JD3ro426uvtoeHBAfL18aa4GPb+kxIpkx8qEAsCrS9kgxEJQAQADxd9wNjpF0mnZVMEUGODxTeKb3GfVnLaDaRY50qKqby0mNqaGngh3U8eNEb+Jg7bmzzI34sX1SZ3fvcgP34Xw+/hRu64j76cLQz/KBv+Ab7He4dGqYdfvYOj1M3v3QMj/O8R6hscIbb+fL+HUlRcPKWmZ1JaRqaoeeIeRRoAkTrU7KBewNWHGn5X/wY4wPnDg0AhEHL1yNmDyW/f3r3UwOHCgMAgCo2Ipqj4JHnFJCRRcHgke/f+7N3DyHvxy3P8/UthH8Pbl1Pn6MDYeQ71c2hyZGSYRjhlMMIPMLwPDPRxBKCL2pobqb6qglobaqm7rYlGeBHgxQ+qWI4AoPoY7X8Q9UGeETUAqB3QoQi4EgJYnKOAFvoaBayrAWVN5O47OtpppL+HTGODFOQ5RpG+nhTGr2AfT/Jlo+/hPoM8+X7xYPfe/csXvH3+/1eGn3ctKTkYf7zg/eM1jNfomBj/lt4hau0bodbB89Q75k4jHt7sAATLojwnJ4dWf9kiCMVNhP9dfajhd/VvgB2fP/L2CN0jdw8lrzNMsJOXd4BKOHzY2t7BfoM7BYeFU2RsPMWlpFNcYipFs+FH7s/Tk8P8Flb3YiGAFEBHSzPVVZZTXVUZ1VeWUTMvADo4L+nFKYD42GiayWHFpUuXSPgf6QBoCCD8r56FHX+5dGoWI4BoGXL5uEdRTIvC2lOnTlHBieN0PP8QtdTXkjevgYO83SkywIuiA7i4Nsibwv28KNCb8/Uc0rckOsbrASnq7WPPv61viJp6Bqm+a5AauwepmV99o7yAMPlSQnIqLV2xkubOmy8FwagFQIQORYCWHN9iAKdxB2r4pxF8PfSVETCq9CHLu5e9/LNni6iFDa67lw8b+kyKSUqjmMRkComI4lW8P/nwy5vz+Z5cDQyv3tKb+jxHAqSVkPOVKDzq55B/X083tTbWU3V5yfgioLaC3Phz8P5nz2bPggWE4GEg/I/iIh2KgLMigIU5umUQidvP9yeor89y+q29qZ48hnoo1GuMUkJ9KcrfJGF9P/bwvTmHb+JQPjx9hPMtHTD+iAIMjYzRIL/6OR3Qw+H/9v4hqu8eovL2Ieoe4xQge//xSSnCyrlgwQLCKy4uzmVz/2r4Lf3m6fZWRwBhfeTz4UGgF/8Yv44ePyFevh/n6mMSUihr7gJKTM9mbz+B/Dncb6mRn8hJIJyJYkDk/evY868oLqTiU8eoua6aawD6KTYqkpYsWUwLmOsfZEEI/RtVxRPZv35GEXAEBODpG1005eXldPLECdrLdTfFZ09TR3MDmUYHKCHEh5LZ6KeG+YmH78nePUL5UzEQ/u/lnH89e/3Fzb1U1d5PTd0D5OEfTMn8zJjNnj/kt8EOCO8fxcFGa+9UzM8ejqGG3x6ugs7hKwRgXFENDBpdEPbs5Vx+NbfkuXlxiJCNfOZsXqlzWD+MvXwU7XlzMR9y+FM1ML8RLgZEB0Bne6uEM6vLiqmEFwDtzfXkxQ+39LRU2rBhg+T9QUSCsKIORcBZEEDFPtrzENbf8f77dOxoPjUw+c6MwW6K93WjuEBPiuOQfhiH9FHAZ1TpW8HBnxCERjFg/zAv0geG2egPUkVbH9X3jlL7KNcWhERSRlYmLV68mK699jopAHQ1fg41/BP6KumHpgIBePoI76NaH5X7+UePUVFJKY3OcKfkjJmUNmsuZc7JFS8f/bzo653OMSwLAFYYq66gwuNHqOzsKarhFIC/txctXJBLi7ngD8JAqP5XffHpvFJ6bGsgYHj6ILsqLi6igwcO0Icf7KSqc8XkO2OUov09KCvSnxKDYfS5355D+9M5jBqALg7913b0i/EvaeEF+yhC/yGUnTOHNm3Zwgygi6Q1F1X/iBxORfRwOnHBsdXwT/cV0ON/hYAhxgNxnU8//ZQamlspJCqW4lKzKJtD+7FcvOfPLXreXJTj5jb9fbnjxU3cccDef1dHK1WfK6FT+Xmc+z9HQ33dlMptf6D+hWdxIQXpVyesPygCDoQAPH2Q8RQUnKR3//IXyj9ymJo4zeU3NkA5Ub6UFOwjXn4Ae/nI409VaP9KEML4j3Dov38YBYDDXPw3QJUdg1TaPkwz/Nn4Z8+kpRz237xpM2UyNwcKcl2hK0cN/5W+Nfq3KUHA6P+Fp//JJ5/Q4SP5VFx6jty9/Wj2wmWUwV5+cuYsZukKt8/VOHL//GpprKOik0f5lU9FBceYkIRo0cIFtIwr/iE8kpqaqtX+U/KN0oNYEwF8t7HINWiw8/bvox3b3yOkuEKYVTc52ERzY5ntksP7Ju50QWuePQ4U/3Vy6B9h/xO1XdTYz56vbyDNnDOPbr75FlrEC3QU/CHn7+xDDb+zX2EHOD8QfqD/F54+ZHerauvZ04+jRA7v5yxcSnFcve/rHyh0nXZ7OvxwHORURVdnG1WVFtHxvM+prqJUepgz09NETAieP9r9tNrfbq+iTuwSCBgiWcjpv/PWWxziz6Mabm31He2j+dEBXLnvQxH+XkzA4zFOvGOfdp8ZPbk+h5n/UPFf08G8IO0DdLZlgDyDIil3wUJauXIlbbj2WlmgO3u4Xw3/Jb7o+qupQWA8VD5KqAwGDe/+vDw6dDifRt08aO7S1ZQ9b6Hk9oPDIqZmQlY4ylee/4l8OnviCJ09fpgCfb3pWi72w4NlIUcA4FW4Si7RCpDqLqYZAbDxQbkyj+/PV1/Zxp0sJyjQY5SSg7xoQVwQxbOn72knof2JQAXPv3twmMpb++hIdSc1DzNzYGgU5S5aQnfedZe0/MHrN0SCJrJPR/uMGn5Hu2JONF+DoOcIC+9se/llOnHqDPNue1JsSgYtWr1BjD4EOSDB6UhjkHubkfM/V1hABz7ZSa2cBw0NCuRivwV0111fp3nz5irDnyNdUBefK4R1wJaJlr09X3xOQ+31tCDWnzLCfYWUBzl9g23PEaBC1f8we/6tzPZ3jov9zrHnX9Y5QtEpWRKZwwIdyp/g+HfWoYbfWa+sA5wXKD5B/rF37z56/Y3Xqb65TfL52fMW0azcpRQRM+4ZW3oqwsDHxngAJDx9PRKSByXv2Nio5OZRzIMOAQh9eDPfPsR8fPwCxomAzOlB4gcLPP+6qnI6uvcTafVrqC7nYr8Euveee6SHWAl+LL2qur2tEQBVNgh6QKD1zjvv0JGDedRUU0GhbgO0MiVUevR9PEG3OzmKanjcPdxn38sc+wP88ygbYXOGD3cNIMXgK9obk98DGP9ae8d7/Q9UtNH5gAhasnwlrVi1mtauXSvdOBD3ccZiPzX8k/++6BZWQACGEcpdO3d+IPz7BZw/RIvNqo03MTnPQubfjxImPiscSvj2UX1cz213tRXnhHmvp6tT6HiRbgAPAFj/kFKIjk2k2KRUSkjNEOpfsxkA+fy6uzqk1Q8hf3j+HmPDtIY5w1evWiXFflD306EI2CsCqOCH2I6E+F99lSrOFlC093lK5Yq+HM7tRwVwS60Z7W/wtIuauqXIDvS6EN0xZyQySdCq1DBKDvE1K+IAxj8sQqra++hwVQfVcbGfG1f6z1u0lO679z5ayO24hvS2OfOz523U8Nvz1XHSuSHE39fXR/kI8W97hU4UnGJhTjdKYFYtGH5U8MMYo2XPkjHEYjrdrLLXVF9DlSWF3G5XTLXMuNfR0sSyoQM0Ojwi4h/i8bNUbwATAkXGxFM8EwSlZucwHXDK+AKEIwBS7DNJ71+IfjjKUHrmJH2x4x1qYXrfqIgwWrxwId1+++3C7oc8IrwKHYqAvSEAfQyQaCG8/9GuD2iguZoWJgRLr35skA+r6pnHo1HX2c+59Q4qbOimSmbVQ5+9J1P4GkI9SBtMZKSH+9GmWVGUGeFvUVFhS88QFTZ2UzHC/m2DFJ8xi75x9z20ium3k5JY+4P7+51tqOF3tivqAOcDOl4jb/gqexL1Le2UPZ9FbrhXP2P2fAqLimFDaznXfivLgJacPkGl/Dp35gT3HNew/G6fiPdArhcSvgjxD4OJjGl4h1mVz537eINCQpkWOJnSc+bR/OVrKJYpgiH48zeqfhPAGfS+o6Mj7PVX0snD++jc6eNUV15KackJ9MADD0jIH3lEiIXoUATsCQFE5KCyt23bNjq4fy+11FVyiH+QViQjxO8rnPug4TVnXGz40WMP0R5I8/p4uYla30T2G88eP+aTaKbHbxwDx2/nHn/Q++ZVdkjIf+nyFbRy9Rpav349JScnGx91mnc1/E5zKR3nRL7yJPbspY8+/phG3L1o7ZbbaOb8xWL0fTnsbskY5dwkVPXAKHZkz27pq6/l1joYdgj6hEXGSP0AOP5B2IHFQGtTo6QAWlh5D4x8/gFBlDpzNq3YsIXSZ82jwJAwXiiYZ6C72tuY0a+Uzhw7SHm7d1Kwr4nu+vpdtJbD/hkZGRQWFmbJ6eq2ioBVETDEd/JYWvfpp5+m00cPURgL7iDEvzA+iGICvS3i07jY8KPYDhwAkSzmE8KSvRDymcgI8/WiDGYKhNqfdMlMZKNLfMYo9kN//56yNq7y96SQ6HhazPn+u+++m1X95klUzpla/NTwX+KLoL+yLQJnz56VYqEDhw5RRVUN32QJtP7GreJhm0ze4nVbMgMo6DWzJGhRQb4YWoT50WMP+d7cFes4jD+bjX80+XIB3wwmG8GCoLe7iyq5//7ovk/FSA+x6E44Rx7mLl7J0YjFlMHefyhvY84YHmKJUM6XItf/0Tuv0mB3Gy1bsoRWrVpJ69atc0qPwhycdBv7QAC5fSzO0WL7wgsvUEPpGcqN86esCD+m4/WhIB/LtDEuNvzg8s+JCaA0jiTE8f4nmkKALDY+68WthBNLDlwaX4Pat4ElfQvqO7m/nyV+B91o5oKl9PDDD0tkztlkttXwX/q7oL+1AQIopIM3ceTIEXr++ee5fe80eXj7U1IWe9bX3cAFdZlWOWory4IWM3Pe6fwDdGz/59TW3CgeO9IIq66/URYYyOebvL3leIb0bhUzkR36/EM6e+yIcO5jUZCYlkU5/ABYds1mik9NNysFgbApXmXc3rf7L69RQ2UphYcE0ZJFC7m97y7J9aPOwJk8CqtcSN3JtCDQ0FDPErvH6YvPP6P3t79Hwy01tC49jLIjA9jog453Yh755SZ/seH3ZQ9/YUIQzeKCwaRQPwq2cGFxueNe7fed/cNS6He2qYeOMrNfbMYc+u4//IMU5EZFsSiYE8lsq+G/2rdB/241BMD1jfw+FPd+97vfUXl1HWVyBX8Wt+8hzB8eHWuVY4FKdN9H2+n0kQNUzaI5yOOnzZxDM3OX0PxlnLPnqn2ocSFvjwGjjEVJOxf9VXB04MzRg3T4848kaoB0wEyuP9h4xz0iEGRu0SGOUc/tffnc3lfKuf7WuirKyc6khx56iJYtWyZkIVrkZ5XLrzuxEIHi4mJ6//3ttH/vHjpbcJwCRrrpmoww9sj9uAjPcg5+ezX8qPDvYuMPw/9JaQt5hifQjTfdLIZ//vz5hBZcZxlq+J3lSjrAeUB5r7Kykj7//HN66aWXqJ17aFdzFf8s9qhjEpPJPzDYorM4fx7FdKNSzLfrzZc5N3mQujvapW5g8eprKWfRMlkAhIRHXvI4yPV3tLZILh4heXjobK8lQrDlzm/KPLEQ8OJ0hDkDCwuQ+hQeO8SRiM8oPjqCHvrHf5QHC/L8WuRnDqq6jbUQwOIU98+xY0c5xP8iHT24j4Y7WyjOZ0yK6BJYdc8aUSl7NfxGrr+Ei/w+Lm6iXs9gmpO7kFZwkd/mzZuF1MdaWE/3ftTwT/cVcKHj19TUCB8/JHd3f/IpufkE0qat94q37+sPwhzLGPqEqIeL+gqPHab3X32Oc+r5UqgHSd9rb7mLef+XX7F4UEL+nI9HLn7Hay8w3e4RKRKMS06nNZtvEcGg6IQksxco/dza185pByxIEPL3cT9PW++4Q8hCsrOzKTw83IW+DXqq9oYACHsgjQ2WvqeeeoqKmG46McCNMsK8aVZUAJPlWHZ/Gudrr4bfyPVXcYthXnkb1Q24kSk4khYuX0UPfPvbQuVrnIOjv6vhd/Qr6EDzLykp4RDi+8zJf4DOFpdQcFQCbbrzPsqcncthd+S4zWsPMiBAJX83t+Wd4tz+ztdelP55tOBlczrha3d/RwR/wMrn4cmSYlcYaP/b+cZLUiPQ2d4qXQCLmUI4Z9HyK0YMrrBL+ZPRbVDID9T3//wCDfe00TpmCFNCn6shp3+fCgTA0gc2zc8++0wMf03RSVqSyLl3NvrxXHQX6G1ZUZ9xDhcbfkj4Qt0PffkxXN2Ptj4YYQz09IMkyIP7/FEEiEK+cdKg8b/b4r8gFTpRiyK/QWocmEGzFy+nR3/wQynyQzrOGlEPW8x7MvtUwz8ZtPSzFiFQwEQ96Ns/cvQYdfb2UzR70mjjS86c+eXNZEltLn3F0Ieivk/fe5MqzxVxLt+LQ/RL6JZvfk8iC8j3X60fv6K4kD57/y0x/I21VawMGECz2ejP5ogB1AIjYuLNwkFqCTiUWsI5fqQiOptqaVZWJi1ftpQ2bdrkVKFEswDSjaYVAdTfIBUHw49q/o6qIs7tR3DRnT+F+HhNuM3uaidxseGHii+MfnSgSar0PdjAg1UPTwMYfB9U7/OiA0V/odzC58tUvbbUBmjrG+fwL2rqpdNNfZTONUiPP/4jWs2EPiaTSVqAr3aO9v53Nfz2foWcaH6o5n/22WdFjMeb6XmTsnJoybqNFJecZpWz7GLvvLqshE4dyaP9H+8QulwfPz821svopnu/K1TAEzlQDe8jb/cOiRxU8eLBg1n90BGA/SxYuV7IfSayn8t9przoDH26/Q1qrDxHESEs3sOKfVu3bqWcnJzLbaK/VwRsjkBTUxNBehc1OG+z/O5ISxVtnhnJ1fz+TKzjPmlO/stN+GLDPzw6JvS/IPHxlO4WohEYfrb8nrwq8GYufrTtoccf6Qa8B/FCAAsARAHcsXKw4uhmHYH6zgE6w2x+CPnHZc+jRx99lNZx621wcDChtc/Rhxp+R7+CDjJ/eLv7mRDkv/7rv+h0UanQ82bMWUBzl6ykqLhEq5wFiudQkIdQ/+EvPhZCnkBm4YPB3nzn/dKLP5ED1TGtL4h/EDkoRYEfi/kkcZ3AbN7P0vWbhNJ3Ivu53GewOMlj7v7qElYjZL6A3Lmz6Tvfca4c4uXOXX9vvwhUV1cLL/+eL76gT3d/TB49jXQDG/4sNvwwrhOl0r3aGV5s+CHYg3A/OgYMG/5VqJ/9fjf+5fgCgOVzTe4UywRCmFMCpx9CmLzHZ4KEP1ebl/F3g8kPNL6flDRTcGIW35/fEcMPfY3AwEDjow77robfYS+d40xciua4f/8LLur79a9+RaWVNTSHiXHQXicUvWYS41yMQGvjeP8+DP+xvM+ps7VZmPpgsK+77W7Jz1+8zaX+DYpdbA/DX1RwVCh941LSZAEBHgD09lsyGmp4/8wvABrh5ppymp2dRY888gi39S11ivyhJdjottOHwLlz5+jDDz/kNr4v6ET+YfIf6qBN2REShrdmXruha4CO13ZQKXPjI5/ePzz2ledu5O/RTYMqe3j+aLODkp9EARgeeP0gE0J6IJlbDMPY+FujzdBAHhEIKPcVNvbQB2cbyRSZTFvv3MpFuOto5syZFBERYXzUYd/V8DvspXOciaN/v6urS0KITz75JNU2tdJypsKdxfnyhJQMIdexxtm0NNQRCudg+E8e3CuFfuD9R1HetTffJYx9EzlOY00VneDtT+fnUSFX+KPNL4a5+2dzO+CaTbey9589kd1c9jMtjXVcMZ0v3QOFTOObmZpMP/7xeA7RWYqHLnvy+ge7RaCwsJDe4hD/of17qLasiMJm9NP69HBKDvW16pxbegZFFKehe0BkeRHeR/jej4v64PnD+MPoD7HBh3JfM38edLrNLKbTwwsABPaDOC2AeUE0KIWNP/L/E6X6vdrJGAuOs2z43z/TSKNBMXT99RtpDRfiLmHGzbi4uKvtwu7/robf7i+R40+wt7eXmpubpWjot7/9LbV09dL6r20VQ4pCOb8A64TOQNN7hnvkYfhPsSgOlPlACgSP/xoYfq4pmMhAQV/BoX2yH7QG9vf1UFR8kuxn7Q1cjMhhf0tGB0cikOdHRAFEQSkJMfTTn/5U2vpQPKREPpagq9uai8BJFuV5+eWXKT9vL/U211C01zCtSAmTkLq5+7zUdlDjq+ngDpzBYfkzDHYIG25/zuNfaPjF0x8cpSY2/JUsnYs2O2zXziQ78MrB7Z8bF0TZ3HWQCuPPiwdrDaQmIdrzfmET9fuE0fKVq1mtb43co8nJydY6zLTtRw3/tEHvOgeGtw/ubxQN/f73v6fO/hFhwkPuPSQsgry5xc4aw1EMP5QAa1m0BwuUfR9up4TocK4aflweKn5cjAipXh2KwFQjcOzYMXr+j38U4h7qaaFYJu5ZkhjCAjrmiVNdbv4w2gjvjzBbJgY8fITqUcEv1fpfbjjKxnd09DxHBUY51D9K1Wz0T9R0UnlbL7Wymh5kfCHuM5MN/zJW6UPLoTUHUhEfFrVQj1cwzV24hFasWk3XXXcdpaamWvMw07IvNfzTArtrHfTCNiFw9PfyQn/zXfeLBx0QDM5869ywjhLq7+nqoPrqCqEU/nznOxTFlf3f//73pV0IhUPw+nUoAlONAAz/C88/x10xB8g01EUJ/jM4lB4ianxTPZeLjwcP3OivR9EdjDKKAv04SjCTC/2uy4qktAguQuRFBP/fKqOstY8+LmmhLg+OKszNpWUrVjkNg58afqt8RXQnV0IAVL3l5eUS6n/xxRepb3QG3fD1B6RYLiAo2GwK3IuP6SjFfT1dnYR0wmluO/zs/bcpiHuT77//flq6dKlUDKvhv/jK6r+nAoFTBQX0Z+bZKOaC1oDz/ZQU6E658cF2Yfhx/t0Dw1RntNlVtPPP/eL1Z7LB3zgzStoOTZw2QCTAGqOc6wp2l7RSp3uAdAQt43D/li1bRErbGvufzn2o4Z9O9F3k2FNl+A0ufIjzHN5zYTvfcm7n+6bF7XxITSyzQjvfxYZ/xsgAbdiwgTIzMwmhfggI6VAEphqByooKTsd9Rs3V5RTmOUKpIZxDtyPDL8V+XBeA/vpdZ5vpHHv9GGlc3b8xO1IYBlEnAHY/aww1/NZAUffhsggY4jwGIxhC/Vs41A/RnICg0K/kcS0FCPS61eeKpWhu/8fvM4FPJfn4+ctxbroHBD4LJnSIiwl83N2ZwCdnnrD3LVi5jgWFUia0n8t9CKH+hgtC/c111RQZGUkBAQFS2AeJXh2KwFQj0NfXR63NTeQ+OkBxAV6UGYGqefsI9QMLsPkNcX1AYUM3vXe6gYpYRQ8jJcz3S4bBACkStFZ1P0L9u78M9WfNmU/w+J1FrEc9fvnq6H9siQCK+0AOAsP/Ry4e6uZK3Y133Cc5/qCwcPL2sU67UG93F4fQq6UN79PtbxFY9yD8I5S99/2DZZS9Qte7TNITkbHmUfYaGEMxsJZZ+xCZ2LPrXWprrBXJTxh+NfoGSvo+1QgMMFd/W1sruXEEKtLXjTLDfWkxG/5YLqCzhyFtdlzsB4//3YJ6kc/FvGD412eES5EfKH2tRehzrnW8uK9bVPoW0XIu7rv++uspLc06TKPTiaka/ulE30WO3dPTQ/X19WL4n3nmGZHj3cDtdWizQ589uPCtMSDS09X+pUjP6y8yQc5J4eUXkZ57WKSH5X/NFelZxCI94OpPmzlbSIEsmW9nWwtVlhZJZCJv907yZpU+eBJZWVnCA67G3xJ0dVtzERD1zAMHqJ6ZKz2GuikpwJ2WJ4dYvVre3PmBwGeIK/zPsMe//XQjt9uNe/ypbPg3ZLKmAFf3B3FLnzdz+1s6UEyIAsIdhc3U5x1Ki5Yup5XcznfNNddQSoplET9L52aN7dXwWwNF3ccVEbhY9auhtZNWbbxJvOfYpBQO94dccfuJ/lFkedlrEfU7O5TlNc6jramBhXpOsHzwISYa2kNxUeH04IMP0qJFi8Twax+/gZS+TyUCUM/8YOdOOsXkUh0N3MfvOUxr0sMoKcQ6XTeWngva+jq5jQ8e/+5i5sLgUDwq+MHgdz3n+NHWhyp/8PdbMmD0kVYo4oXF+2eaaNg/itZds4FWr1lDK1asIND2OvpQw+/oV9AB5g+db7D3oY//17/+NZVV17HYzTXigafCgw6PtMpZnD8/xn2/UL87QR+y+h107xFWR1Rh8eprJdefNnPOZY8Hhr6O1hYmATpIH73zqvD+8zOA0jm/v4WLA2dxxMA/MMjiLgSkIwqYYKik4BjVnCukrLQUepjb+ZYsXiyhfmvSo1oFWN2JSyBgUPYeyttPxadPUtBoNxvUCEpjj9oeRicT91QxkQ/a+Q5XcUssU/9CQwC8/VtmRQuRjydzAaClz5IhNMHDoOztZo+/iTzCE+iWW26ltevW0Zw5cygqKsqS3dvFtmr47eIyOPcksIIeY7KOffv20RNPPEGFJWWUljNf1PIskbm9HGrVZcW076PtkkOvLi/hgjkP4emHNsD8ZWsoNilVKufdWFsbw5hfB4v8VJQUyoIBjHogBIKhnzl/iRAOZc7JJQ+uuHdzsyyUWFtxjg7x/iuLTlF/ZyvNmz2Lvve974nHf7lz0t8rArZGAJK8e1hPY88Xn9P+PV+Qqa+FtrBITybz4ltDBtegwoU3jRf2iQp8GO8rmWoQ/Qww4Q8ofkGjW8KeOCr6QeoD1b6ZUf50Lfr42fPHovlK+5oIhmAM7OLWQaQUPipqpoD4dGm3XcuUvQjzh4RYJ0I5kbnY6jNq+G2FrO73bxCAcT18+DCBsvfk6UIKioilFPa+F3LuPNbCKvm/ORD/o7VpXKwHlLgQw2lrbhQ9AAgCQWQHHjzSC6Yv5TVFRGhokIsBi8Ugn2Wa3hpeMMzgBxIEeVAbsOyazRSfms4PFjd5uFx8zMn8u7LkLH3BxD315cXkzzrni3Ln09133y3exGT2o59VBKyJQENDA4HEBy192997j8631dINs6KEIMfzSwNtyfFQkQ/SHQjgDHLYHmx9YSjGY3ndyxlsPDd6uBgYRr+Mi+1O1nGhMFP3QjoXRXxIQ8yMDhDO/lhmGLTU6OP8IAgEsiB0D+wpa6XojDlCsAXDD4EeX1/7iIBYci3U8FuCnm47KQROnDhBL730EuUfO0GDzNYZl5Ytuf6kdMtEby6eRF9Pt3jrRQX5hOK5yuJCTjVwpTJX4+euWCdiPWGsCIiiQjxwhoeGqLe7m6pKz9LRfZ9SNdPpDrFcbjinCERFcP5iaecLtVBFEA8xvFB0+OHb26i9vopSkxJp6ZLFdNNNN0kf/8Xnov9WBKYKgba2NiotLZUi3G3btlFv3Tm6nj1pFM0FsCiOpf3xkLtt7R2ilt5BauoeIr4bKNzPJF67hOh5oY0oAAZkeREVgLePED+IeyrZ4Jeyt9/BXP9eHNKPDvCmnJgAjkj4fyXUIxtb+J8OPl4lk/ec5XbBY3XdlJKzgP7fY4/RGs7xOwvPhhp+C78kuvnEETh79iy98847dODQIaqqqaPwuBS6/vZ7KG3WXIu96AtnMYqaAq7wRzvfkT27qehEPiG8Pjw8JBX5MOgQBwrgML67hwcNoH+ZC+5aWNa3paFWPucXECQV/CtYRTB91jyJGJh8LCtyQrpjdGSYVfnyaTsXH/a1NdGypYtp1cqVtI7zh8nJyReehv6sCEwpAhDTamxsFMP/9NNPU9O507QqNUyK5qICTCKiY8mE4O2L597SRwX1XdTeN0S+7O378SvA5CkevKfHeKh+PM8+LscL7x76Hl38jn1gkQBpXoT2F7BITyKr9Alxj4VFfca5QQ0QBYQlLf1U3jnMtT3L6DE2/CtXrXKarhs1/MbV1nebI4AcIgr89u3bT3kHD5J3UDht4n7+rHkLha8fRtiaA8a85NRxKuViv3OFJ6mprkYkdt045x8YHEwm5g9ABf0QZIO5DXCYw/3uHp5s5ENFhhekPfOXc01AQgqhHmCGhcQ6Qxx1gGLgGS463MXFhyBKuenGG8WTmDdvnlMUDVnz+um+phaBIY58ofV279699NRTT1HZqaOUFWaSfv4MzvOjR96SYYTQkaPPr+4QLx77gyFH2N7EbXgG6Z4Yfs61D3CUYGiEawI4UubGEQG06oVyyx4EedDGlxUZQOH+XpdNFUx2vojI1XB04XBVO1X1nKdhrwDKXbqS/vGhh6QGx1kKb9XwT/aboZ83G4GWlhaC1//FF1/QG2++SbyIp/U3bqVZXHSHynuw7FlzGIa2iZnxKrlor7qsRDz/dpbFHRoYEO8bIUXk8j2Ync+fdQMiYxMoPiWd0wE5XHuQSqERkdz77z8ekfgyDGnuHLG4QO0Aug3ydu+gSBbn+S638SF3GBMTQ/7+1j1/c+ep27kmAohIoQMHtTjPMt/GicN55DPaK/38i1n33lIiH+T1EbaHtG4hF+nVclV+H3vwaNMbYWIeLgEQAw8jDwOMIQWA7MkjKhDCC4/oQJNoB8QEenOawItTEJ6SgrBGbh/HxLGFsa+4hdpn+IoENyR5b73tNpo5c6bTfDHU8DvNpbT/E0Eosbm5WSqH//CHP1BdE1e0L18rjHop2dZr67sYCTD6wfhDEa+2olRC+j2dnZIOQAsgKvVh3INZIjgqLlGq/hNSMyg4NFy8fGut8tHGd+owt0px7UFl8WnKSEmihx9+WHqDnSV3eDH2+m/HQ+D06dP0xuuv0YF9e6ieU2RhbgO0lvv5Uzikjgp8Iw8/2TMzqvPbOMRfy141cv1GsR+q9sHFP4x0GGw+vxBg8+L/oPgP1fthbOiRckCYHz9bi6HPOA/IBaNTAFTAoOo9HxhN6zdcK/37y5cvd4r+feNc1fAbSOi7zREw+vkPcpj/mWeepTNFJRQaHcc5/nnj1f3cZmeLYRD7DPT1Un9fDxv8ARoZHuYWw1HxLBDCR8ufF9P7gj7Ym4VyfDn6ALpfaxl9eBNGNX8NFxF6uZ2nBfPn0n333Ue5ubnK0W+LC6/7NAuB6qoqab1FW9/nn35Cbt2NwoyHfnlfDsmjGt+cYXjUCN2j0G+QDe0Iv6S9jw39GBfzic3ne2V88CKDD4W+fKQDQMwDHn4T5wPwMxYh1hxSg8BRCEQj8iraKCw5i9v4viX9+0lJSRQUFGTNw03rvtTwTyv8rndw3PwFLP/5yiuv0KEj+dTe3UNRiWm0dsttUm1vjT55e0NVFh5cbFhScFyIgbpb6mlWdhatWL7MaWQ+7Q1znY/5CKC6H2Q+SMnhPu2oLqHlScFMkONPUexto5DO2QbWGohACE9Aaz+VdY5Q+pwF9BDn9ldxUR90NJxJLlsNv7N9gx3gfCpY/vMzFuzZu3efFPl5+QfThlu+TtnzFnF/fbDFzHj2BgHaC9EtcIb5AT7f8Q6ZZozS1752A61ZvZpQ1BcdHW1vU9b5uDACYNmEsBaK/H77v//LC9Z8SglmtT4W7cnhnnmE2p1pwOiDXKiaaw/2V7CAVh+nGfxDacGS5fTAAw/QgoULxwm/EH5wkqGG30kupCOdRmtrKxUVFUmu/6233qIOXmkvXLNBcv0JqZkUhNy6hYV09oAHohvnOWfZ0ljHef1jVHwyn19HmJs/gu69917xJFDUB29ChyJgLwhISJ6pr48ezafn/vgc5R/cRyNdrRTjfZ6WJIVQIpPm2CLUPl3nj9oCtAxClGcfG/5+L2brnD2PVqxaTTd87WtOya+hhn+6vm0ufFx4FJ1cXHeAlcBeeOFFKiwuoYBQ5gTnXP/SazZRQkqGVYvqpgvqMX54gjugovgM7f3gL8zLzzLB7DTMnzuHDf89tGDBAvJhbgAPK7cxTtf56nGdBwEY/7KyMvqUc/x7mb73MPP3u/W0iFpfBhPm2KK4brrQA2FPObMCoqivoL6bQhPS6dbb75CiPlTyg63P2YYafme7og5wPniooHUI1cPw+A8cZEKf2loKjoyjNZtvIVDrglLXy2QfOuDmQtrf28N0wQ1CILR317s02NNB8+bOpZWs8LVp00bR9XaGyIa5+Oh29o0AInNQ7IPGxttvv01NFcWUGeJF6WHeTJ4D4+9ptf756UBCtAO4haC2q5+O13RSZdcIdZM3Zc9dQPdy0e3SpUspNDRUFufTMT9bHlMNvy3R1X1fFgEYf7CEnTp1ivZwLvG997ZTV98gE+Zwe1/uYkrJyrmsit5ld2pnf2iur6HT+QeZqe8IlZ46RjGRYXTXnXdKiB8sfc4g9mFnkOt0rIgACH26mco6Pz+f/vzqq3Qi/zANd7dSLBNYLk8OZp58X6m2N7e9z4pTNWtXRoj/XAuTFpW1Ua9nAGWwfsjSFStp8+bNlJ2dzZ0+XtJxY9YB7HgjNfx2fHGcfWr9/f0ErwLtfS+//DIVnytn8Z4YSs7MoXnLVlNcchqz6yEU7ulQUID7v6+3W0iDoPJXB8Gf0WGaOyeH7uPc/kIuFoLQhyfzB+hQBOwZASzQwd+/c+dO2sch/5PHj5FHfzstTQyiDC72Q8jf19ODPX97Pou/nRufkhD1GGRCJVzFX9DQSwExSRyJ20yruOgWLbbOXHSrhv9vvxP6rylEAKp48CrA5ocHy0Hm8C9h4+8TFEpL1l5PGSyDG8mc+n4BgVM4K8sP1dneStWs9FfExXxH931GbqODtHjRQm7fWy4sfZD2BFWwmxNVCVuOmu7BXhFob2+XfP/ePXvo9ddeo+rSMxQfyCH/cB+aGxMoYjnw+h3F+I/rAIxSFVfx51d3UnU3P4c8fChn3gK6hxfmS5ctc9oQv/EdU8NvIKHv04aAIQeal5dHH3/8Mff291Jy9hxKnTmXBXLmiqCOI3j+8PSR16+rKqfCY4eEna+ptpLioyPpRubkX8YPlPT0dHmoTBvYemBFYJIIDDPZFVg3jx09Sn9mw3/s8EHqbm2kMM9hms8iOWD0C/Zh9ksm1rHnmhXD00cFfxPL7p5jT/9kfQ8NmQIpLSOTlnOI/+ZbbxVqXizK7flcJnkJ/+7javj/DhL9xVQjgJA/vArI9r63fTudOFlA7Z3dXOwXQ7kr11E6LwCgpmfvnj+4+KEHUML5/BOH9nIxXyfL7ibQQq7e37hxozxQwMePvKEORcBREBBVSY7O1XIB7lE2/vv37aVPP/6QWusqKTHImz1/X5rF/f2g0wXLnr0aTHj6EP2BCM/x2i6q6hyirlE34eO/8aabCbS8sjAPC7Pbc7DWd0YNv7WQ1P2YjQDyiHhBvQ9sYfD8j3BBUd/QCCVlzqZkLvRLzpwpYX9f/wCrUumaPWne0Jg3xIB6ujqpgbUA0K9fzZS8jTXlFBESJMp78PSR10fPvg5FwFERgHIfCnKP8r357rvv0umTx2iws5VCPUdpTkwAF/v5UBB7/qD1tYTT39r4gBJ4iKmBuwdGmJ2P22vbB+hUI9N3e/ix8mYiLVq8lG66+WaaPXs2uYpmhhp+a3/LdH9mIQAjinBiU1OTeP67du2igtNnqK2jk3yDwrjFZiH3+c+lpPQsEdMBv/50exbiCbGaWWtTPcv+Foj8LySAR4f6KSUxnnLnz6drrrlGPH1U8KNnX4ci4KgIQGtjgHUuampq6Pjx43SQF+hffLabPf8qpvL1omQ2/FmRfqKeBzU9czn9rY0PdAHaWRgIzHyFbPDre0ao77wne/pZtHHzFlrCbXsZGRnSr+8qtTdq+K39LdP9mY0AjD+MKTz/PVxIhGp/PGA6OOcfEhXHqnnplMbtNjGJyczuFyYyvtPB7T86OkLDTEIE1b8OlvitZQWzktPHxePv72qj6IhwUdxbsmTJV57+dC9SzL4ouqEicBECaPGrr6+nY8eO0c4dO+hMwUnq6WghfxqitFATxbF0Lmh9g3w8xPv3YEGdqSz656J9icahXa+H1fba2Muv41792q5hquoeozHvAIqNT2Aq3kW05YYbKCcnR9gzXSkFp4b/oi+1/nN6ETA8f8j3otof5CHI+ZeVV7Ca13mKjE2QnFz2/MXc7pdK/oFBU070A5W/djb4NZzPLzx+WCr421oaKdCXK4NnzWRPfx7B6CNfqJ7+9H6f9OjWRwCeP+pyYPwLz5zhPv8jtI9TdNXlpTRjZIBCTTMoLcyXkrjoLz7YhwK90e7HuX/rT+WSezSIeVrZ4Je19VJFWx9VtfVT/wwvYQjNnJlDa9auo/ncsocOmzDO6YM905W6bNTwX/Kro7+cTgSM3Dmq/eHxo6DoyJEjVFVdQ/1DwxQYGknpOfPY8HOFfGQ0BSKM7usvPf9eXt7kbkUKXMxllB90g6yuN9DfRwMs69vR2kJNddVUww+6iqJT1N/dQUEB/sLEt5zz+fM5xA/yj/Dw8OmEUY+tCNgUgb6+PuHhOMPG/3MW3Tp58iSnAaqZ5KeDQtyHKMrXXYx/OPf6+3De34f5qiGrC4lday4EYOiRxx9mxwBh/T5+QWK3kSv3y9jgtwwQDXn6UlB4NGVlZkqP/uo1a+R+RfrNFfk01PDb9NbQnZuLAAwu8okdHR3iWUAmtKDgFNP7HqTq2jo6P8ON/AJDKJqLc2ISUiiWyX4iY+OF7Q+LAGuE1o0FSB+H9JtZaKexporqKs9RPRfxNdZW0yAvAnxNXpSanMStQMtpDhcHJSYmUmRkpNPJeJp7HXU750UAPByG7kYDe/9FxcV05PBhOs2h//KSszTY1U4hvl4UyWH/GO77j+EUQFSAtxQAwvhbi/FvmAv3BobHqI3z+PVdA/wapPruAf73CPUOn6cQ7g6ak7uQ5sybL5TZKampsihHh42r5PQv/haq4b8YEf233SFgeBYI/SP3D5pftBb19g+QiY08BH6QAgjnlr/w6Ngvef5NUv2P1byHp5e8EAmQ/lwUBn55lry+4HzgGOEhNjoyTCPcswxhnRHuyR8eGmRPf4C6mJCnkT18UPC2srxub0cbjQz2UyCr6qXyQ2TevLlCw4vQvrPpdtvdl0EnZHcIGO1+dXV1kvdH7h+vmqoqGurvJc/RAQp0G6Ew7xkUFehNIaj85+I/E/f9e/ACwJPvRw+3GfKSbgD+2bg/cbLjOftx6Vy05I2woZf3C7z8roFhNvTD1NgzRO2DRL3kRTNMfhTIMt9pfF8uZ30MSGCjiA+hfWs4BnZ3ISYxITX8kwBLPzo9CBieBTTC0U5UUVFBhYWFVMwCImXlldTCtL8DnALw4DA/iv6CQ8NF2jcoJFQWARD88Q8OIV8/7qFn4R8PT8458sMGTxQ8tGDoBzln2dfTTd2d7dTdwS9+BwNfR0sTdba1Uhf/jsZGKMDfj6IjI9jgp1AmP0QQ0k9MTOKK4HCCB4GFhivlCqfnG6FHtScEjMgYInTg40CKrry8nAV+mL2S79OKc6XUwNGyAea18GZj72/yoFBfT8n9B5jc5d8B/Ds/Ly4G5AUBJH/d2Pjz/3lRPm7wEcoflGI99uI5jA8Snu7BUXnv5DY9FPD18d/HZnhw6i+MFT7TKD0ziztqZonhj4+Pl6p9LMxdqYjvct8TNfyXQ0Z/b3cISL6dPXNDNayYQ4uFhWd5IVDOD5tG6uY+4zGetbuniXy439/bFy8/8vUPJH9e+fuI4TcJ978Yfv4sDD+8+8GBPjb8PdyP3yELgEH2VAZ6u6m/p4vt/TB5erhTSHAwxcXFc24wVQw+vIfk5HGxHVf3IOzuy6ITmjYEDA0OdOeg+K+oqIiQqsOCoIcX12NDHKmjEXl50ih5u5/n6n836QAAB4AXLw7g+RtevxTrfWn4YfT7OKzfP0o0ODaDBsmDewk8aJgNvpePH4WG8D3KRj6LjX4WL8pnzZpFsbGxLtOfP9GLroZ/okjp5+wCARh/5BVBJoK2IkQBmptbpKiourqaKiqrqJG5ADq62Hvnv/f09NLIyCi5cZh/PJ/nzt4+HiozJIQItx/Gf4wXFHid55+92PMI4IVDYGAABfMrJjqaUtjDT0xIEBIeFO3Bc4CHD8IP9SDs4quhk7ATBAwNDvBydPP92c51OlisIz1XWloiKYCWpgZqb2nmqFobC1r10ChH3fjm+4r4B0afGwFkSDqOf4LXj5ebu4cU8oLJM4i9+/DIKIri+p7EpESOxKVRLBNlBfEiPSgoiO/hQOHPcNVc/jiCf/9fNfx/j4n+xoEQwELAIP6B4S8rKxOCkeaWFmprbePQY5ssErBYAOe4GHk27saQ6mJ+wuDBAAPu7e0tRh063GFh4RIeTEiIl9a8uLg4pxfvMHDRd0XAWggYxD8g54LSXxXn/uvruViW03atLa3U2dlJvdwhgFQBPouFA+5rY1x4jyKV5stts6ivCeH0XRgvwqPZ0CfwohyFtWjPw72rht5A79LvavgvjYv+1oEQwMMChh1FgFgE4H1QwvcD8jBBdAC5R7xDDdBYAOAU8YDAw8Qw+MHsKcCTN5lM8ju8o+UHv8M7FgfYRocioAhMDAEjRWdE6nB/Ih2Awlm5b/lnROeMl7EAwHYw+qiZQZ89pKzFi2ej78uRNtyPJizW+R0/4+9GBM5YLExshq73KTX8rnfNXeaMjQcOHjJoC4Thx4MGCwV4/hh4qBiePow7Hix4iOiDw2W+Jnqi04gA7lFD/U9SA7wAwP16odePhfaFhh/GHQty/E6HeQio4TcPN93KQRAwjD88fcPg43d4YRgeheFVwPvHgwa/16EIKAK2RwCLcBh63J9YBFxo9HF0YxEOQ2/cn3qPWnZd1PBbhp9urQgoAoqAIqAIOBQCavgd6nLpZBUBRUARUAQUAcsQUMNvGX66tSKgCCgCioAi4FAIqOF3qMulk1UEFAFFQBFQBCxDQA2/Zfjp1oqAIqAIKAKKgEMhoIbfoS6XTlYRUAQUAUVAEbAMATX8luGnWysCioAioAgoAg6FgBp+h7pcOllFQBFQBBQBRcAyBNTwW4afbq0IKAKKgCKgCDgUAmr4Hepy6WQVAUVAEVAEFAHLEFDDbxl+urUioAgoAoqAIuBQCKjhd6jLpZNVBBQBRUARUAQsQ0ANv2X46daKgCKgCCgCioBDIaCG36Eul05WEVAEFAFFQBGwDAE1/Jbhp1srAoqAIqAIKAIOhYAafoe6XDpZRUARUAQUAUXAMgTU8FuGn26tCCgCioAioAg4FAJq+B3qculkFQFFQBFQBBQByxBQw28Zfrq1IqAIKAKKgCLgUAio4Xeoy6WTVQQUAUVAEVAELENADb9l+OnWioAioAgoAoqAQyGght+hLpdOVhFQBBQBRUARsAwBNfyW4adbKwKKgCKgCCgCDoWAGn6Hulw6WUVAEVAEFAFFwDIE1PBbhp9urQgoAoqAIqAIOBQCavgd6nLpZBUBRUARUAQUAcsQUMNvGX66tSKgCCgCioAi4FAIqOF3qMulk1UEFAFFQBFQBCxDQA2/Zfjp1oqAIqAIKAKKgEMhoIbfoS6XTlYRUAQUAUVAEbAMATX8luGnWysCioAioAgoAg6FgBp+h7pcOllFQBFQBBQBRcAyBNTwW4afbq0IKAKKgCKgCDgUAmr4Hepy6WQVAUVAEVAEFAHLEPj/9y4FSET+9mkAAAAASUVORK5CYII=)"
      ],
      "metadata": {
        "id": "LhekpVbfHOP9"
      }
    },
    {
      "cell_type": "code",
      "source": [
        "import torch_geometric\n",
        "from torch_geometric.data import Data"
      ],
      "metadata": {
        "id": "JxtYQQUp75oO"
      },
      "execution_count": null,
      "outputs": []
    },
    {
      "cell_type": "code",
      "execution_count": null,
      "metadata": {
        "id": "ok316h21Bv-8"
      },
      "outputs": [],
      "source": [
        "import torch_geometric\n",
        "from torch_geometric.data import Data\n",
        "\n",
        "# Graph edges\n",
        "edge_index = torch.tensor([[0, 0], # self-loop\n",
        "                           # to add\n",
        "                            # .., # self-loop for node 1\n",
        "                            # ...\n",
        "                           ],\n",
        "                           dtype=torch.long)\n",
        "labels = [0,1,2,0,1,2]\n",
        "\n",
        "# Define graph nodes and their features\n",
        "x = torch.randn(6)\n",
        "\n",
        "# Creating the pytorch geometric object\n",
        "data = Data(x=x, edge_index=edge_index.t(), y=labels)"
      ]
    },
    {
      "cell_type": "code",
      "execution_count": null,
      "metadata": {
        "colab": {
          "base_uri": "https://localhost:8080/"
        },
        "id": "F-7wmv6wFLOJ",
        "outputId": "f60f7706-11b4-4327-c9eb-83313a713eef"
      },
      "outputs": [
        {
          "output_type": "stream",
          "name": "stdout",
          "text": [
            "Number of nodes: 6\n",
            "Number of features: 1\n",
            "Number of edges: 10\n",
            "Contains isolated nodes: False\n",
            "Contains self-loops: True\n",
            "Is undirected: False\n"
          ]
        }
      ],
      "source": [
        "#  Let's print the properties of our graph ###\n",
        "\n",
        "print(\"Number of nodes:\", data.num_nodes)\n",
        "print(\"Number of features:\", data.num_node_features)\n",
        "print(\"Number of edges:\", data.num_edges)\n",
        "print(\"Contains isolated nodes:\",data.has_isolated_nodes())\n",
        "print(\"Contains self-loops:\", data.has_self_loops())\n",
        "print(\"Is undirected:\", data.is_undirected())"
      ]
    },
    {
      "cell_type": "markdown",
      "metadata": {
        "id": "YAZcAA8SKTCZ"
      },
      "source": [
        "[TORCH_GEOMETRIC.TRANSFORMS](https://pytorch-geometric.readthedocs.io/en/latest/modules/transforms.html#torch_geometric.transforms.ToUndirected)\n",
        "\n",
        "\n",
        "[TORCH_GEOMETRIC.UTILS](https://pytorch-geometric.readthedocs.io/en/latest/modules/utils.html)"
      ]
    },
    {
      "cell_type": "code",
      "execution_count": null,
      "metadata": {
        "colab": {
          "base_uri": "https://localhost:8080/",
          "height": 472
        },
        "id": "gsKvFX6OK_o2",
        "outputId": "54a0ed5e-6156-4331-dcae-fbbd4cca16c0"
      },
      "outputs": [
        {
          "output_type": "execute_result",
          "data": {
            "text/plain": [
              "<matplotlib.image.AxesImage at 0x796beade1f30>"
            ]
          },
          "metadata": {},
          "execution_count": 50
        },
        {
          "output_type": "display_data",
          "data": {
            "text/plain": [
              "<Figure size 640x480 with 2 Axes>"
            ],
            "image/png": "[encoded data removed]"
          },
          "metadata": {}
        }
      ],
      "source": [
        "# Visualization\n",
        "\n",
        "fig, (ax1, ax2) = plt.subplots(1, 2)\n",
        "fig.suptitle('Directed graph structure')\n",
        "\n",
        "\n",
        "# Converting from pytorch geometric to networkx for visualisation\n",
        "g = torch_geometric.utils.to_networkx(data, to_undirected=False)\n",
        "\n",
        "\n",
        "pos = np.array([[0, 0],[1.5,3],[-0.7, 1.5],[-3, 1.5],[4, 2], [5, 0]])\n",
        "\n",
        "options = {\n",
        "    \"font_size\": 16,\n",
        "    \"node_size\": 600,\n",
        "    \"node_color\": data.y,\n",
        "    \"cmap\": plt.get_cmap('Paired'),\n",
        "    \"edgecolors\": \"black\",\n",
        "    \"linewidths\": 1,\n",
        "    \"width\": 1,\n",
        "    \"ax\": ax1,\n",
        "    \"with_labels\": True\n",
        "}\n",
        "\n",
        "nx.draw(g, pos,  **options)\n",
        "adj = torch_geometric.utils.to_dense_adj(data.edge_index).squeeze()\n",
        "ax2.imshow(adj.numpy())"
      ]
    },
    {
      "cell_type": "code",
      "execution_count": null,
      "metadata": {
        "colab": {
          "base_uri": "https://localhost:8080/",
          "height": 964
        },
        "id": "LWRsMea_RCgC",
        "outputId": "054e9f51-dc7a-406c-f2be-5d5cf18dbf1d"
      },
      "outputs": [
        {
          "output_type": "stream",
          "name": "stdout",
          "text": [
            "Is undirected: True\n"
          ]
        },
        {
          "output_type": "error",
          "ename": "NetworkXError",
          "evalue": "ignored",
          "traceback": [
            "\u001b[0;31m---------------------------------------------------------------------------\u001b[0m",
            "\u001b[0;31mKeyError\u001b[0m                                  Traceback (most recent call last)",
            "\u001b[0;32m/usr/local/lib/python3.10/dist-packages/networkx/drawing/nx_pylab.py\u001b[0m in \u001b[0;36mdraw_networkx_nodes\u001b[0;34m(G, pos, nodelist, node_size, node_color, node_shape, alpha, cmap, vmin, vmax, ax, linewidths, edgecolors, label, margins)\u001b[0m\n\u001b[1;32m    428\u001b[0m     \u001b[0;32mtry\u001b[0m\u001b[0;34m:\u001b[0m\u001b[0;34m\u001b[0m\u001b[0;34m\u001b[0m\u001b[0m\n\u001b[0;32m--> 429\u001b[0;31m         \u001b[0mxy\u001b[0m \u001b[0;34m=\u001b[0m \u001b[0mnp\u001b[0m\u001b[0;34m.\u001b[0m\u001b[0masarray\u001b[0m\u001b[0;34m(\u001b[0m\u001b[0;34m[\u001b[0m\u001b[0mpos\u001b[0m\u001b[0;34m[\u001b[0m\u001b[0mv\u001b[0m\u001b[0;34m]\u001b[0m \u001b[0;32mfor\u001b[0m \u001b[0mv\u001b[0m \u001b[0;32min\u001b[0m \u001b[0mnodelist\u001b[0m\u001b[0;34m]\u001b[0m\u001b[0;34m)\u001b[0m\u001b[0;34m\u001b[0m\u001b[0;34m\u001b[0m\u001b[0m\n\u001b[0m\u001b[1;32m    430\u001b[0m     \u001b[0;32mexcept\u001b[0m \u001b[0mKeyError\u001b[0m \u001b[0;32mas\u001b[0m \u001b[0merr\u001b[0m\u001b[0;34m:\u001b[0m\u001b[0;34m\u001b[0m\u001b[0;34m\u001b[0m\u001b[0m\n",
            "\u001b[0;32m/usr/local/lib/python3.10/dist-packages/networkx/drawing/nx_pylab.py\u001b[0m in \u001b[0;36m<listcomp>\u001b[0;34m(.0)\u001b[0m\n\u001b[1;32m    428\u001b[0m     \u001b[0;32mtry\u001b[0m\u001b[0;34m:\u001b[0m\u001b[0;34m\u001b[0m\u001b[0;34m\u001b[0m\u001b[0m\n\u001b[0;32m--> 429\u001b[0;31m         \u001b[0mxy\u001b[0m \u001b[0;34m=\u001b[0m \u001b[0mnp\u001b[0m\u001b[0;34m.\u001b[0m\u001b[0masarray\u001b[0m\u001b[0;34m(\u001b[0m\u001b[0;34m[\u001b[0m\u001b[0mpos\u001b[0m\u001b[0;34m[\u001b[0m\u001b[0mv\u001b[0m\u001b[0;34m]\u001b[0m \u001b[0;32mfor\u001b[0m \u001b[0mv\u001b[0m \u001b[0;32min\u001b[0m \u001b[0mnodelist\u001b[0m\u001b[0;34m]\u001b[0m\u001b[0;34m)\u001b[0m\u001b[0;34m\u001b[0m\u001b[0;34m\u001b[0m\u001b[0m\n\u001b[0m\u001b[1;32m    430\u001b[0m     \u001b[0;32mexcept\u001b[0m \u001b[0mKeyError\u001b[0m \u001b[0;32mas\u001b[0m \u001b[0merr\u001b[0m\u001b[0;34m:\u001b[0m\u001b[0;34m\u001b[0m\u001b[0;34m\u001b[0m\u001b[0m\n",
            "\u001b[0;31mKeyError\u001b[0m: 0",
            "\nThe above exception was the direct cause of the following exception:\n",
            "\u001b[0;31mNetworkXError\u001b[0m                             Traceback (most recent call last)",
            "\u001b[0;32m<ipython-input-15-fad6673ae4ef>\u001b[0m in \u001b[0;36m<cell line: 25>\u001b[0;34m()\u001b[0m\n\u001b[1;32m     23\u001b[0m \u001b[0;34m\u001b[0m\u001b[0m\n\u001b[1;32m     24\u001b[0m \u001b[0;34m\u001b[0m\u001b[0m\n\u001b[0;32m---> 25\u001b[0;31m \u001b[0mnx\u001b[0m\u001b[0;34m.\u001b[0m\u001b[0mdraw\u001b[0m\u001b[0;34m(\u001b[0m\u001b[0mg\u001b[0m\u001b[0;34m,\u001b[0m \u001b[0mpos\u001b[0m\u001b[0;34m,\u001b[0m  \u001b[0;34m**\u001b[0m\u001b[0moptions\u001b[0m\u001b[0;34m)\u001b[0m\u001b[0;34m\u001b[0m\u001b[0;34m\u001b[0m\u001b[0m\n\u001b[0m\u001b[1;32m     26\u001b[0m \u001b[0madj\u001b[0m \u001b[0;34m=\u001b[0m \u001b[0mtorch_geometric\u001b[0m\u001b[0;34m.\u001b[0m\u001b[0mutils\u001b[0m\u001b[0;34m.\u001b[0m\u001b[0mto_dense_adj\u001b[0m\u001b[0;34m(\u001b[0m\u001b[0mdata\u001b[0m\u001b[0;34m.\u001b[0m\u001b[0medge_index\u001b[0m\u001b[0;34m)\u001b[0m\u001b[0;34m.\u001b[0m\u001b[0msqueeze\u001b[0m\u001b[0;34m(\u001b[0m\u001b[0;34m)\u001b[0m\u001b[0;34m\u001b[0m\u001b[0;34m\u001b[0m\u001b[0m\n\u001b[1;32m     27\u001b[0m \u001b[0max2\u001b[0m\u001b[0;34m.\u001b[0m\u001b[0mimshow\u001b[0m\u001b[0;34m(\u001b[0m\u001b[0madj\u001b[0m\u001b[0;34m.\u001b[0m\u001b[0mnumpy\u001b[0m\u001b[0;34m(\u001b[0m\u001b[0;34m)\u001b[0m\u001b[0;34m)\u001b[0m\u001b[0;34m\u001b[0m\u001b[0;34m\u001b[0m\u001b[0m\n",
            "\u001b[0;32m/usr/local/lib/python3.10/dist-packages/networkx/drawing/nx_pylab.py\u001b[0m in \u001b[0;36mdraw\u001b[0;34m(G, pos, ax, **kwds)\u001b[0m\n\u001b[1;32m    119\u001b[0m         \u001b[0mkwds\u001b[0m\u001b[0;34m[\u001b[0m\u001b[0;34m\"with_labels\"\u001b[0m\u001b[0;34m]\u001b[0m \u001b[0;34m=\u001b[0m \u001b[0;34m\"labels\"\u001b[0m \u001b[0;32min\u001b[0m \u001b[0mkwds\u001b[0m\u001b[0;34m\u001b[0m\u001b[0;34m\u001b[0m\u001b[0m\n\u001b[1;32m    120\u001b[0m \u001b[0;34m\u001b[0m\u001b[0m\n\u001b[0;32m--> 121\u001b[0;31m     \u001b[0mdraw_networkx\u001b[0m\u001b[0;34m(\u001b[0m\u001b[0mG\u001b[0m\u001b[0;34m,\u001b[0m \u001b[0mpos\u001b[0m\u001b[0;34m=\u001b[0m\u001b[0mpos\u001b[0m\u001b[0;34m,\u001b[0m \u001b[0max\u001b[0m\u001b[0;34m=\u001b[0m\u001b[0max\u001b[0m\u001b[0;34m,\u001b[0m \u001b[0;34m**\u001b[0m\u001b[0mkwds\u001b[0m\u001b[0;34m)\u001b[0m\u001b[0;34m\u001b[0m\u001b[0;34m\u001b[0m\u001b[0m\n\u001b[0m\u001b[1;32m    122\u001b[0m     \u001b[0max\u001b[0m\u001b[0;34m.\u001b[0m\u001b[0mset_axis_off\u001b[0m\u001b[0;34m(\u001b[0m\u001b[0;34m)\u001b[0m\u001b[0;34m\u001b[0m\u001b[0;34m\u001b[0m\u001b[0m\n\u001b[1;32m    123\u001b[0m     \u001b[0mplt\u001b[0m\u001b[0;34m.\u001b[0m\u001b[0mdraw_if_interactive\u001b[0m\u001b[0;34m(\u001b[0m\u001b[0;34m)\u001b[0m\u001b[0;34m\u001b[0m\u001b[0;34m\u001b[0m\u001b[0m\n",
            "\u001b[0;32m/usr/local/lib/python3.10/dist-packages/networkx/drawing/nx_pylab.py\u001b[0m in \u001b[0;36mdraw_networkx\u001b[0;34m(G, pos, arrows, with_labels, **kwds)\u001b[0m\n\u001b[1;32m    302\u001b[0m         \u001b[0mpos\u001b[0m \u001b[0;34m=\u001b[0m \u001b[0mnx\u001b[0m\u001b[0;34m.\u001b[0m\u001b[0mdrawing\u001b[0m\u001b[0;34m.\u001b[0m\u001b[0mspring_layout\u001b[0m\u001b[0;34m(\u001b[0m\u001b[0mG\u001b[0m\u001b[0;34m)\u001b[0m  \u001b[0;31m# default to spring layout\u001b[0m\u001b[0;34m\u001b[0m\u001b[0;34m\u001b[0m\u001b[0m\n\u001b[1;32m    303\u001b[0m \u001b[0;34m\u001b[0m\u001b[0m\n\u001b[0;32m--> 304\u001b[0;31m     \u001b[0mdraw_networkx_nodes\u001b[0m\u001b[0;34m(\u001b[0m\u001b[0mG\u001b[0m\u001b[0;34m,\u001b[0m \u001b[0mpos\u001b[0m\u001b[0;34m,\u001b[0m \u001b[0;34m**\u001b[0m\u001b[0mnode_kwds\u001b[0m\u001b[0;34m)\u001b[0m\u001b[0;34m\u001b[0m\u001b[0;34m\u001b[0m\u001b[0m\n\u001b[0m\u001b[1;32m    305\u001b[0m     \u001b[0mdraw_networkx_edges\u001b[0m\u001b[0;34m(\u001b[0m\u001b[0mG\u001b[0m\u001b[0;34m,\u001b[0m \u001b[0mpos\u001b[0m\u001b[0;34m,\u001b[0m \u001b[0marrows\u001b[0m\u001b[0;34m=\u001b[0m\u001b[0marrows\u001b[0m\u001b[0;34m,\u001b[0m \u001b[0;34m**\u001b[0m\u001b[0medge_kwds\u001b[0m\u001b[0;34m)\u001b[0m\u001b[0;34m\u001b[0m\u001b[0;34m\u001b[0m\u001b[0m\n\u001b[1;32m    306\u001b[0m     \u001b[0;32mif\u001b[0m \u001b[0mwith_labels\u001b[0m\u001b[0;34m:\u001b[0m\u001b[0;34m\u001b[0m\u001b[0;34m\u001b[0m\u001b[0m\n",
            "\u001b[0;32m/usr/local/lib/python3.10/dist-packages/networkx/drawing/nx_pylab.py\u001b[0m in \u001b[0;36mdraw_networkx_nodes\u001b[0;34m(G, pos, nodelist, node_size, node_color, node_shape, alpha, cmap, vmin, vmax, ax, linewidths, edgecolors, label, margins)\u001b[0m\n\u001b[1;32m    429\u001b[0m         \u001b[0mxy\u001b[0m \u001b[0;34m=\u001b[0m \u001b[0mnp\u001b[0m\u001b[0;34m.\u001b[0m\u001b[0masarray\u001b[0m\u001b[0;34m(\u001b[0m\u001b[0;34m[\u001b[0m\u001b[0mpos\u001b[0m\u001b[0;34m[\u001b[0m\u001b[0mv\u001b[0m\u001b[0;34m]\u001b[0m \u001b[0;32mfor\u001b[0m \u001b[0mv\u001b[0m \u001b[0;32min\u001b[0m \u001b[0mnodelist\u001b[0m\u001b[0;34m]\u001b[0m\u001b[0;34m)\u001b[0m\u001b[0;34m\u001b[0m\u001b[0;34m\u001b[0m\u001b[0m\n\u001b[1;32m    430\u001b[0m     \u001b[0;32mexcept\u001b[0m \u001b[0mKeyError\u001b[0m \u001b[0;32mas\u001b[0m \u001b[0merr\u001b[0m\u001b[0;34m:\u001b[0m\u001b[0;34m\u001b[0m\u001b[0;34m\u001b[0m\u001b[0m\n\u001b[0;32m--> 431\u001b[0;31m         \u001b[0;32mraise\u001b[0m \u001b[0mnx\u001b[0m\u001b[0;34m.\u001b[0m\u001b[0mNetworkXError\u001b[0m\u001b[0;34m(\u001b[0m\u001b[0;34mf\"Node {err} has no position.\"\u001b[0m\u001b[0;34m)\u001b[0m \u001b[0;32mfrom\u001b[0m \u001b[0merr\u001b[0m\u001b[0;34m\u001b[0m\u001b[0;34m\u001b[0m\u001b[0m\n\u001b[0m\u001b[1;32m    432\u001b[0m \u001b[0;34m\u001b[0m\u001b[0m\n\u001b[1;32m    433\u001b[0m     \u001b[0;32mif\u001b[0m \u001b[0misinstance\u001b[0m\u001b[0;34m(\u001b[0m\u001b[0malpha\u001b[0m\u001b[0;34m,\u001b[0m \u001b[0mIterable\u001b[0m\u001b[0;34m)\u001b[0m\u001b[0;34m:\u001b[0m\u001b[0;34m\u001b[0m\u001b[0;34m\u001b[0m\u001b[0m\n",
            "\u001b[0;31mNetworkXError\u001b[0m: Node 0 has no position."
          ]
        },
        {
          "output_type": "display_data",
          "data": {
            "text/plain": [
              "<Figure size 640x480 with 2 Axes>"
            ],
            "image/png": "[encoded data removed]"
          },
          "metadata": {}
        }
      ],
      "source": [
        "import torch_geometric.transforms as T\n",
        "\n",
        "# Here we create an undirected graph from the directed graph we defined above\n",
        "data1 = T.ToUndirected()(data)\n",
        "print(\"Is undirected:\", data1.is_undirected())\n",
        "\n",
        "g = torch_geometric.utils.to_networkx(data1, to_undirected=True )\n",
        "fig, (ax1, ax2) = plt.subplots(1, 2)\n",
        "fig.suptitle('Undirected graph structure')\n",
        "\n",
        "\n",
        "options = {\n",
        "    \"font_size\": 16,\n",
        "    \"node_size\": 600,\n",
        "    \"node_color\": data.y,\n",
        "    \"cmap\": plt.get_cmap('Paired'),\n",
        "    \"edgecolors\": \"black\",\n",
        "    \"linewidths\": 1,\n",
        "    \"width\": 1,\n",
        "    \"ax\": ax1,\n",
        "    \"with_labels\": True\n",
        "}\n",
        "\n",
        "\n",
        "nx.draw(g, pos,  **options)\n",
        "adj = torch_geometric.utils.to_dense_adj(data.edge_index).squeeze()\n",
        "ax2.imshow(adj.numpy())\n"
      ]
    },
    {
      "cell_type": "markdown",
      "metadata": {
        "id": "34VJBk9nEb0P"
      },
      "source": [
        "we can also create a graph and then change its attributes\n"
      ]
    },
    {
      "cell_type": "code",
      "execution_count": null,
      "metadata": {
        "colab": {
          "base_uri": "https://localhost:8080/"
        },
        "id": "d6abGnqkEix-",
        "outputId": "f5718f24-9c44-407a-c7d2-f0551c08fb3f"
      },
      "outputs": [
        {
          "output_type": "execute_result",
          "data": {
            "text/plain": [
              "Data(edge_index=[2, 10])"
            ]
          },
          "metadata": {},
          "execution_count": 52
        }
      ],
      "source": [
        "data_graph = Data()\n",
        "data_graph.edge_index= edge_index.t()\n",
        "data_graph"
      ]
    },
    {
      "cell_type": "markdown",
      "metadata": {
        "id": "DhL0I8-xTQ_R"
      },
      "source": [
        "\n",
        "## Graph Classification\n",
        "\n",
        "For this task we will be using the PROTEINS dataset.\n",
        "This is a datset of proteins that are classified as enzymes or non-enzymes.\n",
        "\n",
        "\n",
        "Nodes represent the amino acids and two nodes are connected by an edge if their distance is less than 6 Angstroms.\n",
        "\n",
        "PROTEINS datset contains 1113 graphs (each protein is represented as a graph)."
      ]
    },
    {
      "cell_type": "markdown",
      "metadata": {
        "id": "MOZlOZ5ZV1c3"
      },
      "source": [
        "Pytorch geomtric has a set of dataset that are already preprocessed and ready to download [TORCH_GEOMETRIC.DATASETS](https://pytorch-geometric.readthedocs.io/en/latest/modules/datasets.html).\n",
        "\n",
        "In particular PROTEINS is part of the collection of benchmark datasets [TUDataset](https://chrsmrrs.github.io/datasets/docs/datasets/)."
      ]
    },
    {
      "cell_type": "code",
      "execution_count": null,
      "metadata": {
        "colab": {
          "base_uri": "https://localhost:8080/"
        },
        "id": "wJAmPEiKVkqK",
        "outputId": "1c9ad142-70f6-4692-ca1b-c82aab725719"
      },
      "outputs": [
        {
          "output_type": "stream",
          "name": "stdout",
          "text": [
            "Dataset: PROTEINS(1113):\n",
            "--------------------\n",
            "Number of graphs: 1113\n",
            "Number of features: 3\n",
            "Number of classes: 2\n"
          ]
        }
      ],
      "source": [
        "# Download the data\n",
        "from torch_geometric.datasets import TUDataset\n",
        "\n",
        "dataset = TUDataset(root='/tmp/data',name='PROTEINS')\n",
        "\n",
        "# Print some properties of the dataset\n",
        "\n",
        "print(f'Dataset: {dataset}:')\n",
        "print('--------------------')\n",
        "print(f'Number of graphs: {len(dataset)}')\n",
        "print(f'Number of features: {dataset.num_features}')\n",
        "print(f'Number of classes: {dataset.num_classes}')\n"
      ]
    },
    {
      "cell_type": "code",
      "source": [
        "dataset[0]"
      ],
      "metadata": {
        "colab": {
          "base_uri": "https://localhost:8080/"
        },
        "id": "lwZFIUNfN5qm",
        "outputId": "45de0d32-0515-4599-987d-61523385dea4"
      },
      "execution_count": null,
      "outputs": [
        {
          "output_type": "execute_result",
          "data": {
            "text/plain": [
              "Data(edge_index=[2, 162], x=[42, 3], y=[1])"
            ]
          },
          "metadata": {},
          "execution_count": 10
        }
      ]
    },
    {
      "cell_type": "code",
      "execution_count": null,
      "metadata": {
        "colab": {
          "base_uri": "https://localhost:8080/"
        },
        "id": "i9pdNVVqZi6H",
        "outputId": "3393ec29-9d99-48f6-87ab-c2085d8f84ad"
      },
      "outputs": [
        {
          "output_type": "stream",
          "name": "stdout",
          "text": [
            "Number of training graphs: 1000\n",
            "Number of test graphs: 113\n"
          ]
        }
      ],
      "source": [
        "# Construct training and test sets\n",
        "dataset = dataset.shuffle()\n",
        "\n",
        "dataset_train = dataset[:1000]\n",
        "dataset_test = dataset[1000:]\n",
        "\n",
        "print(f'Number of training graphs: {len(dataset_train)}')\n",
        "print(f'Number of test graphs: {len(dataset_test)}')\n"
      ]
    },
    {
      "cell_type": "code",
      "execution_count": null,
      "metadata": {
        "cellView": "form",
        "colab": {
          "base_uri": "https://localhost:8080/",
          "height": 640
        },
        "id": "yWh9sJBTZoui",
        "outputId": "9331c5c8-ad0e-40ec-bdb6-798793275edc"
      },
      "outputs": [
        {
          "output_type": "stream",
          "name": "stdout",
          "text": [
            "Number of nodes: 66\n",
            "Number of edges: 250\n",
            "Average node degree: 3.79\n",
            "Contains isolated nodes: False\n",
            "Contains self-loops: False\n",
            "Is undirected: True\n",
            "Label: tensor([0])\n"
          ]
        },
        {
          "output_type": "display_data",
          "data": {
            "text/plain": [
              "<Figure size 640x480 with 1 Axes>"
            ],
            "image/png": "[encoded data removed]"
          },
          "metadata": {}
        }
      ],
      "source": [
        "#@title Let's visualise a graph example\n",
        "example = 524           #@param {type:\"slider\", min:0, max:900, step:1}\n",
        "\n",
        "data = dataset_train[example]\n",
        "\n",
        "#  Some statistics about the example  graph.\n",
        "print(f'Number of nodes: {data.num_nodes}')\n",
        "print(f'Number of edges: {data.num_edges}')\n",
        "print(f'Average node degree: {data.num_edges / data.num_nodes:.2f}')\n",
        "print(f'Contains isolated nodes: {data.has_isolated_nodes()}')\n",
        "print(f'Contains self-loops: {data.has_self_loops()}')\n",
        "print(f'Is undirected: {data.is_undirected()}')\n",
        "\n",
        "data = dataset[example]\n",
        "print(\"Label:\", data.y)\n",
        "\n",
        "\n",
        "g = torch_geometric.utils.to_networkx(data, to_undirected=True)\n",
        "nx.draw(g)\n",
        "\n"
      ]
    },
    {
      "cell_type": "markdown",
      "metadata": {
        "id": "ppyzfSmJM2fF"
      },
      "source": [
        "### [ADVANCED MINI-BATCHING](https://pytorch-geometric.readthedocs.io/en/latest/notes/batching.html)\n",
        "\n",
        "Pytorch geometric's **dataloader class** affords to sample batches of graphs from our dataset to achieve efficient parallelisation during training.\n",
        "\n",
        "\n",
        "In contrast to the image or language domain stacking batches is not straightforward due to the variable graph sizes.\n",
        "\n",
        "In PyG, to achieve parallelization across a number of examples they tack all graphs in the batch so as to create a large graph.\n",
        "\n",
        "Aadjacency matrices are stacked in a diagonal fashion (creating a giant graph that holds multiple isolated subgraphs), and node and target features are simply concatenated in the node dimension, i.e.\n",
        "\n",
        "\\begin{split}\\mathbf{A} = \\begin{bmatrix} \\mathbf{A}_1 & & \\\\ & \\ddots & \\\\ & & \\mathbf{A}_n \\end{bmatrix}, \\qquad \\mathbf{X} = \\begin{bmatrix} \\mathbf{X}_1 \\\\ \\vdots \\\\ \\mathbf{X}_n \\end{bmatrix}, \\qquad \\mathbf{Y} = \\begin{bmatrix} \\mathbf{Y}_1 \\\\ \\vdots \\\\ \\mathbf{Y}_n \\end{bmatrix}.\\end{split}\n",
        "\n"
      ]
    },
    {
      "cell_type": "markdown",
      "source": [],
      "metadata": {
        "id": "UyXEiPPPBqA2"
      }
    },
    {
      "cell_type": "code",
      "execution_count": null,
      "metadata": {
        "colab": {
          "base_uri": "https://localhost:8080/",
          "height": 625
        },
        "id": "fE6UH8a3WfzF",
        "outputId": "e055d105-6efe-4ea7-eee3-0e94a2458ab3"
      },
      "outputs": [
        {
          "output_type": "stream",
          "name": "stderr",
          "text": [
            "/usr/local/lib/python3.10/dist-packages/torch_geometric/deprecation.py:22: UserWarning: 'data.DataLoader' is deprecated, use 'loader.DataLoader' instead\n",
            "  warnings.warn(out)\n"
          ]
        },
        {
          "output_type": "stream",
          "name": "stdout",
          "text": [
            "Number of nodes: 1310\n",
            "Number of edges: 32\n",
            "DataBatch(edge_index=[2, 4782], x=[1310, 3], y=[32], batch=[1310], ptr=[33])\n"
          ]
        },
        {
          "output_type": "display_data",
          "data": {
            "text/plain": [
              "<Figure size 640x480 with 1 Axes>"
            ],
            "image/png": "[encoded data removed]"
          },
          "metadata": {}
        }
      ],
      "source": [
        "from torch_geometric.data import DataLoader\n",
        "\n",
        "train_dataloader = DataLoader(dataset_train, batch_size=32, shuffle=True)\n",
        "test_dataloader = DataLoader(dataset_test, batch_size=32, shuffle=False)\n",
        "\n",
        "batch = next(iter(test_dataloader))\n",
        "\n",
        "# Gather some statistics about the batch.\n",
        "print(f'Number of nodes: {batch.num_nodes}')\n",
        "print(f'Number of edges: {batch.num_graphs}')\n",
        "print(batch)\n",
        "\n",
        "\n",
        "g = torch_geometric.utils.to_networkx(batch[0], to_undirected=True)\n",
        "nx.draw(g)"
      ]
    },
    {
      "cell_type": "markdown",
      "metadata": {
        "id": "UAq08MZHiu4_"
      },
      "source": [
        "## Graph convolutions\n",
        "\n",
        "The convolution operator to irregular domains is typically expressed as a neighborhood aggregation or message passing scheme.\n",
        " $\\mathbf{x}_i^{(k-1)} \\in \\mathbb{R}^F $ denotes node features of node\n",
        "$i$ in layer $k-1$.\n",
        "\n",
        "$ \\mathbf{e}_{j,i} \\in \\mathbb{R}^D$ denotes (optional) edges features from node $j $ to node $i$.\n",
        "\n",
        "$$\\mathbf{x}_i^{(k)} = \\gamma^{(k)} \\left( \\mathbf{x}_i^{(k-1)}, \\square_{j \\in \\mathcal{N}(i)} \\, \\phi^{(k)}\\left(\\mathbf{x}_i^{(k-1)}, \\mathbf{x}_j^{(k-1)},\\mathbf{e}_{j,i}\\right) \\right),$$\n",
        "\n",
        "$ \\square_{j \\in \\mathcal{N}(i)}$ denote an aggregation (permutation invariant) function, e.g., sum, mean or max.\n",
        "\n",
        "\n",
        "### Questions:\n",
        "\n",
        "https://forms.gle/EbhiS1jATCshnNRb7\n",
        "\n",
        "\n",
        "### The message passing class\n",
        "\n",
        "PyG provides the `MessagePassing` base class, which helps in creating such kinds of message passing graph neural networks by automatically taking care of message propagation. The user only has to define the functions\n",
        "$\\phi$ , i.e. `message()`, and $\\gamma$  , i.e. `update()`, as well as the aggregation scheme to use, i.e. `aggr=\"add\"`, `aggr=\"mean\"` or `aggr=\"max\"`.\n",
        "\n",
        "\n",
        "-The **message** function implements function $\\phi^{(k)}$, which describes how messages are computed for each graph node.\n",
        "\n",
        "-The **aggregate** function specifies function $\\square_{j \\in \\mathcal{N}(i)}$, describing how messages are aggregated across a node's neighbourhood $\\mathcal{N}(i)$. Possible aggregation functions are \"add\", \"mean\" or \"max\".\n",
        "\n",
        "-The **update** function implements function $\\gamma^{(k)}$, which specifies how a node's feature is updated according to the messages received after propagation.\n",
        "\n",
        "-The **propagate** function propagates computed messages across the graph according to its connectivity, and internally calls message, update and aggregate functions.  \n",
        "\n",
        "\n"
      ]
    },
    {
      "cell_type": "markdown",
      "metadata": {
        "id": "krKIUK0UOoVQ"
      },
      "source": [
        "Let's practise by re-implementing a GIN , described in  [How Powerful are Graph Neural Networks? (Xu et al.  ICLR  2019 )](https://arxiv.org/abs/1810.00826)\n",
        "In this case\n",
        "\n",
        "\n",
        "$$\\mathbf{x}_i^{(k)} = \\textrm{MLP}^{(k)} \\left( (1 + \\epsilon^{(k)}) \\cdot \\mathbf{x}_i^{(k-1)} + \\sum_{j \\in \\mathcal{N}(i)}  \\mathbf{x}_j^{(k-1)}, \\right),$$\n",
        "\n",
        "where $\\textrm{MLP}^{(k)} $ is a sequence of linear layers, and $\\epsilon$ is a learnable parameter.\n",
        "\n",
        "\n",
        "So :\n",
        "\n",
        "- **message** function :  $\\phi^{(k)}\\left(\\mathbf{x}_i^{(k-1)}, \\mathbf{x}_j^{(k-1)},\\mathbf{e}_{j,i}\\right) = \\mathbf{x}_i^{(k-1)} $.\n",
        "\n",
        "- **aggregate** function: $ \\square_{j \\in \\mathcal{N}(i)}= \\sum_{j \\in \\mathcal{N}(i)} $  ( \"add\").\n",
        "\n",
        "- **update** function:  $\\gamma^{(k)}(\\mathbf{x}_i^{(k-1)},  \\square_{j \\in \\mathcal{N}(i)}\\mathbf{x}_j^{(k-1)}) = \\textrm{MLP}^{(k)}( \\mathbf{x}_i^{(k-1)}+  \\square_{j \\in \\mathcal{N}(i)}\\mathbf{x}_j^{(k-1)})  $.\n"
      ]
    },
    {
      "cell_type": "code",
      "execution_count": null,
      "metadata": {
        "id": "d8yEwrYeiupR"
      },
      "outputs": [],
      "source": [
        "from torch_geometric.utils import remove_self_loops\n",
        "from torch_geometric.nn import MessagePassing\n",
        "\n",
        "\n",
        "class GIN_Conv(MessagePassing):\n",
        "    def __init__(self, MLP, eps = 0.0):\n",
        "        super().__init__(aggr='add')  # Aggregation function over the messages.\n",
        "        self.mlp = MLP\n",
        "        self.epsilon = torch.nn.Parameter(torch.tensor([eps]))\n",
        "\n",
        "    def message(self, x_j):\n",
        "      return x_j\n",
        "\n",
        "    def update(self,aggr_out,x):\n",
        "      x = (1+self.epsilon) * x + aggr_out\n",
        "      return self.mlp(x)\n",
        "\n",
        "    def forward(self, x, edge_index):\n",
        "      # Step 1: remove self-loops to the adjacency matrix.\n",
        "      edge_index, _ = remove_self_loops(edge_index)\n",
        "      # Step 2: Start propagating messages.\n",
        "      return self.propagate(edge_index, x=x)\n",
        "\n",
        "\n",
        "\n"
      ]
    },
    {
      "cell_type": "markdown",
      "metadata": {
        "id": "tgZR5mvfXAkb"
      },
      "source": [
        "In this way we update node feature representations, but our task is a graph classification task! What about graph representation?\n",
        "\n",
        "> Indented block\n",
        "\n",
        "\n",
        "\n",
        "$$r_G = \\textrm{READOUT}( \\{ x_{v}^{(k)}| v \\in G \\})| k = 0, \\dots , L).$$\n",
        "\n",
        "\n",
        "[Readout functions provided by PyG](https://pytorch-geometric.readthedocs.io/en/latest/modules/nn.html#global-pooling-layers).\n",
        "We will use  `global_mean_pool` that returns batch-wise graph-level-outputs by averaging node features across the node dimension, so that for a single graph $\\mathcal{G}_i$ with $N_i$ nodes  its output is computed by\n",
        "$$\\mathbf{r}_i = \\frac{1}{N_i} \\sum_{n=1}^{N_i} \\mathbf{x}_n,$$\n",
        "$\\mathbf{x}$  node features."
      ]
    },
    {
      "cell_type": "code",
      "execution_count": null,
      "metadata": {
        "colab": {
          "base_uri": "https://localhost:8080/"
        },
        "id": "IFbAuED4Xs2q",
        "outputId": "c8063d33-4e97-4584-b67c-8afbb74b547c"
      },
      "outputs": [
        {
          "output_type": "stream",
          "name": "stdout",
          "text": [
            "tensor([[-0.1442,  0.2257, -0.0382,  ..., -0.7402, -0.5853,  0.2627],\n",
            "        [-0.2654,  0.0991, -0.0692,  ..., -0.5333, -0.4891,  0.2665],\n",
            "        [-0.4436, -0.1537, -0.1524,  ..., -0.2301, -0.6583,  0.6330],\n",
            "        ...,\n",
            "        [-0.4436, -0.1537, -0.1524,  ..., -0.2301, -0.6583,  0.6330],\n",
            "        [-0.4477, -0.1408, -0.0870,  ..., -0.0170, -0.5451,  0.7844],\n",
            "        [-0.5026, -0.2342, -0.1204,  ..., -0.1509, -0.8034,  0.8614]],\n",
            "       grad_fn=<AddmmBackward0>)\n"
          ]
        }
      ],
      "source": [
        "# Let's test our convolution operator\n",
        "\n",
        "batch = next(iter(train_dataloader))\n",
        "mlp =  torch.nn.Sequential(torch.nn.Linear(batch.num_node_features, 32), torch.nn.ReLU(), torch.nn.Linear(32,32))\n",
        "gin = GIN_Conv(mlp)\n",
        "features = gin(batch.x, batch.edge_index)\n",
        "print(features)"
      ]
    },
    {
      "cell_type": "markdown",
      "metadata": {
        "id": "vQiWVGJoYTO6"
      },
      "source": [
        "## Graph classification model\n",
        "\n",
        "Now we have all the ingredients to build and train a model for our classification task. We will build a model with 3 convolution layers and a global mean pooling operation.\n"
      ]
    },
    {
      "cell_type": "code",
      "execution_count": null,
      "metadata": {
        "id": "9qMLZhXhdfhW"
      },
      "outputs": [],
      "source": [
        "from torch.nn import Linear\n",
        "import torch.nn.functional as F\n",
        "from torch_geometric.nn import global_mean_pool\n",
        "from torch_geometric.nn import global_max_pool\n",
        "\n",
        "torch.manual_seed(8)\n",
        "\n",
        "class MLP(torch.nn.Module):\n",
        "    def __init__(self, in_dim, hidden_dim, out_dim):\n",
        "        super(MLP, self).__init__()\n",
        "        self.first_fc = Linear(in_dim, hidden_dim)\n",
        "        self.second_fc = Linear(hidden_dim, out_dim)\n",
        "        self.activation = torch.nn.ReLU()\n",
        "\n",
        "        # You could use torch.nn.Sequential\n",
        "\n",
        "    def forward(self, x):\n",
        "        x = self.activation(self.first_fc(x))\n",
        "        x = self.activation(self.second_fc(x))\n",
        "\n",
        "        return x\n",
        "\n",
        "class Graph_Net(torch.nn.Module):\n",
        "    def __init__(self, in_dim, hidden_dim, num_classes):\n",
        "        super(Graph_Net, self).__init__()\n",
        "        self.mlp_input =  MLP(in_dim, hidden_dim, hidden_dim)\n",
        "        self.mlp_hidden =  MLP(hidden_dim, hidden_dim, hidden_dim)\n",
        "        self.conv1 = GIN_Conv(self.mlp_input)\n",
        "        self.conv2 = GIN_Conv(self.mlp_hidden)\n",
        "        self.conv3 = GIN_Conv(self.mlp_hidden)\n",
        "        self.class_layer = torch.nn.Linear(hidden_dim, num_classes)\n",
        "\n",
        "    def forward(self, x, edge_index, batch):\n",
        "        # 1. Obtain node embeddings throug the 3 convolutional layers\n",
        "        x = self.conv1(x, edge_index)\n",
        "        x = x.relu()\n",
        "\n",
        "        x = self.conv2(x, edge_index)\n",
        "        x = x.relu()\n",
        "\n",
        "        x = self.conv3(x, edge_index)\n",
        "        x = x.relu()\n",
        "\n",
        "\n",
        "        # 2. Global average pooling layer\n",
        "        x = global_mean_pool(x, batch)\n",
        "        # 3. Classification layer\n",
        "        x = self.class_layer(x)\n",
        "\n",
        "        return x\n",
        "\n",
        "\n",
        "model = Graph_Net(dataset.num_node_features, 32, dataset.num_classes-1)\n",
        "#print(model)\n",
        "\n"
      ]
    },
    {
      "cell_type": "code",
      "execution_count": null,
      "metadata": {
        "colab": {
          "base_uri": "https://localhost:8080/"
        },
        "id": "1A3N88hguFFh",
        "outputId": "ed73d417-2e9c-4d01-f8a1-cb3875e7cee4"
      },
      "outputs": [
        {
          "output_type": "stream",
          "name": "stdout",
          "text": [
            "torch.Size([32, 1])\n",
            "14\n"
          ]
        }
      ],
      "source": [
        "batch = next(iter(test_dataloader))\n",
        "model = Graph_Net(dataset.num_node_features, 32, dataset.num_classes-1)\n",
        "out = model(batch.x, batch.edge_index, batch.batch)\n",
        "\n",
        "print(out.shape)\n",
        "pred = torch.sigmoid(out).round().squeeze().detach().cpu()\n",
        "ground_truth = batch.y.detach().cpu()\n",
        "print(((pred == ground_truth).sum().item()))"
      ]
    },
    {
      "cell_type": "code",
      "source": [
        "class GraphClassifier(pl.LightningModule):\n",
        "\n",
        "    def __init__(self,in_dim, hidden_dim, num_classes):\n",
        "        super().__init__()\n",
        "        #self.save_hyperparameters()\n",
        "        self.model = Graph_Net(in_dim, hidden_dim, num_classes)\n",
        "        self.loss_module = nn.BCEWithLogitsLoss()\n",
        "\n",
        "\n",
        "    def forward(self, data, mode=\"train\"):\n",
        "        x, edge_index, batch_idx = data.x, data.edge_index, data.batch\n",
        "        x = self.model(x, edge_index, batch_idx)\n",
        "        x = x.squeeze(dim=-1)\n",
        "\n",
        "        preds = (x > 0).float()\n",
        "        data.y = data.y.float()\n",
        "\n",
        "        loss = self.loss_module(x, data.y)\n",
        "        acc = (preds == data.y).sum().float() / preds.shape[0]\n",
        "        return loss, acc\n",
        "\n",
        "    def configure_optimizers(self):\n",
        "        optimizer = torch.optim.AdamW(self.parameters(), lr=1e-3, weight_decay=0.0)\n",
        "        return optimizer\n",
        "\n",
        "    def training_step(self, batch, batch_idx):\n",
        "        loss, acc = self.forward(batch, mode=\"train\")\n",
        "        self.log('train_loss', loss, on_step=True, on_epoch=True, prog_bar=True, logger=True)\n",
        "        self.log('train_acc', acc, prog_bar=False )\n",
        "        return loss\n",
        "\n",
        "    # Commented because we didn't define a validation loader! (To do later if you want)\n",
        "\n",
        "    #def validation_step(self, batch, batch_idx):\n",
        "    #    _, acc = self.forward(batch, mode=\"val\")\n",
        "    #    self.log('val_acc', acc, prog_bar=False)\n",
        "\n",
        "    def test_step(self, batch, batch_idx):\n",
        "        _, acc = self.forward(batch, mode=\"test\")\n",
        "        self.log('test_acc', acc)"
      ],
      "metadata": {
        "id": "D5Gr882JLKsZ"
      },
      "execution_count": null,
      "outputs": []
    },
    {
      "cell_type": "code",
      "source": [
        "pl.seed_everything(42)\n",
        "logger = CSVLogger(\"logs\", name=\"graph_classification\")\n",
        "trainer = pl.Trainer(default_root_dir=\"/GraphClassifier\",\n",
        "                         accelerator=\"gpu\" if torch.cuda.is_available() else \"cpu\",\n",
        "                         max_epochs=100,\n",
        "                         logger = logger,\n",
        "                         log_every_n_steps=30)\n",
        "model = GraphClassifier(dataset.num_node_features, 32, dataset.num_classes-1)\n",
        "trainer.fit(model, train_dataloader)\n",
        "# Test the trained model on validation and test set\n",
        "train_accuracy = trainer.test(model,train_dataloader, verbose=False)\n",
        "test_accuracy = trainer.test(model,test_dataloader, verbose=False)\n",
        "result = {\"test\": test_accuracy[0]['test_acc'], \"train\": train_accuracy[0]['test_acc']}\n"
      ],
      "metadata": {
        "colab": {
          "base_uri": "https://localhost:8080/",
          "height": 558,
          "referenced_widgets": [
            "3c901552f518453a8b974abfb85a6838",
            "2442c91f9ae849409a70f753dd529753",
            "034322d50d474ef2a7c418db65c8dfe3",
            "0e11531d074f4fcca5219a6369cc57c9",
            "f9bc1bbea4884d05ab23da05489fd07d",
            "1f5f70d47c694bd698829747785db9e2",
            "c8cde6f9f8064422b956bd69b2d79590",
            "169eefbb77b642bfaf9379335cc31388",
            "d7773da8eef947499ac86539906119ab",
            "d2ac8f9e1a19463fb7eefd63857488fc",
            "3b9595067cd8436d8d7f9bbb9865d7b6",
            "9d7ba55b98a147cfbc5fc3f2377c0b60",
            "bd52a85ed67b492c9e41da16988c872b",
            "a126ab2bd8a4481eb1dcf80ca6d26fd3",
            "5f7b7d6716594a6d9cd2452129a4996e",
            "4bca85159c774841b72759854004bcdc",
            "8835b92f0914489b8fe86fd6a075b5f3",
            "0392b5880e094d448bfde80081b917ec",
            "7bb1412495c849fdb6ea09e52aba9dd9",
            "e4c12c6133184a1d92cf6510c6d4ee2b",
            "49d6a458a434445789ca4ca6a1447f30",
            "3f5042181afe42a9946fdf7bf486c3b3",
            "fbdd93993b364ee18fcffd94a7c6e844",
            "60525bfeb73a4ad68d9758032395df45",
            "270ceff2bd70486694ce386de8896d91",
            "a22b60dbfe3f41ad97abfec4262b04a0",
            "65ee128ffb034b19b49482004d142d7e",
            "01b61f555ed5499bb18885fe0e934ddd",
            "77d7750cddcd4fb5ada5d883c2d3ffdc",
            "a7e0b17648d24eafa0ac1545e73b96b6",
            "f9752a859a5b47fab4a4026d60291805",
            "5ac91fe2a4a643f9b79d0f056df78656",
            "fee8b736773143748ee24d094bacfbb7"
          ]
        },
        "id": "B9-m9LhoLxDl",
        "outputId": "77e212c7-beda-496b-807a-e303c4307cd8"
      },
      "execution_count": null,
      "outputs": [
        {
          "output_type": "stream",
          "name": "stderr",
          "text": [
            "INFO:lightning_fabric.utilities.seed:Seed set to 42\n",
            "INFO:pytorch_lightning.utilities.rank_zero:GPU available: True (cuda), used: True\n",
            "INFO:pytorch_lightning.utilities.rank_zero:TPU available: False, using: 0 TPU cores\n",
            "INFO:pytorch_lightning.utilities.rank_zero:IPU available: False, using: 0 IPUs\n",
            "INFO:pytorch_lightning.utilities.rank_zero:HPU available: False, using: 0 HPUs\n",
            "WARNING:lightning_fabric.loggers.csv_logs:Missing logger folder: logs/graph_classification\n",
            "INFO:pytorch_lightning.accelerators.cuda:LOCAL_RANK: 0 - CUDA_VISIBLE_DEVICES: [0]\n",
            "INFO:pytorch_lightning.callbacks.model_summary:\n",
            "  | Name        | Type              | Params\n",
            "--------------------------------------------------\n",
            "0 | model       | Graph_Net         | 3.3 K \n",
            "1 | loss_module | BCEWithLogitsLoss | 0     \n",
            "--------------------------------------------------\n",
            "3.3 K     Trainable params\n",
            "0         Non-trainable params\n",
            "3.3 K     Total params\n",
            "0.013     Total estimated model params size (MB)\n",
            "/usr/local/lib/python3.10/dist-packages/pytorch_lightning/trainer/connectors/data_connector.py:441: The 'train_dataloader' does not have many workers which may be a bottleneck. Consider increasing the value of the `num_workers` argument` to `num_workers=1` in the `DataLoader` to improve performance.\n"
          ]
        },
        {
          "output_type": "display_data",
          "data": {
            "text/plain": [
              "Training: |          | 0/? [00:00<?, ?it/s]"
            ],
            "application/vnd.jupyter.widget-view+json": {
              "version_major": 2,
              "version_minor": 0,
              "model_id": "3c901552f518453a8b974abfb85a6838"
            }
          },
          "metadata": {}
        },
        {
          "output_type": "stream",
          "name": "stderr",
          "text": [
            "/usr/local/lib/python3.10/dist-packages/pytorch_lightning/utilities/data.py:77: Trying to infer the `batch_size` from an ambiguous collection. The batch size we found is 2. To avoid any miscalculations, use `self.log(..., batch_size=batch_size)`.\n",
            "INFO:pytorch_lightning.utilities.rank_zero:`Trainer.fit` stopped: `max_epochs=100` reached.\n",
            "INFO:pytorch_lightning.accelerators.cuda:LOCAL_RANK: 0 - CUDA_VISIBLE_DEVICES: [0]\n",
            "/usr/local/lib/python3.10/dist-packages/pytorch_lightning/trainer/connectors/data_connector.py:492: Your `test_dataloader`'s sampler has shuffling enabled, it is strongly recommended that you turn shuffling off for val/test dataloaders.\n",
            "/usr/local/lib/python3.10/dist-packages/pytorch_lightning/trainer/connectors/data_connector.py:441: The 'test_dataloader' does not have many workers which may be a bottleneck. Consider increasing the value of the `num_workers` argument` to `num_workers=1` in the `DataLoader` to improve performance.\n"
          ]
        },
        {
          "output_type": "display_data",
          "data": {
            "text/plain": [
              "Testing: |          | 0/? [00:00<?, ?it/s]"
            ],
            "application/vnd.jupyter.widget-view+json": {
              "version_major": 2,
              "version_minor": 0,
              "model_id": "9d7ba55b98a147cfbc5fc3f2377c0b60"
            }
          },
          "metadata": {}
        },
        {
          "output_type": "stream",
          "name": "stderr",
          "text": [
            "INFO:pytorch_lightning.accelerators.cuda:LOCAL_RANK: 0 - CUDA_VISIBLE_DEVICES: [0]\n"
          ]
        },
        {
          "output_type": "display_data",
          "data": {
            "text/plain": [
              "Testing: |          | 0/? [00:00<?, ?it/s]"
            ],
            "application/vnd.jupyter.widget-view+json": {
              "version_major": 2,
              "version_minor": 0,
              "model_id": "fbdd93993b364ee18fcffd94a7c6e844"
            }
          },
          "metadata": {}
        }
      ]
    },
    {
      "cell_type": "code",
      "source": [
        "print(f\"Accuracy of training dataset after training: {100.0*result['train']:4.2f}%\")\n",
        "print(f\"Accuracy on test dataset:  {100.0*result['test']:4.2f}%\")"
      ],
      "metadata": {
        "colab": {
          "base_uri": "https://localhost:8080/"
        },
        "id": "HTUO8uQVL0fp",
        "outputId": "d2cf7dc2-1b6d-402e-806e-6503e462c1b1"
      },
      "execution_count": null,
      "outputs": [
        {
          "output_type": "stream",
          "name": "stdout",
          "text": [
            "Accuracy of training dataset after training: 72.56%\n",
            "Accuracy on test dataset:  69.12%\n"
          ]
        }
      ]
    },
    {
      "cell_type": "code",
      "source": [
        "metrics = pd.read_csv('/content/logs/graph_classification/version_0/metrics.csv')\n",
        "train_acc = metrics[[\"train_loss_epoch\", \"epoch\"]]\n",
        "del metrics[\"step\"]\n",
        "train_acc.set_index(\"epoch\", inplace=True)\n",
        "sn.relplot(data=train_acc, kind=\"line\")\n",
        "\n"
      ],
      "metadata": {
        "id": "X-iipoZtGrtV",
        "colab": {
          "base_uri": "https://localhost:8080/",
          "height": 525
        },
        "outputId": "04a431ef-875b-46ce-dc44-dd5c7bdd8cb0"
      },
      "execution_count": null,
      "outputs": [
        {
          "output_type": "execute_result",
          "data": {
            "text/plain": [
              "<seaborn.axisgrid.FacetGrid at 0x79487fcc56c0>"
            ]
          },
          "metadata": {},
          "execution_count": 30
        },
        {
          "output_type": "display_data",
          "data": {
            "text/plain": [
              "<Figure size 665.375x500 with 1 Axes>"
            ],
            "image/png": "[encoded data removed]"
          },
          "metadata": {}
        }
      ]
    },
    {
      "cell_type": "markdown",
      "metadata": {
        "id": "KTyeZQptH8nu"
      },
      "source": [
        "## Edge prediction\n",
        "\n"
      ]
    },
    {
      "cell_type": "code",
      "execution_count": null,
      "metadata": {
        "id": "Wys_EzVJ4qwh"
      },
      "outputs": [],
      "source": [
        "from sklearn.metrics import roc_auc_score, accuracy_score"
      ]
    },
    {
      "cell_type": "code",
      "source": [
        "from torch_geometric.datasets import Planetoid\n",
        "from torch_geometric.utils import negative_sampling\n",
        "from torch_geometric.nn import GCNConv"
      ],
      "metadata": {
        "id": "qjei7BS6DOL9"
      },
      "execution_count": null,
      "outputs": []
    },
    {
      "cell_type": "code",
      "source": [
        "device"
      ],
      "metadata": {
        "id": "Lcipq82jDfuF",
        "colab": {
          "base_uri": "https://localhost:8080/"
        },
        "outputId": "02ffb210-231c-454a-dc76-db30dd24311c"
      },
      "execution_count": null,
      "outputs": [
        {
          "output_type": "execute_result",
          "data": {
            "text/plain": [
              "device(type='cuda', index=0)"
            ]
          },
          "metadata": {},
          "execution_count": 33
        }
      ]
    },
    {
      "cell_type": "code",
      "execution_count": null,
      "metadata": {
        "id": "pqA_H35fsyKC",
        "colab": {
          "base_uri": "https://localhost:8080/"
        },
        "outputId": "c9f9aead-b6a0-429a-e605-810ace3c3568"
      },
      "outputs": [
        {
          "output_type": "stream",
          "name": "stderr",
          "text": [
            "Downloading https://github.com/kimiyoung/planetoid/raw/master/data/ind.cora.x\n",
            "Downloading https://github.com/kimiyoung/planetoid/raw/master/data/ind.cora.tx\n",
            "Downloading https://github.com/kimiyoung/planetoid/raw/master/data/ind.cora.allx\n",
            "Downloading https://github.com/kimiyoung/planetoid/raw/master/data/ind.cora.y\n",
            "Downloading https://github.com/kimiyoung/planetoid/raw/master/data/ind.cora.ty\n",
            "Downloading https://github.com/kimiyoung/planetoid/raw/master/data/ind.cora.ally\n",
            "Downloading https://github.com/kimiyoung/planetoid/raw/master/data/ind.cora.graph\n",
            "Downloading https://github.com/kimiyoung/planetoid/raw/master/data/ind.cora.test.index\n"
          ]
        },
        {
          "output_type": "stream",
          "name": "stdout",
          "text": [
            "Dataset: Cora():\n",
            "====================\n",
            "Number of graphs: 1\n",
            "Number of features: 1433\n",
            "Number of classes: 7\n",
            "Data(x=[2708, 1433], edge_index=[2, 10556], y=[2708], train_mask=[2708], val_mask=[2708], test_mask=[2708])\n"
          ]
        },
        {
          "output_type": "stream",
          "name": "stderr",
          "text": [
            "Processing...\n",
            "Done!\n",
            "/usr/local/lib/python3.10/dist-packages/torch_geometric/data/in_memory_dataset.py:284: UserWarning: It is not recommended to directly access the internal storage format `data` of an 'InMemoryDataset'. If you are absolutely certain what you are doing, access the internal storage via `InMemoryDataset._data` instead to suppress this warning. Alternatively, you can access stacked individual attributes of every graph via `dataset.{attr_name}`.\n",
            "  warnings.warn(msg)\n"
          ]
        }
      ],
      "source": [
        "transform = T.Compose([\n",
        "    T.NormalizeFeatures(),\n",
        "    T.RandomLinkSplit(num_val=0.05, num_test=0.1, is_undirected=True,\n",
        "                      add_negative_train_samples=False),\n",
        "])\n",
        "name = \"Cora\"\n",
        "cora_dataset = Planetoid(\"/Cora\",name= name, transform=transform)\n",
        "print(f'Dataset: {cora_dataset}:')\n",
        "print('====================')\n",
        "print(f'Number of graphs: {len(cora_dataset)}')\n",
        "print(f'Number of features: {cora_dataset.num_features}')\n",
        "print(f'Number of classes: {cora_dataset.num_classes}')\n",
        "\n",
        "print(cora_dataset.data)\n",
        "# After applying the `RandomLinkSplit` transform, the data is transformed from\n",
        "# a data object to a list of tuples (train_data, val_data, test_data), with\n",
        "# each element representing the corresponding split.\n",
        "train_data, val_data, test_data = cora_dataset[0]\n"
      ]
    },
    {
      "cell_type": "markdown",
      "source": [
        "We split the data of users into training, validation, and test splits.\n",
        "This is needed in order to ensure that we leak no information about edges used during evaluation into the training phase.\n",
        "For this, we made use of the [`transforms.RandomLinkSplit`](https://pytorch-geometric.readthedocs.io/en/latest/generated/torch_geometric.transforms.RandomLinkSplit.html) transformation from PyG.\n",
        "This transforms randomly divides the edges in the into training, validation and test edges.\n",
        "The `disjoint_train_ratio` parameter further separates edges in the training split into edges used for message passing (`edge_index`) and edges used for supervision (`edge_label_index`).\n",
        "\n",
        "Usual convention for num_val and num_test:If set to a floating-point value in\n",
        "[0,1], it represents the ratio of edges to include in the validation set. (default: 0.1)"
      ],
      "metadata": {
        "id": "rIyCQTf8J5Y2"
      }
    },
    {
      "cell_type": "code",
      "source": [
        "test_data"
      ],
      "metadata": {
        "colab": {
          "base_uri": "https://localhost:8080/"
        },
        "id": "q8OssuVv9Nh3",
        "outputId": "36cbc97c-230f-4df0-b23d-a952a42ce929"
      },
      "execution_count": null,
      "outputs": [
        {
          "output_type": "execute_result",
          "data": {
            "text/plain": [
              "Data(x=[2708, 1433], edge_index=[2, 9502], y=[2708], train_mask=[2708], val_mask=[2708], test_mask=[2708], edge_label=[1054], edge_label_index=[2, 1054])"
            ]
          },
          "metadata": {},
          "execution_count": 35
        }
      ]
    },
    {
      "cell_type": "code",
      "execution_count": null,
      "metadata": {
        "id": "0R4zHlBA0HBc"
      },
      "outputs": [],
      "source": [
        "\n",
        "class Net(torch.nn.Module):\n",
        "    def __init__(self, in_channels, hidden_channels, out_channels):\n",
        "        super().__init__()\n",
        "        self.conv1 = GCNConv(in_channels, hidden_channels)\n",
        "        self.conv2 = GCNConv(hidden_channels, out_channels)\n",
        "        self.in_channels = in_channels\n",
        "\n",
        "    def forward(self, data):\n",
        "        x, edge_index, batch_idx = data.x, data.edge_index, data.batch\n",
        "        x = self.conv1(x, edge_index).relu()\n",
        "        return self.conv2(x, edge_index)\n",
        "\n",
        "\n",
        "model_net = Net(cora_dataset.num_features, 128, 64)#.to(device)\n",
        "optimizer = torch.optim.Adam(params=model.parameters(), lr=0.01)\n",
        "criterion = torch.nn.BCEWithLogitsLoss()\n"
      ]
    },
    {
      "cell_type": "code",
      "source": [
        "from torchmetrics.classification import Accuracy"
      ],
      "metadata": {
        "id": "bdBTYL0va4u-"
      },
      "execution_count": null,
      "outputs": []
    },
    {
      "cell_type": "code",
      "source": [
        "class LinkPredictor(pl.LightningModule):\n",
        "\n",
        "    def __init__(self,in_dim, hidden_dim, out_channels):\n",
        "        super().__init__()\n",
        "        self.save_hyperparameters()\n",
        "        self.model =Net(in_dim, hidden_dim, out_channels)\n",
        "        self.loss_module = nn.BCEWithLogitsLoss()\n",
        "        self.accuracy = Accuracy(task=\"binary\")\n",
        "\n",
        "\n",
        "\n",
        "    def forward(self, data):\n",
        "        #print(\"linkpred\",data)\n",
        "        #print(data.size())\n",
        "        x, edge_index, batch_idx = data.x, data.edge_index, data.batch\n",
        "        #print(batch_idx)\n",
        "        edge_label_index = data.edge_label_index\n",
        "        # Step 1: make node embeddings using GNN.\n",
        "        h = self.model(data)\n",
        "        # Take source nodes embeddings- senders\n",
        "        h_src = h[edge_label_index[0]]\n",
        "        # Take target node embeddings - receivers\n",
        "        h_dst = h[edge_label_index[1]]\n",
        "        # Calculate the product between them\n",
        "        out = (h_src * h_dst ).sum(dim=-1)\n",
        "\n",
        "        return out\n",
        "\n",
        "    def configure_optimizers(self):\n",
        "        optimizer = torch.optim.AdamW(self.parameters(), lr=1e-3, weight_decay=0.0)\n",
        "        return optimizer\n",
        "\n",
        "    def _step(self, batch, phase: str='train'):\n",
        "            yhat_edge = self(batch)\n",
        "            y = batch.edge_label\n",
        "            loss = self.loss_module(input=yhat_edge, target=y)\n",
        "            acc = self.accuracy(yhat_edge, y)\n",
        "            self.log(f\"{phase}_acc_step\", acc, batch_size=y.size()[0])\n",
        "            self.log(f\"{phase}_loss_step\", loss, batch_size=y.size()[0])\n",
        "            return loss\n",
        "\n",
        "    def training_step(self, batch, batch_idx):\n",
        "        return self._step(batch, \"train\")\n",
        "\n",
        "    def validation_step(self, batch, batch_idx):\n",
        "        return self._step(batch, \"val\")\n",
        "\n",
        "    def test_step(self, batch, batch_idx):\n",
        "        return self._step(batch, \"test\")\n",
        "\n",
        "    def predict_step(self, batch):\n",
        "        x, edge_index = batch\n",
        "        return self(x, edge_index)\n"
      ],
      "metadata": {
        "id": "FOs4EURgPBUZ"
      },
      "execution_count": null,
      "outputs": []
    },
    {
      "cell_type": "markdown",
      "source": [
        "## Defining Mini-batch Loaders\n",
        "\n",
        "For large graphs that can't fit onto GPU memory we need to use mini-batches!\n",
        "this step is not strictly necessary for small-scale graphs (we didn't use it before, but if you will work with large graphs you will need it)\n",
        "A mini-batch loader will generate subgraphs that can be used as input into our GNN.\n",
        "We can use of the [`loader.LinkNeighborLoader`](https://pytorch-geometric.readthedocs.io/en/latest/modules/loader.html#torch_geometric.loader.LinkNeighborLoader) which samples multiple hops from both ends of a link and creates a subgraph from it.\n",
        "Here, `edge_label_index` serves as the \"seed links\" to start sampling from."
      ],
      "metadata": {
        "id": "sKT9lBqEAHMY"
      }
    },
    {
      "cell_type": "code",
      "source": [
        "from pytorch_lightning.callbacks import EarlyStopping"
      ],
      "metadata": {
        "id": "4bUskIM7NhX5"
      },
      "execution_count": null,
      "outputs": []
    },
    {
      "cell_type": "code",
      "source": [
        "# Creating an EarlyStopping callback instance\n",
        "# Specify the metric to monitor for early stopping.\n",
        "# Minimum change in the monitored metric to qualify as an improvement.\n",
        "# Patience: Number of epochs with no improvement after which training will be stopped.\n",
        "# Verbose: If True, prints messages about early stopping to the console.\n",
        "# Mode: \"max\" means training will stop when the monitored metric stops increasing.\n",
        "\n",
        "early_stop_callback = EarlyStopping(monitor = \"val_acc_step\", min_delta = 0.0, patience = 3   # ...\n",
        ")\n"
      ],
      "metadata": {
        "id": "a46U6h6YcaZU"
      },
      "execution_count": null,
      "outputs": []
    },
    {
      "cell_type": "code",
      "source": [
        "# In the first hop, we sample at most 20 neighbors.\n",
        "# In the second hop, we sample at most 10 neighbors.\n",
        "# In addition, during training, we want to sample negative edges on-the-fly with\n",
        "# a ratio of 2:1.\n",
        "# We can make use of the `loader.LinkNeighborLoader` from PyG:\n",
        "from torch_geometric.loader import LinkNeighborLoader\n",
        "\n",
        "# Define seed edges:\n",
        "edge_label_index = train_data.edge_label_index\n",
        "edge_label = train_data.edge_label\n",
        "\n",
        "train_loader = LinkNeighborLoader(\n",
        "    data= train_data,\n",
        "    num_neighbors= [20,10],\n",
        "    neg_sampling_ratio= 10,\n",
        "    edge_label_index=train_data.edge_label_index,\n",
        "    edge_label=train_data.edge_label,\n",
        "    batch_size=128,\n",
        "    shuffle=True,\n",
        ")\n",
        "\n",
        "val_loader = LinkNeighborLoader(\n",
        "    data=val_data,\n",
        "    num_neighbors=[20, 10],\n",
        "    edge_label_index= edge_label_index,\n",
        "    edge_label=edge_label,\n",
        "    batch_size=3 * 128,\n",
        "    shuffle=False,\n",
        ")\n",
        "\n",
        "\n",
        "test_loader = LinkNeighborLoader(\n",
        "    data=test_data,\n",
        "    num_neighbors=[20, 10],\n",
        "    edge_label_index= edge_label_index,\n",
        "    edge_label=edge_label,\n",
        "    batch_size=3 * 128,\n",
        "    shuffle=False,\n",
        ")\n",
        "\n",
        "# Inspect a sample:\n",
        "sampled_data = next(iter(train_loader))\n",
        "\n",
        "print(\"Sampled mini-batch:\")\n",
        "print(\"===================\")\n",
        "print(sampled_data)"
      ],
      "metadata": {
        "colab": {
          "base_uri": "https://localhost:8080/"
        },
        "id": "3XVZTe_Kg_ug",
        "outputId": "c4574f51-1479-4ab4-ca4e-12c4f223db1b"
      },
      "execution_count": null,
      "outputs": [
        {
          "output_type": "stream",
          "name": "stdout",
          "text": [
            "Sampled mini-batch:\n",
            "===================\n",
            "Data(x=[2643, 1433], edge_index=[2, 8329], y=[2643], train_mask=[2643], val_mask=[2643], test_mask=[2643], edge_label=[1408], edge_label_index=[2, 1408], n_id=[2643], e_id=[8329], input_id=[128])\n"
          ]
        },
        {
          "output_type": "stream",
          "name": "stderr",
          "text": [
            "/usr/local/lib/python3.10/dist-packages/torch_geometric/sampler/neighbor_sampler.py:60: UserWarning: Using 'NeighborSampler' without a 'pyg-lib' installation is deprecated and will be removed soon. Please install 'pyg-lib' for accelerated neighborhood sampling\n",
            "  warnings.warn(f\"Using '{self.__class__.__name__}' without a \"\n"
          ]
        }
      ]
    },
    {
      "cell_type": "markdown",
      "source": [
        "### Create the callbacks"
      ],
      "metadata": {
        "id": "teLq2INQco5h"
      }
    },
    {
      "cell_type": "code",
      "source": [
        "# Define a ModelCheckpoint callback\n",
        "from pytorch_lightning.callbacks import ModelCheckpoint\n",
        "checkpoint_callback = ModelCheckpoint(\n",
        "    monitor = \"val_acc_step\",\n",
        "    mode = \"max\",\n",
        "    dirpath = \"cora/\",\n",
        "    filename = \"best\"\n",
        ")"
      ],
      "metadata": {
        "id": "PKvm1u9Eb-az"
      },
      "execution_count": null,
      "outputs": []
    },
    {
      "cell_type": "markdown",
      "source": [
        "### Creating a PyTorch Lightning Trainer instance\n",
        "\n",
        "# Creating a PyTorch Lightning Trainer instance with specified options\n",
        "\n",
        "Specifies:\n",
        "- the default root directory for storing logs, checkpoints, etc.\n",
        "- Accelerator to use for training (e.g., 'dp' for DataParallel).\n",
        "- Maximum number of training epochs.\n",
        "- Logger for experiment tracking (e.g., TensorBoardLogger).\n",
        "- log_every_n_steps: Log metrics every n training steps.\n",
        "- List of callback instances (e.g., EarlyStopping, ModelCheckpoint)."
      ],
      "metadata": {
        "id": "FT07X6Y_cu6e"
      }
    },
    {
      "cell_type": "code",
      "source": [],
      "metadata": {
        "id": "PRueptStdHTB"
      },
      "execution_count": null,
      "outputs": []
    },
    {
      "cell_type": "code",
      "source": [
        "model = LinkPredictor(cora_dataset.num_features, 128, 64)\n",
        "\n",
        "trainer = pl.Trainer ( default_root_dir= \"cora/Link_prediction\",\n",
        "                      accelerator= \"gpu\",\n",
        "                       max_epochs = 20,\n",
        "                       logger = logger,\n",
        "                       log_every_n_steps= 5,\n",
        "                       callbacks = [early_stop_callback, checkpoint_callback]\n",
        "\n",
        ")\n",
        "\n",
        "model(next(iter(train_loader)))"
      ],
      "metadata": {
        "colab": {
          "base_uri": "https://localhost:8080/"
        },
        "id": "OO8IUlEzklP7",
        "outputId": "00edfdb8-28bd-4f2f-c147-79929733aa0f"
      },
      "execution_count": null,
      "outputs": [
        {
          "output_type": "stream",
          "name": "stderr",
          "text": [
            "INFO:pytorch_lightning.utilities.rank_zero:GPU available: True (cuda), used: True\n",
            "INFO:pytorch_lightning.utilities.rank_zero:TPU available: False, using: 0 TPU cores\n",
            "INFO:pytorch_lightning.utilities.rank_zero:IPU available: False, using: 0 IPUs\n",
            "INFO:pytorch_lightning.utilities.rank_zero:HPU available: False, using: 0 HPUs\n"
          ]
        },
        {
          "output_type": "execute_result",
          "data": {
            "text/plain": [
              "tensor([0.0011, 0.0005, 0.0008,  ..., 0.0005, 0.0010, 0.0012],\n",
              "       grad_fn=<SumBackward1>)"
            ]
          },
          "metadata": {},
          "execution_count": 49
        }
      ]
    },
    {
      "cell_type": "code",
      "source": [
        "trainer.validate(model, val_loader)\n"
      ],
      "metadata": {
        "colab": {
          "base_uri": "https://localhost:8080/",
          "height": 218,
          "referenced_widgets": [
            "8c69108a2b454d5983765275de209c2a",
            "0100047ac609405a8fa22fa47786fdbc",
            "56a919898a8b4f14a7bc091ec2f971b3",
            "667fefbc96b046a5b8231a75eef3c478",
            "b7f2bf98b5cb48f59d2f71b74da71f59",
            "3489297f860b4878bacd0ccc9b110bc6",
            "fdf7ba87ea9c4a44b358fbd1d6477f84",
            "85cdf1d8558d4babb88bf897d0588861",
            "b7a2a37443e54b13a27b536a883f297e",
            "411446405ff04fb0954bc0cf62794888",
            "7e7c1fb9d6f7429181ab70aee7a6a570"
          ]
        },
        "id": "gFSmjDWElYNB",
        "outputId": "9dd17a27-cf18-45eb-e0a4-ff02d1c5a7ff"
      },
      "execution_count": null,
      "outputs": [
        {
          "output_type": "stream",
          "name": "stderr",
          "text": [
            "INFO:pytorch_lightning.accelerators.cuda:LOCAL_RANK: 0 - CUDA_VISIBLE_DEVICES: [0]\n",
            "/usr/local/lib/python3.10/dist-packages/pytorch_lightning/trainer/connectors/data_connector.py:441: The 'val_dataloader' does not have many workers which may be a bottleneck. Consider increasing the value of the `num_workers` argument` to `num_workers=1` in the `DataLoader` to improve performance.\n"
          ]
        },
        {
          "output_type": "display_data",
          "data": {
            "text/plain": [
              "Validation: |          | 0/? [00:00<?, ?it/s]"
            ],
            "application/vnd.jupyter.widget-view+json": {
              "version_major": 2,
              "version_minor": 0,
              "model_id": "8c69108a2b454d5983765275de209c2a"
            }
          },
          "metadata": {}
        },
        {
          "output_type": "display_data",
          "data": {
            "text/plain": [
              "┏━━━━━━━━━━━━━━━━━━━━━━━━━━━┳━━━━━━━━━━━━━━━━━━━━━━━━━━━┓\n",
              "┃\u001b[1m \u001b[0m\u001b[1m     Validate metric     \u001b[0m\u001b[1m \u001b[0m┃\u001b[1m \u001b[0m\u001b[1m      DataLoader 0       \u001b[0m\u001b[1m \u001b[0m┃\n",
              "┡━━━━━━━━━━━━━━━━━━━━━━━━━━━╇━━━━━━━━━━━━━━━━━━━━━━━━━━━┩\n",
              "│\u001b[36m \u001b[0m\u001b[36m      val_acc_step       \u001b[0m\u001b[36m \u001b[0m│\u001b[35m \u001b[0m\u001b[35m           0.0           \u001b[0m\u001b[35m \u001b[0m│\n",
              "│\u001b[36m \u001b[0m\u001b[36m      val_loss_step      \u001b[0m\u001b[36m \u001b[0m│\u001b[35m \u001b[0m\u001b[35m   0.6925676465034485    \u001b[0m\u001b[35m \u001b[0m│\n",
              "└───────────────────────────┴───────────────────────────┘\n"
            ],
            "text/html": [
              "<pre style=\"white-space:pre;overflow-x:auto;line-height:normal;font-family:Menlo,'DejaVu Sans Mono',consolas,'Courier New',monospace\">┏━━━━━━━━━━━━━━━━━━━━━━━━━━━┳━━━━━━━━━━━━━━━━━━━━━━━━━━━┓\n",
              "┃<span style=\"font-weight: bold\">      Validate metric      </span>┃<span style=\"font-weight: bold\">       DataLoader 0        </span>┃\n",
              "┡━━━━━━━━━━━━━━━━━━━━━━━━━━━╇━━━━━━━━━━━━━━━━━━━━━━━━━━━┩\n",
              "│<span style=\"color: #008080; text-decoration-color: #008080\">       val_acc_step        </span>│<span style=\"color: #800080; text-decoration-color: #800080\">            0.0            </span>│\n",
              "│<span style=\"color: #008080; text-decoration-color: #008080\">       val_loss_step       </span>│<span style=\"color: #800080; text-decoration-color: #800080\">    0.6925676465034485     </span>│\n",
              "└───────────────────────────┴───────────────────────────┘\n",
              "</pre>\n"
            ]
          },
          "metadata": {}
        },
        {
          "output_type": "execute_result",
          "data": {
            "text/plain": [
              "[{'val_acc_step': 0.0, 'val_loss_step': 0.6925676465034485}]"
            ]
          },
          "metadata": {},
          "execution_count": 50
        }
      ]
    },
    {
      "cell_type": "code",
      "source": [
        "# Train the model\n",
        "trainer.fit(model=model, train_dataloaders=train_loader)#, val_dataloaders=val_loader)\n",
        "#print(f\"Accuracy on test dataset:  {100.0*test_accuracy[0]['test_acc_step']:4.2f}%\")"
      ],
      "metadata": {
        "colab": {
          "base_uri": "https://localhost:8080/",
          "height": 679,
          "referenced_widgets": [
            "3a16531edb524b7db9ef7f1e8dea4af0",
            "74ea691c6678409d852b1a84881e05ee",
            "fbae23b6832a42a1b06e72b82c2bee49",
            "1787a424423a40b8a0cd0ee85bcfa577",
            "30e9c338320f438cb4747951ff194d6e",
            "d339f2d4cf0041bd94cd6abac1d8271b",
            "aa2d6c692f604a22b2f8ab6d278c786e",
            "8d77f3a31bca41ad8158c79e201a4536",
            "7e1fc40acc2943f1a879452543cf473e",
            "e806350ffd95436b95bb7db7f11ccf52",
            "a7fbf443be974c5fb832d285bf52cc6f"
          ]
        },
        "id": "S2yvm-TqZnSN",
        "outputId": "5a1932ec-c05c-42cd-fa2b-1df931396c59"
      },
      "execution_count": null,
      "outputs": [
        {
          "output_type": "stream",
          "name": "stderr",
          "text": [
            "/usr/local/lib/python3.10/dist-packages/pytorch_lightning/trainer/configuration_validator.py:74: You defined a `validation_step` but have no `val_dataloader`. Skipping val loop.\n",
            "INFO:pytorch_lightning.accelerators.cuda:LOCAL_RANK: 0 - CUDA_VISIBLE_DEVICES: [0]\n",
            "INFO:pytorch_lightning.callbacks.model_summary:\n",
            "  | Name        | Type              | Params\n",
            "--------------------------------------------------\n",
            "0 | model       | Net               | 191 K \n",
            "1 | loss_module | BCEWithLogitsLoss | 0     \n",
            "2 | accuracy    | BinaryAccuracy    | 0     \n",
            "--------------------------------------------------\n",
            "191 K     Trainable params\n",
            "0         Non-trainable params\n",
            "191 K     Total params\n",
            "0.767     Total estimated model params size (MB)\n",
            "/usr/local/lib/python3.10/dist-packages/pytorch_lightning/trainer/connectors/data_connector.py:441: The 'train_dataloader' does not have many workers which may be a bottleneck. Consider increasing the value of the `num_workers` argument` to `num_workers=1` in the `DataLoader` to improve performance.\n"
          ]
        },
        {
          "output_type": "display_data",
          "data": {
            "text/plain": [
              "Training: |          | 0/? [00:00<?, ?it/s]"
            ],
            "application/vnd.jupyter.widget-view+json": {
              "version_major": 2,
              "version_minor": 0,
              "model_id": "3a16531edb524b7db9ef7f1e8dea4af0"
            }
          },
          "metadata": {}
        },
        {
          "output_type": "error",
          "ename": "RuntimeError",
          "evalue": "ignored",
          "traceback": [
            "\u001b[0;31m---------------------------------------------------------------------------\u001b[0m",
            "\u001b[0;31mRuntimeError\u001b[0m                              Traceback (most recent call last)",
            "\u001b[0;32m<ipython-input-51-183ab3acfacd>\u001b[0m in \u001b[0;36m<cell line: 2>\u001b[0;34m()\u001b[0m\n\u001b[1;32m      1\u001b[0m \u001b[0;31m# Train the model\u001b[0m\u001b[0;34m\u001b[0m\u001b[0;34m\u001b[0m\u001b[0m\n\u001b[0;32m----> 2\u001b[0;31m \u001b[0mtrainer\u001b[0m\u001b[0;34m.\u001b[0m\u001b[0mfit\u001b[0m\u001b[0;34m(\u001b[0m\u001b[0mmodel\u001b[0m\u001b[0;34m=\u001b[0m\u001b[0mmodel\u001b[0m\u001b[0;34m,\u001b[0m \u001b[0mtrain_dataloaders\u001b[0m\u001b[0;34m=\u001b[0m\u001b[0mtrain_loader\u001b[0m\u001b[0;34m)\u001b[0m\u001b[0;31m#, val_dataloaders=val_loader)\u001b[0m\u001b[0;34m\u001b[0m\u001b[0;34m\u001b[0m\u001b[0m\n\u001b[0m\u001b[1;32m      3\u001b[0m \u001b[0;31m#print(f\"Accuracy on test dataset:  {100.0*test_accuracy[0]['test_acc_step']:4.2f}%\")\u001b[0m\u001b[0;34m\u001b[0m\u001b[0;34m\u001b[0m\u001b[0m\n",
            "\u001b[0;32m/usr/local/lib/python3.10/dist-packages/pytorch_lightning/trainer/trainer.py\u001b[0m in \u001b[0;36mfit\u001b[0;34m(self, model, train_dataloaders, val_dataloaders, datamodule, ckpt_path)\u001b[0m\n\u001b[1;32m    542\u001b[0m         \u001b[0mself\u001b[0m\u001b[0;34m.\u001b[0m\u001b[0mstate\u001b[0m\u001b[0;34m.\u001b[0m\u001b[0mstatus\u001b[0m \u001b[0;34m=\u001b[0m \u001b[0mTrainerStatus\u001b[0m\u001b[0;34m.\u001b[0m\u001b[0mRUNNING\u001b[0m\u001b[0;34m\u001b[0m\u001b[0;34m\u001b[0m\u001b[0m\n\u001b[1;32m    543\u001b[0m         \u001b[0mself\u001b[0m\u001b[0;34m.\u001b[0m\u001b[0mtraining\u001b[0m \u001b[0;34m=\u001b[0m \u001b[0;32mTrue\u001b[0m\u001b[0;34m\u001b[0m\u001b[0;34m\u001b[0m\u001b[0m\n\u001b[0;32m--> 544\u001b[0;31m         call._call_and_handle_interrupt(\n\u001b[0m\u001b[1;32m    545\u001b[0m             \u001b[0mself\u001b[0m\u001b[0;34m,\u001b[0m \u001b[0mself\u001b[0m\u001b[0;34m.\u001b[0m\u001b[0m_fit_impl\u001b[0m\u001b[0;34m,\u001b[0m \u001b[0mmodel\u001b[0m\u001b[0;34m,\u001b[0m \u001b[0mtrain_dataloaders\u001b[0m\u001b[0;34m,\u001b[0m \u001b[0mval_dataloaders\u001b[0m\u001b[0;34m,\u001b[0m \u001b[0mdatamodule\u001b[0m\u001b[0;34m,\u001b[0m \u001b[0mckpt_path\u001b[0m\u001b[0;34m\u001b[0m\u001b[0;34m\u001b[0m\u001b[0m\n\u001b[1;32m    546\u001b[0m         )\n",
            "\u001b[0;32m/usr/local/lib/python3.10/dist-packages/pytorch_lightning/trainer/call.py\u001b[0m in \u001b[0;36m_call_and_handle_interrupt\u001b[0;34m(trainer, trainer_fn, *args, **kwargs)\u001b[0m\n\u001b[1;32m     42\u001b[0m         \u001b[0;32mif\u001b[0m \u001b[0mtrainer\u001b[0m\u001b[0;34m.\u001b[0m\u001b[0mstrategy\u001b[0m\u001b[0;34m.\u001b[0m\u001b[0mlauncher\u001b[0m \u001b[0;32mis\u001b[0m \u001b[0;32mnot\u001b[0m \u001b[0;32mNone\u001b[0m\u001b[0;34m:\u001b[0m\u001b[0;34m\u001b[0m\u001b[0;34m\u001b[0m\u001b[0m\n\u001b[1;32m     43\u001b[0m             \u001b[0;32mreturn\u001b[0m \u001b[0mtrainer\u001b[0m\u001b[0;34m.\u001b[0m\u001b[0mstrategy\u001b[0m\u001b[0;34m.\u001b[0m\u001b[0mlauncher\u001b[0m\u001b[0;34m.\u001b[0m\u001b[0mlaunch\u001b[0m\u001b[0;34m(\u001b[0m\u001b[0mtrainer_fn\u001b[0m\u001b[0;34m,\u001b[0m \u001b[0;34m*\u001b[0m\u001b[0margs\u001b[0m\u001b[0;34m,\u001b[0m \u001b[0mtrainer\u001b[0m\u001b[0;34m=\u001b[0m\u001b[0mtrainer\u001b[0m\u001b[0;34m,\u001b[0m \u001b[0;34m**\u001b[0m\u001b[0mkwargs\u001b[0m\u001b[0;34m)\u001b[0m\u001b[0;34m\u001b[0m\u001b[0;34m\u001b[0m\u001b[0m\n\u001b[0;32m---> 44\u001b[0;31m         \u001b[0;32mreturn\u001b[0m \u001b[0mtrainer_fn\u001b[0m\u001b[0;34m(\u001b[0m\u001b[0;34m*\u001b[0m\u001b[0margs\u001b[0m\u001b[0;34m,\u001b[0m \u001b[0;34m**\u001b[0m\u001b[0mkwargs\u001b[0m\u001b[0;34m)\u001b[0m\u001b[0;34m\u001b[0m\u001b[0;34m\u001b[0m\u001b[0m\n\u001b[0m\u001b[1;32m     45\u001b[0m \u001b[0;34m\u001b[0m\u001b[0m\n\u001b[1;32m     46\u001b[0m     \u001b[0;32mexcept\u001b[0m \u001b[0m_TunerExitException\u001b[0m\u001b[0;34m:\u001b[0m\u001b[0;34m\u001b[0m\u001b[0;34m\u001b[0m\u001b[0m\n",
            "\u001b[0;32m/usr/local/lib/python3.10/dist-packages/pytorch_lightning/trainer/trainer.py\u001b[0m in \u001b[0;36m_fit_impl\u001b[0;34m(self, model, train_dataloaders, val_dataloaders, datamodule, ckpt_path)\u001b[0m\n\u001b[1;32m    578\u001b[0m             \u001b[0mmodel_connected\u001b[0m\u001b[0;34m=\u001b[0m\u001b[0mself\u001b[0m\u001b[0;34m.\u001b[0m\u001b[0mlightning_module\u001b[0m \u001b[0;32mis\u001b[0m \u001b[0;32mnot\u001b[0m \u001b[0;32mNone\u001b[0m\u001b[0;34m,\u001b[0m\u001b[0;34m\u001b[0m\u001b[0;34m\u001b[0m\u001b[0m\n\u001b[1;32m    579\u001b[0m         )\n\u001b[0;32m--> 580\u001b[0;31m         \u001b[0mself\u001b[0m\u001b[0;34m.\u001b[0m\u001b[0m_run\u001b[0m\u001b[0;34m(\u001b[0m\u001b[0mmodel\u001b[0m\u001b[0;34m,\u001b[0m \u001b[0mckpt_path\u001b[0m\u001b[0;34m=\u001b[0m\u001b[0mckpt_path\u001b[0m\u001b[0;34m)\u001b[0m\u001b[0;34m\u001b[0m\u001b[0;34m\u001b[0m\u001b[0m\n\u001b[0m\u001b[1;32m    581\u001b[0m \u001b[0;34m\u001b[0m\u001b[0m\n\u001b[1;32m    582\u001b[0m         \u001b[0;32massert\u001b[0m \u001b[0mself\u001b[0m\u001b[0;34m.\u001b[0m\u001b[0mstate\u001b[0m\u001b[0;34m.\u001b[0m\u001b[0mstopped\u001b[0m\u001b[0;34m\u001b[0m\u001b[0;34m\u001b[0m\u001b[0m\n",
            "\u001b[0;32m/usr/local/lib/python3.10/dist-packages/pytorch_lightning/trainer/trainer.py\u001b[0m in \u001b[0;36m_run\u001b[0;34m(self, model, ckpt_path)\u001b[0m\n\u001b[1;32m    987\u001b[0m         \u001b[0;31m# RUN THE TRAINER\u001b[0m\u001b[0;34m\u001b[0m\u001b[0;34m\u001b[0m\u001b[0m\n\u001b[1;32m    988\u001b[0m         \u001b[0;31m# ----------------------------\u001b[0m\u001b[0;34m\u001b[0m\u001b[0;34m\u001b[0m\u001b[0m\n\u001b[0;32m--> 989\u001b[0;31m         \u001b[0mresults\u001b[0m \u001b[0;34m=\u001b[0m \u001b[0mself\u001b[0m\u001b[0;34m.\u001b[0m\u001b[0m_run_stage\u001b[0m\u001b[0;34m(\u001b[0m\u001b[0;34m)\u001b[0m\u001b[0;34m\u001b[0m\u001b[0;34m\u001b[0m\u001b[0m\n\u001b[0m\u001b[1;32m    990\u001b[0m \u001b[0;34m\u001b[0m\u001b[0m\n\u001b[1;32m    991\u001b[0m         \u001b[0;31m# ----------------------------\u001b[0m\u001b[0;34m\u001b[0m\u001b[0;34m\u001b[0m\u001b[0m\n",
            "\u001b[0;32m/usr/local/lib/python3.10/dist-packages/pytorch_lightning/trainer/trainer.py\u001b[0m in \u001b[0;36m_run_stage\u001b[0;34m(self)\u001b[0m\n\u001b[1;32m   1033\u001b[0m                 \u001b[0mself\u001b[0m\u001b[0;34m.\u001b[0m\u001b[0m_run_sanity_check\u001b[0m\u001b[0;34m(\u001b[0m\u001b[0;34m)\u001b[0m\u001b[0;34m\u001b[0m\u001b[0;34m\u001b[0m\u001b[0m\n\u001b[1;32m   1034\u001b[0m             \u001b[0;32mwith\u001b[0m \u001b[0mtorch\u001b[0m\u001b[0;34m.\u001b[0m\u001b[0mautograd\u001b[0m\u001b[0;34m.\u001b[0m\u001b[0mset_detect_anomaly\u001b[0m\u001b[0;34m(\u001b[0m\u001b[0mself\u001b[0m\u001b[0;34m.\u001b[0m\u001b[0m_detect_anomaly\u001b[0m\u001b[0;34m)\u001b[0m\u001b[0;34m:\u001b[0m\u001b[0;34m\u001b[0m\u001b[0;34m\u001b[0m\u001b[0m\n\u001b[0;32m-> 1035\u001b[0;31m                 \u001b[0mself\u001b[0m\u001b[0;34m.\u001b[0m\u001b[0mfit_loop\u001b[0m\u001b[0;34m.\u001b[0m\u001b[0mrun\u001b[0m\u001b[0;34m(\u001b[0m\u001b[0;34m)\u001b[0m\u001b[0;34m\u001b[0m\u001b[0;34m\u001b[0m\u001b[0m\n\u001b[0m\u001b[1;32m   1036\u001b[0m             \u001b[0;32mreturn\u001b[0m \u001b[0;32mNone\u001b[0m\u001b[0;34m\u001b[0m\u001b[0;34m\u001b[0m\u001b[0m\n\u001b[1;32m   1037\u001b[0m         \u001b[0;32mraise\u001b[0m \u001b[0mRuntimeError\u001b[0m\u001b[0;34m(\u001b[0m\u001b[0;34mf\"Unexpected state {self.state}\"\u001b[0m\u001b[0;34m)\u001b[0m\u001b[0;34m\u001b[0m\u001b[0;34m\u001b[0m\u001b[0m\n",
            "\u001b[0;32m/usr/local/lib/python3.10/dist-packages/pytorch_lightning/loops/fit_loop.py\u001b[0m in \u001b[0;36mrun\u001b[0;34m(self)\u001b[0m\n\u001b[1;32m    201\u001b[0m                 \u001b[0mself\u001b[0m\u001b[0;34m.\u001b[0m\u001b[0mon_advance_start\u001b[0m\u001b[0;34m(\u001b[0m\u001b[0;34m)\u001b[0m\u001b[0;34m\u001b[0m\u001b[0;34m\u001b[0m\u001b[0m\n\u001b[1;32m    202\u001b[0m                 \u001b[0mself\u001b[0m\u001b[0;34m.\u001b[0m\u001b[0madvance\u001b[0m\u001b[0;34m(\u001b[0m\u001b[0;34m)\u001b[0m\u001b[0;34m\u001b[0m\u001b[0;34m\u001b[0m\u001b[0m\n\u001b[0;32m--> 203\u001b[0;31m                 \u001b[0mself\u001b[0m\u001b[0;34m.\u001b[0m\u001b[0mon_advance_end\u001b[0m\u001b[0;34m(\u001b[0m\u001b[0;34m)\u001b[0m\u001b[0;34m\u001b[0m\u001b[0;34m\u001b[0m\u001b[0m\n\u001b[0m\u001b[1;32m    204\u001b[0m                 \u001b[0mself\u001b[0m\u001b[0;34m.\u001b[0m\u001b[0m_restarting\u001b[0m \u001b[0;34m=\u001b[0m \u001b[0;32mFalse\u001b[0m\u001b[0;34m\u001b[0m\u001b[0;34m\u001b[0m\u001b[0m\n\u001b[1;32m    205\u001b[0m             \u001b[0;32mexcept\u001b[0m \u001b[0mStopIteration\u001b[0m\u001b[0;34m:\u001b[0m\u001b[0;34m\u001b[0m\u001b[0;34m\u001b[0m\u001b[0m\n",
            "\u001b[0;32m/usr/local/lib/python3.10/dist-packages/pytorch_lightning/loops/fit_loop.py\u001b[0m in \u001b[0;36mon_advance_end\u001b[0;34m(self)\u001b[0m\n\u001b[1;32m    372\u001b[0m         \u001b[0mcall\u001b[0m\u001b[0;34m.\u001b[0m\u001b[0m_call_callback_hooks\u001b[0m\u001b[0;34m(\u001b[0m\u001b[0mtrainer\u001b[0m\u001b[0;34m,\u001b[0m \u001b[0;34m\"on_train_epoch_end\"\u001b[0m\u001b[0;34m,\u001b[0m \u001b[0mmonitoring_callbacks\u001b[0m\u001b[0;34m=\u001b[0m\u001b[0;32mFalse\u001b[0m\u001b[0;34m)\u001b[0m\u001b[0;34m\u001b[0m\u001b[0;34m\u001b[0m\u001b[0m\n\u001b[1;32m    373\u001b[0m         \u001b[0mcall\u001b[0m\u001b[0;34m.\u001b[0m\u001b[0m_call_lightning_module_hook\u001b[0m\u001b[0;34m(\u001b[0m\u001b[0mtrainer\u001b[0m\u001b[0;34m,\u001b[0m \u001b[0;34m\"on_train_epoch_end\"\u001b[0m\u001b[0;34m)\u001b[0m\u001b[0;34m\u001b[0m\u001b[0;34m\u001b[0m\u001b[0m\n\u001b[0;32m--> 374\u001b[0;31m         \u001b[0mcall\u001b[0m\u001b[0;34m.\u001b[0m\u001b[0m_call_callback_hooks\u001b[0m\u001b[0;34m(\u001b[0m\u001b[0mtrainer\u001b[0m\u001b[0;34m,\u001b[0m \u001b[0;34m\"on_train_epoch_end\"\u001b[0m\u001b[0;34m,\u001b[0m \u001b[0mmonitoring_callbacks\u001b[0m\u001b[0;34m=\u001b[0m\u001b[0;32mTrue\u001b[0m\u001b[0;34m)\u001b[0m\u001b[0;34m\u001b[0m\u001b[0;34m\u001b[0m\u001b[0m\n\u001b[0m\u001b[1;32m    375\u001b[0m \u001b[0;34m\u001b[0m\u001b[0m\n\u001b[1;32m    376\u001b[0m         \u001b[0mtrainer\u001b[0m\u001b[0;34m.\u001b[0m\u001b[0m_logger_connector\u001b[0m\u001b[0;34m.\u001b[0m\u001b[0mon_epoch_end\u001b[0m\u001b[0;34m(\u001b[0m\u001b[0;34m)\u001b[0m\u001b[0;34m\u001b[0m\u001b[0;34m\u001b[0m\u001b[0m\n",
            "\u001b[0;32m/usr/local/lib/python3.10/dist-packages/pytorch_lightning/trainer/call.py\u001b[0m in \u001b[0;36m_call_callback_hooks\u001b[0;34m(trainer, hook_name, monitoring_callbacks, *args, **kwargs)\u001b[0m\n\u001b[1;32m    206\u001b[0m         \u001b[0;32mif\u001b[0m \u001b[0mcallable\u001b[0m\u001b[0;34m(\u001b[0m\u001b[0mfn\u001b[0m\u001b[0;34m)\u001b[0m\u001b[0;34m:\u001b[0m\u001b[0;34m\u001b[0m\u001b[0;34m\u001b[0m\u001b[0m\n\u001b[1;32m    207\u001b[0m             \u001b[0;32mwith\u001b[0m \u001b[0mtrainer\u001b[0m\u001b[0;34m.\u001b[0m\u001b[0mprofiler\u001b[0m\u001b[0;34m.\u001b[0m\u001b[0mprofile\u001b[0m\u001b[0;34m(\u001b[0m\u001b[0;34mf\"[Callback]{callback.state_key}.{hook_name}\"\u001b[0m\u001b[0;34m)\u001b[0m\u001b[0;34m:\u001b[0m\u001b[0;34m\u001b[0m\u001b[0;34m\u001b[0m\u001b[0m\n\u001b[0;32m--> 208\u001b[0;31m                 \u001b[0mfn\u001b[0m\u001b[0;34m(\u001b[0m\u001b[0mtrainer\u001b[0m\u001b[0;34m,\u001b[0m \u001b[0mtrainer\u001b[0m\u001b[0;34m.\u001b[0m\u001b[0mlightning_module\u001b[0m\u001b[0;34m,\u001b[0m \u001b[0;34m*\u001b[0m\u001b[0margs\u001b[0m\u001b[0;34m,\u001b[0m \u001b[0;34m**\u001b[0m\u001b[0mkwargs\u001b[0m\u001b[0;34m)\u001b[0m\u001b[0;34m\u001b[0m\u001b[0;34m\u001b[0m\u001b[0m\n\u001b[0m\u001b[1;32m    209\u001b[0m \u001b[0;34m\u001b[0m\u001b[0m\n\u001b[1;32m    210\u001b[0m     \u001b[0;32mif\u001b[0m \u001b[0mpl_module\u001b[0m\u001b[0;34m:\u001b[0m\u001b[0;34m\u001b[0m\u001b[0;34m\u001b[0m\u001b[0m\n",
            "\u001b[0;32m/usr/local/lib/python3.10/dist-packages/pytorch_lightning/callbacks/early_stopping.py\u001b[0m in \u001b[0;36mon_train_epoch_end\u001b[0;34m(self, trainer, pl_module)\u001b[0m\n\u001b[1;32m    181\u001b[0m         \u001b[0;32mif\u001b[0m \u001b[0;32mnot\u001b[0m \u001b[0mself\u001b[0m\u001b[0;34m.\u001b[0m\u001b[0m_check_on_train_epoch_end\u001b[0m \u001b[0;32mor\u001b[0m \u001b[0mself\u001b[0m\u001b[0;34m.\u001b[0m\u001b[0m_should_skip_check\u001b[0m\u001b[0;34m(\u001b[0m\u001b[0mtrainer\u001b[0m\u001b[0;34m)\u001b[0m\u001b[0;34m:\u001b[0m\u001b[0;34m\u001b[0m\u001b[0;34m\u001b[0m\u001b[0m\n\u001b[1;32m    182\u001b[0m             \u001b[0;32mreturn\u001b[0m\u001b[0;34m\u001b[0m\u001b[0;34m\u001b[0m\u001b[0m\n\u001b[0;32m--> 183\u001b[0;31m         \u001b[0mself\u001b[0m\u001b[0;34m.\u001b[0m\u001b[0m_run_early_stopping_check\u001b[0m\u001b[0;34m(\u001b[0m\u001b[0mtrainer\u001b[0m\u001b[0;34m)\u001b[0m\u001b[0;34m\u001b[0m\u001b[0;34m\u001b[0m\u001b[0m\n\u001b[0m\u001b[1;32m    184\u001b[0m \u001b[0;34m\u001b[0m\u001b[0m\n\u001b[1;32m    185\u001b[0m     \u001b[0;32mdef\u001b[0m \u001b[0mon_validation_end\u001b[0m\u001b[0;34m(\u001b[0m\u001b[0mself\u001b[0m\u001b[0;34m,\u001b[0m \u001b[0mtrainer\u001b[0m\u001b[0;34m:\u001b[0m \u001b[0;34m\"pl.Trainer\"\u001b[0m\u001b[0;34m,\u001b[0m \u001b[0mpl_module\u001b[0m\u001b[0;34m:\u001b[0m \u001b[0;34m\"pl.LightningModule\"\u001b[0m\u001b[0;34m)\u001b[0m \u001b[0;34m->\u001b[0m \u001b[0;32mNone\u001b[0m\u001b[0;34m:\u001b[0m\u001b[0;34m\u001b[0m\u001b[0;34m\u001b[0m\u001b[0m\n",
            "\u001b[0;32m/usr/local/lib/python3.10/dist-packages/pytorch_lightning/callbacks/early_stopping.py\u001b[0m in \u001b[0;36m_run_early_stopping_check\u001b[0;34m(self, trainer)\u001b[0m\n\u001b[1;32m    192\u001b[0m         \u001b[0mlogs\u001b[0m \u001b[0;34m=\u001b[0m \u001b[0mtrainer\u001b[0m\u001b[0;34m.\u001b[0m\u001b[0mcallback_metrics\u001b[0m\u001b[0;34m\u001b[0m\u001b[0;34m\u001b[0m\u001b[0m\n\u001b[1;32m    193\u001b[0m \u001b[0;34m\u001b[0m\u001b[0m\n\u001b[0;32m--> 194\u001b[0;31m         if trainer.fast_dev_run or not self._validate_condition_metric(  # disable early_stopping with fast_dev_run\n\u001b[0m\u001b[1;32m    195\u001b[0m             \u001b[0mlogs\u001b[0m\u001b[0;34m\u001b[0m\u001b[0;34m\u001b[0m\u001b[0m\n\u001b[1;32m    196\u001b[0m         ):  # short circuit if metric not present\n",
            "\u001b[0;32m/usr/local/lib/python3.10/dist-packages/pytorch_lightning/callbacks/early_stopping.py\u001b[0m in \u001b[0;36m_validate_condition_metric\u001b[0;34m(self, logs)\u001b[0m\n\u001b[1;32m    147\u001b[0m         \u001b[0;32mif\u001b[0m \u001b[0mmonitor_val\u001b[0m \u001b[0;32mis\u001b[0m \u001b[0;32mNone\u001b[0m\u001b[0;34m:\u001b[0m\u001b[0;34m\u001b[0m\u001b[0;34m\u001b[0m\u001b[0m\n\u001b[1;32m    148\u001b[0m             \u001b[0;32mif\u001b[0m \u001b[0mself\u001b[0m\u001b[0;34m.\u001b[0m\u001b[0mstrict\u001b[0m\u001b[0;34m:\u001b[0m\u001b[0;34m\u001b[0m\u001b[0;34m\u001b[0m\u001b[0m\n\u001b[0;32m--> 149\u001b[0;31m                 \u001b[0;32mraise\u001b[0m \u001b[0mRuntimeError\u001b[0m\u001b[0;34m(\u001b[0m\u001b[0merror_msg\u001b[0m\u001b[0;34m)\u001b[0m\u001b[0;34m\u001b[0m\u001b[0;34m\u001b[0m\u001b[0m\n\u001b[0m\u001b[1;32m    150\u001b[0m             \u001b[0;32mif\u001b[0m \u001b[0mself\u001b[0m\u001b[0;34m.\u001b[0m\u001b[0mverbose\u001b[0m \u001b[0;34m>\u001b[0m \u001b[0;36m0\u001b[0m\u001b[0;34m:\u001b[0m\u001b[0;34m\u001b[0m\u001b[0;34m\u001b[0m\u001b[0m\n\u001b[1;32m    151\u001b[0m                 \u001b[0mrank_zero_warn\u001b[0m\u001b[0;34m(\u001b[0m\u001b[0merror_msg\u001b[0m\u001b[0;34m,\u001b[0m \u001b[0mcategory\u001b[0m\u001b[0;34m=\u001b[0m\u001b[0mRuntimeWarning\u001b[0m\u001b[0;34m)\u001b[0m\u001b[0;34m\u001b[0m\u001b[0;34m\u001b[0m\u001b[0m\n",
            "\u001b[0;31mRuntimeError\u001b[0m: Early stopping conditioned on metric `val_acc_step` which is not available. Pass in or modify your `EarlyStopping` callback to use any of the following: `train_acc_step`, `train_loss_step`"
          ]
        }
      ]
    },
    {
      "cell_type": "code",
      "source": [
        "trainer.test(model,test_loader)"
      ],
      "metadata": {
        "colab": {
          "base_uri": "https://localhost:8080/",
          "height": 184,
          "referenced_widgets": [
            "47f061fb8ad146598c23871b19e4c297",
            "3b7d02b9e88d4063a342ac161870628c",
            "75ec29d07f834f108265d2116d104401",
            "f7e7aa169346486e8306508295dab909",
            "ef8c70fee0494c11b2e4e209728df390",
            "8dba5603dbcb46cfbd3c9e4615b1015b",
            "ee97fc33b36d4d3bbfe8dd6d09c71d5b",
            "7e5dd9395b40449e811e79a57ce28f62",
            "29b2de8e9c17480b87045222c3232781",
            "1b62916196c34b719116a2089f08a943",
            "4172e67ce8724e878f224d144e7b294b"
          ]
        },
        "id": "Wm63l2GS_7AQ",
        "outputId": "682b559f-5064-4feb-d45d-d208392ea29e"
      },
      "execution_count": null,
      "outputs": [
        {
          "output_type": "stream",
          "name": "stderr",
          "text": [
            "INFO:pytorch_lightning.accelerators.cuda:LOCAL_RANK: 0 - CUDA_VISIBLE_DEVICES: [0]\n"
          ]
        },
        {
          "output_type": "display_data",
          "data": {
            "text/plain": [
              "Testing: |          | 0/? [00:00<?, ?it/s]"
            ],
            "application/vnd.jupyter.widget-view+json": {
              "version_major": 2,
              "version_minor": 0,
              "model_id": "47f061fb8ad146598c23871b19e4c297"
            }
          },
          "metadata": {}
        },
        {
          "output_type": "display_data",
          "data": {
            "text/plain": [
              "┏━━━━━━━━━━━━━━━━━━━━━━━━━━━┳━━━━━━━━━━━━━━━━━━━━━━━━━━━┓\n",
              "┃\u001b[1m \u001b[0m\u001b[1m       Test metric       \u001b[0m\u001b[1m \u001b[0m┃\u001b[1m \u001b[0m\u001b[1m      DataLoader 0       \u001b[0m\u001b[1m \u001b[0m┃\n",
              "┡━━━━━━━━━━━━━━━━━━━━━━━━━━━╇━━━━━━━━━━━━━━━━━━━━━━━━━━━┩\n",
              "│\u001b[36m \u001b[0m\u001b[36m      test_acc_step      \u001b[0m\u001b[36m \u001b[0m│\u001b[35m \u001b[0m\u001b[35m   0.9959892630577087    \u001b[0m\u001b[35m \u001b[0m│\n",
              "│\u001b[36m \u001b[0m\u001b[36m     test_loss_step      \u001b[0m\u001b[36m \u001b[0m│\u001b[35m \u001b[0m\u001b[35m   0.40293174982070923   \u001b[0m\u001b[35m \u001b[0m│\n",
              "└───────────────────────────┴───────────────────────────┘\n"
            ],
            "text/html": [
              "<pre style=\"white-space:pre;overflow-x:auto;line-height:normal;font-family:Menlo,'DejaVu Sans Mono',consolas,'Courier New',monospace\">┏━━━━━━━━━━━━━━━━━━━━━━━━━━━┳━━━━━━━━━━━━━━━━━━━━━━━━━━━┓\n",
              "┃<span style=\"font-weight: bold\">        Test metric        </span>┃<span style=\"font-weight: bold\">       DataLoader 0        </span>┃\n",
              "┡━━━━━━━━━━━━━━━━━━━━━━━━━━━╇━━━━━━━━━━━━━━━━━━━━━━━━━━━┩\n",
              "│<span style=\"color: #008080; text-decoration-color: #008080\">       test_acc_step       </span>│<span style=\"color: #800080; text-decoration-color: #800080\">    0.9959892630577087     </span>│\n",
              "│<span style=\"color: #008080; text-decoration-color: #008080\">      test_loss_step       </span>│<span style=\"color: #800080; text-decoration-color: #800080\">    0.40293174982070923    </span>│\n",
              "└───────────────────────────┴───────────────────────────┘\n",
              "</pre>\n"
            ]
          },
          "metadata": {}
        },
        {
          "output_type": "execute_result",
          "data": {
            "text/plain": [
              "[{'test_acc_step': 0.9959892630577087, 'test_loss_step': 0.40293174982070923}]"
            ]
          },
          "metadata": {},
          "execution_count": 167
        }
      ]
    },
    {
      "cell_type": "markdown",
      "source": [
        "Sources:\n",
        "https://github.com/pyg-team/pytorch_geometric/tree/master/examples\n"
      ],
      "metadata": {
        "id": "XLMC_BAOnzog"
      }
    }
  ],
  "metadata": {
    "colab": {
      "provenance": []
    },
    "kernelspec": {
      "display_name": "Python 3",
      "name": "python3"
    },
    "language_info": {
      "name": "python"
    },
    "widgets": {
      "application/vnd.jupyter.widget-state+json": {
        "47f061fb8ad146598c23871b19e4c297": {
          "model_module": "@jupyter-widgets/controls",
          "model_name": "HBoxModel",
          "model_module_version": "1.5.0",
          "state": {
            "_dom_classes": [],
            "_model_module": "@jupyter-widgets/controls",
            "_model_module_version": "1.5.0",
            "_model_name": "HBoxModel",
            "_view_count": null,
            "_view_module": "@jupyter-widgets/controls",
            "_view_module_version": "1.5.0",
            "_view_name": "HBoxView",
            "box_style": "",
            "children": [
              "IPY_MODEL_3b7d02b9e88d4063a342ac161870628c",
              "IPY_MODEL_75ec29d07f834f108265d2116d104401",
              "IPY_MODEL_f7e7aa169346486e8306508295dab909"
            ],
            "layout": "IPY_MODEL_ef8c70fee0494c11b2e4e209728df390"
          }
        },
        "3b7d02b9e88d4063a342ac161870628c": {
          "model_module": "@jupyter-widgets/controls",
          "model_name": "HTMLModel",
          "model_module_version": "1.5.0",
          "state": {
            "_dom_classes": [],
            "_model_module": "@jupyter-widgets/controls",
            "_model_module_version": "1.5.0",
            "_model_name": "HTMLModel",
            "_view_count": null,
            "_view_module": "@jupyter-widgets/controls",
            "_view_module_version": "1.5.0",
            "_view_name": "HTMLView",
            "description": "",
            "description_tooltip": null,
            "layout": "IPY_MODEL_8dba5603dbcb46cfbd3c9e4615b1015b",
            "placeholder": "​",
            "style": "IPY_MODEL_ee97fc33b36d4d3bbfe8dd6d09c71d5b",
            "value": "Testing DataLoader 0: 100%"
          }
        },
        "75ec29d07f834f108265d2116d104401": {
          "model_module": "@jupyter-widgets/controls",
          "model_name": "FloatProgressModel",
          "model_module_version": "1.5.0",
          "state": {
            "_dom_classes": [],
            "_model_module": "@jupyter-widgets/controls",
            "_model_module_version": "1.5.0",
            "_model_name": "FloatProgressModel",
            "_view_count": null,
            "_view_module": "@jupyter-widgets/controls",
            "_view_module_version": "1.5.0",
            "_view_name": "ProgressView",
            "bar_style": "success",
            "description": "",
            "description_tooltip": null,
            "layout": "IPY_MODEL_7e5dd9395b40449e811e79a57ce28f62",
            "max": 12,
            "min": 0,
            "orientation": "horizontal",
            "style": "IPY_MODEL_29b2de8e9c17480b87045222c3232781",
            "value": 12
          }
        },
        "f7e7aa169346486e8306508295dab909": {
          "model_module": "@jupyter-widgets/controls",
          "model_name": "HTMLModel",
          "model_module_version": "1.5.0",
          "state": {
            "_dom_classes": [],
            "_model_module": "@jupyter-widgets/controls",
            "_model_module_version": "1.5.0",
            "_model_name": "HTMLModel",
            "_view_count": null,
            "_view_module": "@jupyter-widgets/controls",
            "_view_module_version": "1.5.0",
            "_view_name": "HTMLView",
            "description": "",
            "description_tooltip": null,
            "layout": "IPY_MODEL_1b62916196c34b719116a2089f08a943",
            "placeholder": "​",
            "style": "IPY_MODEL_4172e67ce8724e878f224d144e7b294b",
            "value": " 12/12 [00:00&lt;00:00, 57.48it/s]"
          }
        },
        "ef8c70fee0494c11b2e4e209728df390": {
          "model_module": "@jupyter-widgets/base",
          "model_name": "LayoutModel",
          "model_module_version": "1.2.0",
          "state": {
            "_model_module": "@jupyter-widgets/base",
            "_model_module_version": "1.2.0",
            "_model_name": "LayoutModel",
            "_view_count": null,
            "_view_module": "@jupyter-widgets/base",
            "_view_module_version": "1.2.0",
            "_view_name": "LayoutView",
            "align_content": null,
            "align_items": null,
            "align_self": null,
            "border": null,
            "bottom": null,
            "display": "inline-flex",
            "flex": null,
            "flex_flow": "row wrap",
            "grid_area": null,
            "grid_auto_columns": null,
            "grid_auto_flow": null,
            "grid_auto_rows": null,
            "grid_column": null,
            "grid_gap": null,
            "grid_row": null,
            "grid_template_areas": null,
            "grid_template_columns": null,
            "grid_template_rows": null,
            "height": null,
            "justify_content": null,
            "justify_items": null,
            "left": null,
            "margin": null,
            "max_height": null,
            "max_width": null,
            "min_height": null,
            "min_width": null,
            "object_fit": null,
            "object_position": null,
            "order": null,
            "overflow": null,
            "overflow_x": null,
            "overflow_y": null,
            "padding": null,
            "right": null,
            "top": null,
            "visibility": null,
            "width": "100%"
          }
        },
        "8dba5603dbcb46cfbd3c9e4615b1015b": {
          "model_module": "@jupyter-widgets/base",
          "model_name": "LayoutModel",
          "model_module_version": "1.2.0",
          "state": {
            "_model_module": "@jupyter-widgets/base",
            "_model_module_version": "1.2.0",
            "_model_name": "LayoutModel",
            "_view_count": null,
            "_view_module": "@jupyter-widgets/base",
            "_view_module_version": "1.2.0",
            "_view_name": "LayoutView",
            "align_content": null,
            "align_items": null,
            "align_self": null,
            "border": null,
            "bottom": null,
            "display": null,
            "flex": null,
            "flex_flow": null,
            "grid_area": null,
            "grid_auto_columns": null,
            "grid_auto_flow": null,
            "grid_auto_rows": null,
            "grid_column": null,
            "grid_gap": null,
            "grid_row": null,
            "grid_template_areas": null,
            "grid_template_columns": null,
            "grid_template_rows": null,
            "height": null,
            "justify_content": null,
            "justify_items": null,
            "left": null,
            "margin": null,
            "max_height": null,
            "max_width": null,
            "min_height": null,
            "min_width": null,
            "object_fit": null,
            "object_position": null,
            "order": null,
            "overflow": null,
            "overflow_x": null,
            "overflow_y": null,
            "padding": null,
            "right": null,
            "top": null,
            "visibility": null,
            "width": null
          }
        },
        "ee97fc33b36d4d3bbfe8dd6d09c71d5b": {
          "model_module": "@jupyter-widgets/controls",
          "model_name": "DescriptionStyleModel",
          "model_module_version": "1.5.0",
          "state": {
            "_model_module": "@jupyter-widgets/controls",
            "_model_module_version": "1.5.0",
            "_model_name": "DescriptionStyleModel",
            "_view_count": null,
            "_view_module": "@jupyter-widgets/base",
            "_view_module_version": "1.2.0",
            "_view_name": "StyleView",
            "description_width": ""
          }
        },
        "7e5dd9395b40449e811e79a57ce28f62": {
          "model_module": "@jupyter-widgets/base",
          "model_name": "LayoutModel",
          "model_module_version": "1.2.0",
          "state": {
            "_model_module": "@jupyter-widgets/base",
            "_model_module_version": "1.2.0",
            "_model_name": "LayoutModel",
            "_view_count": null,
            "_view_module": "@jupyter-widgets/base",
            "_view_module_version": "1.2.0",
            "_view_name": "LayoutView",
            "align_content": null,
            "align_items": null,
            "align_self": null,
            "border": null,
            "bottom": null,
            "display": null,
            "flex": "2",
            "flex_flow": null,
            "grid_area": null,
            "grid_auto_columns": null,
            "grid_auto_flow": null,
            "grid_auto_rows": null,
            "grid_column": null,
            "grid_gap": null,
            "grid_row": null,
            "grid_template_areas": null,
            "grid_template_columns": null,
            "grid_template_rows": null,
            "height": null,
            "justify_content": null,
            "justify_items": null,
            "left": null,
            "margin": null,
            "max_height": null,
            "max_width": null,
            "min_height": null,
            "min_width": null,
            "object_fit": null,
            "object_position": null,
            "order": null,
            "overflow": null,
            "overflow_x": null,
            "overflow_y": null,
            "padding": null,
            "right": null,
            "top": null,
            "visibility": null,
            "width": null
          }
        },
        "29b2de8e9c17480b87045222c3232781": {
          "model_module": "@jupyter-widgets/controls",
          "model_name": "ProgressStyleModel",
          "model_module_version": "1.5.0",
          "state": {
            "_model_module": "@jupyter-widgets/controls",
            "_model_module_version": "1.5.0",
            "_model_name": "ProgressStyleModel",
            "_view_count": null,
            "_view_module": "@jupyter-widgets/base",
            "_view_module_version": "1.2.0",
            "_view_name": "StyleView",
            "bar_color": null,
            "description_width": ""
          }
        },
        "1b62916196c34b719116a2089f08a943": {
          "model_module": "@jupyter-widgets/base",
          "model_name": "LayoutModel",
          "model_module_version": "1.2.0",
          "state": {
            "_model_module": "@jupyter-widgets/base",
            "_model_module_version": "1.2.0",
            "_model_name": "LayoutModel",
            "_view_count": null,
            "_view_module": "@jupyter-widgets/base",
            "_view_module_version": "1.2.0",
            "_view_name": "LayoutView",
            "align_content": null,
            "align_items": null,
            "align_self": null,
            "border": null,
            "bottom": null,
            "display": null,
            "flex": null,
            "flex_flow": null,
            "grid_area": null,
            "grid_auto_columns": null,
            "grid_auto_flow": null,
            "grid_auto_rows": null,
            "grid_column": null,
            "grid_gap": null,
            "grid_row": null,
            "grid_template_areas": null,
            "grid_template_columns": null,
            "grid_template_rows": null,
            "height": null,
            "justify_content": null,
            "justify_items": null,
            "left": null,
            "margin": null,
            "max_height": null,
            "max_width": null,
            "min_height": null,
            "min_width": null,
            "object_fit": null,
            "object_position": null,
            "order": null,
            "overflow": null,
            "overflow_x": null,
            "overflow_y": null,
            "padding": null,
            "right": null,
            "top": null,
            "visibility": null,
            "width": null
          }
        },
        "4172e67ce8724e878f224d144e7b294b": {
          "model_module": "@jupyter-widgets/controls",
          "model_name": "DescriptionStyleModel",
          "model_module_version": "1.5.0",
          "state": {
            "_model_module": "@jupyter-widgets/controls",
            "_model_module_version": "1.5.0",
            "_model_name": "DescriptionStyleModel",
            "_view_count": null,
            "_view_module": "@jupyter-widgets/base",
            "_view_module_version": "1.2.0",
            "_view_name": "StyleView",
            "description_width": ""
          }
        },
        "3c901552f518453a8b974abfb85a6838": {
          "model_module": "@jupyter-widgets/controls",
          "model_name": "HBoxModel",
          "model_module_version": "1.5.0",
          "state": {
            "_dom_classes": [],
            "_model_module": "@jupyter-widgets/controls",
            "_model_module_version": "1.5.0",
            "_model_name": "HBoxModel",
            "_view_count": null,
            "_view_module": "@jupyter-widgets/controls",
            "_view_module_version": "1.5.0",
            "_view_name": "HBoxView",
            "box_style": "",
            "children": [
              "IPY_MODEL_2442c91f9ae849409a70f753dd529753",
              "IPY_MODEL_034322d50d474ef2a7c418db65c8dfe3",
              "IPY_MODEL_0e11531d074f4fcca5219a6369cc57c9"
            ],
            "layout": "IPY_MODEL_f9bc1bbea4884d05ab23da05489fd07d"
          }
        },
        "2442c91f9ae849409a70f753dd529753": {
          "model_module": "@jupyter-widgets/controls",
          "model_name": "HTMLModel",
          "model_module_version": "1.5.0",
          "state": {
            "_dom_classes": [],
            "_model_module": "@jupyter-widgets/controls",
            "_model_module_version": "1.5.0",
            "_model_name": "HTMLModel",
            "_view_count": null,
            "_view_module": "@jupyter-widgets/controls",
            "_view_module_version": "1.5.0",
            "_view_name": "HTMLView",
            "description": "",
            "description_tooltip": null,
            "layout": "IPY_MODEL_1f5f70d47c694bd698829747785db9e2",
            "placeholder": "​",
            "style": "IPY_MODEL_c8cde6f9f8064422b956bd69b2d79590",
            "value": "Epoch 99: 100%"
          }
        },
        "034322d50d474ef2a7c418db65c8dfe3": {
          "model_module": "@jupyter-widgets/controls",
          "model_name": "FloatProgressModel",
          "model_module_version": "1.5.0",
          "state": {
            "_dom_classes": [],
            "_model_module": "@jupyter-widgets/controls",
            "_model_module_version": "1.5.0",
            "_model_name": "FloatProgressModel",
            "_view_count": null,
            "_view_module": "@jupyter-widgets/controls",
            "_view_module_version": "1.5.0",
            "_view_name": "ProgressView",
            "bar_style": "success",
            "description": "",
            "description_tooltip": null,
            "layout": "IPY_MODEL_169eefbb77b642bfaf9379335cc31388",
            "max": 32,
            "min": 0,
            "orientation": "horizontal",
            "style": "IPY_MODEL_d7773da8eef947499ac86539906119ab",
            "value": 32
          }
        },
        "0e11531d074f4fcca5219a6369cc57c9": {
          "model_module": "@jupyter-widgets/controls",
          "model_name": "HTMLModel",
          "model_module_version": "1.5.0",
          "state": {
            "_dom_classes": [],
            "_model_module": "@jupyter-widgets/controls",
            "_model_module_version": "1.5.0",
            "_model_name": "HTMLModel",
            "_view_count": null,
            "_view_module": "@jupyter-widgets/controls",
            "_view_module_version": "1.5.0",
            "_view_name": "HTMLView",
            "description": "",
            "description_tooltip": null,
            "layout": "IPY_MODEL_d2ac8f9e1a19463fb7eefd63857488fc",
            "placeholder": "​",
            "style": "IPY_MODEL_3b9595067cd8436d8d7f9bbb9865d7b6",
            "value": " 32/32 [00:00&lt;00:00, 118.11it/s, v_num=0, train_loss_step=0.394, train_loss_epoch=0.543]"
          }
        },
        "f9bc1bbea4884d05ab23da05489fd07d": {
          "model_module": "@jupyter-widgets/base",
          "model_name": "LayoutModel",
          "model_module_version": "1.2.0",
          "state": {
            "_model_module": "@jupyter-widgets/base",
            "_model_module_version": "1.2.0",
            "_model_name": "LayoutModel",
            "_view_count": null,
            "_view_module": "@jupyter-widgets/base",
            "_view_module_version": "1.2.0",
            "_view_name": "LayoutView",
            "align_content": null,
            "align_items": null,
            "align_self": null,
            "border": null,
            "bottom": null,
            "display": "inline-flex",
            "flex": null,
            "flex_flow": "row wrap",
            "grid_area": null,
            "grid_auto_columns": null,
            "grid_auto_flow": null,
            "grid_auto_rows": null,
            "grid_column": null,
            "grid_gap": null,
            "grid_row": null,
            "grid_template_areas": null,
            "grid_template_columns": null,
            "grid_template_rows": null,
            "height": null,
            "justify_content": null,
            "justify_items": null,
            "left": null,
            "margin": null,
            "max_height": null,
            "max_width": null,
            "min_height": null,
            "min_width": null,
            "object_fit": null,
            "object_position": null,
            "order": null,
            "overflow": null,
            "overflow_x": null,
            "overflow_y": null,
            "padding": null,
            "right": null,
            "top": null,
            "visibility": null,
            "width": "100%"
          }
        },
        "1f5f70d47c694bd698829747785db9e2": {
          "model_module": "@jupyter-widgets/base",
          "model_name": "LayoutModel",
          "model_module_version": "1.2.0",
          "state": {
            "_model_module": "@jupyter-widgets/base",
            "_model_module_version": "1.2.0",
            "_model_name": "LayoutModel",
            "_view_count": null,
            "_view_module": "@jupyter-widgets/base",
            "_view_module_version": "1.2.0",
            "_view_name": "LayoutView",
            "align_content": null,
            "align_items": null,
            "align_self": null,
            "border": null,
            "bottom": null,
            "display": null,
            "flex": null,
            "flex_flow": null,
            "grid_area": null,
            "grid_auto_columns": null,
            "grid_auto_flow": null,
            "grid_auto_rows": null,
            "grid_column": null,
            "grid_gap": null,
            "grid_row": null,
            "grid_template_areas": null,
            "grid_template_columns": null,
            "grid_template_rows": null,
            "height": null,
            "justify_content": null,
            "justify_items": null,
            "left": null,
            "margin": null,
            "max_height": null,
            "max_width": null,
            "min_height": null,
            "min_width": null,
            "object_fit": null,
            "object_position": null,
            "order": null,
            "overflow": null,
            "overflow_x": null,
            "overflow_y": null,
            "padding": null,
            "right": null,
            "top": null,
            "visibility": null,
            "width": null
          }
        },
        "c8cde6f9f8064422b956bd69b2d79590": {
          "model_module": "@jupyter-widgets/controls",
          "model_name": "DescriptionStyleModel",
          "model_module_version": "1.5.0",
          "state": {
            "_model_module": "@jupyter-widgets/controls",
            "_model_module_version": "1.5.0",
            "_model_name": "DescriptionStyleModel",
            "_view_count": null,
            "_view_module": "@jupyter-widgets/base",
            "_view_module_version": "1.2.0",
            "_view_name": "StyleView",
            "description_width": ""
          }
        },
        "169eefbb77b642bfaf9379335cc31388": {
          "model_module": "@jupyter-widgets/base",
          "model_name": "LayoutModel",
          "model_module_version": "1.2.0",
          "state": {
            "_model_module": "@jupyter-widgets/base",
            "_model_module_version": "1.2.0",
            "_model_name": "LayoutModel",
            "_view_count": null,
            "_view_module": "@jupyter-widgets/base",
            "_view_module_version": "1.2.0",
            "_view_name": "LayoutView",
            "align_content": null,
            "align_items": null,
            "align_self": null,
            "border": null,
            "bottom": null,
            "display": null,
            "flex": "2",
            "flex_flow": null,
            "grid_area": null,
            "grid_auto_columns": null,
            "grid_auto_flow": null,
            "grid_auto_rows": null,
            "grid_column": null,
            "grid_gap": null,
            "grid_row": null,
            "grid_template_areas": null,
            "grid_template_columns": null,
            "grid_template_rows": null,
            "height": null,
            "justify_content": null,
            "justify_items": null,
            "left": null,
            "margin": null,
            "max_height": null,
            "max_width": null,
            "min_height": null,
            "min_width": null,
            "object_fit": null,
            "object_position": null,
            "order": null,
            "overflow": null,
            "overflow_x": null,
            "overflow_y": null,
            "padding": null,
            "right": null,
            "top": null,
            "visibility": null,
            "width": null
          }
        },
        "d7773da8eef947499ac86539906119ab": {
          "model_module": "@jupyter-widgets/controls",
          "model_name": "ProgressStyleModel",
          "model_module_version": "1.5.0",
          "state": {
            "_model_module": "@jupyter-widgets/controls",
            "_model_module_version": "1.5.0",
            "_model_name": "ProgressStyleModel",
            "_view_count": null,
            "_view_module": "@jupyter-widgets/base",
            "_view_module_version": "1.2.0",
            "_view_name": "StyleView",
            "bar_color": null,
            "description_width": ""
          }
        },
        "d2ac8f9e1a19463fb7eefd63857488fc": {
          "model_module": "@jupyter-widgets/base",
          "model_name": "LayoutModel",
          "model_module_version": "1.2.0",
          "state": {
            "_model_module": "@jupyter-widgets/base",
            "_model_module_version": "1.2.0",
            "_model_name": "LayoutModel",
            "_view_count": null,
            "_view_module": "@jupyter-widgets/base",
            "_view_module_version": "1.2.0",
            "_view_name": "LayoutView",
            "align_content": null,
            "align_items": null,
            "align_self": null,
            "border": null,
            "bottom": null,
            "display": null,
            "flex": null,
            "flex_flow": null,
            "grid_area": null,
            "grid_auto_columns": null,
            "grid_auto_flow": null,
            "grid_auto_rows": null,
            "grid_column": null,
            "grid_gap": null,
            "grid_row": null,
            "grid_template_areas": null,
            "grid_template_columns": null,
            "grid_template_rows": null,
            "height": null,
            "justify_content": null,
            "justify_items": null,
            "left": null,
            "margin": null,
            "max_height": null,
            "max_width": null,
            "min_height": null,
            "min_width": null,
            "object_fit": null,
            "object_position": null,
            "order": null,
            "overflow": null,
            "overflow_x": null,
            "overflow_y": null,
            "padding": null,
            "right": null,
            "top": null,
            "visibility": null,
            "width": null
          }
        },
        "3b9595067cd8436d8d7f9bbb9865d7b6": {
          "model_module": "@jupyter-widgets/controls",
          "model_name": "DescriptionStyleModel",
          "model_module_version": "1.5.0",
          "state": {
            "_model_module": "@jupyter-widgets/controls",
            "_model_module_version": "1.5.0",
            "_model_name": "DescriptionStyleModel",
            "_view_count": null,
            "_view_module": "@jupyter-widgets/base",
            "_view_module_version": "1.2.0",
            "_view_name": "StyleView",
            "description_width": ""
          }
        },
        "9d7ba55b98a147cfbc5fc3f2377c0b60": {
          "model_module": "@jupyter-widgets/controls",
          "model_name": "HBoxModel",
          "model_module_version": "1.5.0",
          "state": {
            "_dom_classes": [],
            "_model_module": "@jupyter-widgets/controls",
            "_model_module_version": "1.5.0",
            "_model_name": "HBoxModel",
            "_view_count": null,
            "_view_module": "@jupyter-widgets/controls",
            "_view_module_version": "1.5.0",
            "_view_name": "HBoxView",
            "box_style": "",
            "children": [
              "IPY_MODEL_bd52a85ed67b492c9e41da16988c872b",
              "IPY_MODEL_a126ab2bd8a4481eb1dcf80ca6d26fd3",
              "IPY_MODEL_5f7b7d6716594a6d9cd2452129a4996e"
            ],
            "layout": "IPY_MODEL_4bca85159c774841b72759854004bcdc"
          }
        },
        "bd52a85ed67b492c9e41da16988c872b": {
          "model_module": "@jupyter-widgets/controls",
          "model_name": "HTMLModel",
          "model_module_version": "1.5.0",
          "state": {
            "_dom_classes": [],
            "_model_module": "@jupyter-widgets/controls",
            "_model_module_version": "1.5.0",
            "_model_name": "HTMLModel",
            "_view_count": null,
            "_view_module": "@jupyter-widgets/controls",
            "_view_module_version": "1.5.0",
            "_view_name": "HTMLView",
            "description": "",
            "description_tooltip": null,
            "layout": "IPY_MODEL_8835b92f0914489b8fe86fd6a075b5f3",
            "placeholder": "​",
            "style": "IPY_MODEL_0392b5880e094d448bfde80081b917ec",
            "value": "Testing DataLoader 0: 100%"
          }
        },
        "a126ab2bd8a4481eb1dcf80ca6d26fd3": {
          "model_module": "@jupyter-widgets/controls",
          "model_name": "FloatProgressModel",
          "model_module_version": "1.5.0",
          "state": {
            "_dom_classes": [],
            "_model_module": "@jupyter-widgets/controls",
            "_model_module_version": "1.5.0",
            "_model_name": "FloatProgressModel",
            "_view_count": null,
            "_view_module": "@jupyter-widgets/controls",
            "_view_module_version": "1.5.0",
            "_view_name": "ProgressView",
            "bar_style": "success",
            "description": "",
            "description_tooltip": null,
            "layout": "IPY_MODEL_7bb1412495c849fdb6ea09e52aba9dd9",
            "max": 32,
            "min": 0,
            "orientation": "horizontal",
            "style": "IPY_MODEL_e4c12c6133184a1d92cf6510c6d4ee2b",
            "value": 32
          }
        },
        "5f7b7d6716594a6d9cd2452129a4996e": {
          "model_module": "@jupyter-widgets/controls",
          "model_name": "HTMLModel",
          "model_module_version": "1.5.0",
          "state": {
            "_dom_classes": [],
            "_model_module": "@jupyter-widgets/controls",
            "_model_module_version": "1.5.0",
            "_model_name": "HTMLModel",
            "_view_count": null,
            "_view_module": "@jupyter-widgets/controls",
            "_view_module_version": "1.5.0",
            "_view_name": "HTMLView",
            "description": "",
            "description_tooltip": null,
            "layout": "IPY_MODEL_49d6a458a434445789ca4ca6a1447f30",
            "placeholder": "​",
            "style": "IPY_MODEL_3f5042181afe42a9946fdf7bf486c3b3",
            "value": " 32/32 [00:00&lt;00:00, 174.76it/s]"
          }
        },
        "4bca85159c774841b72759854004bcdc": {
          "model_module": "@jupyter-widgets/base",
          "model_name": "LayoutModel",
          "model_module_version": "1.2.0",
          "state": {
            "_model_module": "@jupyter-widgets/base",
            "_model_module_version": "1.2.0",
            "_model_name": "LayoutModel",
            "_view_count": null,
            "_view_module": "@jupyter-widgets/base",
            "_view_module_version": "1.2.0",
            "_view_name": "LayoutView",
            "align_content": null,
            "align_items": null,
            "align_self": null,
            "border": null,
            "bottom": null,
            "display": "inline-flex",
            "flex": null,
            "flex_flow": "row wrap",
            "grid_area": null,
            "grid_auto_columns": null,
            "grid_auto_flow": null,
            "grid_auto_rows": null,
            "grid_column": null,
            "grid_gap": null,
            "grid_row": null,
            "grid_template_areas": null,
            "grid_template_columns": null,
            "grid_template_rows": null,
            "height": null,
            "justify_content": null,
            "justify_items": null,
            "left": null,
            "margin": null,
            "max_height": null,
            "max_width": null,
            "min_height": null,
            "min_width": null,
            "object_fit": null,
            "object_position": null,
            "order": null,
            "overflow": null,
            "overflow_x": null,
            "overflow_y": null,
            "padding": null,
            "right": null,
            "top": null,
            "visibility": null,
            "width": "100%"
          }
        },
        "8835b92f0914489b8fe86fd6a075b5f3": {
          "model_module": "@jupyter-widgets/base",
          "model_name": "LayoutModel",
          "model_module_version": "1.2.0",
          "state": {
            "_model_module": "@jupyter-widgets/base",
            "_model_module_version": "1.2.0",
            "_model_name": "LayoutModel",
            "_view_count": null,
            "_view_module": "@jupyter-widgets/base",
            "_view_module_version": "1.2.0",
            "_view_name": "LayoutView",
            "align_content": null,
            "align_items": null,
            "align_self": null,
            "border": null,
            "bottom": null,
            "display": null,
            "flex": null,
            "flex_flow": null,
            "grid_area": null,
            "grid_auto_columns": null,
            "grid_auto_flow": null,
            "grid_auto_rows": null,
            "grid_column": null,
            "grid_gap": null,
            "grid_row": null,
            "grid_template_areas": null,
            "grid_template_columns": null,
            "grid_template_rows": null,
            "height": null,
            "justify_content": null,
            "justify_items": null,
            "left": null,
            "margin": null,
            "max_height": null,
            "max_width": null,
            "min_height": null,
            "min_width": null,
            "object_fit": null,
            "object_position": null,
            "order": null,
            "overflow": null,
            "overflow_x": null,
            "overflow_y": null,
            "padding": null,
            "right": null,
            "top": null,
            "visibility": null,
            "width": null
          }
        },
        "0392b5880e094d448bfde80081b917ec": {
          "model_module": "@jupyter-widgets/controls",
          "model_name": "DescriptionStyleModel",
          "model_module_version": "1.5.0",
          "state": {
            "_model_module": "@jupyter-widgets/controls",
            "_model_module_version": "1.5.0",
            "_model_name": "DescriptionStyleModel",
            "_view_count": null,
            "_view_module": "@jupyter-widgets/base",
            "_view_module_version": "1.2.0",
            "_view_name": "StyleView",
            "description_width": ""
          }
        },
        "7bb1412495c849fdb6ea09e52aba9dd9": {
          "model_module": "@jupyter-widgets/base",
          "model_name": "LayoutModel",
          "model_module_version": "1.2.0",
          "state": {
            "_model_module": "@jupyter-widgets/base",
            "_model_module_version": "1.2.0",
            "_model_name": "LayoutModel",
            "_view_count": null,
            "_view_module": "@jupyter-widgets/base",
            "_view_module_version": "1.2.0",
            "_view_name": "LayoutView",
            "align_content": null,
            "align_items": null,
            "align_self": null,
            "border": null,
            "bottom": null,
            "display": null,
            "flex": "2",
            "flex_flow": null,
            "grid_area": null,
            "grid_auto_columns": null,
            "grid_auto_flow": null,
            "grid_auto_rows": null,
            "grid_column": null,
            "grid_gap": null,
            "grid_row": null,
            "grid_template_areas": null,
            "grid_template_columns": null,
            "grid_template_rows": null,
            "height": null,
            "justify_content": null,
            "justify_items": null,
            "left": null,
            "margin": null,
            "max_height": null,
            "max_width": null,
            "min_height": null,
            "min_width": null,
            "object_fit": null,
            "object_position": null,
            "order": null,
            "overflow": null,
            "overflow_x": null,
            "overflow_y": null,
            "padding": null,
            "right": null,
            "top": null,
            "visibility": null,
            "width": null
          }
        },
        "e4c12c6133184a1d92cf6510c6d4ee2b": {
          "model_module": "@jupyter-widgets/controls",
          "model_name": "ProgressStyleModel",
          "model_module_version": "1.5.0",
          "state": {
            "_model_module": "@jupyter-widgets/controls",
            "_model_module_version": "1.5.0",
            "_model_name": "ProgressStyleModel",
            "_view_count": null,
            "_view_module": "@jupyter-widgets/base",
            "_view_module_version": "1.2.0",
            "_view_name": "StyleView",
            "bar_color": null,
            "description_width": ""
          }
        },
        "49d6a458a434445789ca4ca6a1447f30": {
          "model_module": "@jupyter-widgets/base",
          "model_name": "LayoutModel",
          "model_module_version": "1.2.0",
          "state": {
            "_model_module": "@jupyter-widgets/base",
            "_model_module_version": "1.2.0",
            "_model_name": "LayoutModel",
            "_view_count": null,
            "_view_module": "@jupyter-widgets/base",
            "_view_module_version": "1.2.0",
            "_view_name": "LayoutView",
            "align_content": null,
            "align_items": null,
            "align_self": null,
            "border": null,
            "bottom": null,
            "display": null,
            "flex": null,
            "flex_flow": null,
            "grid_area": null,
            "grid_auto_columns": null,
            "grid_auto_flow": null,
            "grid_auto_rows": null,
            "grid_column": null,
            "grid_gap": null,
            "grid_row": null,
            "grid_template_areas": null,
            "grid_template_columns": null,
            "grid_template_rows": null,
            "height": null,
            "justify_content": null,
            "justify_items": null,
            "left": null,
            "margin": null,
            "max_height": null,
            "max_width": null,
            "min_height": null,
            "min_width": null,
            "object_fit": null,
            "object_position": null,
            "order": null,
            "overflow": null,
            "overflow_x": null,
            "overflow_y": null,
            "padding": null,
            "right": null,
            "top": null,
            "visibility": null,
            "width": null
          }
        },
        "3f5042181afe42a9946fdf7bf486c3b3": {
          "model_module": "@jupyter-widgets/controls",
          "model_name": "DescriptionStyleModel",
          "model_module_version": "1.5.0",
          "state": {
            "_model_module": "@jupyter-widgets/controls",
            "_model_module_version": "1.5.0",
            "_model_name": "DescriptionStyleModel",
            "_view_count": null,
            "_view_module": "@jupyter-widgets/base",
            "_view_module_version": "1.2.0",
            "_view_name": "StyleView",
            "description_width": ""
          }
        },
        "fbdd93993b364ee18fcffd94a7c6e844": {
          "model_module": "@jupyter-widgets/controls",
          "model_name": "HBoxModel",
          "model_module_version": "1.5.0",
          "state": {
            "_dom_classes": [],
            "_model_module": "@jupyter-widgets/controls",
            "_model_module_version": "1.5.0",
            "_model_name": "HBoxModel",
            "_view_count": null,
            "_view_module": "@jupyter-widgets/controls",
            "_view_module_version": "1.5.0",
            "_view_name": "HBoxView",
            "box_style": "",
            "children": [
              "IPY_MODEL_60525bfeb73a4ad68d9758032395df45",
              "IPY_MODEL_270ceff2bd70486694ce386de8896d91",
              "IPY_MODEL_a22b60dbfe3f41ad97abfec4262b04a0"
            ],
            "layout": "IPY_MODEL_65ee128ffb034b19b49482004d142d7e"
          }
        },
        "60525bfeb73a4ad68d9758032395df45": {
          "model_module": "@jupyter-widgets/controls",
          "model_name": "HTMLModel",
          "model_module_version": "1.5.0",
          "state": {
            "_dom_classes": [],
            "_model_module": "@jupyter-widgets/controls",
            "_model_module_version": "1.5.0",
            "_model_name": "HTMLModel",
            "_view_count": null,
            "_view_module": "@jupyter-widgets/controls",
            "_view_module_version": "1.5.0",
            "_view_name": "HTMLView",
            "description": "",
            "description_tooltip": null,
            "layout": "IPY_MODEL_01b61f555ed5499bb18885fe0e934ddd",
            "placeholder": "​",
            "style": "IPY_MODEL_77d7750cddcd4fb5ada5d883c2d3ffdc",
            "value": "Testing DataLoader 0: 100%"
          }
        },
        "270ceff2bd70486694ce386de8896d91": {
          "model_module": "@jupyter-widgets/controls",
          "model_name": "FloatProgressModel",
          "model_module_version": "1.5.0",
          "state": {
            "_dom_classes": [],
            "_model_module": "@jupyter-widgets/controls",
            "_model_module_version": "1.5.0",
            "_model_name": "FloatProgressModel",
            "_view_count": null,
            "_view_module": "@jupyter-widgets/controls",
            "_view_module_version": "1.5.0",
            "_view_name": "ProgressView",
            "bar_style": "success",
            "description": "",
            "description_tooltip": null,
            "layout": "IPY_MODEL_a7e0b17648d24eafa0ac1545e73b96b6",
            "max": 4,
            "min": 0,
            "orientation": "horizontal",
            "style": "IPY_MODEL_f9752a859a5b47fab4a4026d60291805",
            "value": 4
          }
        },
        "a22b60dbfe3f41ad97abfec4262b04a0": {
          "model_module": "@jupyter-widgets/controls",
          "model_name": "HTMLModel",
          "model_module_version": "1.5.0",
          "state": {
            "_dom_classes": [],
            "_model_module": "@jupyter-widgets/controls",
            "_model_module_version": "1.5.0",
            "_model_name": "HTMLModel",
            "_view_count": null,
            "_view_module": "@jupyter-widgets/controls",
            "_view_module_version": "1.5.0",
            "_view_name": "HTMLView",
            "description": "",
            "description_tooltip": null,
            "layout": "IPY_MODEL_5ac91fe2a4a643f9b79d0f056df78656",
            "placeholder": "​",
            "style": "IPY_MODEL_fee8b736773143748ee24d094bacfbb7",
            "value": " 4/4 [00:00&lt;00:00, 75.77it/s]"
          }
        },
        "65ee128ffb034b19b49482004d142d7e": {
          "model_module": "@jupyter-widgets/base",
          "model_name": "LayoutModel",
          "model_module_version": "1.2.0",
          "state": {
            "_model_module": "@jupyter-widgets/base",
            "_model_module_version": "1.2.0",
            "_model_name": "LayoutModel",
            "_view_count": null,
            "_view_module": "@jupyter-widgets/base",
            "_view_module_version": "1.2.0",
            "_view_name": "LayoutView",
            "align_content": null,
            "align_items": null,
            "align_self": null,
            "border": null,
            "bottom": null,
            "display": "inline-flex",
            "flex": null,
            "flex_flow": "row wrap",
            "grid_area": null,
            "grid_auto_columns": null,
            "grid_auto_flow": null,
            "grid_auto_rows": null,
            "grid_column": null,
            "grid_gap": null,
            "grid_row": null,
            "grid_template_areas": null,
            "grid_template_columns": null,
            "grid_template_rows": null,
            "height": null,
            "justify_content": null,
            "justify_items": null,
            "left": null,
            "margin": null,
            "max_height": null,
            "max_width": null,
            "min_height": null,
            "min_width": null,
            "object_fit": null,
            "object_position": null,
            "order": null,
            "overflow": null,
            "overflow_x": null,
            "overflow_y": null,
            "padding": null,
            "right": null,
            "top": null,
            "visibility": null,
            "width": "100%"
          }
        },
        "01b61f555ed5499bb18885fe0e934ddd": {
          "model_module": "@jupyter-widgets/base",
          "model_name": "LayoutModel",
          "model_module_version": "1.2.0",
          "state": {
            "_model_module": "@jupyter-widgets/base",
            "_model_module_version": "1.2.0",
            "_model_name": "LayoutModel",
            "_view_count": null,
            "_view_module": "@jupyter-widgets/base",
            "_view_module_version": "1.2.0",
            "_view_name": "LayoutView",
            "align_content": null,
            "align_items": null,
            "align_self": null,
            "border": null,
            "bottom": null,
            "display": null,
            "flex": null,
            "flex_flow": null,
            "grid_area": null,
            "grid_auto_columns": null,
            "grid_auto_flow": null,
            "grid_auto_rows": null,
            "grid_column": null,
            "grid_gap": null,
            "grid_row": null,
            "grid_template_areas": null,
            "grid_template_columns": null,
            "grid_template_rows": null,
            "height": null,
            "justify_content": null,
            "justify_items": null,
            "left": null,
            "margin": null,
            "max_height": null,
            "max_width": null,
            "min_height": null,
            "min_width": null,
            "object_fit": null,
            "object_position": null,
            "order": null,
            "overflow": null,
            "overflow_x": null,
            "overflow_y": null,
            "padding": null,
            "right": null,
            "top": null,
            "visibility": null,
            "width": null
          }
        },
        "77d7750cddcd4fb5ada5d883c2d3ffdc": {
          "model_module": "@jupyter-widgets/controls",
          "model_name": "DescriptionStyleModel",
          "model_module_version": "1.5.0",
          "state": {
            "_model_module": "@jupyter-widgets/controls",
            "_model_module_version": "1.5.0",
            "_model_name": "DescriptionStyleModel",
            "_view_count": null,
            "_view_module": "@jupyter-widgets/base",
            "_view_module_version": "1.2.0",
            "_view_name": "StyleView",
            "description_width": ""
          }
        },
        "a7e0b17648d24eafa0ac1545e73b96b6": {
          "model_module": "@jupyter-widgets/base",
          "model_name": "LayoutModel",
          "model_module_version": "1.2.0",
          "state": {
            "_model_module": "@jupyter-widgets/base",
            "_model_module_version": "1.2.0",
            "_model_name": "LayoutModel",
            "_view_count": null,
            "_view_module": "@jupyter-widgets/base",
            "_view_module_version": "1.2.0",
            "_view_name": "LayoutView",
            "align_content": null,
            "align_items": null,
            "align_self": null,
            "border": null,
            "bottom": null,
            "display": null,
            "flex": "2",
            "flex_flow": null,
            "grid_area": null,
            "grid_auto_columns": null,
            "grid_auto_flow": null,
            "grid_auto_rows": null,
            "grid_column": null,
            "grid_gap": null,
            "grid_row": null,
            "grid_template_areas": null,
            "grid_template_columns": null,
            "grid_template_rows": null,
            "height": null,
            "justify_content": null,
            "justify_items": null,
            "left": null,
            "margin": null,
            "max_height": null,
            "max_width": null,
            "min_height": null,
            "min_width": null,
            "object_fit": null,
            "object_position": null,
            "order": null,
            "overflow": null,
            "overflow_x": null,
            "overflow_y": null,
            "padding": null,
            "right": null,
            "top": null,
            "visibility": null,
            "width": null
          }
        },
        "f9752a859a5b47fab4a4026d60291805": {
          "model_module": "@jupyter-widgets/controls",
          "model_name": "ProgressStyleModel",
          "model_module_version": "1.5.0",
          "state": {
            "_model_module": "@jupyter-widgets/controls",
            "_model_module_version": "1.5.0",
            "_model_name": "ProgressStyleModel",
            "_view_count": null,
            "_view_module": "@jupyter-widgets/base",
            "_view_module_version": "1.2.0",
            "_view_name": "StyleView",
            "bar_color": null,
            "description_width": ""
          }
        },
        "5ac91fe2a4a643f9b79d0f056df78656": {
          "model_module": "@jupyter-widgets/base",
          "model_name": "LayoutModel",
          "model_module_version": "1.2.0",
          "state": {
            "_model_module": "@jupyter-widgets/base",
            "_model_module_version": "1.2.0",
            "_model_name": "LayoutModel",
            "_view_count": null,
            "_view_module": "@jupyter-widgets/base",
            "_view_module_version": "1.2.0",
            "_view_name": "LayoutView",
            "align_content": null,
            "align_items": null,
            "align_self": null,
            "border": null,
            "bottom": null,
            "display": null,
            "flex": null,
            "flex_flow": null,
            "grid_area": null,
            "grid_auto_columns": null,
            "grid_auto_flow": null,
            "grid_auto_rows": null,
            "grid_column": null,
            "grid_gap": null,
            "grid_row": null,
            "grid_template_areas": null,
            "grid_template_columns": null,
            "grid_template_rows": null,
            "height": null,
            "justify_content": null,
            "justify_items": null,
            "left": null,
            "margin": null,
            "max_height": null,
            "max_width": null,
            "min_height": null,
            "min_width": null,
            "object_fit": null,
            "object_position": null,
            "order": null,
            "overflow": null,
            "overflow_x": null,
            "overflow_y": null,
            "padding": null,
            "right": null,
            "top": null,
            "visibility": null,
            "width": null
          }
        },
        "fee8b736773143748ee24d094bacfbb7": {
          "model_module": "@jupyter-widgets/controls",
          "model_name": "DescriptionStyleModel",
          "model_module_version": "1.5.0",
          "state": {
            "_model_module": "@jupyter-widgets/controls",
            "_model_module_version": "1.5.0",
            "_model_name": "DescriptionStyleModel",
            "_view_count": null,
            "_view_module": "@jupyter-widgets/base",
            "_view_module_version": "1.2.0",
            "_view_name": "StyleView",
            "description_width": ""
          }
        },
        "8c69108a2b454d5983765275de209c2a": {
          "model_module": "@jupyter-widgets/controls",
          "model_name": "HBoxModel",
          "model_module_version": "1.5.0",
          "state": {
            "_dom_classes": [],
            "_model_module": "@jupyter-widgets/controls",
            "_model_module_version": "1.5.0",
            "_model_name": "HBoxModel",
            "_view_count": null,
            "_view_module": "@jupyter-widgets/controls",
            "_view_module_version": "1.5.0",
            "_view_name": "HBoxView",
            "box_style": "",
            "children": [
              "IPY_MODEL_0100047ac609405a8fa22fa47786fdbc",
              "IPY_MODEL_56a919898a8b4f14a7bc091ec2f971b3",
              "IPY_MODEL_667fefbc96b046a5b8231a75eef3c478"
            ],
            "layout": "IPY_MODEL_b7f2bf98b5cb48f59d2f71b74da71f59"
          }
        },
        "0100047ac609405a8fa22fa47786fdbc": {
          "model_module": "@jupyter-widgets/controls",
          "model_name": "HTMLModel",
          "model_module_version": "1.5.0",
          "state": {
            "_dom_classes": [],
            "_model_module": "@jupyter-widgets/controls",
            "_model_module_version": "1.5.0",
            "_model_name": "HTMLModel",
            "_view_count": null,
            "_view_module": "@jupyter-widgets/controls",
            "_view_module_version": "1.5.0",
            "_view_name": "HTMLView",
            "description": "",
            "description_tooltip": null,
            "layout": "IPY_MODEL_3489297f860b4878bacd0ccc9b110bc6",
            "placeholder": "​",
            "style": "IPY_MODEL_fdf7ba87ea9c4a44b358fbd1d6477f84",
            "value": "Validation DataLoader 0: 100%"
          }
        },
        "56a919898a8b4f14a7bc091ec2f971b3": {
          "model_module": "@jupyter-widgets/controls",
          "model_name": "FloatProgressModel",
          "model_module_version": "1.5.0",
          "state": {
            "_dom_classes": [],
            "_model_module": "@jupyter-widgets/controls",
            "_model_module_version": "1.5.0",
            "_model_name": "FloatProgressModel",
            "_view_count": null,
            "_view_module": "@jupyter-widgets/controls",
            "_view_module_version": "1.5.0",
            "_view_name": "ProgressView",
            "bar_style": "success",
            "description": "",
            "description_tooltip": null,
            "layout": "IPY_MODEL_85cdf1d8558d4babb88bf897d0588861",
            "max": 12,
            "min": 0,
            "orientation": "horizontal",
            "style": "IPY_MODEL_b7a2a37443e54b13a27b536a883f297e",
            "value": 12
          }
        },
        "667fefbc96b046a5b8231a75eef3c478": {
          "model_module": "@jupyter-widgets/controls",
          "model_name": "HTMLModel",
          "model_module_version": "1.5.0",
          "state": {
            "_dom_classes": [],
            "_model_module": "@jupyter-widgets/controls",
            "_model_module_version": "1.5.0",
            "_model_name": "HTMLModel",
            "_view_count": null,
            "_view_module": "@jupyter-widgets/controls",
            "_view_module_version": "1.5.0",
            "_view_name": "HTMLView",
            "description": "",
            "description_tooltip": null,
            "layout": "IPY_MODEL_411446405ff04fb0954bc0cf62794888",
            "placeholder": "​",
            "style": "IPY_MODEL_7e7c1fb9d6f7429181ab70aee7a6a570",
            "value": " 12/12 [00:00&lt;00:00, 70.49it/s]"
          }
        },
        "b7f2bf98b5cb48f59d2f71b74da71f59": {
          "model_module": "@jupyter-widgets/base",
          "model_name": "LayoutModel",
          "model_module_version": "1.2.0",
          "state": {
            "_model_module": "@jupyter-widgets/base",
            "_model_module_version": "1.2.0",
            "_model_name": "LayoutModel",
            "_view_count": null,
            "_view_module": "@jupyter-widgets/base",
            "_view_module_version": "1.2.0",
            "_view_name": "LayoutView",
            "align_content": null,
            "align_items": null,
            "align_self": null,
            "border": null,
            "bottom": null,
            "display": "inline-flex",
            "flex": null,
            "flex_flow": "row wrap",
            "grid_area": null,
            "grid_auto_columns": null,
            "grid_auto_flow": null,
            "grid_auto_rows": null,
            "grid_column": null,
            "grid_gap": null,
            "grid_row": null,
            "grid_template_areas": null,
            "grid_template_columns": null,
            "grid_template_rows": null,
            "height": null,
            "justify_content": null,
            "justify_items": null,
            "left": null,
            "margin": null,
            "max_height": null,
            "max_width": null,
            "min_height": null,
            "min_width": null,
            "object_fit": null,
            "object_position": null,
            "order": null,
            "overflow": null,
            "overflow_x": null,
            "overflow_y": null,
            "padding": null,
            "right": null,
            "top": null,
            "visibility": null,
            "width": "100%"
          }
        },
        "3489297f860b4878bacd0ccc9b110bc6": {
          "model_module": "@jupyter-widgets/base",
          "model_name": "LayoutModel",
          "model_module_version": "1.2.0",
          "state": {
            "_model_module": "@jupyter-widgets/base",
            "_model_module_version": "1.2.0",
            "_model_name": "LayoutModel",
            "_view_count": null,
            "_view_module": "@jupyter-widgets/base",
            "_view_module_version": "1.2.0",
            "_view_name": "LayoutView",
            "align_content": null,
            "align_items": null,
            "align_self": null,
            "border": null,
            "bottom": null,
            "display": null,
            "flex": null,
            "flex_flow": null,
            "grid_area": null,
            "grid_auto_columns": null,
            "grid_auto_flow": null,
            "grid_auto_rows": null,
            "grid_column": null,
            "grid_gap": null,
            "grid_row": null,
            "grid_template_areas": null,
            "grid_template_columns": null,
            "grid_template_rows": null,
            "height": null,
            "justify_content": null,
            "justify_items": null,
            "left": null,
            "margin": null,
            "max_height": null,
            "max_width": null,
            "min_height": null,
            "min_width": null,
            "object_fit": null,
            "object_position": null,
            "order": null,
            "overflow": null,
            "overflow_x": null,
            "overflow_y": null,
            "padding": null,
            "right": null,
            "top": null,
            "visibility": null,
            "width": null
          }
        },
        "fdf7ba87ea9c4a44b358fbd1d6477f84": {
          "model_module": "@jupyter-widgets/controls",
          "model_name": "DescriptionStyleModel",
          "model_module_version": "1.5.0",
          "state": {
            "_model_module": "@jupyter-widgets/controls",
            "_model_module_version": "1.5.0",
            "_model_name": "DescriptionStyleModel",
            "_view_count": null,
            "_view_module": "@jupyter-widgets/base",
            "_view_module_version": "1.2.0",
            "_view_name": "StyleView",
            "description_width": ""
          }
        },
        "85cdf1d8558d4babb88bf897d0588861": {
          "model_module": "@jupyter-widgets/base",
          "model_name": "LayoutModel",
          "model_module_version": "1.2.0",
          "state": {
            "_model_module": "@jupyter-widgets/base",
            "_model_module_version": "1.2.0",
            "_model_name": "LayoutModel",
            "_view_count": null,
            "_view_module": "@jupyter-widgets/base",
            "_view_module_version": "1.2.0",
            "_view_name": "LayoutView",
            "align_content": null,
            "align_items": null,
            "align_self": null,
            "border": null,
            "bottom": null,
            "display": null,
            "flex": "2",
            "flex_flow": null,
            "grid_area": null,
            "grid_auto_columns": null,
            "grid_auto_flow": null,
            "grid_auto_rows": null,
            "grid_column": null,
            "grid_gap": null,
            "grid_row": null,
            "grid_template_areas": null,
            "grid_template_columns": null,
            "grid_template_rows": null,
            "height": null,
            "justify_content": null,
            "justify_items": null,
            "left": null,
            "margin": null,
            "max_height": null,
            "max_width": null,
            "min_height": null,
            "min_width": null,
            "object_fit": null,
            "object_position": null,
            "order": null,
            "overflow": null,
            "overflow_x": null,
            "overflow_y": null,
            "padding": null,
            "right": null,
            "top": null,
            "visibility": null,
            "width": null
          }
        },
        "b7a2a37443e54b13a27b536a883f297e": {
          "model_module": "@jupyter-widgets/controls",
          "model_name": "ProgressStyleModel",
          "model_module_version": "1.5.0",
          "state": {
            "_model_module": "@jupyter-widgets/controls",
            "_model_module_version": "1.5.0",
            "_model_name": "ProgressStyleModel",
            "_view_count": null,
            "_view_module": "@jupyter-widgets/base",
            "_view_module_version": "1.2.0",
            "_view_name": "StyleView",
            "bar_color": null,
            "description_width": ""
          }
        },
        "411446405ff04fb0954bc0cf62794888": {
          "model_module": "@jupyter-widgets/base",
          "model_name": "LayoutModel",
          "model_module_version": "1.2.0",
          "state": {
            "_model_module": "@jupyter-widgets/base",
            "_model_module_version": "1.2.0",
            "_model_name": "LayoutModel",
            "_view_count": null,
            "_view_module": "@jupyter-widgets/base",
            "_view_module_version": "1.2.0",
            "_view_name": "LayoutView",
            "align_content": null,
            "align_items": null,
            "align_self": null,
            "border": null,
            "bottom": null,
            "display": null,
            "flex": null,
            "flex_flow": null,
            "grid_area": null,
            "grid_auto_columns": null,
            "grid_auto_flow": null,
            "grid_auto_rows": null,
            "grid_column": null,
            "grid_gap": null,
            "grid_row": null,
            "grid_template_areas": null,
            "grid_template_columns": null,
            "grid_template_rows": null,
            "height": null,
            "justify_content": null,
            "justify_items": null,
            "left": null,
            "margin": null,
            "max_height": null,
            "max_width": null,
            "min_height": null,
            "min_width": null,
            "object_fit": null,
            "object_position": null,
            "order": null,
            "overflow": null,
            "overflow_x": null,
            "overflow_y": null,
            "padding": null,
            "right": null,
            "top": null,
            "visibility": null,
            "width": null
          }
        },
        "7e7c1fb9d6f7429181ab70aee7a6a570": {
          "model_module": "@jupyter-widgets/controls",
          "model_name": "DescriptionStyleModel",
          "model_module_version": "1.5.0",
          "state": {
            "_model_module": "@jupyter-widgets/controls",
            "_model_module_version": "1.5.0",
            "_model_name": "DescriptionStyleModel",
            "_view_count": null,
            "_view_module": "@jupyter-widgets/base",
            "_view_module_version": "1.2.0",
            "_view_name": "StyleView",
            "description_width": ""
          }
        },
        "3a16531edb524b7db9ef7f1e8dea4af0": {
          "model_module": "@jupyter-widgets/controls",
          "model_name": "HBoxModel",
          "model_module_version": "1.5.0",
          "state": {
            "_dom_classes": [],
            "_model_module": "@jupyter-widgets/controls",
            "_model_module_version": "1.5.0",
            "_model_name": "HBoxModel",
            "_view_count": null,
            "_view_module": "@jupyter-widgets/controls",
            "_view_module_version": "1.5.0",
            "_view_name": "HBoxView",
            "box_style": "",
            "children": [
              "IPY_MODEL_74ea691c6678409d852b1a84881e05ee",
              "IPY_MODEL_fbae23b6832a42a1b06e72b82c2bee49",
              "IPY_MODEL_1787a424423a40b8a0cd0ee85bcfa577"
            ],
            "layout": "IPY_MODEL_30e9c338320f438cb4747951ff194d6e"
          }
        },
        "74ea691c6678409d852b1a84881e05ee": {
          "model_module": "@jupyter-widgets/controls",
          "model_name": "HTMLModel",
          "model_module_version": "1.5.0",
          "state": {
            "_dom_classes": [],
            "_model_module": "@jupyter-widgets/controls",
            "_model_module_version": "1.5.0",
            "_model_name": "HTMLModel",
            "_view_count": null,
            "_view_module": "@jupyter-widgets/controls",
            "_view_module_version": "1.5.0",
            "_view_name": "HTMLView",
            "description": "",
            "description_tooltip": null,
            "layout": "IPY_MODEL_d339f2d4cf0041bd94cd6abac1d8271b",
            "placeholder": "​",
            "style": "IPY_MODEL_aa2d6c692f604a22b2f8ab6d278c786e",
            "value": "Epoch 0: 100%"
          }
        },
        "fbae23b6832a42a1b06e72b82c2bee49": {
          "model_module": "@jupyter-widgets/controls",
          "model_name": "FloatProgressModel",
          "model_module_version": "1.5.0",
          "state": {
            "_dom_classes": [],
            "_model_module": "@jupyter-widgets/controls",
            "_model_module_version": "1.5.0",
            "_model_name": "FloatProgressModel",
            "_view_count": null,
            "_view_module": "@jupyter-widgets/controls",
            "_view_module_version": "1.5.0",
            "_view_name": "ProgressView",
            "bar_style": "",
            "description": "",
            "description_tooltip": null,
            "layout": "IPY_MODEL_8d77f3a31bca41ad8158c79e201a4536",
            "max": 36,
            "min": 0,
            "orientation": "horizontal",
            "style": "IPY_MODEL_7e1fc40acc2943f1a879452543cf473e",
            "value": 36
          }
        },
        "1787a424423a40b8a0cd0ee85bcfa577": {
          "model_module": "@jupyter-widgets/controls",
          "model_name": "HTMLModel",
          "model_module_version": "1.5.0",
          "state": {
            "_dom_classes": [],
            "_model_module": "@jupyter-widgets/controls",
            "_model_module_version": "1.5.0",
            "_model_name": "HTMLModel",
            "_view_count": null,
            "_view_module": "@jupyter-widgets/controls",
            "_view_module_version": "1.5.0",
            "_view_name": "HTMLView",
            "description": "",
            "description_tooltip": null,
            "layout": "IPY_MODEL_e806350ffd95436b95bb7db7f11ccf52",
            "placeholder": "​",
            "style": "IPY_MODEL_a7fbf443be974c5fb832d285bf52cc6f",
            "value": " 36/36 [00:00&lt;00:00, 59.49it/s, v_num=0]"
          }
        },
        "30e9c338320f438cb4747951ff194d6e": {
          "model_module": "@jupyter-widgets/base",
          "model_name": "LayoutModel",
          "model_module_version": "1.2.0",
          "state": {
            "_model_module": "@jupyter-widgets/base",
            "_model_module_version": "1.2.0",
            "_model_name": "LayoutModel",
            "_view_count": null,
            "_view_module": "@jupyter-widgets/base",
            "_view_module_version": "1.2.0",
            "_view_name": "LayoutView",
            "align_content": null,
            "align_items": null,
            "align_self": null,
            "border": null,
            "bottom": null,
            "display": "inline-flex",
            "flex": null,
            "flex_flow": "row wrap",
            "grid_area": null,
            "grid_auto_columns": null,
            "grid_auto_flow": null,
            "grid_auto_rows": null,
            "grid_column": null,
            "grid_gap": null,
            "grid_row": null,
            "grid_template_areas": null,
            "grid_template_columns": null,
            "grid_template_rows": null,
            "height": null,
            "justify_content": null,
            "justify_items": null,
            "left": null,
            "margin": null,
            "max_height": null,
            "max_width": null,
            "min_height": null,
            "min_width": null,
            "object_fit": null,
            "object_position": null,
            "order": null,
            "overflow": null,
            "overflow_x": null,
            "overflow_y": null,
            "padding": null,
            "right": null,
            "top": null,
            "visibility": null,
            "width": "100%"
          }
        },
        "d339f2d4cf0041bd94cd6abac1d8271b": {
          "model_module": "@jupyter-widgets/base",
          "model_name": "LayoutModel",
          "model_module_version": "1.2.0",
          "state": {
            "_model_module": "@jupyter-widgets/base",
            "_model_module_version": "1.2.0",
            "_model_name": "LayoutModel",
            "_view_count": null,
            "_view_module": "@jupyter-widgets/base",
            "_view_module_version": "1.2.0",
            "_view_name": "LayoutView",
            "align_content": null,
            "align_items": null,
            "align_self": null,
            "border": null,
            "bottom": null,
            "display": null,
            "flex": null,
            "flex_flow": null,
            "grid_area": null,
            "grid_auto_columns": null,
            "grid_auto_flow": null,
            "grid_auto_rows": null,
            "grid_column": null,
            "grid_gap": null,
            "grid_row": null,
            "grid_template_areas": null,
            "grid_template_columns": null,
            "grid_template_rows": null,
            "height": null,
            "justify_content": null,
            "justify_items": null,
            "left": null,
            "margin": null,
            "max_height": null,
            "max_width": null,
            "min_height": null,
            "min_width": null,
            "object_fit": null,
            "object_position": null,
            "order": null,
            "overflow": null,
            "overflow_x": null,
            "overflow_y": null,
            "padding": null,
            "right": null,
            "top": null,
            "visibility": null,
            "width": null
          }
        },
        "aa2d6c692f604a22b2f8ab6d278c786e": {
          "model_module": "@jupyter-widgets/controls",
          "model_name": "DescriptionStyleModel",
          "model_module_version": "1.5.0",
          "state": {
            "_model_module": "@jupyter-widgets/controls",
            "_model_module_version": "1.5.0",
            "_model_name": "DescriptionStyleModel",
            "_view_count": null,
            "_view_module": "@jupyter-widgets/base",
            "_view_module_version": "1.2.0",
            "_view_name": "StyleView",
            "description_width": ""
          }
        },
        "8d77f3a31bca41ad8158c79e201a4536": {
          "model_module": "@jupyter-widgets/base",
          "model_name": "LayoutModel",
          "model_module_version": "1.2.0",
          "state": {
            "_model_module": "@jupyter-widgets/base",
            "_model_module_version": "1.2.0",
            "_model_name": "LayoutModel",
            "_view_count": null,
            "_view_module": "@jupyter-widgets/base",
            "_view_module_version": "1.2.0",
            "_view_name": "LayoutView",
            "align_content": null,
            "align_items": null,
            "align_self": null,
            "border": null,
            "bottom": null,
            "display": null,
            "flex": "2",
            "flex_flow": null,
            "grid_area": null,
            "grid_auto_columns": null,
            "grid_auto_flow": null,
            "grid_auto_rows": null,
            "grid_column": null,
            "grid_gap": null,
            "grid_row": null,
            "grid_template_areas": null,
            "grid_template_columns": null,
            "grid_template_rows": null,
            "height": null,
            "justify_content": null,
            "justify_items": null,
            "left": null,
            "margin": null,
            "max_height": null,
            "max_width": null,
            "min_height": null,
            "min_width": null,
            "object_fit": null,
            "object_position": null,
            "order": null,
            "overflow": null,
            "overflow_x": null,
            "overflow_y": null,
            "padding": null,
            "right": null,
            "top": null,
            "visibility": null,
            "width": null
          }
        },
        "7e1fc40acc2943f1a879452543cf473e": {
          "model_module": "@jupyter-widgets/controls",
          "model_name": "ProgressStyleModel",
          "model_module_version": "1.5.0",
          "state": {
            "_model_module": "@jupyter-widgets/controls",
            "_model_module_version": "1.5.0",
            "_model_name": "ProgressStyleModel",
            "_view_count": null,
            "_view_module": "@jupyter-widgets/base",
            "_view_module_version": "1.2.0",
            "_view_name": "StyleView",
            "bar_color": null,
            "description_width": ""
          }
        },
        "e806350ffd95436b95bb7db7f11ccf52": {
          "model_module": "@jupyter-widgets/base",
          "model_name": "LayoutModel",
          "model_module_version": "1.2.0",
          "state": {
            "_model_module": "@jupyter-widgets/base",
            "_model_module_version": "1.2.0",
            "_model_name": "LayoutModel",
            "_view_count": null,
            "_view_module": "@jupyter-widgets/base",
            "_view_module_version": "1.2.0",
            "_view_name": "LayoutView",
            "align_content": null,
            "align_items": null,
            "align_self": null,
            "border": null,
            "bottom": null,
            "display": null,
            "flex": null,
            "flex_flow": null,
            "grid_area": null,
            "grid_auto_columns": null,
            "grid_auto_flow": null,
            "grid_auto_rows": null,
            "grid_column": null,
            "grid_gap": null,
            "grid_row": null,
            "grid_template_areas": null,
            "grid_template_columns": null,
            "grid_template_rows": null,
            "height": null,
            "justify_content": null,
            "justify_items": null,
            "left": null,
            "margin": null,
            "max_height": null,
            "max_width": null,
            "min_height": null,
            "min_width": null,
            "object_fit": null,
            "object_position": null,
            "order": null,
            "overflow": null,
            "overflow_x": null,
            "overflow_y": null,
            "padding": null,
            "right": null,
            "top": null,
            "visibility": null,
            "width": null
          }
        },
        "a7fbf443be974c5fb832d285bf52cc6f": {
          "model_module": "@jupyter-widgets/controls",
          "model_name": "DescriptionStyleModel",
          "model_module_version": "1.5.0",
          "state": {
            "_model_module": "@jupyter-widgets/controls",
            "_model_module_version": "1.5.0",
            "_model_name": "DescriptionStyleModel",
            "_view_count": null,
            "_view_module": "@jupyter-widgets/base",
            "_view_module_version": "1.2.0",
            "_view_name": "StyleView",
            "description_width": ""
          }
        }
      }
    },
    "accelerator": "GPU"
  },
  "nbformat": 4,
  "nbformat_minor": 0
}